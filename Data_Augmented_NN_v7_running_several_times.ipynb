{
 "cells": [
  {
   "cell_type": "code",
   "execution_count": 6,
   "id": "d2f47459",
   "metadata": {},
   "outputs": [],
   "source": [
    "import numpy as np\n",
    "\n",
    "import matplotlib as mpl\n",
    "from matplotlib import pyplot as plt\n",
    "from matplotlib import cm\n",
    "\n",
    "from sklearn.naive_bayes import GaussianNB\n",
    "from sklearn.discriminant_analysis import LinearDiscriminantAnalysis\n",
    "from sklearn.neighbors import KNeighborsClassifier\n",
    "from sklearn.metrics import recall_score, precision_score, ConfusionMatrixDisplay, PrecisionRecallDisplay, RocCurveDisplay\n",
    "\n",
    "from astroML.classification import GMMBayes\n",
    "from astroML.datasets import fetch_rrlyrae_combined\n",
    "from astroML.utils import split_samples\n",
    "\n",
    "from scipy.stats import norm\n",
    "\n",
    "\n",
    "from astropy.io import ascii\n",
    "from astropy.io import fits\n",
    "import os.path\n",
    "\n",
    "from astropy.table import Table, join, MaskedColumn, vstack, Column"
   ]
  },
  {
   "cell_type": "code",
   "execution_count": 7,
   "id": "4e2f915b",
   "metadata": {},
   "outputs": [
    {
     "name": "stdout",
     "output_type": "stream",
     "text": [
      "2.16.1\n"
     ]
    }
   ],
   "source": [
    "import tensorflow as tf\n",
    "from tensorflow import keras\n",
    "from tensorflow.keras import layers\n",
    "from tensorflow.keras.preprocessing.image import ImageDataGenerator\n",
    "\n",
    "print(tf.__version__)\n",
    "\n",
    "from sklearn.metrics import ConfusionMatrixDisplay, PrecisionRecallDisplay\n",
    "from sklearn.gaussian_process import GaussianProcessRegressor\n",
    "\n",
    "from tqdm import tqdm"
   ]
  },
  {
   "cell_type": "code",
   "execution_count": 8,
   "id": "d5d25099",
   "metadata": {},
   "outputs": [
    {
     "name": "stderr",
     "output_type": "stream",
     "text": [
      "/var/folders/gy/0vj93nbd4x5bt_bpj2r46w7h0000gn/T/ipykernel_24137/2837194893.py:5: MatplotlibDeprecationWarning: The get_cmap function was deprecated in Matplotlib 3.7 and will be removed two minor releases later. Use ``matplotlib.colormaps[name]`` or ``matplotlib.colormaps.get_cmap(obj)`` instead.\n",
      "  cmap = cm.get_cmap('viridis')\n"
     ]
    }
   ],
   "source": [
    "mpl.rcParams['figure.dpi'] = 150\n",
    "plt.rc('xtick', labelsize='x-small')\n",
    "plt.rc('ytick', labelsize='x-small')\n",
    "plt.rc('legend', fontsize='x-small')\n",
    "cmap = cm.get_cmap('viridis')"
   ]
  },
  {
   "cell_type": "code",
   "execution_count": 9,
   "id": "22ee9805",
   "metadata": {
    "scrolled": true
   },
   "outputs": [
    {
     "data": {
      "text/html": [
       "<div><i>Table length=47237</i>\n",
       "<table id=\"table140527232357216\" class=\"table-striped table-bordered table-condensed\">\n",
       "<thead><tr><th>name</th><th>Lit_Clst_Age</th><th>rms</th><th>std</th><th>MAD</th><th>sigmaG</th><th>skewness</th><th>von_neumann_ratio</th><th>J_Stetson</th><th>max_power</th><th>freq_at_max_power</th><th>n_peaks</th><th>ratio_of_power_at_high_v_low_freq</th><th>FAP</th><th>max_autocorrelation</th><th>time_of_max_autocorrelation</th><th>SumLSP_10_7_Day_Power</th><th>SumLSP_7_4_Day_Power</th><th>SumLSP_4_1_Day_Power</th><th>SumLSP_1_p5_Day_Power</th><th>Entropy</th></tr></thead>\n",
       "<thead><tr><th>bytes17</th><th>float64</th><th>float64</th><th>float64</th><th>float64</th><th>float64</th><th>float64</th><th>float64</th><th>float64</th><th>float64</th><th>float64</th><th>int64</th><th>float64</th><th>float64</th><th>float64</th><th>float64[1]</th><th>float64</th><th>float64</th><th>float64</th><th>float64</th><th>float64</th></tr></thead>\n",
       "<tr><td>NGC 5381</td><td>8.65</td><td>0.2022739754519168</td><td>0.00028663242586913503</td><td>0.00018204904335616945</td><td>0.00027032716740019386</td><td>-5.109964804222913e-12</td><td>0.00386747638646434</td><td>11.012043362402764</td><td>0.2956196136312983</td><td>2.1800000000000006</td><td>7</td><td>35.25172608498783</td><td>5.6489191125891904e-83</td><td>0.6090280071896582</td><td>0.5000039539129375</td><td>0.08840027872050202</td><td>0.551564524378355</td><td>1.1235926764590056</td><td>0.2938252007400544</td><td>0.00912773133976864</td></tr>\n",
       "<tr><td>NGC 5381</td><td>8.65</td><td>0.12860581353173967</td><td>0.00029758624459087497</td><td>0.00018677990032528458</td><td>0.0002724429021247358</td><td>-1.4861178185896828e-11</td><td>0.0072174287439932296</td><td>11.19932586798964</td><td>0.2858757168806013</td><td>2.1800000000000006</td><td>2</td><td>22.58421369093873</td><td>3.1991008561289327e-38</td><td>0.35192202026737984</td><td>0.5000117633198897</td><td>0.08236173981181749</td><td>0.8858419453379427</td><td>2.1146489663557895</td><td>0.6387350704087281</td><td>0.009878216867509258</td></tr>\n",
       "<tr><td>NGC 5381</td><td>8.65</td><td>0.2022739754519168</td><td>0.0002749497473011351</td><td>0.0001760566489865667</td><td>0.0002598061826987392</td><td>4.985244439169258e-12</td><td>0.008432348981660785</td><td>10.832836728495531</td><td>0.3321170484680969</td><td>2.1800000000000006</td><td>2</td><td>63.9392138272648</td><td>1.7081151810643954e-46</td><td>0.6090280071896582</td><td>0.5000039539129375</td><td>0.24075422793919207</td><td>1.6594671516063568</td><td>2.1257999401516057</td><td>0.448080689756279</td><td>-0.0007504855277406172</td></tr>\n",
       "<tr><td>NGC 5381</td><td>8.65</td><td>0.13418989839761541</td><td>0.00029670974388146205</td><td>0.00018715823279225052</td><td>0.00027474567848145</td><td>-1.4819021191571437e-11</td><td>0.007902359972537888</td><td>11.215158743038272</td><td>0.3092047888317955</td><td>2.1900000000000004</td><td>2</td><td>22.086456566940438</td><td>3.976387179616506e-37</td><td>0.35367954438974186</td><td>0.4791779375589158</td><td>0.09887134140967274</td><td>1.1529494497686852</td><td>2.490978861040854</td><td>0.6349831324113722</td><td>0.006366704374634439</td></tr>\n",
       "<tr><td>NGC 5381</td><td>8.65</td><td>0.17262428678829597</td><td>0.0002957994551170428</td><td>0.0001947926770065056</td><td>0.00028877667424492826</td><td>7.949348591748663e-12</td><td>0.007853282537324254</td><td>11.344726858798873</td><td>0.2823310089408097</td><td>2.1800000000000006</td><td>3</td><td>25.45485685062133</td><td>5.270363097162563e-33</td><td>0.44152498501025716</td><td>0.6875159881769832</td><td>0.06948436182961143</td><td>0.8943645304859869</td><td>2.617654265447661</td><td>0.8130747500049615</td><td>0.002130485780783362</td></tr>\n",
       "<tr><td>NGC 5381</td><td>8.65</td><td>0.20342537128083304</td><td>0.0002732158088483212</td><td>0.00017971636228852894</td><td>0.0002662374500090785</td><td>4.074129139791262e-12</td><td>0.007349842456913631</td><td>10.283775613193056</td><td>0.3538975416671665</td><td>2.1800000000000006</td><td>4</td><td>36.69742716441359</td><td>2.390364865023084e-44</td><td>0.5316360879383262</td><td>0.43750944667317526</td><td>0.0949982493524582</td><td>0.4623089900428734</td><td>2.053662679896389</td><td>1.046635427882411</td><td>0.0028261693332049306</td></tr>\n",
       "<tr><td>NGC 5381</td><td>8.65</td><td>0.2307399119235911</td><td>0.0002677956171043393</td><td>0.00018059586669483263</td><td>0.0002665594344778601</td><td>4.8205018650938374e-12</td><td>0.007782358681751355</td><td>10.123885193997234</td><td>0.3386046778402443</td><td>2.1900000000000004</td><td>6</td><td>44.498114854025175</td><td>9.393056151242283e-42</td><td>0.47518645396899706</td><td>0.4375085258229774</td><td>0.05300589586641587</td><td>0.29486004971296664</td><td>2.174814315902417</td><td>1.095353559280317</td><td>-0.0043037936123419135</td></tr>\n",
       "<tr><td>NGC 5381</td><td>8.65</td><td>0.22077649622315093</td><td>0.00028736928263985265</td><td>0.00019529854088140564</td><td>0.0002865572846073615</td><td>3.3188360954961803e-12</td><td>0.008793630554351822</td><td>10.922918396661096</td><td>0.27925708595394183</td><td>2.1900000000000004</td><td>6</td><td>52.40948815416692</td><td>2.0673842635311304e-32</td><td>0.6002905113611597</td><td>0.5000039539129375</td><td>0.24813217870249696</td><td>1.2957295189420075</td><td>2.28049676322127</td><td>0.8465257783128015</td><td>0.007883061859175302</td></tr>\n",
       "<tr><td>NGC 5381</td><td>8.65</td><td>0.21821100221255357</td><td>0.0002979377559200514</td><td>0.0002010363813400584</td><td>0.00029422255247299917</td><td>3.048307924578792e-12</td><td>0.00967834794471458</td><td>11.503733919463457</td><td>0.29776047325346133</td><td>0.22000000000000006</td><td>3</td><td>61.22050634304591</td><td>2.696162426828419e-35</td><td>0.60816054645364</td><td>0.5000039539129375</td><td>0.32120520102402084</td><td>2.126809469890936</td><td>2.186733635251189</td><td>0.8440061976224885</td><td>0.0003633584417250379</td></tr>\n",
       "<tr><td>...</td><td>...</td><td>...</td><td>...</td><td>...</td><td>...</td><td>...</td><td>...</td><td>...</td><td>...</td><td>...</td><td>...</td><td>...</td><td>...</td><td>...</td><td>...</td><td>...</td><td>...</td><td>...</td><td>...</td><td>...</td></tr>\n",
       "<tr><td>NGC2159</td><td>8.0</td><td>0.00825472379781358</td><td>0.0008889359354080228</td><td>0.000491924012131606</td><td>0.0007294043862534261</td><td>7.783617786330353e-11</td><td>9.508035086040658e-06</td><td>0.9591883837460639</td><td>0.0015851640661262425</td><td>0.36300000000000027</td><td>106</td><td>2.34768461211724</td><td>2.4167630960516735e-14</td><td>0.028190702285666145</td><td>0.06713075342986485</td><td>0.013975183325391872</td><td>0.0270584451376952</td><td>0.11439857203564602</td><td>0.05978469951500787</td><td>-0.20196638902820324</td></tr>\n",
       "<tr><td>NGC1994</td><td>7.7</td><td>0.05216006689211206</td><td>0.000822655409408667</td><td>0.0005293516336278836</td><td>0.0007844422393399362</td><td>-1.7414167688346239e-10</td><td>3.299721543523428e-05</td><td>2.701897161057398</td><td>0.02866274701401427</td><td>0.7220000000000006</td><td>102</td><td>18.544860522277318</td><td>4.250945437537e-312</td><td>0.5275633427542851</td><td>0.004629590580861986</td><td>0.14572769652416315</td><td>0.46078679323850213</td><td>0.7581126340750217</td><td>0.14611999111639007</td><td>0.420170702409998</td></tr>\n",
       "<tr><td>NGC1776</td><td>8.1</td><td>0.008488053175533855</td><td>0.0012448455156178792</td><td>0.0006767624570507835</td><td>0.001002514522468051</td><td>1.0104780626442781e-10</td><td>8.346028346537719e-06</td><td>0.7781860042386893</td><td>0.00039160846504010755</td><td>0.2570000000000002</td><td>87</td><td>1.3492620281847945</td><td>0.9539092320192503</td><td>0.04108078550818678</td><td>0.006944385870156111</td><td>0.0021467558662705355</td><td>0.0069691334367043755</td><td>0.04860037511595383</td><td>0.03523445297170676</td><td>-0.33524046311896605</td></tr>\n",
       "<tr><td>NGC2123</td><td>8.2</td><td>0.008885142571078359</td><td>0.001142673204028922</td><td>0.0006508634890640685</td><td>0.0009654299655290541</td><td>1.2359360974424166e-10</td><td>1.1798213907590398e-05</td><td>0.8547410853233208</td><td>0.004153360527532778</td><td>1.7180000000000015</td><td>66</td><td>1.8116340082782072</td><td>3.469265445825158e-37</td><td>0.07053300449325725</td><td>0.013888823019442498</td><td>0.006342449422305016</td><td>0.024180949904589032</td><td>0.06542988171757597</td><td>0.09204094873499284</td><td>-0.05170262090275901</td></tr>\n",
       "<tr><td>KMHK1292</td><td>7.8</td><td>0.037791459602521546</td><td>0.0010068452433128182</td><td>0.0005650000027177526</td><td>0.0008366385540633709</td><td>3.2280464015653447e-10</td><td>4.267019415660645e-05</td><td>0.9995013282245531</td><td>0.009370522434792727</td><td>0.25400000000000017</td><td>91</td><td>3.6107059093410645</td><td>2.672265106559317e-32</td><td>0.2876998825693829</td><td>0.01388880782360502</td><td>0.051272913689917377</td><td>0.21986482109971592</td><td>0.6161505522273267</td><td>0.2869166509606168</td><td>-0.2874048691486438</td></tr>\n",
       "<tr><td>NGC2041</td><td>7.4</td><td>0.02111133269359426</td><td>0.0004233295749615501</td><td>0.0002337131086760924</td><td>0.000346299231879712</td><td>5.849633442166714e-11</td><td>1.9423375969157852e-05</td><td>0.9549722516622255</td><td>0.010371982302740564</td><td>0.22500000000000017</td><td>81</td><td>3.3353372062766233</td><td>3.8117206494423866e-72</td><td>0.1988718166080198</td><td>0.00694438488335436</td><td>0.018454991655484303</td><td>0.19716154144716297</td><td>0.22184131413285332</td><td>0.11804381832499772</td><td>-0.07032387154117896</td></tr>\n",
       "<tr><td>NGC2109</td><td>8.2</td><td>0.13635530145632538</td><td>0.0010368410849118112</td><td>0.0006676332062001133</td><td>0.0009886601467112115</td><td>1.676536178571324e-10</td><td>7.577234416650818e-05</td><td>1.809216395616119</td><td>0.17945229718421055</td><td>0.44700000000000034</td><td>45</td><td>23.621202150607168</td><td>0.0</td><td>0.6566980841221904</td><td>0.034722692912509956</td><td>0.038206799099663805</td><td>0.7262827946202703</td><td>1.4711140109040235</td><td>0.11334303228551745</td><td>-0.7428552696672905</td></tr>\n",
       "<tr><td>KMHK1378</td><td>7.4</td><td>0.3308957800828219</td><td>0.004043849072434385</td><td>0.0024299828145157853</td><td>0.003609346657376182</td><td>1.4882863547447501e-08</td><td>0.0009284384270418159</td><td>7.359247783794117</td><td>0.3696643354189385</td><td>2.8660000000000023</td><td>29</td><td>37.51698567338236</td><td>0.0</td><td>0.8373825717238025</td><td>1.395851554201272</td><td>0.0030719264917881102</td><td>0.010630875022114983</td><td>0.12738384629709343</td><td>0.10628395964709392</td><td>-0.9122495625324958</td></tr>\n",
       "<tr><td>[SL63] 398</td><td>8.1</td><td>0.008337949571186694</td><td>0.0014500403342513673</td><td>0.0007797568171852842</td><td>0.0011560029592513849</td><td>-7.651280467979472e-10</td><td>9.861231851334892e-06</td><td>0.8007187954803784</td><td>0.0009816880650299693</td><td>0.21100000000000016</td><td>86</td><td>1.6264640647170816</td><td>2.9156594022302818e-06</td><td>0.027701872414386</td><td>0.023147950425482122</td><td>0.0048285370221726595</td><td>0.021008978988713706</td><td>0.06548003754014954</td><td>0.04347299149796929</td><td>-0.2565023068152212</td></tr>\n",
       "<tr><td>NGC1887</td><td>8.1</td><td>0.012250128751344383</td><td>0.0008391720455247488</td><td>0.0004854206554646412</td><td>0.0007193614675382456</td><td>9.877069266818398e-12</td><td>1.3248107517175262e-05</td><td>0.8767672384154216</td><td>0.005861369113192003</td><td>0.19600000000000015</td><td>98</td><td>2.733737828781048</td><td>1.209178078448431e-50</td><td>0.05404234249805507</td><td>0.05786988911222579</td><td>0.012758364311898682</td><td>0.05907834905915579</td><td>0.20561059294412015</td><td>0.07739794291361834</td><td>0.03319099925042471</td></tr>\n",
       "</table></div>"
      ],
      "text/plain": [
       "<Table length=47237>\n",
       "   name    Lit_Clst_Age ... SumLSP_1_p5_Day_Power        Entropy        \n",
       " bytes17     float64    ...        float64               float64        \n",
       "---------- ------------ ... --------------------- ----------------------\n",
       "  NGC 5381         8.65 ...    0.2938252007400544    0.00912773133976864\n",
       "  NGC 5381         8.65 ...    0.6387350704087281   0.009878216867509258\n",
       "  NGC 5381         8.65 ...     0.448080689756279 -0.0007504855277406172\n",
       "  NGC 5381         8.65 ...    0.6349831324113722   0.006366704374634439\n",
       "  NGC 5381         8.65 ...    0.8130747500049615   0.002130485780783362\n",
       "  NGC 5381         8.65 ...     1.046635427882411  0.0028261693332049306\n",
       "  NGC 5381         8.65 ...     1.095353559280317 -0.0043037936123419135\n",
       "  NGC 5381         8.65 ...    0.8465257783128015   0.007883061859175302\n",
       "  NGC 5381         8.65 ...    0.8440061976224885  0.0003633584417250379\n",
       "       ...          ... ...                   ...                    ...\n",
       "   NGC2159          8.0 ...   0.05978469951500787   -0.20196638902820324\n",
       "   NGC1994          7.7 ...   0.14611999111639007      0.420170702409998\n",
       "   NGC1776          8.1 ...   0.03523445297170676   -0.33524046311896605\n",
       "   NGC2123          8.2 ...   0.09204094873499284   -0.05170262090275901\n",
       "  KMHK1292          7.8 ...    0.2869166509606168    -0.2874048691486438\n",
       "   NGC2041          7.4 ...   0.11804381832499772   -0.07032387154117896\n",
       "   NGC2109          8.2 ...   0.11334303228551745    -0.7428552696672905\n",
       "  KMHK1378          7.4 ...   0.10628395964709392    -0.9122495625324958\n",
       "[SL63] 398          8.1 ...   0.04347299149796929    -0.2565023068152212\n",
       "   NGC1887          8.1 ...   0.07739794291361834    0.03319099925042471"
      ]
     },
     "execution_count": 9,
     "metadata": {},
     "output_type": "execute_result"
    }
   ],
   "source": [
    "data=Table.read('Stats_Table_For_Data_augmented_lcs_v2.fits')\n",
    "\n",
    "data\n",
    "\n",
    "sector_stitched=Table.read('Stats_Table_For_Sector_Stitched.fits')\n",
    "\n",
    "data = vstack([data, sector_stitched])\n",
    "\n",
    "data"
   ]
  },
  {
   "cell_type": "code",
   "execution_count": 10,
   "id": "2426959f",
   "metadata": {},
   "outputs": [
    {
     "data": {
      "text/plain": [
       "17"
      ]
     },
     "execution_count": 10,
     "metadata": {},
     "output_type": "execute_result"
    }
   ],
   "source": [
    "labels = ['Young', 'Old']\n",
    "features=['rms', 'std','MAD','sigmaG','skewness','von_neumann_ratio','J_Stetson','max_power','freq_at_max_power',\n",
    "          'ratio_of_power_at_high_v_low_freq','max_autocorrelation','time_of_max_autocorrelation', 'SumLSP_10_7_Day_Power',\n",
    "          'SumLSP_7_4_Day_Power','SumLSP_4_1_Day_Power','SumLSP_1_p5_Day_Power', 'Entropy']\n",
    "len(features)"
   ]
  },
  {
   "cell_type": "code",
   "execution_count": 15,
   "id": "5626efcc",
   "metadata": {},
   "outputs": [],
   "source": [
    "def get_samples(data):\n",
    "        # Define the range and size of the selection\n",
    "        \n",
    "    grouped=data.group_by('name')\n",
    "    \n",
    "    low = 0\n",
    "    high = len(grouped.groups)  # Adjust this as needed\n",
    "    size = 35  # Number of unique random numbers you want in each set\n",
    "\n",
    "    # Generate the full range of possible numbers\n",
    "    possible_numbers = np.arange(low, high)\n",
    "\n",
    "    # Select the first set of numbers without replacement\n",
    "    Validation_ints = np.random.choice(possible_numbers, size=size, replace=False)\n",
    "\n",
    "    # Remove the selected numbers from the pool\n",
    "    remaining_numbers = np.setdiff1d(possible_numbers, Validation_ints)\n",
    "\n",
    "    # Select the second set of numbers without replacement from the remaining pool\n",
    "    Test_ints = np.random.choice(remaining_numbers, size=size, replace=False)\n",
    "\n",
    "    used_numbers = np.concatenate((Validation_ints, Test_ints))\n",
    "    Training_ints = np.setdiff1d(possible_numbers, used_numbers)\n",
    "    \n",
    "    training_data_l=[]\n",
    "    validation_data_l=[]\n",
    "    test_data_l=[]\n",
    "\n",
    "    for i in range(len(Training_ints)):\n",
    "        training_data_l.append(grouped.groups[Training_ints[i]])\n",
    "\n",
    "    training_data = vstack(training_data_l)\n",
    "\n",
    "    for i in range(len(Validation_ints)):\n",
    "        validation_data_l.append(grouped.groups[Validation_ints[i]])\n",
    "\n",
    "\n",
    "    validation_data = vstack(validation_data_l)\n",
    "\n",
    "    for i in range(len(Test_ints)):\n",
    "        test_data_l.append(grouped.groups[Test_ints[i]])\n",
    "\n",
    "\n",
    "    test_data = vstack(test_data_l)\n",
    "\n",
    "    X_train=np.zeros((len(training_data), len(training_data.colnames)-4))\n",
    "\n",
    "    for i in range(len(training_data)):\n",
    "        X_train[i]= training_data['rms'][i], training_data['std'][i], training_data['MAD'][i], training_data['sigmaG'][i], training_data['skewness'][i], training_data['von_neumann_ratio'][i], training_data['J_Stetson'][i], training_data['max_power'][i], training_data['freq_at_max_power'][i], training_data['ratio_of_power_at_high_v_low_freq'][i], training_data['max_autocorrelation'][i], training_data['time_of_max_autocorrelation'][i], training_data['SumLSP_10_7_Day_Power'][i], training_data['SumLSP_7_4_Day_Power'][i], training_data['SumLSP_4_1_Day_Power'][i], training_data['SumLSP_1_p5_Day_Power'][i], training_data['Entropy'][i]    \n",
    "\n",
    "    X_valid=np.zeros((len(validation_data), len(validation_data.colnames)-4))\n",
    "\n",
    "    for i in range(len(validation_data)):\n",
    "        X_valid[i]= validation_data['rms'][i], validation_data['std'][i], validation_data['MAD'][i], validation_data['sigmaG'][i], validation_data['skewness'][i], validation_data['von_neumann_ratio'][i], validation_data['J_Stetson'][i], validation_data['max_power'][i], validation_data['freq_at_max_power'][i], validation_data['ratio_of_power_at_high_v_low_freq'][i], validation_data['max_autocorrelation'][i], validation_data['time_of_max_autocorrelation'][i], validation_data['SumLSP_10_7_Day_Power'][i], validation_data['SumLSP_7_4_Day_Power'][i], validation_data['SumLSP_4_1_Day_Power'][i], validation_data['SumLSP_1_p5_Day_Power'][i], validation_data['Entropy'][i]    \n",
    "\n",
    "    X_test=np.zeros((len(test_data), len(test_data.colnames)-4))\n",
    "\n",
    "    for i in range(len(test_data)):\n",
    "        X_test[i]= test_data['rms'][i], test_data['std'][i], test_data['MAD'][i], test_data['sigmaG'][i], test_data['skewness'][i], test_data['von_neumann_ratio'][i], test_data['J_Stetson'][i], test_data['max_power'][i], test_data['freq_at_max_power'][i], test_data['ratio_of_power_at_high_v_low_freq'][i], test_data['max_autocorrelation'][i], test_data['time_of_max_autocorrelation'][i], test_data['SumLSP_10_7_Day_Power'][i], test_data['SumLSP_7_4_Day_Power'][i], test_data['SumLSP_4_1_Day_Power'][i], test_data['SumLSP_1_p5_Day_Power'][i], test_data['Entropy'][i]    \n",
    "\n",
    "    y_train=np.zeros((len(training_data)))\n",
    "\n",
    "    for i in range(len(training_data)):\n",
    "        if training_data['Lit_Clst_Age'][i] < np.median(training_data['Lit_Clst_Age']):\n",
    "            y_train[i]=0\n",
    "        else:\n",
    "            y_train[i]=1   \n",
    "    \n",
    "    y_valid=np.zeros((len(validation_data)))\n",
    "\n",
    "    for i in range(len(validation_data)):\n",
    "        if validation_data['Lit_Clst_Age'][i] < np.median(validation_data['Lit_Clst_Age']):\n",
    "            y_valid[i]=0\n",
    "        else:\n",
    "            y_valid[i]=1\n",
    "            \n",
    "    y_test=np.zeros((len(test_data)))\n",
    "\n",
    "    for i in range(len(test_data)):\n",
    "        if test_data['Lit_Clst_Age'][i] < np.median(test_data['Lit_Clst_Age']):\n",
    "            y_test[i]=0\n",
    "        else:\n",
    "            y_test[i]=1\n",
    "\n",
    "    return X_train, X_valid, X_test, y_train, y_valid, y_test"
   ]
  },
  {
   "cell_type": "code",
   "execution_count": 17,
   "id": "9f99e9e1",
   "metadata": {},
   "outputs": [],
   "source": [
    "def run_evaluate_model(X_train, X_valid, X_test, y_train, y_valid, y_test):\n",
    "    normalizer = layers.Normalization()\n",
    "    normalizer.adapt(X_train)\n",
    "\n",
    "    model = keras.Sequential([\n",
    "        normalizer,\n",
    "        layers.Dense(1000, activation='relu'),\n",
    "        layers.Dropout(0.1),\n",
    "        layers.Dense(500, activation='relu'),\n",
    "        layers.Dropout(0.1),\n",
    "        layers.Dense(200, activation='relu'),\n",
    "        layers.Dropout(0.05),\n",
    "        layers.Dense(100, activation='relu'),\n",
    "        layers.Dropout(0.05),\n",
    "        layers.Dense(100, activation='relu'),\n",
    "        layers.Dense(50, activation='relu'),\n",
    "        layers.Dropout(0.05),\n",
    "        layers.Dense(50, activation='relu'),\n",
    "        layers.Dense(1, activation='sigmoid') # now this is a probability!\n",
    "        ])\n",
    "\n",
    "    model.compile(\n",
    "        # Optimizer\n",
    "        optimizer=keras.optimizers.Adam(learning_rate=1e-3),\n",
    "        # Loss function to minimize\n",
    "        loss=keras.losses.BinaryCrossentropy(), # use this loss function for binary classification\n",
    "        # List of metrics to monitor\n",
    "        metrics=[keras.metrics.Precision(name='precision'), keras.metrics.Recall(name='recall')],\n",
    "    )\n",
    "\n",
    "    callbacks = [\n",
    "        keras.callbacks.ReduceLROnPlateau(\n",
    "            monitor=\"val_loss\",\n",
    "            factor=0.1,\n",
    "            patience=20,\n",
    "            verbose=0,\n",
    "            min_delta=1e-5,\n",
    "        ),\n",
    "        keras.callbacks.EarlyStopping(\n",
    "            monitor=\"val_loss\",\n",
    "            min_delta=1e-5,\n",
    "            patience=20,\n",
    "            verbose=0,\n",
    "        )\n",
    "    ]\n",
    "\n",
    "    history = model.fit(\n",
    "        X_train,\n",
    "        y_train,\n",
    "        batch_size=4096,\n",
    "        epochs=500,\n",
    "        validation_data=(X_valid, y_valid),\n",
    "        callbacks=callbacks,\n",
    "        verbose=0\n",
    "    )\n",
    "    \n",
    "    \n",
    "    predictions_probability = model.predict(X_test).reshape(-1)\n",
    "    # convert to class prediction with 50% threshold\n",
    "    predictions_class = predictions_probability > 0.5\n",
    "    \n",
    "    recall = recall_score(y_test, predictions_class)\n",
    "    precision = precision_score(y_test, predictions_class)\n",
    "    \n",
    "    return recall, precision\n",
    "\n"
   ]
  },
  {
   "cell_type": "code",
   "execution_count": 3,
   "id": "234ec6ae",
   "metadata": {},
   "outputs": [],
   "source": [
    "def Run_all(data):\n",
    "    X_train, X_valid, X_test, y_train, y_valid, y_test = get_samples(data)\n",
    "    \n",
    "    recall, precision = run_evaluate_model(X_train, X_valid, X_test, y_train, y_valid, y_test)\n",
    "    \n",
    "    return recall, precision"
   ]
  },
  {
   "cell_type": "code",
   "execution_count": null,
   "id": "04c63977",
   "metadata": {},
   "outputs": [],
   "source": []
  },
  {
   "cell_type": "code",
   "execution_count": 1,
   "id": "c449526c",
   "metadata": {},
   "outputs": [
    {
     "ename": "NameError",
     "evalue": "name 'Run_all' is not defined",
     "output_type": "error",
     "traceback": [
      "\u001b[0;31m---------------------------------------------------------------------------\u001b[0m",
      "\u001b[0;31mNameError\u001b[0m                                 Traceback (most recent call last)",
      "Cell \u001b[0;32mIn[1], line 1\u001b[0m\n\u001b[0;32m----> 1\u001b[0m \u001b[43mRun_all\u001b[49m(data)\n",
      "\u001b[0;31mNameError\u001b[0m: name 'Run_all' is not defined"
     ]
    }
   ],
   "source": [
    "Run_all(data)"
   ]
  },
  {
   "cell_type": "code",
   "execution_count": 18,
   "id": "3fffe9e1",
   "metadata": {
    "scrolled": true
   },
   "outputs": [
    {
     "name": "stderr",
     "output_type": "stream",
     "text": [
      "/var/folders/gy/0vj93nbd4x5bt_bpj2r46w7h0000gn/T/ipykernel_24137/1640273581.py:49: DeprecationWarning: setting an array element with a sequence. This was supported in some cases where the elements are arrays with a single element. For example `np.array([1, np.array([2])], dtype=int)`. In the future this will raise the same ValueError as `np.array([1, [2]], dtype=int)`.\n",
      "  X_train[i]= training_data['rms'][i], training_data['std'][i], training_data['MAD'][i], training_data['sigmaG'][i], training_data['skewness'][i], training_data['von_neumann_ratio'][i], training_data['J_Stetson'][i], training_data['max_power'][i], training_data['freq_at_max_power'][i], training_data['ratio_of_power_at_high_v_low_freq'][i], training_data['max_autocorrelation'][i], training_data['time_of_max_autocorrelation'][i], training_data['SumLSP_10_7_Day_Power'][i], training_data['SumLSP_7_4_Day_Power'][i], training_data['SumLSP_4_1_Day_Power'][i], training_data['SumLSP_1_p5_Day_Power'][i], training_data['Entropy'][i]\n",
      "/var/folders/gy/0vj93nbd4x5bt_bpj2r46w7h0000gn/T/ipykernel_24137/1640273581.py:54: DeprecationWarning: setting an array element with a sequence. This was supported in some cases where the elements are arrays with a single element. For example `np.array([1, np.array([2])], dtype=int)`. In the future this will raise the same ValueError as `np.array([1, [2]], dtype=int)`.\n",
      "  X_valid[i]= validation_data['rms'][i], validation_data['std'][i], validation_data['MAD'][i], validation_data['sigmaG'][i], validation_data['skewness'][i], validation_data['von_neumann_ratio'][i], validation_data['J_Stetson'][i], validation_data['max_power'][i], validation_data['freq_at_max_power'][i], validation_data['ratio_of_power_at_high_v_low_freq'][i], validation_data['max_autocorrelation'][i], validation_data['time_of_max_autocorrelation'][i], validation_data['SumLSP_10_7_Day_Power'][i], validation_data['SumLSP_7_4_Day_Power'][i], validation_data['SumLSP_4_1_Day_Power'][i], validation_data['SumLSP_1_p5_Day_Power'][i], validation_data['Entropy'][i]\n",
      "/var/folders/gy/0vj93nbd4x5bt_bpj2r46w7h0000gn/T/ipykernel_24137/1640273581.py:59: DeprecationWarning: setting an array element with a sequence. This was supported in some cases where the elements are arrays with a single element. For example `np.array([1, np.array([2])], dtype=int)`. In the future this will raise the same ValueError as `np.array([1, [2]], dtype=int)`.\n",
      "  X_test[i]= test_data['rms'][i], test_data['std'][i], test_data['MAD'][i], test_data['sigmaG'][i], test_data['skewness'][i], test_data['von_neumann_ratio'][i], test_data['J_Stetson'][i], test_data['max_power'][i], test_data['freq_at_max_power'][i], test_data['ratio_of_power_at_high_v_low_freq'][i], test_data['max_autocorrelation'][i], test_data['time_of_max_autocorrelation'][i], test_data['SumLSP_10_7_Day_Power'][i], test_data['SumLSP_7_4_Day_Power'][i], test_data['SumLSP_4_1_Day_Power'][i], test_data['SumLSP_1_p5_Day_Power'][i], test_data['Entropy'][i]\n"
     ]
    },
    {
     "name": "stdout",
     "output_type": "stream",
     "text": [
      "\u001b[1m188/188\u001b[0m \u001b[32m━━━━━━━━━━━━━━━━━━━━\u001b[0m\u001b[37m\u001b[0m \u001b[1m0s\u001b[0m 2ms/step\n"
     ]
    },
    {
     "name": "stderr",
     "output_type": "stream",
     "text": [
      "/var/folders/gy/0vj93nbd4x5bt_bpj2r46w7h0000gn/T/ipykernel_24137/1640273581.py:49: DeprecationWarning: setting an array element with a sequence. This was supported in some cases where the elements are arrays with a single element. For example `np.array([1, np.array([2])], dtype=int)`. In the future this will raise the same ValueError as `np.array([1, [2]], dtype=int)`.\n",
      "  X_train[i]= training_data['rms'][i], training_data['std'][i], training_data['MAD'][i], training_data['sigmaG'][i], training_data['skewness'][i], training_data['von_neumann_ratio'][i], training_data['J_Stetson'][i], training_data['max_power'][i], training_data['freq_at_max_power'][i], training_data['ratio_of_power_at_high_v_low_freq'][i], training_data['max_autocorrelation'][i], training_data['time_of_max_autocorrelation'][i], training_data['SumLSP_10_7_Day_Power'][i], training_data['SumLSP_7_4_Day_Power'][i], training_data['SumLSP_4_1_Day_Power'][i], training_data['SumLSP_1_p5_Day_Power'][i], training_data['Entropy'][i]\n",
      "/var/folders/gy/0vj93nbd4x5bt_bpj2r46w7h0000gn/T/ipykernel_24137/1640273581.py:54: DeprecationWarning: setting an array element with a sequence. This was supported in some cases where the elements are arrays with a single element. For example `np.array([1, np.array([2])], dtype=int)`. In the future this will raise the same ValueError as `np.array([1, [2]], dtype=int)`.\n",
      "  X_valid[i]= validation_data['rms'][i], validation_data['std'][i], validation_data['MAD'][i], validation_data['sigmaG'][i], validation_data['skewness'][i], validation_data['von_neumann_ratio'][i], validation_data['J_Stetson'][i], validation_data['max_power'][i], validation_data['freq_at_max_power'][i], validation_data['ratio_of_power_at_high_v_low_freq'][i], validation_data['max_autocorrelation'][i], validation_data['time_of_max_autocorrelation'][i], validation_data['SumLSP_10_7_Day_Power'][i], validation_data['SumLSP_7_4_Day_Power'][i], validation_data['SumLSP_4_1_Day_Power'][i], validation_data['SumLSP_1_p5_Day_Power'][i], validation_data['Entropy'][i]\n",
      "/var/folders/gy/0vj93nbd4x5bt_bpj2r46w7h0000gn/T/ipykernel_24137/1640273581.py:59: DeprecationWarning: setting an array element with a sequence. This was supported in some cases where the elements are arrays with a single element. For example `np.array([1, np.array([2])], dtype=int)`. In the future this will raise the same ValueError as `np.array([1, [2]], dtype=int)`.\n",
      "  X_test[i]= test_data['rms'][i], test_data['std'][i], test_data['MAD'][i], test_data['sigmaG'][i], test_data['skewness'][i], test_data['von_neumann_ratio'][i], test_data['J_Stetson'][i], test_data['max_power'][i], test_data['freq_at_max_power'][i], test_data['ratio_of_power_at_high_v_low_freq'][i], test_data['max_autocorrelation'][i], test_data['time_of_max_autocorrelation'][i], test_data['SumLSP_10_7_Day_Power'][i], test_data['SumLSP_7_4_Day_Power'][i], test_data['SumLSP_4_1_Day_Power'][i], test_data['SumLSP_1_p5_Day_Power'][i], test_data['Entropy'][i]\n"
     ]
    },
    {
     "name": "stdout",
     "output_type": "stream",
     "text": [
      "\u001b[1m159/159\u001b[0m \u001b[32m━━━━━━━━━━━━━━━━━━━━\u001b[0m\u001b[37m\u001b[0m \u001b[1m0s\u001b[0m 2ms/step\n"
     ]
    },
    {
     "name": "stderr",
     "output_type": "stream",
     "text": [
      "/var/folders/gy/0vj93nbd4x5bt_bpj2r46w7h0000gn/T/ipykernel_24137/1640273581.py:49: DeprecationWarning: setting an array element with a sequence. This was supported in some cases where the elements are arrays with a single element. For example `np.array([1, np.array([2])], dtype=int)`. In the future this will raise the same ValueError as `np.array([1, [2]], dtype=int)`.\n",
      "  X_train[i]= training_data['rms'][i], training_data['std'][i], training_data['MAD'][i], training_data['sigmaG'][i], training_data['skewness'][i], training_data['von_neumann_ratio'][i], training_data['J_Stetson'][i], training_data['max_power'][i], training_data['freq_at_max_power'][i], training_data['ratio_of_power_at_high_v_low_freq'][i], training_data['max_autocorrelation'][i], training_data['time_of_max_autocorrelation'][i], training_data['SumLSP_10_7_Day_Power'][i], training_data['SumLSP_7_4_Day_Power'][i], training_data['SumLSP_4_1_Day_Power'][i], training_data['SumLSP_1_p5_Day_Power'][i], training_data['Entropy'][i]\n",
      "/var/folders/gy/0vj93nbd4x5bt_bpj2r46w7h0000gn/T/ipykernel_24137/1640273581.py:54: DeprecationWarning: setting an array element with a sequence. This was supported in some cases where the elements are arrays with a single element. For example `np.array([1, np.array([2])], dtype=int)`. In the future this will raise the same ValueError as `np.array([1, [2]], dtype=int)`.\n",
      "  X_valid[i]= validation_data['rms'][i], validation_data['std'][i], validation_data['MAD'][i], validation_data['sigmaG'][i], validation_data['skewness'][i], validation_data['von_neumann_ratio'][i], validation_data['J_Stetson'][i], validation_data['max_power'][i], validation_data['freq_at_max_power'][i], validation_data['ratio_of_power_at_high_v_low_freq'][i], validation_data['max_autocorrelation'][i], validation_data['time_of_max_autocorrelation'][i], validation_data['SumLSP_10_7_Day_Power'][i], validation_data['SumLSP_7_4_Day_Power'][i], validation_data['SumLSP_4_1_Day_Power'][i], validation_data['SumLSP_1_p5_Day_Power'][i], validation_data['Entropy'][i]\n",
      "/var/folders/gy/0vj93nbd4x5bt_bpj2r46w7h0000gn/T/ipykernel_24137/1640273581.py:59: DeprecationWarning: setting an array element with a sequence. This was supported in some cases where the elements are arrays with a single element. For example `np.array([1, np.array([2])], dtype=int)`. In the future this will raise the same ValueError as `np.array([1, [2]], dtype=int)`.\n",
      "  X_test[i]= test_data['rms'][i], test_data['std'][i], test_data['MAD'][i], test_data['sigmaG'][i], test_data['skewness'][i], test_data['von_neumann_ratio'][i], test_data['J_Stetson'][i], test_data['max_power'][i], test_data['freq_at_max_power'][i], test_data['ratio_of_power_at_high_v_low_freq'][i], test_data['max_autocorrelation'][i], test_data['time_of_max_autocorrelation'][i], test_data['SumLSP_10_7_Day_Power'][i], test_data['SumLSP_7_4_Day_Power'][i], test_data['SumLSP_4_1_Day_Power'][i], test_data['SumLSP_1_p5_Day_Power'][i], test_data['Entropy'][i]\n"
     ]
    },
    {
     "name": "stdout",
     "output_type": "stream",
     "text": [
      "\u001b[1m136/136\u001b[0m \u001b[32m━━━━━━━━━━━━━━━━━━━━\u001b[0m\u001b[37m\u001b[0m \u001b[1m0s\u001b[0m 2ms/step\n"
     ]
    },
    {
     "name": "stderr",
     "output_type": "stream",
     "text": [
      "/var/folders/gy/0vj93nbd4x5bt_bpj2r46w7h0000gn/T/ipykernel_24137/1640273581.py:49: DeprecationWarning: setting an array element with a sequence. This was supported in some cases where the elements are arrays with a single element. For example `np.array([1, np.array([2])], dtype=int)`. In the future this will raise the same ValueError as `np.array([1, [2]], dtype=int)`.\n",
      "  X_train[i]= training_data['rms'][i], training_data['std'][i], training_data['MAD'][i], training_data['sigmaG'][i], training_data['skewness'][i], training_data['von_neumann_ratio'][i], training_data['J_Stetson'][i], training_data['max_power'][i], training_data['freq_at_max_power'][i], training_data['ratio_of_power_at_high_v_low_freq'][i], training_data['max_autocorrelation'][i], training_data['time_of_max_autocorrelation'][i], training_data['SumLSP_10_7_Day_Power'][i], training_data['SumLSP_7_4_Day_Power'][i], training_data['SumLSP_4_1_Day_Power'][i], training_data['SumLSP_1_p5_Day_Power'][i], training_data['Entropy'][i]\n",
      "/var/folders/gy/0vj93nbd4x5bt_bpj2r46w7h0000gn/T/ipykernel_24137/1640273581.py:54: DeprecationWarning: setting an array element with a sequence. This was supported in some cases where the elements are arrays with a single element. For example `np.array([1, np.array([2])], dtype=int)`. In the future this will raise the same ValueError as `np.array([1, [2]], dtype=int)`.\n",
      "  X_valid[i]= validation_data['rms'][i], validation_data['std'][i], validation_data['MAD'][i], validation_data['sigmaG'][i], validation_data['skewness'][i], validation_data['von_neumann_ratio'][i], validation_data['J_Stetson'][i], validation_data['max_power'][i], validation_data['freq_at_max_power'][i], validation_data['ratio_of_power_at_high_v_low_freq'][i], validation_data['max_autocorrelation'][i], validation_data['time_of_max_autocorrelation'][i], validation_data['SumLSP_10_7_Day_Power'][i], validation_data['SumLSP_7_4_Day_Power'][i], validation_data['SumLSP_4_1_Day_Power'][i], validation_data['SumLSP_1_p5_Day_Power'][i], validation_data['Entropy'][i]\n",
      "/var/folders/gy/0vj93nbd4x5bt_bpj2r46w7h0000gn/T/ipykernel_24137/1640273581.py:59: DeprecationWarning: setting an array element with a sequence. This was supported in some cases where the elements are arrays with a single element. For example `np.array([1, np.array([2])], dtype=int)`. In the future this will raise the same ValueError as `np.array([1, [2]], dtype=int)`.\n",
      "  X_test[i]= test_data['rms'][i], test_data['std'][i], test_data['MAD'][i], test_data['sigmaG'][i], test_data['skewness'][i], test_data['von_neumann_ratio'][i], test_data['J_Stetson'][i], test_data['max_power'][i], test_data['freq_at_max_power'][i], test_data['ratio_of_power_at_high_v_low_freq'][i], test_data['max_autocorrelation'][i], test_data['time_of_max_autocorrelation'][i], test_data['SumLSP_10_7_Day_Power'][i], test_data['SumLSP_7_4_Day_Power'][i], test_data['SumLSP_4_1_Day_Power'][i], test_data['SumLSP_1_p5_Day_Power'][i], test_data['Entropy'][i]\n"
     ]
    },
    {
     "name": "stdout",
     "output_type": "stream",
     "text": [
      "\u001b[1m133/133\u001b[0m \u001b[32m━━━━━━━━━━━━━━━━━━━━\u001b[0m\u001b[37m\u001b[0m \u001b[1m0s\u001b[0m 3ms/step\n"
     ]
    },
    {
     "name": "stderr",
     "output_type": "stream",
     "text": [
      "/var/folders/gy/0vj93nbd4x5bt_bpj2r46w7h0000gn/T/ipykernel_24137/1640273581.py:49: DeprecationWarning: setting an array element with a sequence. This was supported in some cases where the elements are arrays with a single element. For example `np.array([1, np.array([2])], dtype=int)`. In the future this will raise the same ValueError as `np.array([1, [2]], dtype=int)`.\n",
      "  X_train[i]= training_data['rms'][i], training_data['std'][i], training_data['MAD'][i], training_data['sigmaG'][i], training_data['skewness'][i], training_data['von_neumann_ratio'][i], training_data['J_Stetson'][i], training_data['max_power'][i], training_data['freq_at_max_power'][i], training_data['ratio_of_power_at_high_v_low_freq'][i], training_data['max_autocorrelation'][i], training_data['time_of_max_autocorrelation'][i], training_data['SumLSP_10_7_Day_Power'][i], training_data['SumLSP_7_4_Day_Power'][i], training_data['SumLSP_4_1_Day_Power'][i], training_data['SumLSP_1_p5_Day_Power'][i], training_data['Entropy'][i]\n",
      "/var/folders/gy/0vj93nbd4x5bt_bpj2r46w7h0000gn/T/ipykernel_24137/1640273581.py:54: DeprecationWarning: setting an array element with a sequence. This was supported in some cases where the elements are arrays with a single element. For example `np.array([1, np.array([2])], dtype=int)`. In the future this will raise the same ValueError as `np.array([1, [2]], dtype=int)`.\n",
      "  X_valid[i]= validation_data['rms'][i], validation_data['std'][i], validation_data['MAD'][i], validation_data['sigmaG'][i], validation_data['skewness'][i], validation_data['von_neumann_ratio'][i], validation_data['J_Stetson'][i], validation_data['max_power'][i], validation_data['freq_at_max_power'][i], validation_data['ratio_of_power_at_high_v_low_freq'][i], validation_data['max_autocorrelation'][i], validation_data['time_of_max_autocorrelation'][i], validation_data['SumLSP_10_7_Day_Power'][i], validation_data['SumLSP_7_4_Day_Power'][i], validation_data['SumLSP_4_1_Day_Power'][i], validation_data['SumLSP_1_p5_Day_Power'][i], validation_data['Entropy'][i]\n",
      "/var/folders/gy/0vj93nbd4x5bt_bpj2r46w7h0000gn/T/ipykernel_24137/1640273581.py:59: DeprecationWarning: setting an array element with a sequence. This was supported in some cases where the elements are arrays with a single element. For example `np.array([1, np.array([2])], dtype=int)`. In the future this will raise the same ValueError as `np.array([1, [2]], dtype=int)`.\n",
      "  X_test[i]= test_data['rms'][i], test_data['std'][i], test_data['MAD'][i], test_data['sigmaG'][i], test_data['skewness'][i], test_data['von_neumann_ratio'][i], test_data['J_Stetson'][i], test_data['max_power'][i], test_data['freq_at_max_power'][i], test_data['ratio_of_power_at_high_v_low_freq'][i], test_data['max_autocorrelation'][i], test_data['time_of_max_autocorrelation'][i], test_data['SumLSP_10_7_Day_Power'][i], test_data['SumLSP_7_4_Day_Power'][i], test_data['SumLSP_4_1_Day_Power'][i], test_data['SumLSP_1_p5_Day_Power'][i], test_data['Entropy'][i]\n"
     ]
    },
    {
     "name": "stdout",
     "output_type": "stream",
     "text": [
      "\u001b[1m132/132\u001b[0m \u001b[32m━━━━━━━━━━━━━━━━━━━━\u001b[0m\u001b[37m\u001b[0m \u001b[1m0s\u001b[0m 2ms/step\n"
     ]
    },
    {
     "name": "stderr",
     "output_type": "stream",
     "text": [
      "/var/folders/gy/0vj93nbd4x5bt_bpj2r46w7h0000gn/T/ipykernel_24137/1640273581.py:49: DeprecationWarning: setting an array element with a sequence. This was supported in some cases where the elements are arrays with a single element. For example `np.array([1, np.array([2])], dtype=int)`. In the future this will raise the same ValueError as `np.array([1, [2]], dtype=int)`.\n",
      "  X_train[i]= training_data['rms'][i], training_data['std'][i], training_data['MAD'][i], training_data['sigmaG'][i], training_data['skewness'][i], training_data['von_neumann_ratio'][i], training_data['J_Stetson'][i], training_data['max_power'][i], training_data['freq_at_max_power'][i], training_data['ratio_of_power_at_high_v_low_freq'][i], training_data['max_autocorrelation'][i], training_data['time_of_max_autocorrelation'][i], training_data['SumLSP_10_7_Day_Power'][i], training_data['SumLSP_7_4_Day_Power'][i], training_data['SumLSP_4_1_Day_Power'][i], training_data['SumLSP_1_p5_Day_Power'][i], training_data['Entropy'][i]\n",
      "/var/folders/gy/0vj93nbd4x5bt_bpj2r46w7h0000gn/T/ipykernel_24137/1640273581.py:54: DeprecationWarning: setting an array element with a sequence. This was supported in some cases where the elements are arrays with a single element. For example `np.array([1, np.array([2])], dtype=int)`. In the future this will raise the same ValueError as `np.array([1, [2]], dtype=int)`.\n",
      "  X_valid[i]= validation_data['rms'][i], validation_data['std'][i], validation_data['MAD'][i], validation_data['sigmaG'][i], validation_data['skewness'][i], validation_data['von_neumann_ratio'][i], validation_data['J_Stetson'][i], validation_data['max_power'][i], validation_data['freq_at_max_power'][i], validation_data['ratio_of_power_at_high_v_low_freq'][i], validation_data['max_autocorrelation'][i], validation_data['time_of_max_autocorrelation'][i], validation_data['SumLSP_10_7_Day_Power'][i], validation_data['SumLSP_7_4_Day_Power'][i], validation_data['SumLSP_4_1_Day_Power'][i], validation_data['SumLSP_1_p5_Day_Power'][i], validation_data['Entropy'][i]\n",
      "/var/folders/gy/0vj93nbd4x5bt_bpj2r46w7h0000gn/T/ipykernel_24137/1640273581.py:59: DeprecationWarning: setting an array element with a sequence. This was supported in some cases where the elements are arrays with a single element. For example `np.array([1, np.array([2])], dtype=int)`. In the future this will raise the same ValueError as `np.array([1, [2]], dtype=int)`.\n",
      "  X_test[i]= test_data['rms'][i], test_data['std'][i], test_data['MAD'][i], test_data['sigmaG'][i], test_data['skewness'][i], test_data['von_neumann_ratio'][i], test_data['J_Stetson'][i], test_data['max_power'][i], test_data['freq_at_max_power'][i], test_data['ratio_of_power_at_high_v_low_freq'][i], test_data['max_autocorrelation'][i], test_data['time_of_max_autocorrelation'][i], test_data['SumLSP_10_7_Day_Power'][i], test_data['SumLSP_7_4_Day_Power'][i], test_data['SumLSP_4_1_Day_Power'][i], test_data['SumLSP_1_p5_Day_Power'][i], test_data['Entropy'][i]\n"
     ]
    },
    {
     "name": "stdout",
     "output_type": "stream",
     "text": [
      "\u001b[1m134/134\u001b[0m \u001b[32m━━━━━━━━━━━━━━━━━━━━\u001b[0m\u001b[37m\u001b[0m \u001b[1m0s\u001b[0m 2ms/step\n"
     ]
    },
    {
     "name": "stderr",
     "output_type": "stream",
     "text": [
      "/var/folders/gy/0vj93nbd4x5bt_bpj2r46w7h0000gn/T/ipykernel_24137/1640273581.py:49: DeprecationWarning: setting an array element with a sequence. This was supported in some cases where the elements are arrays with a single element. For example `np.array([1, np.array([2])], dtype=int)`. In the future this will raise the same ValueError as `np.array([1, [2]], dtype=int)`.\n",
      "  X_train[i]= training_data['rms'][i], training_data['std'][i], training_data['MAD'][i], training_data['sigmaG'][i], training_data['skewness'][i], training_data['von_neumann_ratio'][i], training_data['J_Stetson'][i], training_data['max_power'][i], training_data['freq_at_max_power'][i], training_data['ratio_of_power_at_high_v_low_freq'][i], training_data['max_autocorrelation'][i], training_data['time_of_max_autocorrelation'][i], training_data['SumLSP_10_7_Day_Power'][i], training_data['SumLSP_7_4_Day_Power'][i], training_data['SumLSP_4_1_Day_Power'][i], training_data['SumLSP_1_p5_Day_Power'][i], training_data['Entropy'][i]\n",
      "/var/folders/gy/0vj93nbd4x5bt_bpj2r46w7h0000gn/T/ipykernel_24137/1640273581.py:54: DeprecationWarning: setting an array element with a sequence. This was supported in some cases where the elements are arrays with a single element. For example `np.array([1, np.array([2])], dtype=int)`. In the future this will raise the same ValueError as `np.array([1, [2]], dtype=int)`.\n",
      "  X_valid[i]= validation_data['rms'][i], validation_data['std'][i], validation_data['MAD'][i], validation_data['sigmaG'][i], validation_data['skewness'][i], validation_data['von_neumann_ratio'][i], validation_data['J_Stetson'][i], validation_data['max_power'][i], validation_data['freq_at_max_power'][i], validation_data['ratio_of_power_at_high_v_low_freq'][i], validation_data['max_autocorrelation'][i], validation_data['time_of_max_autocorrelation'][i], validation_data['SumLSP_10_7_Day_Power'][i], validation_data['SumLSP_7_4_Day_Power'][i], validation_data['SumLSP_4_1_Day_Power'][i], validation_data['SumLSP_1_p5_Day_Power'][i], validation_data['Entropy'][i]\n",
      "/var/folders/gy/0vj93nbd4x5bt_bpj2r46w7h0000gn/T/ipykernel_24137/1640273581.py:59: DeprecationWarning: setting an array element with a sequence. This was supported in some cases where the elements are arrays with a single element. For example `np.array([1, np.array([2])], dtype=int)`. In the future this will raise the same ValueError as `np.array([1, [2]], dtype=int)`.\n",
      "  X_test[i]= test_data['rms'][i], test_data['std'][i], test_data['MAD'][i], test_data['sigmaG'][i], test_data['skewness'][i], test_data['von_neumann_ratio'][i], test_data['J_Stetson'][i], test_data['max_power'][i], test_data['freq_at_max_power'][i], test_data['ratio_of_power_at_high_v_low_freq'][i], test_data['max_autocorrelation'][i], test_data['time_of_max_autocorrelation'][i], test_data['SumLSP_10_7_Day_Power'][i], test_data['SumLSP_7_4_Day_Power'][i], test_data['SumLSP_4_1_Day_Power'][i], test_data['SumLSP_1_p5_Day_Power'][i], test_data['Entropy'][i]\n"
     ]
    },
    {
     "name": "stdout",
     "output_type": "stream",
     "text": [
      "\u001b[1m125/125\u001b[0m \u001b[32m━━━━━━━━━━━━━━━━━━━━\u001b[0m\u001b[37m\u001b[0m \u001b[1m0s\u001b[0m 2ms/step\n"
     ]
    },
    {
     "name": "stderr",
     "output_type": "stream",
     "text": [
      "/var/folders/gy/0vj93nbd4x5bt_bpj2r46w7h0000gn/T/ipykernel_24137/1640273581.py:49: DeprecationWarning: setting an array element with a sequence. This was supported in some cases where the elements are arrays with a single element. For example `np.array([1, np.array([2])], dtype=int)`. In the future this will raise the same ValueError as `np.array([1, [2]], dtype=int)`.\n",
      "  X_train[i]= training_data['rms'][i], training_data['std'][i], training_data['MAD'][i], training_data['sigmaG'][i], training_data['skewness'][i], training_data['von_neumann_ratio'][i], training_data['J_Stetson'][i], training_data['max_power'][i], training_data['freq_at_max_power'][i], training_data['ratio_of_power_at_high_v_low_freq'][i], training_data['max_autocorrelation'][i], training_data['time_of_max_autocorrelation'][i], training_data['SumLSP_10_7_Day_Power'][i], training_data['SumLSP_7_4_Day_Power'][i], training_data['SumLSP_4_1_Day_Power'][i], training_data['SumLSP_1_p5_Day_Power'][i], training_data['Entropy'][i]\n",
      "/var/folders/gy/0vj93nbd4x5bt_bpj2r46w7h0000gn/T/ipykernel_24137/1640273581.py:54: DeprecationWarning: setting an array element with a sequence. This was supported in some cases where the elements are arrays with a single element. For example `np.array([1, np.array([2])], dtype=int)`. In the future this will raise the same ValueError as `np.array([1, [2]], dtype=int)`.\n",
      "  X_valid[i]= validation_data['rms'][i], validation_data['std'][i], validation_data['MAD'][i], validation_data['sigmaG'][i], validation_data['skewness'][i], validation_data['von_neumann_ratio'][i], validation_data['J_Stetson'][i], validation_data['max_power'][i], validation_data['freq_at_max_power'][i], validation_data['ratio_of_power_at_high_v_low_freq'][i], validation_data['max_autocorrelation'][i], validation_data['time_of_max_autocorrelation'][i], validation_data['SumLSP_10_7_Day_Power'][i], validation_data['SumLSP_7_4_Day_Power'][i], validation_data['SumLSP_4_1_Day_Power'][i], validation_data['SumLSP_1_p5_Day_Power'][i], validation_data['Entropy'][i]\n",
      "/var/folders/gy/0vj93nbd4x5bt_bpj2r46w7h0000gn/T/ipykernel_24137/1640273581.py:59: DeprecationWarning: setting an array element with a sequence. This was supported in some cases where the elements are arrays with a single element. For example `np.array([1, np.array([2])], dtype=int)`. In the future this will raise the same ValueError as `np.array([1, [2]], dtype=int)`.\n",
      "  X_test[i]= test_data['rms'][i], test_data['std'][i], test_data['MAD'][i], test_data['sigmaG'][i], test_data['skewness'][i], test_data['von_neumann_ratio'][i], test_data['J_Stetson'][i], test_data['max_power'][i], test_data['freq_at_max_power'][i], test_data['ratio_of_power_at_high_v_low_freq'][i], test_data['max_autocorrelation'][i], test_data['time_of_max_autocorrelation'][i], test_data['SumLSP_10_7_Day_Power'][i], test_data['SumLSP_7_4_Day_Power'][i], test_data['SumLSP_4_1_Day_Power'][i], test_data['SumLSP_1_p5_Day_Power'][i], test_data['Entropy'][i]\n"
     ]
    },
    {
     "name": "stdout",
     "output_type": "stream",
     "text": [
      "\u001b[1m152/152\u001b[0m \u001b[32m━━━━━━━━━━━━━━━━━━━━\u001b[0m\u001b[37m\u001b[0m \u001b[1m0s\u001b[0m 2ms/step\n"
     ]
    },
    {
     "name": "stderr",
     "output_type": "stream",
     "text": [
      "/var/folders/gy/0vj93nbd4x5bt_bpj2r46w7h0000gn/T/ipykernel_24137/1640273581.py:49: DeprecationWarning: setting an array element with a sequence. This was supported in some cases where the elements are arrays with a single element. For example `np.array([1, np.array([2])], dtype=int)`. In the future this will raise the same ValueError as `np.array([1, [2]], dtype=int)`.\n",
      "  X_train[i]= training_data['rms'][i], training_data['std'][i], training_data['MAD'][i], training_data['sigmaG'][i], training_data['skewness'][i], training_data['von_neumann_ratio'][i], training_data['J_Stetson'][i], training_data['max_power'][i], training_data['freq_at_max_power'][i], training_data['ratio_of_power_at_high_v_low_freq'][i], training_data['max_autocorrelation'][i], training_data['time_of_max_autocorrelation'][i], training_data['SumLSP_10_7_Day_Power'][i], training_data['SumLSP_7_4_Day_Power'][i], training_data['SumLSP_4_1_Day_Power'][i], training_data['SumLSP_1_p5_Day_Power'][i], training_data['Entropy'][i]\n",
      "/var/folders/gy/0vj93nbd4x5bt_bpj2r46w7h0000gn/T/ipykernel_24137/1640273581.py:54: DeprecationWarning: setting an array element with a sequence. This was supported in some cases where the elements are arrays with a single element. For example `np.array([1, np.array([2])], dtype=int)`. In the future this will raise the same ValueError as `np.array([1, [2]], dtype=int)`.\n",
      "  X_valid[i]= validation_data['rms'][i], validation_data['std'][i], validation_data['MAD'][i], validation_data['sigmaG'][i], validation_data['skewness'][i], validation_data['von_neumann_ratio'][i], validation_data['J_Stetson'][i], validation_data['max_power'][i], validation_data['freq_at_max_power'][i], validation_data['ratio_of_power_at_high_v_low_freq'][i], validation_data['max_autocorrelation'][i], validation_data['time_of_max_autocorrelation'][i], validation_data['SumLSP_10_7_Day_Power'][i], validation_data['SumLSP_7_4_Day_Power'][i], validation_data['SumLSP_4_1_Day_Power'][i], validation_data['SumLSP_1_p5_Day_Power'][i], validation_data['Entropy'][i]\n",
      "/var/folders/gy/0vj93nbd4x5bt_bpj2r46w7h0000gn/T/ipykernel_24137/1640273581.py:59: DeprecationWarning: setting an array element with a sequence. This was supported in some cases where the elements are arrays with a single element. For example `np.array([1, np.array([2])], dtype=int)`. In the future this will raise the same ValueError as `np.array([1, [2]], dtype=int)`.\n",
      "  X_test[i]= test_data['rms'][i], test_data['std'][i], test_data['MAD'][i], test_data['sigmaG'][i], test_data['skewness'][i], test_data['von_neumann_ratio'][i], test_data['J_Stetson'][i], test_data['max_power'][i], test_data['freq_at_max_power'][i], test_data['ratio_of_power_at_high_v_low_freq'][i], test_data['max_autocorrelation'][i], test_data['time_of_max_autocorrelation'][i], test_data['SumLSP_10_7_Day_Power'][i], test_data['SumLSP_7_4_Day_Power'][i], test_data['SumLSP_4_1_Day_Power'][i], test_data['SumLSP_1_p5_Day_Power'][i], test_data['Entropy'][i]\n"
     ]
    },
    {
     "name": "stdout",
     "output_type": "stream",
     "text": [
      "\u001b[1m123/123\u001b[0m \u001b[32m━━━━━━━━━━━━━━━━━━━━\u001b[0m\u001b[37m\u001b[0m \u001b[1m0s\u001b[0m 2ms/step\n"
     ]
    },
    {
     "name": "stderr",
     "output_type": "stream",
     "text": [
      "/var/folders/gy/0vj93nbd4x5bt_bpj2r46w7h0000gn/T/ipykernel_24137/1640273581.py:49: DeprecationWarning: setting an array element with a sequence. This was supported in some cases where the elements are arrays with a single element. For example `np.array([1, np.array([2])], dtype=int)`. In the future this will raise the same ValueError as `np.array([1, [2]], dtype=int)`.\n",
      "  X_train[i]= training_data['rms'][i], training_data['std'][i], training_data['MAD'][i], training_data['sigmaG'][i], training_data['skewness'][i], training_data['von_neumann_ratio'][i], training_data['J_Stetson'][i], training_data['max_power'][i], training_data['freq_at_max_power'][i], training_data['ratio_of_power_at_high_v_low_freq'][i], training_data['max_autocorrelation'][i], training_data['time_of_max_autocorrelation'][i], training_data['SumLSP_10_7_Day_Power'][i], training_data['SumLSP_7_4_Day_Power'][i], training_data['SumLSP_4_1_Day_Power'][i], training_data['SumLSP_1_p5_Day_Power'][i], training_data['Entropy'][i]\n",
      "/var/folders/gy/0vj93nbd4x5bt_bpj2r46w7h0000gn/T/ipykernel_24137/1640273581.py:54: DeprecationWarning: setting an array element with a sequence. This was supported in some cases where the elements are arrays with a single element. For example `np.array([1, np.array([2])], dtype=int)`. In the future this will raise the same ValueError as `np.array([1, [2]], dtype=int)`.\n",
      "  X_valid[i]= validation_data['rms'][i], validation_data['std'][i], validation_data['MAD'][i], validation_data['sigmaG'][i], validation_data['skewness'][i], validation_data['von_neumann_ratio'][i], validation_data['J_Stetson'][i], validation_data['max_power'][i], validation_data['freq_at_max_power'][i], validation_data['ratio_of_power_at_high_v_low_freq'][i], validation_data['max_autocorrelation'][i], validation_data['time_of_max_autocorrelation'][i], validation_data['SumLSP_10_7_Day_Power'][i], validation_data['SumLSP_7_4_Day_Power'][i], validation_data['SumLSP_4_1_Day_Power'][i], validation_data['SumLSP_1_p5_Day_Power'][i], validation_data['Entropy'][i]\n",
      "/var/folders/gy/0vj93nbd4x5bt_bpj2r46w7h0000gn/T/ipykernel_24137/1640273581.py:59: DeprecationWarning: setting an array element with a sequence. This was supported in some cases where the elements are arrays with a single element. For example `np.array([1, np.array([2])], dtype=int)`. In the future this will raise the same ValueError as `np.array([1, [2]], dtype=int)`.\n",
      "  X_test[i]= test_data['rms'][i], test_data['std'][i], test_data['MAD'][i], test_data['sigmaG'][i], test_data['skewness'][i], test_data['von_neumann_ratio'][i], test_data['J_Stetson'][i], test_data['max_power'][i], test_data['freq_at_max_power'][i], test_data['ratio_of_power_at_high_v_low_freq'][i], test_data['max_autocorrelation'][i], test_data['time_of_max_autocorrelation'][i], test_data['SumLSP_10_7_Day_Power'][i], test_data['SumLSP_7_4_Day_Power'][i], test_data['SumLSP_4_1_Day_Power'][i], test_data['SumLSP_1_p5_Day_Power'][i], test_data['Entropy'][i]\n"
     ]
    },
    {
     "name": "stdout",
     "output_type": "stream",
     "text": [
      "\u001b[1m195/195\u001b[0m \u001b[32m━━━━━━━━━━━━━━━━━━━━\u001b[0m\u001b[37m\u001b[0m \u001b[1m1s\u001b[0m 2ms/step\n"
     ]
    },
    {
     "name": "stderr",
     "output_type": "stream",
     "text": [
      "/var/folders/gy/0vj93nbd4x5bt_bpj2r46w7h0000gn/T/ipykernel_24137/1640273581.py:49: DeprecationWarning: setting an array element with a sequence. This was supported in some cases where the elements are arrays with a single element. For example `np.array([1, np.array([2])], dtype=int)`. In the future this will raise the same ValueError as `np.array([1, [2]], dtype=int)`.\n",
      "  X_train[i]= training_data['rms'][i], training_data['std'][i], training_data['MAD'][i], training_data['sigmaG'][i], training_data['skewness'][i], training_data['von_neumann_ratio'][i], training_data['J_Stetson'][i], training_data['max_power'][i], training_data['freq_at_max_power'][i], training_data['ratio_of_power_at_high_v_low_freq'][i], training_data['max_autocorrelation'][i], training_data['time_of_max_autocorrelation'][i], training_data['SumLSP_10_7_Day_Power'][i], training_data['SumLSP_7_4_Day_Power'][i], training_data['SumLSP_4_1_Day_Power'][i], training_data['SumLSP_1_p5_Day_Power'][i], training_data['Entropy'][i]\n",
      "/var/folders/gy/0vj93nbd4x5bt_bpj2r46w7h0000gn/T/ipykernel_24137/1640273581.py:54: DeprecationWarning: setting an array element with a sequence. This was supported in some cases where the elements are arrays with a single element. For example `np.array([1, np.array([2])], dtype=int)`. In the future this will raise the same ValueError as `np.array([1, [2]], dtype=int)`.\n",
      "  X_valid[i]= validation_data['rms'][i], validation_data['std'][i], validation_data['MAD'][i], validation_data['sigmaG'][i], validation_data['skewness'][i], validation_data['von_neumann_ratio'][i], validation_data['J_Stetson'][i], validation_data['max_power'][i], validation_data['freq_at_max_power'][i], validation_data['ratio_of_power_at_high_v_low_freq'][i], validation_data['max_autocorrelation'][i], validation_data['time_of_max_autocorrelation'][i], validation_data['SumLSP_10_7_Day_Power'][i], validation_data['SumLSP_7_4_Day_Power'][i], validation_data['SumLSP_4_1_Day_Power'][i], validation_data['SumLSP_1_p5_Day_Power'][i], validation_data['Entropy'][i]\n",
      "/var/folders/gy/0vj93nbd4x5bt_bpj2r46w7h0000gn/T/ipykernel_24137/1640273581.py:59: DeprecationWarning: setting an array element with a sequence. This was supported in some cases where the elements are arrays with a single element. For example `np.array([1, np.array([2])], dtype=int)`. In the future this will raise the same ValueError as `np.array([1, [2]], dtype=int)`.\n",
      "  X_test[i]= test_data['rms'][i], test_data['std'][i], test_data['MAD'][i], test_data['sigmaG'][i], test_data['skewness'][i], test_data['von_neumann_ratio'][i], test_data['J_Stetson'][i], test_data['max_power'][i], test_data['freq_at_max_power'][i], test_data['ratio_of_power_at_high_v_low_freq'][i], test_data['max_autocorrelation'][i], test_data['time_of_max_autocorrelation'][i], test_data['SumLSP_10_7_Day_Power'][i], test_data['SumLSP_7_4_Day_Power'][i], test_data['SumLSP_4_1_Day_Power'][i], test_data['SumLSP_1_p5_Day_Power'][i], test_data['Entropy'][i]\n"
     ]
    },
    {
     "name": "stdout",
     "output_type": "stream",
     "text": [
      "\u001b[1m176/176\u001b[0m \u001b[32m━━━━━━━━━━━━━━━━━━━━\u001b[0m\u001b[37m\u001b[0m \u001b[1m0s\u001b[0m 2ms/step\n"
     ]
    },
    {
     "name": "stderr",
     "output_type": "stream",
     "text": [
      "/var/folders/gy/0vj93nbd4x5bt_bpj2r46w7h0000gn/T/ipykernel_24137/1640273581.py:49: DeprecationWarning: setting an array element with a sequence. This was supported in some cases where the elements are arrays with a single element. For example `np.array([1, np.array([2])], dtype=int)`. In the future this will raise the same ValueError as `np.array([1, [2]], dtype=int)`.\n",
      "  X_train[i]= training_data['rms'][i], training_data['std'][i], training_data['MAD'][i], training_data['sigmaG'][i], training_data['skewness'][i], training_data['von_neumann_ratio'][i], training_data['J_Stetson'][i], training_data['max_power'][i], training_data['freq_at_max_power'][i], training_data['ratio_of_power_at_high_v_low_freq'][i], training_data['max_autocorrelation'][i], training_data['time_of_max_autocorrelation'][i], training_data['SumLSP_10_7_Day_Power'][i], training_data['SumLSP_7_4_Day_Power'][i], training_data['SumLSP_4_1_Day_Power'][i], training_data['SumLSP_1_p5_Day_Power'][i], training_data['Entropy'][i]\n",
      "/var/folders/gy/0vj93nbd4x5bt_bpj2r46w7h0000gn/T/ipykernel_24137/1640273581.py:54: DeprecationWarning: setting an array element with a sequence. This was supported in some cases where the elements are arrays with a single element. For example `np.array([1, np.array([2])], dtype=int)`. In the future this will raise the same ValueError as `np.array([1, [2]], dtype=int)`.\n",
      "  X_valid[i]= validation_data['rms'][i], validation_data['std'][i], validation_data['MAD'][i], validation_data['sigmaG'][i], validation_data['skewness'][i], validation_data['von_neumann_ratio'][i], validation_data['J_Stetson'][i], validation_data['max_power'][i], validation_data['freq_at_max_power'][i], validation_data['ratio_of_power_at_high_v_low_freq'][i], validation_data['max_autocorrelation'][i], validation_data['time_of_max_autocorrelation'][i], validation_data['SumLSP_10_7_Day_Power'][i], validation_data['SumLSP_7_4_Day_Power'][i], validation_data['SumLSP_4_1_Day_Power'][i], validation_data['SumLSP_1_p5_Day_Power'][i], validation_data['Entropy'][i]\n",
      "/var/folders/gy/0vj93nbd4x5bt_bpj2r46w7h0000gn/T/ipykernel_24137/1640273581.py:59: DeprecationWarning: setting an array element with a sequence. This was supported in some cases where the elements are arrays with a single element. For example `np.array([1, np.array([2])], dtype=int)`. In the future this will raise the same ValueError as `np.array([1, [2]], dtype=int)`.\n",
      "  X_test[i]= test_data['rms'][i], test_data['std'][i], test_data['MAD'][i], test_data['sigmaG'][i], test_data['skewness'][i], test_data['von_neumann_ratio'][i], test_data['J_Stetson'][i], test_data['max_power'][i], test_data['freq_at_max_power'][i], test_data['ratio_of_power_at_high_v_low_freq'][i], test_data['max_autocorrelation'][i], test_data['time_of_max_autocorrelation'][i], test_data['SumLSP_10_7_Day_Power'][i], test_data['SumLSP_7_4_Day_Power'][i], test_data['SumLSP_4_1_Day_Power'][i], test_data['SumLSP_1_p5_Day_Power'][i], test_data['Entropy'][i]\n"
     ]
    },
    {
     "name": "stdout",
     "output_type": "stream",
     "text": [
      "\u001b[1m158/158\u001b[0m \u001b[32m━━━━━━━━━━━━━━━━━━━━\u001b[0m\u001b[37m\u001b[0m \u001b[1m0s\u001b[0m 2ms/step\n"
     ]
    },
    {
     "name": "stderr",
     "output_type": "stream",
     "text": [
      "/var/folders/gy/0vj93nbd4x5bt_bpj2r46w7h0000gn/T/ipykernel_24137/1640273581.py:49: DeprecationWarning: setting an array element with a sequence. This was supported in some cases where the elements are arrays with a single element. For example `np.array([1, np.array([2])], dtype=int)`. In the future this will raise the same ValueError as `np.array([1, [2]], dtype=int)`.\n",
      "  X_train[i]= training_data['rms'][i], training_data['std'][i], training_data['MAD'][i], training_data['sigmaG'][i], training_data['skewness'][i], training_data['von_neumann_ratio'][i], training_data['J_Stetson'][i], training_data['max_power'][i], training_data['freq_at_max_power'][i], training_data['ratio_of_power_at_high_v_low_freq'][i], training_data['max_autocorrelation'][i], training_data['time_of_max_autocorrelation'][i], training_data['SumLSP_10_7_Day_Power'][i], training_data['SumLSP_7_4_Day_Power'][i], training_data['SumLSP_4_1_Day_Power'][i], training_data['SumLSP_1_p5_Day_Power'][i], training_data['Entropy'][i]\n",
      "/var/folders/gy/0vj93nbd4x5bt_bpj2r46w7h0000gn/T/ipykernel_24137/1640273581.py:54: DeprecationWarning: setting an array element with a sequence. This was supported in some cases where the elements are arrays with a single element. For example `np.array([1, np.array([2])], dtype=int)`. In the future this will raise the same ValueError as `np.array([1, [2]], dtype=int)`.\n",
      "  X_valid[i]= validation_data['rms'][i], validation_data['std'][i], validation_data['MAD'][i], validation_data['sigmaG'][i], validation_data['skewness'][i], validation_data['von_neumann_ratio'][i], validation_data['J_Stetson'][i], validation_data['max_power'][i], validation_data['freq_at_max_power'][i], validation_data['ratio_of_power_at_high_v_low_freq'][i], validation_data['max_autocorrelation'][i], validation_data['time_of_max_autocorrelation'][i], validation_data['SumLSP_10_7_Day_Power'][i], validation_data['SumLSP_7_4_Day_Power'][i], validation_data['SumLSP_4_1_Day_Power'][i], validation_data['SumLSP_1_p5_Day_Power'][i], validation_data['Entropy'][i]\n",
      "/var/folders/gy/0vj93nbd4x5bt_bpj2r46w7h0000gn/T/ipykernel_24137/1640273581.py:59: DeprecationWarning: setting an array element with a sequence. This was supported in some cases where the elements are arrays with a single element. For example `np.array([1, np.array([2])], dtype=int)`. In the future this will raise the same ValueError as `np.array([1, [2]], dtype=int)`.\n",
      "  X_test[i]= test_data['rms'][i], test_data['std'][i], test_data['MAD'][i], test_data['sigmaG'][i], test_data['skewness'][i], test_data['von_neumann_ratio'][i], test_data['J_Stetson'][i], test_data['max_power'][i], test_data['freq_at_max_power'][i], test_data['ratio_of_power_at_high_v_low_freq'][i], test_data['max_autocorrelation'][i], test_data['time_of_max_autocorrelation'][i], test_data['SumLSP_10_7_Day_Power'][i], test_data['SumLSP_7_4_Day_Power'][i], test_data['SumLSP_4_1_Day_Power'][i], test_data['SumLSP_1_p5_Day_Power'][i], test_data['Entropy'][i]\n"
     ]
    },
    {
     "name": "stdout",
     "output_type": "stream",
     "text": [
      "\u001b[1m157/157\u001b[0m \u001b[32m━━━━━━━━━━━━━━━━━━━━\u001b[0m\u001b[37m\u001b[0m \u001b[1m1s\u001b[0m 3ms/step\n"
     ]
    },
    {
     "name": "stderr",
     "output_type": "stream",
     "text": [
      "/var/folders/gy/0vj93nbd4x5bt_bpj2r46w7h0000gn/T/ipykernel_24137/1640273581.py:49: DeprecationWarning: setting an array element with a sequence. This was supported in some cases where the elements are arrays with a single element. For example `np.array([1, np.array([2])], dtype=int)`. In the future this will raise the same ValueError as `np.array([1, [2]], dtype=int)`.\n",
      "  X_train[i]= training_data['rms'][i], training_data['std'][i], training_data['MAD'][i], training_data['sigmaG'][i], training_data['skewness'][i], training_data['von_neumann_ratio'][i], training_data['J_Stetson'][i], training_data['max_power'][i], training_data['freq_at_max_power'][i], training_data['ratio_of_power_at_high_v_low_freq'][i], training_data['max_autocorrelation'][i], training_data['time_of_max_autocorrelation'][i], training_data['SumLSP_10_7_Day_Power'][i], training_data['SumLSP_7_4_Day_Power'][i], training_data['SumLSP_4_1_Day_Power'][i], training_data['SumLSP_1_p5_Day_Power'][i], training_data['Entropy'][i]\n",
      "/var/folders/gy/0vj93nbd4x5bt_bpj2r46w7h0000gn/T/ipykernel_24137/1640273581.py:54: DeprecationWarning: setting an array element with a sequence. This was supported in some cases where the elements are arrays with a single element. For example `np.array([1, np.array([2])], dtype=int)`. In the future this will raise the same ValueError as `np.array([1, [2]], dtype=int)`.\n",
      "  X_valid[i]= validation_data['rms'][i], validation_data['std'][i], validation_data['MAD'][i], validation_data['sigmaG'][i], validation_data['skewness'][i], validation_data['von_neumann_ratio'][i], validation_data['J_Stetson'][i], validation_data['max_power'][i], validation_data['freq_at_max_power'][i], validation_data['ratio_of_power_at_high_v_low_freq'][i], validation_data['max_autocorrelation'][i], validation_data['time_of_max_autocorrelation'][i], validation_data['SumLSP_10_7_Day_Power'][i], validation_data['SumLSP_7_4_Day_Power'][i], validation_data['SumLSP_4_1_Day_Power'][i], validation_data['SumLSP_1_p5_Day_Power'][i], validation_data['Entropy'][i]\n",
      "/var/folders/gy/0vj93nbd4x5bt_bpj2r46w7h0000gn/T/ipykernel_24137/1640273581.py:59: DeprecationWarning: setting an array element with a sequence. This was supported in some cases where the elements are arrays with a single element. For example `np.array([1, np.array([2])], dtype=int)`. In the future this will raise the same ValueError as `np.array([1, [2]], dtype=int)`.\n",
      "  X_test[i]= test_data['rms'][i], test_data['std'][i], test_data['MAD'][i], test_data['sigmaG'][i], test_data['skewness'][i], test_data['von_neumann_ratio'][i], test_data['J_Stetson'][i], test_data['max_power'][i], test_data['freq_at_max_power'][i], test_data['ratio_of_power_at_high_v_low_freq'][i], test_data['max_autocorrelation'][i], test_data['time_of_max_autocorrelation'][i], test_data['SumLSP_10_7_Day_Power'][i], test_data['SumLSP_7_4_Day_Power'][i], test_data['SumLSP_4_1_Day_Power'][i], test_data['SumLSP_1_p5_Day_Power'][i], test_data['Entropy'][i]\n"
     ]
    },
    {
     "name": "stdout",
     "output_type": "stream",
     "text": [
      "\u001b[1m135/135\u001b[0m \u001b[32m━━━━━━━━━━━━━━━━━━━━\u001b[0m\u001b[37m\u001b[0m \u001b[1m0s\u001b[0m 2ms/step\n"
     ]
    },
    {
     "name": "stderr",
     "output_type": "stream",
     "text": [
      "/var/folders/gy/0vj93nbd4x5bt_bpj2r46w7h0000gn/T/ipykernel_24137/1640273581.py:49: DeprecationWarning: setting an array element with a sequence. This was supported in some cases where the elements are arrays with a single element. For example `np.array([1, np.array([2])], dtype=int)`. In the future this will raise the same ValueError as `np.array([1, [2]], dtype=int)`.\n",
      "  X_train[i]= training_data['rms'][i], training_data['std'][i], training_data['MAD'][i], training_data['sigmaG'][i], training_data['skewness'][i], training_data['von_neumann_ratio'][i], training_data['J_Stetson'][i], training_data['max_power'][i], training_data['freq_at_max_power'][i], training_data['ratio_of_power_at_high_v_low_freq'][i], training_data['max_autocorrelation'][i], training_data['time_of_max_autocorrelation'][i], training_data['SumLSP_10_7_Day_Power'][i], training_data['SumLSP_7_4_Day_Power'][i], training_data['SumLSP_4_1_Day_Power'][i], training_data['SumLSP_1_p5_Day_Power'][i], training_data['Entropy'][i]\n",
      "/var/folders/gy/0vj93nbd4x5bt_bpj2r46w7h0000gn/T/ipykernel_24137/1640273581.py:54: DeprecationWarning: setting an array element with a sequence. This was supported in some cases where the elements are arrays with a single element. For example `np.array([1, np.array([2])], dtype=int)`. In the future this will raise the same ValueError as `np.array([1, [2]], dtype=int)`.\n",
      "  X_valid[i]= validation_data['rms'][i], validation_data['std'][i], validation_data['MAD'][i], validation_data['sigmaG'][i], validation_data['skewness'][i], validation_data['von_neumann_ratio'][i], validation_data['J_Stetson'][i], validation_data['max_power'][i], validation_data['freq_at_max_power'][i], validation_data['ratio_of_power_at_high_v_low_freq'][i], validation_data['max_autocorrelation'][i], validation_data['time_of_max_autocorrelation'][i], validation_data['SumLSP_10_7_Day_Power'][i], validation_data['SumLSP_7_4_Day_Power'][i], validation_data['SumLSP_4_1_Day_Power'][i], validation_data['SumLSP_1_p5_Day_Power'][i], validation_data['Entropy'][i]\n",
      "/var/folders/gy/0vj93nbd4x5bt_bpj2r46w7h0000gn/T/ipykernel_24137/1640273581.py:59: DeprecationWarning: setting an array element with a sequence. This was supported in some cases where the elements are arrays with a single element. For example `np.array([1, np.array([2])], dtype=int)`. In the future this will raise the same ValueError as `np.array([1, [2]], dtype=int)`.\n",
      "  X_test[i]= test_data['rms'][i], test_data['std'][i], test_data['MAD'][i], test_data['sigmaG'][i], test_data['skewness'][i], test_data['von_neumann_ratio'][i], test_data['J_Stetson'][i], test_data['max_power'][i], test_data['freq_at_max_power'][i], test_data['ratio_of_power_at_high_v_low_freq'][i], test_data['max_autocorrelation'][i], test_data['time_of_max_autocorrelation'][i], test_data['SumLSP_10_7_Day_Power'][i], test_data['SumLSP_7_4_Day_Power'][i], test_data['SumLSP_4_1_Day_Power'][i], test_data['SumLSP_1_p5_Day_Power'][i], test_data['Entropy'][i]\n"
     ]
    },
    {
     "name": "stdout",
     "output_type": "stream",
     "text": [
      "\u001b[1m135/135\u001b[0m \u001b[32m━━━━━━━━━━━━━━━━━━━━\u001b[0m\u001b[37m\u001b[0m \u001b[1m0s\u001b[0m 2ms/step\n"
     ]
    },
    {
     "name": "stderr",
     "output_type": "stream",
     "text": [
      "/var/folders/gy/0vj93nbd4x5bt_bpj2r46w7h0000gn/T/ipykernel_24137/1640273581.py:49: DeprecationWarning: setting an array element with a sequence. This was supported in some cases where the elements are arrays with a single element. For example `np.array([1, np.array([2])], dtype=int)`. In the future this will raise the same ValueError as `np.array([1, [2]], dtype=int)`.\n",
      "  X_train[i]= training_data['rms'][i], training_data['std'][i], training_data['MAD'][i], training_data['sigmaG'][i], training_data['skewness'][i], training_data['von_neumann_ratio'][i], training_data['J_Stetson'][i], training_data['max_power'][i], training_data['freq_at_max_power'][i], training_data['ratio_of_power_at_high_v_low_freq'][i], training_data['max_autocorrelation'][i], training_data['time_of_max_autocorrelation'][i], training_data['SumLSP_10_7_Day_Power'][i], training_data['SumLSP_7_4_Day_Power'][i], training_data['SumLSP_4_1_Day_Power'][i], training_data['SumLSP_1_p5_Day_Power'][i], training_data['Entropy'][i]\n",
      "/var/folders/gy/0vj93nbd4x5bt_bpj2r46w7h0000gn/T/ipykernel_24137/1640273581.py:54: DeprecationWarning: setting an array element with a sequence. This was supported in some cases where the elements are arrays with a single element. For example `np.array([1, np.array([2])], dtype=int)`. In the future this will raise the same ValueError as `np.array([1, [2]], dtype=int)`.\n",
      "  X_valid[i]= validation_data['rms'][i], validation_data['std'][i], validation_data['MAD'][i], validation_data['sigmaG'][i], validation_data['skewness'][i], validation_data['von_neumann_ratio'][i], validation_data['J_Stetson'][i], validation_data['max_power'][i], validation_data['freq_at_max_power'][i], validation_data['ratio_of_power_at_high_v_low_freq'][i], validation_data['max_autocorrelation'][i], validation_data['time_of_max_autocorrelation'][i], validation_data['SumLSP_10_7_Day_Power'][i], validation_data['SumLSP_7_4_Day_Power'][i], validation_data['SumLSP_4_1_Day_Power'][i], validation_data['SumLSP_1_p5_Day_Power'][i], validation_data['Entropy'][i]\n",
      "/var/folders/gy/0vj93nbd4x5bt_bpj2r46w7h0000gn/T/ipykernel_24137/1640273581.py:59: DeprecationWarning: setting an array element with a sequence. This was supported in some cases where the elements are arrays with a single element. For example `np.array([1, np.array([2])], dtype=int)`. In the future this will raise the same ValueError as `np.array([1, [2]], dtype=int)`.\n",
      "  X_test[i]= test_data['rms'][i], test_data['std'][i], test_data['MAD'][i], test_data['sigmaG'][i], test_data['skewness'][i], test_data['von_neumann_ratio'][i], test_data['J_Stetson'][i], test_data['max_power'][i], test_data['freq_at_max_power'][i], test_data['ratio_of_power_at_high_v_low_freq'][i], test_data['max_autocorrelation'][i], test_data['time_of_max_autocorrelation'][i], test_data['SumLSP_10_7_Day_Power'][i], test_data['SumLSP_7_4_Day_Power'][i], test_data['SumLSP_4_1_Day_Power'][i], test_data['SumLSP_1_p5_Day_Power'][i], test_data['Entropy'][i]\n"
     ]
    },
    {
     "name": "stdout",
     "output_type": "stream",
     "text": [
      "\u001b[1m201/201\u001b[0m \u001b[32m━━━━━━━━━━━━━━━━━━━━\u001b[0m\u001b[37m\u001b[0m \u001b[1m1s\u001b[0m 2ms/step\n"
     ]
    },
    {
     "name": "stderr",
     "output_type": "stream",
     "text": [
      "/var/folders/gy/0vj93nbd4x5bt_bpj2r46w7h0000gn/T/ipykernel_24137/1640273581.py:49: DeprecationWarning: setting an array element with a sequence. This was supported in some cases where the elements are arrays with a single element. For example `np.array([1, np.array([2])], dtype=int)`. In the future this will raise the same ValueError as `np.array([1, [2]], dtype=int)`.\n",
      "  X_train[i]= training_data['rms'][i], training_data['std'][i], training_data['MAD'][i], training_data['sigmaG'][i], training_data['skewness'][i], training_data['von_neumann_ratio'][i], training_data['J_Stetson'][i], training_data['max_power'][i], training_data['freq_at_max_power'][i], training_data['ratio_of_power_at_high_v_low_freq'][i], training_data['max_autocorrelation'][i], training_data['time_of_max_autocorrelation'][i], training_data['SumLSP_10_7_Day_Power'][i], training_data['SumLSP_7_4_Day_Power'][i], training_data['SumLSP_4_1_Day_Power'][i], training_data['SumLSP_1_p5_Day_Power'][i], training_data['Entropy'][i]\n",
      "/var/folders/gy/0vj93nbd4x5bt_bpj2r46w7h0000gn/T/ipykernel_24137/1640273581.py:54: DeprecationWarning: setting an array element with a sequence. This was supported in some cases where the elements are arrays with a single element. For example `np.array([1, np.array([2])], dtype=int)`. In the future this will raise the same ValueError as `np.array([1, [2]], dtype=int)`.\n",
      "  X_valid[i]= validation_data['rms'][i], validation_data['std'][i], validation_data['MAD'][i], validation_data['sigmaG'][i], validation_data['skewness'][i], validation_data['von_neumann_ratio'][i], validation_data['J_Stetson'][i], validation_data['max_power'][i], validation_data['freq_at_max_power'][i], validation_data['ratio_of_power_at_high_v_low_freq'][i], validation_data['max_autocorrelation'][i], validation_data['time_of_max_autocorrelation'][i], validation_data['SumLSP_10_7_Day_Power'][i], validation_data['SumLSP_7_4_Day_Power'][i], validation_data['SumLSP_4_1_Day_Power'][i], validation_data['SumLSP_1_p5_Day_Power'][i], validation_data['Entropy'][i]\n",
      "/var/folders/gy/0vj93nbd4x5bt_bpj2r46w7h0000gn/T/ipykernel_24137/1640273581.py:59: DeprecationWarning: setting an array element with a sequence. This was supported in some cases where the elements are arrays with a single element. For example `np.array([1, np.array([2])], dtype=int)`. In the future this will raise the same ValueError as `np.array([1, [2]], dtype=int)`.\n",
      "  X_test[i]= test_data['rms'][i], test_data['std'][i], test_data['MAD'][i], test_data['sigmaG'][i], test_data['skewness'][i], test_data['von_neumann_ratio'][i], test_data['J_Stetson'][i], test_data['max_power'][i], test_data['freq_at_max_power'][i], test_data['ratio_of_power_at_high_v_low_freq'][i], test_data['max_autocorrelation'][i], test_data['time_of_max_autocorrelation'][i], test_data['SumLSP_10_7_Day_Power'][i], test_data['SumLSP_7_4_Day_Power'][i], test_data['SumLSP_4_1_Day_Power'][i], test_data['SumLSP_1_p5_Day_Power'][i], test_data['Entropy'][i]\n"
     ]
    },
    {
     "name": "stdout",
     "output_type": "stream",
     "text": [
      "\u001b[1m150/150\u001b[0m \u001b[32m━━━━━━━━━━━━━━━━━━━━\u001b[0m\u001b[37m\u001b[0m \u001b[1m0s\u001b[0m 2ms/step\n"
     ]
    },
    {
     "name": "stderr",
     "output_type": "stream",
     "text": [
      "/var/folders/gy/0vj93nbd4x5bt_bpj2r46w7h0000gn/T/ipykernel_24137/1640273581.py:49: DeprecationWarning: setting an array element with a sequence. This was supported in some cases where the elements are arrays with a single element. For example `np.array([1, np.array([2])], dtype=int)`. In the future this will raise the same ValueError as `np.array([1, [2]], dtype=int)`.\n",
      "  X_train[i]= training_data['rms'][i], training_data['std'][i], training_data['MAD'][i], training_data['sigmaG'][i], training_data['skewness'][i], training_data['von_neumann_ratio'][i], training_data['J_Stetson'][i], training_data['max_power'][i], training_data['freq_at_max_power'][i], training_data['ratio_of_power_at_high_v_low_freq'][i], training_data['max_autocorrelation'][i], training_data['time_of_max_autocorrelation'][i], training_data['SumLSP_10_7_Day_Power'][i], training_data['SumLSP_7_4_Day_Power'][i], training_data['SumLSP_4_1_Day_Power'][i], training_data['SumLSP_1_p5_Day_Power'][i], training_data['Entropy'][i]\n",
      "/var/folders/gy/0vj93nbd4x5bt_bpj2r46w7h0000gn/T/ipykernel_24137/1640273581.py:54: DeprecationWarning: setting an array element with a sequence. This was supported in some cases where the elements are arrays with a single element. For example `np.array([1, np.array([2])], dtype=int)`. In the future this will raise the same ValueError as `np.array([1, [2]], dtype=int)`.\n",
      "  X_valid[i]= validation_data['rms'][i], validation_data['std'][i], validation_data['MAD'][i], validation_data['sigmaG'][i], validation_data['skewness'][i], validation_data['von_neumann_ratio'][i], validation_data['J_Stetson'][i], validation_data['max_power'][i], validation_data['freq_at_max_power'][i], validation_data['ratio_of_power_at_high_v_low_freq'][i], validation_data['max_autocorrelation'][i], validation_data['time_of_max_autocorrelation'][i], validation_data['SumLSP_10_7_Day_Power'][i], validation_data['SumLSP_7_4_Day_Power'][i], validation_data['SumLSP_4_1_Day_Power'][i], validation_data['SumLSP_1_p5_Day_Power'][i], validation_data['Entropy'][i]\n",
      "/var/folders/gy/0vj93nbd4x5bt_bpj2r46w7h0000gn/T/ipykernel_24137/1640273581.py:59: DeprecationWarning: setting an array element with a sequence. This was supported in some cases where the elements are arrays with a single element. For example `np.array([1, np.array([2])], dtype=int)`. In the future this will raise the same ValueError as `np.array([1, [2]], dtype=int)`.\n",
      "  X_test[i]= test_data['rms'][i], test_data['std'][i], test_data['MAD'][i], test_data['sigmaG'][i], test_data['skewness'][i], test_data['von_neumann_ratio'][i], test_data['J_Stetson'][i], test_data['max_power'][i], test_data['freq_at_max_power'][i], test_data['ratio_of_power_at_high_v_low_freq'][i], test_data['max_autocorrelation'][i], test_data['time_of_max_autocorrelation'][i], test_data['SumLSP_10_7_Day_Power'][i], test_data['SumLSP_7_4_Day_Power'][i], test_data['SumLSP_4_1_Day_Power'][i], test_data['SumLSP_1_p5_Day_Power'][i], test_data['Entropy'][i]\n"
     ]
    },
    {
     "name": "stdout",
     "output_type": "stream",
     "text": [
      "\u001b[1m226/226\u001b[0m \u001b[32m━━━━━━━━━━━━━━━━━━━━\u001b[0m\u001b[37m\u001b[0m \u001b[1m1s\u001b[0m 2ms/step\n"
     ]
    },
    {
     "name": "stderr",
     "output_type": "stream",
     "text": [
      "/var/folders/gy/0vj93nbd4x5bt_bpj2r46w7h0000gn/T/ipykernel_24137/1640273581.py:49: DeprecationWarning: setting an array element with a sequence. This was supported in some cases where the elements are arrays with a single element. For example `np.array([1, np.array([2])], dtype=int)`. In the future this will raise the same ValueError as `np.array([1, [2]], dtype=int)`.\n",
      "  X_train[i]= training_data['rms'][i], training_data['std'][i], training_data['MAD'][i], training_data['sigmaG'][i], training_data['skewness'][i], training_data['von_neumann_ratio'][i], training_data['J_Stetson'][i], training_data['max_power'][i], training_data['freq_at_max_power'][i], training_data['ratio_of_power_at_high_v_low_freq'][i], training_data['max_autocorrelation'][i], training_data['time_of_max_autocorrelation'][i], training_data['SumLSP_10_7_Day_Power'][i], training_data['SumLSP_7_4_Day_Power'][i], training_data['SumLSP_4_1_Day_Power'][i], training_data['SumLSP_1_p5_Day_Power'][i], training_data['Entropy'][i]\n",
      "/var/folders/gy/0vj93nbd4x5bt_bpj2r46w7h0000gn/T/ipykernel_24137/1640273581.py:54: DeprecationWarning: setting an array element with a sequence. This was supported in some cases where the elements are arrays with a single element. For example `np.array([1, np.array([2])], dtype=int)`. In the future this will raise the same ValueError as `np.array([1, [2]], dtype=int)`.\n",
      "  X_valid[i]= validation_data['rms'][i], validation_data['std'][i], validation_data['MAD'][i], validation_data['sigmaG'][i], validation_data['skewness'][i], validation_data['von_neumann_ratio'][i], validation_data['J_Stetson'][i], validation_data['max_power'][i], validation_data['freq_at_max_power'][i], validation_data['ratio_of_power_at_high_v_low_freq'][i], validation_data['max_autocorrelation'][i], validation_data['time_of_max_autocorrelation'][i], validation_data['SumLSP_10_7_Day_Power'][i], validation_data['SumLSP_7_4_Day_Power'][i], validation_data['SumLSP_4_1_Day_Power'][i], validation_data['SumLSP_1_p5_Day_Power'][i], validation_data['Entropy'][i]\n",
      "/var/folders/gy/0vj93nbd4x5bt_bpj2r46w7h0000gn/T/ipykernel_24137/1640273581.py:59: DeprecationWarning: setting an array element with a sequence. This was supported in some cases where the elements are arrays with a single element. For example `np.array([1, np.array([2])], dtype=int)`. In the future this will raise the same ValueError as `np.array([1, [2]], dtype=int)`.\n",
      "  X_test[i]= test_data['rms'][i], test_data['std'][i], test_data['MAD'][i], test_data['sigmaG'][i], test_data['skewness'][i], test_data['von_neumann_ratio'][i], test_data['J_Stetson'][i], test_data['max_power'][i], test_data['freq_at_max_power'][i], test_data['ratio_of_power_at_high_v_low_freq'][i], test_data['max_autocorrelation'][i], test_data['time_of_max_autocorrelation'][i], test_data['SumLSP_10_7_Day_Power'][i], test_data['SumLSP_7_4_Day_Power'][i], test_data['SumLSP_4_1_Day_Power'][i], test_data['SumLSP_1_p5_Day_Power'][i], test_data['Entropy'][i]\n"
     ]
    },
    {
     "name": "stdout",
     "output_type": "stream",
     "text": [
      "\u001b[1m152/152\u001b[0m \u001b[32m━━━━━━━━━━━━━━━━━━━━\u001b[0m\u001b[37m\u001b[0m \u001b[1m0s\u001b[0m 2ms/step\n"
     ]
    },
    {
     "name": "stderr",
     "output_type": "stream",
     "text": [
      "/var/folders/gy/0vj93nbd4x5bt_bpj2r46w7h0000gn/T/ipykernel_24137/1640273581.py:49: DeprecationWarning: setting an array element with a sequence. This was supported in some cases where the elements are arrays with a single element. For example `np.array([1, np.array([2])], dtype=int)`. In the future this will raise the same ValueError as `np.array([1, [2]], dtype=int)`.\n",
      "  X_train[i]= training_data['rms'][i], training_data['std'][i], training_data['MAD'][i], training_data['sigmaG'][i], training_data['skewness'][i], training_data['von_neumann_ratio'][i], training_data['J_Stetson'][i], training_data['max_power'][i], training_data['freq_at_max_power'][i], training_data['ratio_of_power_at_high_v_low_freq'][i], training_data['max_autocorrelation'][i], training_data['time_of_max_autocorrelation'][i], training_data['SumLSP_10_7_Day_Power'][i], training_data['SumLSP_7_4_Day_Power'][i], training_data['SumLSP_4_1_Day_Power'][i], training_data['SumLSP_1_p5_Day_Power'][i], training_data['Entropy'][i]\n",
      "/var/folders/gy/0vj93nbd4x5bt_bpj2r46w7h0000gn/T/ipykernel_24137/1640273581.py:54: DeprecationWarning: setting an array element with a sequence. This was supported in some cases where the elements are arrays with a single element. For example `np.array([1, np.array([2])], dtype=int)`. In the future this will raise the same ValueError as `np.array([1, [2]], dtype=int)`.\n",
      "  X_valid[i]= validation_data['rms'][i], validation_data['std'][i], validation_data['MAD'][i], validation_data['sigmaG'][i], validation_data['skewness'][i], validation_data['von_neumann_ratio'][i], validation_data['J_Stetson'][i], validation_data['max_power'][i], validation_data['freq_at_max_power'][i], validation_data['ratio_of_power_at_high_v_low_freq'][i], validation_data['max_autocorrelation'][i], validation_data['time_of_max_autocorrelation'][i], validation_data['SumLSP_10_7_Day_Power'][i], validation_data['SumLSP_7_4_Day_Power'][i], validation_data['SumLSP_4_1_Day_Power'][i], validation_data['SumLSP_1_p5_Day_Power'][i], validation_data['Entropy'][i]\n",
      "/var/folders/gy/0vj93nbd4x5bt_bpj2r46w7h0000gn/T/ipykernel_24137/1640273581.py:59: DeprecationWarning: setting an array element with a sequence. This was supported in some cases where the elements are arrays with a single element. For example `np.array([1, np.array([2])], dtype=int)`. In the future this will raise the same ValueError as `np.array([1, [2]], dtype=int)`.\n",
      "  X_test[i]= test_data['rms'][i], test_data['std'][i], test_data['MAD'][i], test_data['sigmaG'][i], test_data['skewness'][i], test_data['von_neumann_ratio'][i], test_data['J_Stetson'][i], test_data['max_power'][i], test_data['freq_at_max_power'][i], test_data['ratio_of_power_at_high_v_low_freq'][i], test_data['max_autocorrelation'][i], test_data['time_of_max_autocorrelation'][i], test_data['SumLSP_10_7_Day_Power'][i], test_data['SumLSP_7_4_Day_Power'][i], test_data['SumLSP_4_1_Day_Power'][i], test_data['SumLSP_1_p5_Day_Power'][i], test_data['Entropy'][i]\n"
     ]
    },
    {
     "name": "stdout",
     "output_type": "stream",
     "text": [
      "\u001b[1m158/158\u001b[0m \u001b[32m━━━━━━━━━━━━━━━━━━━━\u001b[0m\u001b[37m\u001b[0m \u001b[1m0s\u001b[0m 2ms/step\n"
     ]
    },
    {
     "name": "stderr",
     "output_type": "stream",
     "text": [
      "/var/folders/gy/0vj93nbd4x5bt_bpj2r46w7h0000gn/T/ipykernel_24137/1640273581.py:49: DeprecationWarning: setting an array element with a sequence. This was supported in some cases where the elements are arrays with a single element. For example `np.array([1, np.array([2])], dtype=int)`. In the future this will raise the same ValueError as `np.array([1, [2]], dtype=int)`.\n",
      "  X_train[i]= training_data['rms'][i], training_data['std'][i], training_data['MAD'][i], training_data['sigmaG'][i], training_data['skewness'][i], training_data['von_neumann_ratio'][i], training_data['J_Stetson'][i], training_data['max_power'][i], training_data['freq_at_max_power'][i], training_data['ratio_of_power_at_high_v_low_freq'][i], training_data['max_autocorrelation'][i], training_data['time_of_max_autocorrelation'][i], training_data['SumLSP_10_7_Day_Power'][i], training_data['SumLSP_7_4_Day_Power'][i], training_data['SumLSP_4_1_Day_Power'][i], training_data['SumLSP_1_p5_Day_Power'][i], training_data['Entropy'][i]\n",
      "/var/folders/gy/0vj93nbd4x5bt_bpj2r46w7h0000gn/T/ipykernel_24137/1640273581.py:54: DeprecationWarning: setting an array element with a sequence. This was supported in some cases where the elements are arrays with a single element. For example `np.array([1, np.array([2])], dtype=int)`. In the future this will raise the same ValueError as `np.array([1, [2]], dtype=int)`.\n",
      "  X_valid[i]= validation_data['rms'][i], validation_data['std'][i], validation_data['MAD'][i], validation_data['sigmaG'][i], validation_data['skewness'][i], validation_data['von_neumann_ratio'][i], validation_data['J_Stetson'][i], validation_data['max_power'][i], validation_data['freq_at_max_power'][i], validation_data['ratio_of_power_at_high_v_low_freq'][i], validation_data['max_autocorrelation'][i], validation_data['time_of_max_autocorrelation'][i], validation_data['SumLSP_10_7_Day_Power'][i], validation_data['SumLSP_7_4_Day_Power'][i], validation_data['SumLSP_4_1_Day_Power'][i], validation_data['SumLSP_1_p5_Day_Power'][i], validation_data['Entropy'][i]\n",
      "/var/folders/gy/0vj93nbd4x5bt_bpj2r46w7h0000gn/T/ipykernel_24137/1640273581.py:59: DeprecationWarning: setting an array element with a sequence. This was supported in some cases where the elements are arrays with a single element. For example `np.array([1, np.array([2])], dtype=int)`. In the future this will raise the same ValueError as `np.array([1, [2]], dtype=int)`.\n",
      "  X_test[i]= test_data['rms'][i], test_data['std'][i], test_data['MAD'][i], test_data['sigmaG'][i], test_data['skewness'][i], test_data['von_neumann_ratio'][i], test_data['J_Stetson'][i], test_data['max_power'][i], test_data['freq_at_max_power'][i], test_data['ratio_of_power_at_high_v_low_freq'][i], test_data['max_autocorrelation'][i], test_data['time_of_max_autocorrelation'][i], test_data['SumLSP_10_7_Day_Power'][i], test_data['SumLSP_7_4_Day_Power'][i], test_data['SumLSP_4_1_Day_Power'][i], test_data['SumLSP_1_p5_Day_Power'][i], test_data['Entropy'][i]\n"
     ]
    },
    {
     "name": "stdout",
     "output_type": "stream",
     "text": [
      "\u001b[1m122/122\u001b[0m \u001b[32m━━━━━━━━━━━━━━━━━━━━\u001b[0m\u001b[37m\u001b[0m \u001b[1m1s\u001b[0m 4ms/step\n"
     ]
    },
    {
     "name": "stderr",
     "output_type": "stream",
     "text": [
      "/var/folders/gy/0vj93nbd4x5bt_bpj2r46w7h0000gn/T/ipykernel_24137/1640273581.py:49: DeprecationWarning: setting an array element with a sequence. This was supported in some cases where the elements are arrays with a single element. For example `np.array([1, np.array([2])], dtype=int)`. In the future this will raise the same ValueError as `np.array([1, [2]], dtype=int)`.\n",
      "  X_train[i]= training_data['rms'][i], training_data['std'][i], training_data['MAD'][i], training_data['sigmaG'][i], training_data['skewness'][i], training_data['von_neumann_ratio'][i], training_data['J_Stetson'][i], training_data['max_power'][i], training_data['freq_at_max_power'][i], training_data['ratio_of_power_at_high_v_low_freq'][i], training_data['max_autocorrelation'][i], training_data['time_of_max_autocorrelation'][i], training_data['SumLSP_10_7_Day_Power'][i], training_data['SumLSP_7_4_Day_Power'][i], training_data['SumLSP_4_1_Day_Power'][i], training_data['SumLSP_1_p5_Day_Power'][i], training_data['Entropy'][i]\n",
      "/var/folders/gy/0vj93nbd4x5bt_bpj2r46w7h0000gn/T/ipykernel_24137/1640273581.py:54: DeprecationWarning: setting an array element with a sequence. This was supported in some cases where the elements are arrays with a single element. For example `np.array([1, np.array([2])], dtype=int)`. In the future this will raise the same ValueError as `np.array([1, [2]], dtype=int)`.\n",
      "  X_valid[i]= validation_data['rms'][i], validation_data['std'][i], validation_data['MAD'][i], validation_data['sigmaG'][i], validation_data['skewness'][i], validation_data['von_neumann_ratio'][i], validation_data['J_Stetson'][i], validation_data['max_power'][i], validation_data['freq_at_max_power'][i], validation_data['ratio_of_power_at_high_v_low_freq'][i], validation_data['max_autocorrelation'][i], validation_data['time_of_max_autocorrelation'][i], validation_data['SumLSP_10_7_Day_Power'][i], validation_data['SumLSP_7_4_Day_Power'][i], validation_data['SumLSP_4_1_Day_Power'][i], validation_data['SumLSP_1_p5_Day_Power'][i], validation_data['Entropy'][i]\n",
      "/var/folders/gy/0vj93nbd4x5bt_bpj2r46w7h0000gn/T/ipykernel_24137/1640273581.py:59: DeprecationWarning: setting an array element with a sequence. This was supported in some cases where the elements are arrays with a single element. For example `np.array([1, np.array([2])], dtype=int)`. In the future this will raise the same ValueError as `np.array([1, [2]], dtype=int)`.\n",
      "  X_test[i]= test_data['rms'][i], test_data['std'][i], test_data['MAD'][i], test_data['sigmaG'][i], test_data['skewness'][i], test_data['von_neumann_ratio'][i], test_data['J_Stetson'][i], test_data['max_power'][i], test_data['freq_at_max_power'][i], test_data['ratio_of_power_at_high_v_low_freq'][i], test_data['max_autocorrelation'][i], test_data['time_of_max_autocorrelation'][i], test_data['SumLSP_10_7_Day_Power'][i], test_data['SumLSP_7_4_Day_Power'][i], test_data['SumLSP_4_1_Day_Power'][i], test_data['SumLSP_1_p5_Day_Power'][i], test_data['Entropy'][i]\n"
     ]
    },
    {
     "name": "stdout",
     "output_type": "stream",
     "text": [
      "\u001b[1m158/158\u001b[0m \u001b[32m━━━━━━━━━━━━━━━━━━━━\u001b[0m\u001b[37m\u001b[0m \u001b[1m0s\u001b[0m 2ms/step\n"
     ]
    },
    {
     "name": "stderr",
     "output_type": "stream",
     "text": [
      "/var/folders/gy/0vj93nbd4x5bt_bpj2r46w7h0000gn/T/ipykernel_24137/1640273581.py:49: DeprecationWarning: setting an array element with a sequence. This was supported in some cases where the elements are arrays with a single element. For example `np.array([1, np.array([2])], dtype=int)`. In the future this will raise the same ValueError as `np.array([1, [2]], dtype=int)`.\n",
      "  X_train[i]= training_data['rms'][i], training_data['std'][i], training_data['MAD'][i], training_data['sigmaG'][i], training_data['skewness'][i], training_data['von_neumann_ratio'][i], training_data['J_Stetson'][i], training_data['max_power'][i], training_data['freq_at_max_power'][i], training_data['ratio_of_power_at_high_v_low_freq'][i], training_data['max_autocorrelation'][i], training_data['time_of_max_autocorrelation'][i], training_data['SumLSP_10_7_Day_Power'][i], training_data['SumLSP_7_4_Day_Power'][i], training_data['SumLSP_4_1_Day_Power'][i], training_data['SumLSP_1_p5_Day_Power'][i], training_data['Entropy'][i]\n",
      "/var/folders/gy/0vj93nbd4x5bt_bpj2r46w7h0000gn/T/ipykernel_24137/1640273581.py:54: DeprecationWarning: setting an array element with a sequence. This was supported in some cases where the elements are arrays with a single element. For example `np.array([1, np.array([2])], dtype=int)`. In the future this will raise the same ValueError as `np.array([1, [2]], dtype=int)`.\n",
      "  X_valid[i]= validation_data['rms'][i], validation_data['std'][i], validation_data['MAD'][i], validation_data['sigmaG'][i], validation_data['skewness'][i], validation_data['von_neumann_ratio'][i], validation_data['J_Stetson'][i], validation_data['max_power'][i], validation_data['freq_at_max_power'][i], validation_data['ratio_of_power_at_high_v_low_freq'][i], validation_data['max_autocorrelation'][i], validation_data['time_of_max_autocorrelation'][i], validation_data['SumLSP_10_7_Day_Power'][i], validation_data['SumLSP_7_4_Day_Power'][i], validation_data['SumLSP_4_1_Day_Power'][i], validation_data['SumLSP_1_p5_Day_Power'][i], validation_data['Entropy'][i]\n",
      "/var/folders/gy/0vj93nbd4x5bt_bpj2r46w7h0000gn/T/ipykernel_24137/1640273581.py:59: DeprecationWarning: setting an array element with a sequence. This was supported in some cases where the elements are arrays with a single element. For example `np.array([1, np.array([2])], dtype=int)`. In the future this will raise the same ValueError as `np.array([1, [2]], dtype=int)`.\n",
      "  X_test[i]= test_data['rms'][i], test_data['std'][i], test_data['MAD'][i], test_data['sigmaG'][i], test_data['skewness'][i], test_data['von_neumann_ratio'][i], test_data['J_Stetson'][i], test_data['max_power'][i], test_data['freq_at_max_power'][i], test_data['ratio_of_power_at_high_v_low_freq'][i], test_data['max_autocorrelation'][i], test_data['time_of_max_autocorrelation'][i], test_data['SumLSP_10_7_Day_Power'][i], test_data['SumLSP_7_4_Day_Power'][i], test_data['SumLSP_4_1_Day_Power'][i], test_data['SumLSP_1_p5_Day_Power'][i], test_data['Entropy'][i]\n"
     ]
    },
    {
     "name": "stdout",
     "output_type": "stream",
     "text": [
      "\u001b[1m142/142\u001b[0m \u001b[32m━━━━━━━━━━━━━━━━━━━━\u001b[0m\u001b[37m\u001b[0m \u001b[1m0s\u001b[0m 2ms/step\n"
     ]
    },
    {
     "name": "stderr",
     "output_type": "stream",
     "text": [
      "/var/folders/gy/0vj93nbd4x5bt_bpj2r46w7h0000gn/T/ipykernel_24137/1640273581.py:49: DeprecationWarning: setting an array element with a sequence. This was supported in some cases where the elements are arrays with a single element. For example `np.array([1, np.array([2])], dtype=int)`. In the future this will raise the same ValueError as `np.array([1, [2]], dtype=int)`.\n",
      "  X_train[i]= training_data['rms'][i], training_data['std'][i], training_data['MAD'][i], training_data['sigmaG'][i], training_data['skewness'][i], training_data['von_neumann_ratio'][i], training_data['J_Stetson'][i], training_data['max_power'][i], training_data['freq_at_max_power'][i], training_data['ratio_of_power_at_high_v_low_freq'][i], training_data['max_autocorrelation'][i], training_data['time_of_max_autocorrelation'][i], training_data['SumLSP_10_7_Day_Power'][i], training_data['SumLSP_7_4_Day_Power'][i], training_data['SumLSP_4_1_Day_Power'][i], training_data['SumLSP_1_p5_Day_Power'][i], training_data['Entropy'][i]\n",
      "/var/folders/gy/0vj93nbd4x5bt_bpj2r46w7h0000gn/T/ipykernel_24137/1640273581.py:54: DeprecationWarning: setting an array element with a sequence. This was supported in some cases where the elements are arrays with a single element. For example `np.array([1, np.array([2])], dtype=int)`. In the future this will raise the same ValueError as `np.array([1, [2]], dtype=int)`.\n",
      "  X_valid[i]= validation_data['rms'][i], validation_data['std'][i], validation_data['MAD'][i], validation_data['sigmaG'][i], validation_data['skewness'][i], validation_data['von_neumann_ratio'][i], validation_data['J_Stetson'][i], validation_data['max_power'][i], validation_data['freq_at_max_power'][i], validation_data['ratio_of_power_at_high_v_low_freq'][i], validation_data['max_autocorrelation'][i], validation_data['time_of_max_autocorrelation'][i], validation_data['SumLSP_10_7_Day_Power'][i], validation_data['SumLSP_7_4_Day_Power'][i], validation_data['SumLSP_4_1_Day_Power'][i], validation_data['SumLSP_1_p5_Day_Power'][i], validation_data['Entropy'][i]\n",
      "/var/folders/gy/0vj93nbd4x5bt_bpj2r46w7h0000gn/T/ipykernel_24137/1640273581.py:59: DeprecationWarning: setting an array element with a sequence. This was supported in some cases where the elements are arrays with a single element. For example `np.array([1, np.array([2])], dtype=int)`. In the future this will raise the same ValueError as `np.array([1, [2]], dtype=int)`.\n",
      "  X_test[i]= test_data['rms'][i], test_data['std'][i], test_data['MAD'][i], test_data['sigmaG'][i], test_data['skewness'][i], test_data['von_neumann_ratio'][i], test_data['J_Stetson'][i], test_data['max_power'][i], test_data['freq_at_max_power'][i], test_data['ratio_of_power_at_high_v_low_freq'][i], test_data['max_autocorrelation'][i], test_data['time_of_max_autocorrelation'][i], test_data['SumLSP_10_7_Day_Power'][i], test_data['SumLSP_7_4_Day_Power'][i], test_data['SumLSP_4_1_Day_Power'][i], test_data['SumLSP_1_p5_Day_Power'][i], test_data['Entropy'][i]\n"
     ]
    },
    {
     "name": "stdout",
     "output_type": "stream",
     "text": [
      "\u001b[1m112/112\u001b[0m \u001b[32m━━━━━━━━━━━━━━━━━━━━\u001b[0m\u001b[37m\u001b[0m \u001b[1m0s\u001b[0m 2ms/step\n"
     ]
    },
    {
     "name": "stderr",
     "output_type": "stream",
     "text": [
      "/var/folders/gy/0vj93nbd4x5bt_bpj2r46w7h0000gn/T/ipykernel_24137/1640273581.py:49: DeprecationWarning: setting an array element with a sequence. This was supported in some cases where the elements are arrays with a single element. For example `np.array([1, np.array([2])], dtype=int)`. In the future this will raise the same ValueError as `np.array([1, [2]], dtype=int)`.\n",
      "  X_train[i]= training_data['rms'][i], training_data['std'][i], training_data['MAD'][i], training_data['sigmaG'][i], training_data['skewness'][i], training_data['von_neumann_ratio'][i], training_data['J_Stetson'][i], training_data['max_power'][i], training_data['freq_at_max_power'][i], training_data['ratio_of_power_at_high_v_low_freq'][i], training_data['max_autocorrelation'][i], training_data['time_of_max_autocorrelation'][i], training_data['SumLSP_10_7_Day_Power'][i], training_data['SumLSP_7_4_Day_Power'][i], training_data['SumLSP_4_1_Day_Power'][i], training_data['SumLSP_1_p5_Day_Power'][i], training_data['Entropy'][i]\n",
      "/var/folders/gy/0vj93nbd4x5bt_bpj2r46w7h0000gn/T/ipykernel_24137/1640273581.py:54: DeprecationWarning: setting an array element with a sequence. This was supported in some cases where the elements are arrays with a single element. For example `np.array([1, np.array([2])], dtype=int)`. In the future this will raise the same ValueError as `np.array([1, [2]], dtype=int)`.\n",
      "  X_valid[i]= validation_data['rms'][i], validation_data['std'][i], validation_data['MAD'][i], validation_data['sigmaG'][i], validation_data['skewness'][i], validation_data['von_neumann_ratio'][i], validation_data['J_Stetson'][i], validation_data['max_power'][i], validation_data['freq_at_max_power'][i], validation_data['ratio_of_power_at_high_v_low_freq'][i], validation_data['max_autocorrelation'][i], validation_data['time_of_max_autocorrelation'][i], validation_data['SumLSP_10_7_Day_Power'][i], validation_data['SumLSP_7_4_Day_Power'][i], validation_data['SumLSP_4_1_Day_Power'][i], validation_data['SumLSP_1_p5_Day_Power'][i], validation_data['Entropy'][i]\n",
      "/var/folders/gy/0vj93nbd4x5bt_bpj2r46w7h0000gn/T/ipykernel_24137/1640273581.py:59: DeprecationWarning: setting an array element with a sequence. This was supported in some cases where the elements are arrays with a single element. For example `np.array([1, np.array([2])], dtype=int)`. In the future this will raise the same ValueError as `np.array([1, [2]], dtype=int)`.\n",
      "  X_test[i]= test_data['rms'][i], test_data['std'][i], test_data['MAD'][i], test_data['sigmaG'][i], test_data['skewness'][i], test_data['von_neumann_ratio'][i], test_data['J_Stetson'][i], test_data['max_power'][i], test_data['freq_at_max_power'][i], test_data['ratio_of_power_at_high_v_low_freq'][i], test_data['max_autocorrelation'][i], test_data['time_of_max_autocorrelation'][i], test_data['SumLSP_10_7_Day_Power'][i], test_data['SumLSP_7_4_Day_Power'][i], test_data['SumLSP_4_1_Day_Power'][i], test_data['SumLSP_1_p5_Day_Power'][i], test_data['Entropy'][i]\n"
     ]
    },
    {
     "name": "stdout",
     "output_type": "stream",
     "text": [
      "\u001b[1m114/114\u001b[0m \u001b[32m━━━━━━━━━━━━━━━━━━━━\u001b[0m\u001b[37m\u001b[0m \u001b[1m0s\u001b[0m 2ms/step\n"
     ]
    },
    {
     "name": "stderr",
     "output_type": "stream",
     "text": [
      "/var/folders/gy/0vj93nbd4x5bt_bpj2r46w7h0000gn/T/ipykernel_24137/1640273581.py:49: DeprecationWarning: setting an array element with a sequence. This was supported in some cases where the elements are arrays with a single element. For example `np.array([1, np.array([2])], dtype=int)`. In the future this will raise the same ValueError as `np.array([1, [2]], dtype=int)`.\n",
      "  X_train[i]= training_data['rms'][i], training_data['std'][i], training_data['MAD'][i], training_data['sigmaG'][i], training_data['skewness'][i], training_data['von_neumann_ratio'][i], training_data['J_Stetson'][i], training_data['max_power'][i], training_data['freq_at_max_power'][i], training_data['ratio_of_power_at_high_v_low_freq'][i], training_data['max_autocorrelation'][i], training_data['time_of_max_autocorrelation'][i], training_data['SumLSP_10_7_Day_Power'][i], training_data['SumLSP_7_4_Day_Power'][i], training_data['SumLSP_4_1_Day_Power'][i], training_data['SumLSP_1_p5_Day_Power'][i], training_data['Entropy'][i]\n",
      "/var/folders/gy/0vj93nbd4x5bt_bpj2r46w7h0000gn/T/ipykernel_24137/1640273581.py:54: DeprecationWarning: setting an array element with a sequence. This was supported in some cases where the elements are arrays with a single element. For example `np.array([1, np.array([2])], dtype=int)`. In the future this will raise the same ValueError as `np.array([1, [2]], dtype=int)`.\n",
      "  X_valid[i]= validation_data['rms'][i], validation_data['std'][i], validation_data['MAD'][i], validation_data['sigmaG'][i], validation_data['skewness'][i], validation_data['von_neumann_ratio'][i], validation_data['J_Stetson'][i], validation_data['max_power'][i], validation_data['freq_at_max_power'][i], validation_data['ratio_of_power_at_high_v_low_freq'][i], validation_data['max_autocorrelation'][i], validation_data['time_of_max_autocorrelation'][i], validation_data['SumLSP_10_7_Day_Power'][i], validation_data['SumLSP_7_4_Day_Power'][i], validation_data['SumLSP_4_1_Day_Power'][i], validation_data['SumLSP_1_p5_Day_Power'][i], validation_data['Entropy'][i]\n",
      "/var/folders/gy/0vj93nbd4x5bt_bpj2r46w7h0000gn/T/ipykernel_24137/1640273581.py:59: DeprecationWarning: setting an array element with a sequence. This was supported in some cases where the elements are arrays with a single element. For example `np.array([1, np.array([2])], dtype=int)`. In the future this will raise the same ValueError as `np.array([1, [2]], dtype=int)`.\n",
      "  X_test[i]= test_data['rms'][i], test_data['std'][i], test_data['MAD'][i], test_data['sigmaG'][i], test_data['skewness'][i], test_data['von_neumann_ratio'][i], test_data['J_Stetson'][i], test_data['max_power'][i], test_data['freq_at_max_power'][i], test_data['ratio_of_power_at_high_v_low_freq'][i], test_data['max_autocorrelation'][i], test_data['time_of_max_autocorrelation'][i], test_data['SumLSP_10_7_Day_Power'][i], test_data['SumLSP_7_4_Day_Power'][i], test_data['SumLSP_4_1_Day_Power'][i], test_data['SumLSP_1_p5_Day_Power'][i], test_data['Entropy'][i]\n"
     ]
    },
    {
     "name": "stdout",
     "output_type": "stream",
     "text": [
      "\u001b[1m89/89\u001b[0m \u001b[32m━━━━━━━━━━━━━━━━━━━━\u001b[0m\u001b[37m\u001b[0m \u001b[1m0s\u001b[0m 2ms/step\n"
     ]
    },
    {
     "name": "stderr",
     "output_type": "stream",
     "text": [
      "/var/folders/gy/0vj93nbd4x5bt_bpj2r46w7h0000gn/T/ipykernel_24137/1640273581.py:49: DeprecationWarning: setting an array element with a sequence. This was supported in some cases where the elements are arrays with a single element. For example `np.array([1, np.array([2])], dtype=int)`. In the future this will raise the same ValueError as `np.array([1, [2]], dtype=int)`.\n",
      "  X_train[i]= training_data['rms'][i], training_data['std'][i], training_data['MAD'][i], training_data['sigmaG'][i], training_data['skewness'][i], training_data['von_neumann_ratio'][i], training_data['J_Stetson'][i], training_data['max_power'][i], training_data['freq_at_max_power'][i], training_data['ratio_of_power_at_high_v_low_freq'][i], training_data['max_autocorrelation'][i], training_data['time_of_max_autocorrelation'][i], training_data['SumLSP_10_7_Day_Power'][i], training_data['SumLSP_7_4_Day_Power'][i], training_data['SumLSP_4_1_Day_Power'][i], training_data['SumLSP_1_p5_Day_Power'][i], training_data['Entropy'][i]\n",
      "/var/folders/gy/0vj93nbd4x5bt_bpj2r46w7h0000gn/T/ipykernel_24137/1640273581.py:54: DeprecationWarning: setting an array element with a sequence. This was supported in some cases where the elements are arrays with a single element. For example `np.array([1, np.array([2])], dtype=int)`. In the future this will raise the same ValueError as `np.array([1, [2]], dtype=int)`.\n",
      "  X_valid[i]= validation_data['rms'][i], validation_data['std'][i], validation_data['MAD'][i], validation_data['sigmaG'][i], validation_data['skewness'][i], validation_data['von_neumann_ratio'][i], validation_data['J_Stetson'][i], validation_data['max_power'][i], validation_data['freq_at_max_power'][i], validation_data['ratio_of_power_at_high_v_low_freq'][i], validation_data['max_autocorrelation'][i], validation_data['time_of_max_autocorrelation'][i], validation_data['SumLSP_10_7_Day_Power'][i], validation_data['SumLSP_7_4_Day_Power'][i], validation_data['SumLSP_4_1_Day_Power'][i], validation_data['SumLSP_1_p5_Day_Power'][i], validation_data['Entropy'][i]\n",
      "/var/folders/gy/0vj93nbd4x5bt_bpj2r46w7h0000gn/T/ipykernel_24137/1640273581.py:59: DeprecationWarning: setting an array element with a sequence. This was supported in some cases where the elements are arrays with a single element. For example `np.array([1, np.array([2])], dtype=int)`. In the future this will raise the same ValueError as `np.array([1, [2]], dtype=int)`.\n",
      "  X_test[i]= test_data['rms'][i], test_data['std'][i], test_data['MAD'][i], test_data['sigmaG'][i], test_data['skewness'][i], test_data['von_neumann_ratio'][i], test_data['J_Stetson'][i], test_data['max_power'][i], test_data['freq_at_max_power'][i], test_data['ratio_of_power_at_high_v_low_freq'][i], test_data['max_autocorrelation'][i], test_data['time_of_max_autocorrelation'][i], test_data['SumLSP_10_7_Day_Power'][i], test_data['SumLSP_7_4_Day_Power'][i], test_data['SumLSP_4_1_Day_Power'][i], test_data['SumLSP_1_p5_Day_Power'][i], test_data['Entropy'][i]\n"
     ]
    },
    {
     "name": "stdout",
     "output_type": "stream",
     "text": [
      "\u001b[1m147/147\u001b[0m \u001b[32m━━━━━━━━━━━━━━━━━━━━\u001b[0m\u001b[37m\u001b[0m \u001b[1m0s\u001b[0m 2ms/step\n"
     ]
    },
    {
     "name": "stderr",
     "output_type": "stream",
     "text": [
      "/var/folders/gy/0vj93nbd4x5bt_bpj2r46w7h0000gn/T/ipykernel_24137/1640273581.py:49: DeprecationWarning: setting an array element with a sequence. This was supported in some cases where the elements are arrays with a single element. For example `np.array([1, np.array([2])], dtype=int)`. In the future this will raise the same ValueError as `np.array([1, [2]], dtype=int)`.\n",
      "  X_train[i]= training_data['rms'][i], training_data['std'][i], training_data['MAD'][i], training_data['sigmaG'][i], training_data['skewness'][i], training_data['von_neumann_ratio'][i], training_data['J_Stetson'][i], training_data['max_power'][i], training_data['freq_at_max_power'][i], training_data['ratio_of_power_at_high_v_low_freq'][i], training_data['max_autocorrelation'][i], training_data['time_of_max_autocorrelation'][i], training_data['SumLSP_10_7_Day_Power'][i], training_data['SumLSP_7_4_Day_Power'][i], training_data['SumLSP_4_1_Day_Power'][i], training_data['SumLSP_1_p5_Day_Power'][i], training_data['Entropy'][i]\n",
      "/var/folders/gy/0vj93nbd4x5bt_bpj2r46w7h0000gn/T/ipykernel_24137/1640273581.py:54: DeprecationWarning: setting an array element with a sequence. This was supported in some cases where the elements are arrays with a single element. For example `np.array([1, np.array([2])], dtype=int)`. In the future this will raise the same ValueError as `np.array([1, [2]], dtype=int)`.\n",
      "  X_valid[i]= validation_data['rms'][i], validation_data['std'][i], validation_data['MAD'][i], validation_data['sigmaG'][i], validation_data['skewness'][i], validation_data['von_neumann_ratio'][i], validation_data['J_Stetson'][i], validation_data['max_power'][i], validation_data['freq_at_max_power'][i], validation_data['ratio_of_power_at_high_v_low_freq'][i], validation_data['max_autocorrelation'][i], validation_data['time_of_max_autocorrelation'][i], validation_data['SumLSP_10_7_Day_Power'][i], validation_data['SumLSP_7_4_Day_Power'][i], validation_data['SumLSP_4_1_Day_Power'][i], validation_data['SumLSP_1_p5_Day_Power'][i], validation_data['Entropy'][i]\n",
      "/var/folders/gy/0vj93nbd4x5bt_bpj2r46w7h0000gn/T/ipykernel_24137/1640273581.py:59: DeprecationWarning: setting an array element with a sequence. This was supported in some cases where the elements are arrays with a single element. For example `np.array([1, np.array([2])], dtype=int)`. In the future this will raise the same ValueError as `np.array([1, [2]], dtype=int)`.\n",
      "  X_test[i]= test_data['rms'][i], test_data['std'][i], test_data['MAD'][i], test_data['sigmaG'][i], test_data['skewness'][i], test_data['von_neumann_ratio'][i], test_data['J_Stetson'][i], test_data['max_power'][i], test_data['freq_at_max_power'][i], test_data['ratio_of_power_at_high_v_low_freq'][i], test_data['max_autocorrelation'][i], test_data['time_of_max_autocorrelation'][i], test_data['SumLSP_10_7_Day_Power'][i], test_data['SumLSP_7_4_Day_Power'][i], test_data['SumLSP_4_1_Day_Power'][i], test_data['SumLSP_1_p5_Day_Power'][i], test_data['Entropy'][i]\n"
     ]
    },
    {
     "name": "stdout",
     "output_type": "stream",
     "text": [
      "\u001b[1m115/115\u001b[0m \u001b[32m━━━━━━━━━━━━━━━━━━━━\u001b[0m\u001b[37m\u001b[0m \u001b[1m0s\u001b[0m 2ms/step\n"
     ]
    },
    {
     "name": "stderr",
     "output_type": "stream",
     "text": [
      "/var/folders/gy/0vj93nbd4x5bt_bpj2r46w7h0000gn/T/ipykernel_24137/1640273581.py:49: DeprecationWarning: setting an array element with a sequence. This was supported in some cases where the elements are arrays with a single element. For example `np.array([1, np.array([2])], dtype=int)`. In the future this will raise the same ValueError as `np.array([1, [2]], dtype=int)`.\n",
      "  X_train[i]= training_data['rms'][i], training_data['std'][i], training_data['MAD'][i], training_data['sigmaG'][i], training_data['skewness'][i], training_data['von_neumann_ratio'][i], training_data['J_Stetson'][i], training_data['max_power'][i], training_data['freq_at_max_power'][i], training_data['ratio_of_power_at_high_v_low_freq'][i], training_data['max_autocorrelation'][i], training_data['time_of_max_autocorrelation'][i], training_data['SumLSP_10_7_Day_Power'][i], training_data['SumLSP_7_4_Day_Power'][i], training_data['SumLSP_4_1_Day_Power'][i], training_data['SumLSP_1_p5_Day_Power'][i], training_data['Entropy'][i]\n",
      "/var/folders/gy/0vj93nbd4x5bt_bpj2r46w7h0000gn/T/ipykernel_24137/1640273581.py:54: DeprecationWarning: setting an array element with a sequence. This was supported in some cases where the elements are arrays with a single element. For example `np.array([1, np.array([2])], dtype=int)`. In the future this will raise the same ValueError as `np.array([1, [2]], dtype=int)`.\n",
      "  X_valid[i]= validation_data['rms'][i], validation_data['std'][i], validation_data['MAD'][i], validation_data['sigmaG'][i], validation_data['skewness'][i], validation_data['von_neumann_ratio'][i], validation_data['J_Stetson'][i], validation_data['max_power'][i], validation_data['freq_at_max_power'][i], validation_data['ratio_of_power_at_high_v_low_freq'][i], validation_data['max_autocorrelation'][i], validation_data['time_of_max_autocorrelation'][i], validation_data['SumLSP_10_7_Day_Power'][i], validation_data['SumLSP_7_4_Day_Power'][i], validation_data['SumLSP_4_1_Day_Power'][i], validation_data['SumLSP_1_p5_Day_Power'][i], validation_data['Entropy'][i]\n",
      "/var/folders/gy/0vj93nbd4x5bt_bpj2r46w7h0000gn/T/ipykernel_24137/1640273581.py:59: DeprecationWarning: setting an array element with a sequence. This was supported in some cases where the elements are arrays with a single element. For example `np.array([1, np.array([2])], dtype=int)`. In the future this will raise the same ValueError as `np.array([1, [2]], dtype=int)`.\n",
      "  X_test[i]= test_data['rms'][i], test_data['std'][i], test_data['MAD'][i], test_data['sigmaG'][i], test_data['skewness'][i], test_data['von_neumann_ratio'][i], test_data['J_Stetson'][i], test_data['max_power'][i], test_data['freq_at_max_power'][i], test_data['ratio_of_power_at_high_v_low_freq'][i], test_data['max_autocorrelation'][i], test_data['time_of_max_autocorrelation'][i], test_data['SumLSP_10_7_Day_Power'][i], test_data['SumLSP_7_4_Day_Power'][i], test_data['SumLSP_4_1_Day_Power'][i], test_data['SumLSP_1_p5_Day_Power'][i], test_data['Entropy'][i]\n"
     ]
    },
    {
     "name": "stdout",
     "output_type": "stream",
     "text": [
      "\u001b[1m136/136\u001b[0m \u001b[32m━━━━━━━━━━━━━━━━━━━━\u001b[0m\u001b[37m\u001b[0m \u001b[1m0s\u001b[0m 2ms/step\n"
     ]
    },
    {
     "name": "stderr",
     "output_type": "stream",
     "text": [
      "/var/folders/gy/0vj93nbd4x5bt_bpj2r46w7h0000gn/T/ipykernel_24137/1640273581.py:49: DeprecationWarning: setting an array element with a sequence. This was supported in some cases where the elements are arrays with a single element. For example `np.array([1, np.array([2])], dtype=int)`. In the future this will raise the same ValueError as `np.array([1, [2]], dtype=int)`.\n",
      "  X_train[i]= training_data['rms'][i], training_data['std'][i], training_data['MAD'][i], training_data['sigmaG'][i], training_data['skewness'][i], training_data['von_neumann_ratio'][i], training_data['J_Stetson'][i], training_data['max_power'][i], training_data['freq_at_max_power'][i], training_data['ratio_of_power_at_high_v_low_freq'][i], training_data['max_autocorrelation'][i], training_data['time_of_max_autocorrelation'][i], training_data['SumLSP_10_7_Day_Power'][i], training_data['SumLSP_7_4_Day_Power'][i], training_data['SumLSP_4_1_Day_Power'][i], training_data['SumLSP_1_p5_Day_Power'][i], training_data['Entropy'][i]\n",
      "/var/folders/gy/0vj93nbd4x5bt_bpj2r46w7h0000gn/T/ipykernel_24137/1640273581.py:54: DeprecationWarning: setting an array element with a sequence. This was supported in some cases where the elements are arrays with a single element. For example `np.array([1, np.array([2])], dtype=int)`. In the future this will raise the same ValueError as `np.array([1, [2]], dtype=int)`.\n",
      "  X_valid[i]= validation_data['rms'][i], validation_data['std'][i], validation_data['MAD'][i], validation_data['sigmaG'][i], validation_data['skewness'][i], validation_data['von_neumann_ratio'][i], validation_data['J_Stetson'][i], validation_data['max_power'][i], validation_data['freq_at_max_power'][i], validation_data['ratio_of_power_at_high_v_low_freq'][i], validation_data['max_autocorrelation'][i], validation_data['time_of_max_autocorrelation'][i], validation_data['SumLSP_10_7_Day_Power'][i], validation_data['SumLSP_7_4_Day_Power'][i], validation_data['SumLSP_4_1_Day_Power'][i], validation_data['SumLSP_1_p5_Day_Power'][i], validation_data['Entropy'][i]\n",
      "/var/folders/gy/0vj93nbd4x5bt_bpj2r46w7h0000gn/T/ipykernel_24137/1640273581.py:59: DeprecationWarning: setting an array element with a sequence. This was supported in some cases where the elements are arrays with a single element. For example `np.array([1, np.array([2])], dtype=int)`. In the future this will raise the same ValueError as `np.array([1, [2]], dtype=int)`.\n",
      "  X_test[i]= test_data['rms'][i], test_data['std'][i], test_data['MAD'][i], test_data['sigmaG'][i], test_data['skewness'][i], test_data['von_neumann_ratio'][i], test_data['J_Stetson'][i], test_data['max_power'][i], test_data['freq_at_max_power'][i], test_data['ratio_of_power_at_high_v_low_freq'][i], test_data['max_autocorrelation'][i], test_data['time_of_max_autocorrelation'][i], test_data['SumLSP_10_7_Day_Power'][i], test_data['SumLSP_7_4_Day_Power'][i], test_data['SumLSP_4_1_Day_Power'][i], test_data['SumLSP_1_p5_Day_Power'][i], test_data['Entropy'][i]\n"
     ]
    },
    {
     "name": "stdout",
     "output_type": "stream",
     "text": [
      "\u001b[1m168/168\u001b[0m \u001b[32m━━━━━━━━━━━━━━━━━━━━\u001b[0m\u001b[37m\u001b[0m \u001b[1m0s\u001b[0m 2ms/step\n"
     ]
    },
    {
     "name": "stderr",
     "output_type": "stream",
     "text": [
      "/var/folders/gy/0vj93nbd4x5bt_bpj2r46w7h0000gn/T/ipykernel_24137/1640273581.py:49: DeprecationWarning: setting an array element with a sequence. This was supported in some cases where the elements are arrays with a single element. For example `np.array([1, np.array([2])], dtype=int)`. In the future this will raise the same ValueError as `np.array([1, [2]], dtype=int)`.\n",
      "  X_train[i]= training_data['rms'][i], training_data['std'][i], training_data['MAD'][i], training_data['sigmaG'][i], training_data['skewness'][i], training_data['von_neumann_ratio'][i], training_data['J_Stetson'][i], training_data['max_power'][i], training_data['freq_at_max_power'][i], training_data['ratio_of_power_at_high_v_low_freq'][i], training_data['max_autocorrelation'][i], training_data['time_of_max_autocorrelation'][i], training_data['SumLSP_10_7_Day_Power'][i], training_data['SumLSP_7_4_Day_Power'][i], training_data['SumLSP_4_1_Day_Power'][i], training_data['SumLSP_1_p5_Day_Power'][i], training_data['Entropy'][i]\n",
      "/var/folders/gy/0vj93nbd4x5bt_bpj2r46w7h0000gn/T/ipykernel_24137/1640273581.py:54: DeprecationWarning: setting an array element with a sequence. This was supported in some cases where the elements are arrays with a single element. For example `np.array([1, np.array([2])], dtype=int)`. In the future this will raise the same ValueError as `np.array([1, [2]], dtype=int)`.\n",
      "  X_valid[i]= validation_data['rms'][i], validation_data['std'][i], validation_data['MAD'][i], validation_data['sigmaG'][i], validation_data['skewness'][i], validation_data['von_neumann_ratio'][i], validation_data['J_Stetson'][i], validation_data['max_power'][i], validation_data['freq_at_max_power'][i], validation_data['ratio_of_power_at_high_v_low_freq'][i], validation_data['max_autocorrelation'][i], validation_data['time_of_max_autocorrelation'][i], validation_data['SumLSP_10_7_Day_Power'][i], validation_data['SumLSP_7_4_Day_Power'][i], validation_data['SumLSP_4_1_Day_Power'][i], validation_data['SumLSP_1_p5_Day_Power'][i], validation_data['Entropy'][i]\n",
      "/var/folders/gy/0vj93nbd4x5bt_bpj2r46w7h0000gn/T/ipykernel_24137/1640273581.py:59: DeprecationWarning: setting an array element with a sequence. This was supported in some cases where the elements are arrays with a single element. For example `np.array([1, np.array([2])], dtype=int)`. In the future this will raise the same ValueError as `np.array([1, [2]], dtype=int)`.\n",
      "  X_test[i]= test_data['rms'][i], test_data['std'][i], test_data['MAD'][i], test_data['sigmaG'][i], test_data['skewness'][i], test_data['von_neumann_ratio'][i], test_data['J_Stetson'][i], test_data['max_power'][i], test_data['freq_at_max_power'][i], test_data['ratio_of_power_at_high_v_low_freq'][i], test_data['max_autocorrelation'][i], test_data['time_of_max_autocorrelation'][i], test_data['SumLSP_10_7_Day_Power'][i], test_data['SumLSP_7_4_Day_Power'][i], test_data['SumLSP_4_1_Day_Power'][i], test_data['SumLSP_1_p5_Day_Power'][i], test_data['Entropy'][i]\n"
     ]
    },
    {
     "name": "stdout",
     "output_type": "stream",
     "text": [
      "\u001b[1m96/96\u001b[0m \u001b[32m━━━━━━━━━━━━━━━━━━━━\u001b[0m\u001b[37m\u001b[0m \u001b[1m0s\u001b[0m 2ms/step\n"
     ]
    },
    {
     "name": "stderr",
     "output_type": "stream",
     "text": [
      "/var/folders/gy/0vj93nbd4x5bt_bpj2r46w7h0000gn/T/ipykernel_24137/1640273581.py:49: DeprecationWarning: setting an array element with a sequence. This was supported in some cases where the elements are arrays with a single element. For example `np.array([1, np.array([2])], dtype=int)`. In the future this will raise the same ValueError as `np.array([1, [2]], dtype=int)`.\n",
      "  X_train[i]= training_data['rms'][i], training_data['std'][i], training_data['MAD'][i], training_data['sigmaG'][i], training_data['skewness'][i], training_data['von_neumann_ratio'][i], training_data['J_Stetson'][i], training_data['max_power'][i], training_data['freq_at_max_power'][i], training_data['ratio_of_power_at_high_v_low_freq'][i], training_data['max_autocorrelation'][i], training_data['time_of_max_autocorrelation'][i], training_data['SumLSP_10_7_Day_Power'][i], training_data['SumLSP_7_4_Day_Power'][i], training_data['SumLSP_4_1_Day_Power'][i], training_data['SumLSP_1_p5_Day_Power'][i], training_data['Entropy'][i]\n",
      "/var/folders/gy/0vj93nbd4x5bt_bpj2r46w7h0000gn/T/ipykernel_24137/1640273581.py:54: DeprecationWarning: setting an array element with a sequence. This was supported in some cases where the elements are arrays with a single element. For example `np.array([1, np.array([2])], dtype=int)`. In the future this will raise the same ValueError as `np.array([1, [2]], dtype=int)`.\n",
      "  X_valid[i]= validation_data['rms'][i], validation_data['std'][i], validation_data['MAD'][i], validation_data['sigmaG'][i], validation_data['skewness'][i], validation_data['von_neumann_ratio'][i], validation_data['J_Stetson'][i], validation_data['max_power'][i], validation_data['freq_at_max_power'][i], validation_data['ratio_of_power_at_high_v_low_freq'][i], validation_data['max_autocorrelation'][i], validation_data['time_of_max_autocorrelation'][i], validation_data['SumLSP_10_7_Day_Power'][i], validation_data['SumLSP_7_4_Day_Power'][i], validation_data['SumLSP_4_1_Day_Power'][i], validation_data['SumLSP_1_p5_Day_Power'][i], validation_data['Entropy'][i]\n",
      "/var/folders/gy/0vj93nbd4x5bt_bpj2r46w7h0000gn/T/ipykernel_24137/1640273581.py:59: DeprecationWarning: setting an array element with a sequence. This was supported in some cases where the elements are arrays with a single element. For example `np.array([1, np.array([2])], dtype=int)`. In the future this will raise the same ValueError as `np.array([1, [2]], dtype=int)`.\n",
      "  X_test[i]= test_data['rms'][i], test_data['std'][i], test_data['MAD'][i], test_data['sigmaG'][i], test_data['skewness'][i], test_data['von_neumann_ratio'][i], test_data['J_Stetson'][i], test_data['max_power'][i], test_data['freq_at_max_power'][i], test_data['ratio_of_power_at_high_v_low_freq'][i], test_data['max_autocorrelation'][i], test_data['time_of_max_autocorrelation'][i], test_data['SumLSP_10_7_Day_Power'][i], test_data['SumLSP_7_4_Day_Power'][i], test_data['SumLSP_4_1_Day_Power'][i], test_data['SumLSP_1_p5_Day_Power'][i], test_data['Entropy'][i]\n"
     ]
    },
    {
     "name": "stdout",
     "output_type": "stream",
     "text": [
      "\u001b[1m132/132\u001b[0m \u001b[32m━━━━━━━━━━━━━━━━━━━━\u001b[0m\u001b[37m\u001b[0m \u001b[1m0s\u001b[0m 2ms/step\n"
     ]
    },
    {
     "name": "stderr",
     "output_type": "stream",
     "text": [
      "/var/folders/gy/0vj93nbd4x5bt_bpj2r46w7h0000gn/T/ipykernel_24137/1640273581.py:49: DeprecationWarning: setting an array element with a sequence. This was supported in some cases where the elements are arrays with a single element. For example `np.array([1, np.array([2])], dtype=int)`. In the future this will raise the same ValueError as `np.array([1, [2]], dtype=int)`.\n",
      "  X_train[i]= training_data['rms'][i], training_data['std'][i], training_data['MAD'][i], training_data['sigmaG'][i], training_data['skewness'][i], training_data['von_neumann_ratio'][i], training_data['J_Stetson'][i], training_data['max_power'][i], training_data['freq_at_max_power'][i], training_data['ratio_of_power_at_high_v_low_freq'][i], training_data['max_autocorrelation'][i], training_data['time_of_max_autocorrelation'][i], training_data['SumLSP_10_7_Day_Power'][i], training_data['SumLSP_7_4_Day_Power'][i], training_data['SumLSP_4_1_Day_Power'][i], training_data['SumLSP_1_p5_Day_Power'][i], training_data['Entropy'][i]\n",
      "/var/folders/gy/0vj93nbd4x5bt_bpj2r46w7h0000gn/T/ipykernel_24137/1640273581.py:54: DeprecationWarning: setting an array element with a sequence. This was supported in some cases where the elements are arrays with a single element. For example `np.array([1, np.array([2])], dtype=int)`. In the future this will raise the same ValueError as `np.array([1, [2]], dtype=int)`.\n",
      "  X_valid[i]= validation_data['rms'][i], validation_data['std'][i], validation_data['MAD'][i], validation_data['sigmaG'][i], validation_data['skewness'][i], validation_data['von_neumann_ratio'][i], validation_data['J_Stetson'][i], validation_data['max_power'][i], validation_data['freq_at_max_power'][i], validation_data['ratio_of_power_at_high_v_low_freq'][i], validation_data['max_autocorrelation'][i], validation_data['time_of_max_autocorrelation'][i], validation_data['SumLSP_10_7_Day_Power'][i], validation_data['SumLSP_7_4_Day_Power'][i], validation_data['SumLSP_4_1_Day_Power'][i], validation_data['SumLSP_1_p5_Day_Power'][i], validation_data['Entropy'][i]\n",
      "/var/folders/gy/0vj93nbd4x5bt_bpj2r46w7h0000gn/T/ipykernel_24137/1640273581.py:59: DeprecationWarning: setting an array element with a sequence. This was supported in some cases where the elements are arrays with a single element. For example `np.array([1, np.array([2])], dtype=int)`. In the future this will raise the same ValueError as `np.array([1, [2]], dtype=int)`.\n",
      "  X_test[i]= test_data['rms'][i], test_data['std'][i], test_data['MAD'][i], test_data['sigmaG'][i], test_data['skewness'][i], test_data['von_neumann_ratio'][i], test_data['J_Stetson'][i], test_data['max_power'][i], test_data['freq_at_max_power'][i], test_data['ratio_of_power_at_high_v_low_freq'][i], test_data['max_autocorrelation'][i], test_data['time_of_max_autocorrelation'][i], test_data['SumLSP_10_7_Day_Power'][i], test_data['SumLSP_7_4_Day_Power'][i], test_data['SumLSP_4_1_Day_Power'][i], test_data['SumLSP_1_p5_Day_Power'][i], test_data['Entropy'][i]\n"
     ]
    },
    {
     "name": "stdout",
     "output_type": "stream",
     "text": [
      "\u001b[1m114/114\u001b[0m \u001b[32m━━━━━━━━━━━━━━━━━━━━\u001b[0m\u001b[37m\u001b[0m \u001b[1m0s\u001b[0m 2ms/step\n"
     ]
    },
    {
     "name": "stderr",
     "output_type": "stream",
     "text": [
      "/var/folders/gy/0vj93nbd4x5bt_bpj2r46w7h0000gn/T/ipykernel_24137/1640273581.py:49: DeprecationWarning: setting an array element with a sequence. This was supported in some cases where the elements are arrays with a single element. For example `np.array([1, np.array([2])], dtype=int)`. In the future this will raise the same ValueError as `np.array([1, [2]], dtype=int)`.\n",
      "  X_train[i]= training_data['rms'][i], training_data['std'][i], training_data['MAD'][i], training_data['sigmaG'][i], training_data['skewness'][i], training_data['von_neumann_ratio'][i], training_data['J_Stetson'][i], training_data['max_power'][i], training_data['freq_at_max_power'][i], training_data['ratio_of_power_at_high_v_low_freq'][i], training_data['max_autocorrelation'][i], training_data['time_of_max_autocorrelation'][i], training_data['SumLSP_10_7_Day_Power'][i], training_data['SumLSP_7_4_Day_Power'][i], training_data['SumLSP_4_1_Day_Power'][i], training_data['SumLSP_1_p5_Day_Power'][i], training_data['Entropy'][i]\n",
      "/var/folders/gy/0vj93nbd4x5bt_bpj2r46w7h0000gn/T/ipykernel_24137/1640273581.py:54: DeprecationWarning: setting an array element with a sequence. This was supported in some cases where the elements are arrays with a single element. For example `np.array([1, np.array([2])], dtype=int)`. In the future this will raise the same ValueError as `np.array([1, [2]], dtype=int)`.\n",
      "  X_valid[i]= validation_data['rms'][i], validation_data['std'][i], validation_data['MAD'][i], validation_data['sigmaG'][i], validation_data['skewness'][i], validation_data['von_neumann_ratio'][i], validation_data['J_Stetson'][i], validation_data['max_power'][i], validation_data['freq_at_max_power'][i], validation_data['ratio_of_power_at_high_v_low_freq'][i], validation_data['max_autocorrelation'][i], validation_data['time_of_max_autocorrelation'][i], validation_data['SumLSP_10_7_Day_Power'][i], validation_data['SumLSP_7_4_Day_Power'][i], validation_data['SumLSP_4_1_Day_Power'][i], validation_data['SumLSP_1_p5_Day_Power'][i], validation_data['Entropy'][i]\n",
      "/var/folders/gy/0vj93nbd4x5bt_bpj2r46w7h0000gn/T/ipykernel_24137/1640273581.py:59: DeprecationWarning: setting an array element with a sequence. This was supported in some cases where the elements are arrays with a single element. For example `np.array([1, np.array([2])], dtype=int)`. In the future this will raise the same ValueError as `np.array([1, [2]], dtype=int)`.\n",
      "  X_test[i]= test_data['rms'][i], test_data['std'][i], test_data['MAD'][i], test_data['sigmaG'][i], test_data['skewness'][i], test_data['von_neumann_ratio'][i], test_data['J_Stetson'][i], test_data['max_power'][i], test_data['freq_at_max_power'][i], test_data['ratio_of_power_at_high_v_low_freq'][i], test_data['max_autocorrelation'][i], test_data['time_of_max_autocorrelation'][i], test_data['SumLSP_10_7_Day_Power'][i], test_data['SumLSP_7_4_Day_Power'][i], test_data['SumLSP_4_1_Day_Power'][i], test_data['SumLSP_1_p5_Day_Power'][i], test_data['Entropy'][i]\n"
     ]
    },
    {
     "name": "stdout",
     "output_type": "stream",
     "text": [
      "\u001b[1m169/169\u001b[0m \u001b[32m━━━━━━━━━━━━━━━━━━━━\u001b[0m\u001b[37m\u001b[0m \u001b[1m0s\u001b[0m 2ms/step\n"
     ]
    },
    {
     "name": "stderr",
     "output_type": "stream",
     "text": [
      "/var/folders/gy/0vj93nbd4x5bt_bpj2r46w7h0000gn/T/ipykernel_24137/1640273581.py:49: DeprecationWarning: setting an array element with a sequence. This was supported in some cases where the elements are arrays with a single element. For example `np.array([1, np.array([2])], dtype=int)`. In the future this will raise the same ValueError as `np.array([1, [2]], dtype=int)`.\n",
      "  X_train[i]= training_data['rms'][i], training_data['std'][i], training_data['MAD'][i], training_data['sigmaG'][i], training_data['skewness'][i], training_data['von_neumann_ratio'][i], training_data['J_Stetson'][i], training_data['max_power'][i], training_data['freq_at_max_power'][i], training_data['ratio_of_power_at_high_v_low_freq'][i], training_data['max_autocorrelation'][i], training_data['time_of_max_autocorrelation'][i], training_data['SumLSP_10_7_Day_Power'][i], training_data['SumLSP_7_4_Day_Power'][i], training_data['SumLSP_4_1_Day_Power'][i], training_data['SumLSP_1_p5_Day_Power'][i], training_data['Entropy'][i]\n",
      "/var/folders/gy/0vj93nbd4x5bt_bpj2r46w7h0000gn/T/ipykernel_24137/1640273581.py:54: DeprecationWarning: setting an array element with a sequence. This was supported in some cases where the elements are arrays with a single element. For example `np.array([1, np.array([2])], dtype=int)`. In the future this will raise the same ValueError as `np.array([1, [2]], dtype=int)`.\n",
      "  X_valid[i]= validation_data['rms'][i], validation_data['std'][i], validation_data['MAD'][i], validation_data['sigmaG'][i], validation_data['skewness'][i], validation_data['von_neumann_ratio'][i], validation_data['J_Stetson'][i], validation_data['max_power'][i], validation_data['freq_at_max_power'][i], validation_data['ratio_of_power_at_high_v_low_freq'][i], validation_data['max_autocorrelation'][i], validation_data['time_of_max_autocorrelation'][i], validation_data['SumLSP_10_7_Day_Power'][i], validation_data['SumLSP_7_4_Day_Power'][i], validation_data['SumLSP_4_1_Day_Power'][i], validation_data['SumLSP_1_p5_Day_Power'][i], validation_data['Entropy'][i]\n",
      "/var/folders/gy/0vj93nbd4x5bt_bpj2r46w7h0000gn/T/ipykernel_24137/1640273581.py:59: DeprecationWarning: setting an array element with a sequence. This was supported in some cases where the elements are arrays with a single element. For example `np.array([1, np.array([2])], dtype=int)`. In the future this will raise the same ValueError as `np.array([1, [2]], dtype=int)`.\n",
      "  X_test[i]= test_data['rms'][i], test_data['std'][i], test_data['MAD'][i], test_data['sigmaG'][i], test_data['skewness'][i], test_data['von_neumann_ratio'][i], test_data['J_Stetson'][i], test_data['max_power'][i], test_data['freq_at_max_power'][i], test_data['ratio_of_power_at_high_v_low_freq'][i], test_data['max_autocorrelation'][i], test_data['time_of_max_autocorrelation'][i], test_data['SumLSP_10_7_Day_Power'][i], test_data['SumLSP_7_4_Day_Power'][i], test_data['SumLSP_4_1_Day_Power'][i], test_data['SumLSP_1_p5_Day_Power'][i], test_data['Entropy'][i]\n"
     ]
    },
    {
     "name": "stdout",
     "output_type": "stream",
     "text": [
      "\u001b[1m142/142\u001b[0m \u001b[32m━━━━━━━━━━━━━━━━━━━━\u001b[0m\u001b[37m\u001b[0m \u001b[1m0s\u001b[0m 2ms/step\n"
     ]
    },
    {
     "name": "stderr",
     "output_type": "stream",
     "text": [
      "/var/folders/gy/0vj93nbd4x5bt_bpj2r46w7h0000gn/T/ipykernel_24137/1640273581.py:49: DeprecationWarning: setting an array element with a sequence. This was supported in some cases where the elements are arrays with a single element. For example `np.array([1, np.array([2])], dtype=int)`. In the future this will raise the same ValueError as `np.array([1, [2]], dtype=int)`.\n",
      "  X_train[i]= training_data['rms'][i], training_data['std'][i], training_data['MAD'][i], training_data['sigmaG'][i], training_data['skewness'][i], training_data['von_neumann_ratio'][i], training_data['J_Stetson'][i], training_data['max_power'][i], training_data['freq_at_max_power'][i], training_data['ratio_of_power_at_high_v_low_freq'][i], training_data['max_autocorrelation'][i], training_data['time_of_max_autocorrelation'][i], training_data['SumLSP_10_7_Day_Power'][i], training_data['SumLSP_7_4_Day_Power'][i], training_data['SumLSP_4_1_Day_Power'][i], training_data['SumLSP_1_p5_Day_Power'][i], training_data['Entropy'][i]\n",
      "/var/folders/gy/0vj93nbd4x5bt_bpj2r46w7h0000gn/T/ipykernel_24137/1640273581.py:54: DeprecationWarning: setting an array element with a sequence. This was supported in some cases where the elements are arrays with a single element. For example `np.array([1, np.array([2])], dtype=int)`. In the future this will raise the same ValueError as `np.array([1, [2]], dtype=int)`.\n",
      "  X_valid[i]= validation_data['rms'][i], validation_data['std'][i], validation_data['MAD'][i], validation_data['sigmaG'][i], validation_data['skewness'][i], validation_data['von_neumann_ratio'][i], validation_data['J_Stetson'][i], validation_data['max_power'][i], validation_data['freq_at_max_power'][i], validation_data['ratio_of_power_at_high_v_low_freq'][i], validation_data['max_autocorrelation'][i], validation_data['time_of_max_autocorrelation'][i], validation_data['SumLSP_10_7_Day_Power'][i], validation_data['SumLSP_7_4_Day_Power'][i], validation_data['SumLSP_4_1_Day_Power'][i], validation_data['SumLSP_1_p5_Day_Power'][i], validation_data['Entropy'][i]\n",
      "/var/folders/gy/0vj93nbd4x5bt_bpj2r46w7h0000gn/T/ipykernel_24137/1640273581.py:59: DeprecationWarning: setting an array element with a sequence. This was supported in some cases where the elements are arrays with a single element. For example `np.array([1, np.array([2])], dtype=int)`. In the future this will raise the same ValueError as `np.array([1, [2]], dtype=int)`.\n",
      "  X_test[i]= test_data['rms'][i], test_data['std'][i], test_data['MAD'][i], test_data['sigmaG'][i], test_data['skewness'][i], test_data['von_neumann_ratio'][i], test_data['J_Stetson'][i], test_data['max_power'][i], test_data['freq_at_max_power'][i], test_data['ratio_of_power_at_high_v_low_freq'][i], test_data['max_autocorrelation'][i], test_data['time_of_max_autocorrelation'][i], test_data['SumLSP_10_7_Day_Power'][i], test_data['SumLSP_7_4_Day_Power'][i], test_data['SumLSP_4_1_Day_Power'][i], test_data['SumLSP_1_p5_Day_Power'][i], test_data['Entropy'][i]\n"
     ]
    },
    {
     "name": "stdout",
     "output_type": "stream",
     "text": [
      "\u001b[1m178/178\u001b[0m \u001b[32m━━━━━━━━━━━━━━━━━━━━\u001b[0m\u001b[37m\u001b[0m \u001b[1m0s\u001b[0m 2ms/step\n"
     ]
    },
    {
     "name": "stderr",
     "output_type": "stream",
     "text": [
      "/var/folders/gy/0vj93nbd4x5bt_bpj2r46w7h0000gn/T/ipykernel_24137/1640273581.py:49: DeprecationWarning: setting an array element with a sequence. This was supported in some cases where the elements are arrays with a single element. For example `np.array([1, np.array([2])], dtype=int)`. In the future this will raise the same ValueError as `np.array([1, [2]], dtype=int)`.\n",
      "  X_train[i]= training_data['rms'][i], training_data['std'][i], training_data['MAD'][i], training_data['sigmaG'][i], training_data['skewness'][i], training_data['von_neumann_ratio'][i], training_data['J_Stetson'][i], training_data['max_power'][i], training_data['freq_at_max_power'][i], training_data['ratio_of_power_at_high_v_low_freq'][i], training_data['max_autocorrelation'][i], training_data['time_of_max_autocorrelation'][i], training_data['SumLSP_10_7_Day_Power'][i], training_data['SumLSP_7_4_Day_Power'][i], training_data['SumLSP_4_1_Day_Power'][i], training_data['SumLSP_1_p5_Day_Power'][i], training_data['Entropy'][i]\n",
      "/var/folders/gy/0vj93nbd4x5bt_bpj2r46w7h0000gn/T/ipykernel_24137/1640273581.py:54: DeprecationWarning: setting an array element with a sequence. This was supported in some cases where the elements are arrays with a single element. For example `np.array([1, np.array([2])], dtype=int)`. In the future this will raise the same ValueError as `np.array([1, [2]], dtype=int)`.\n",
      "  X_valid[i]= validation_data['rms'][i], validation_data['std'][i], validation_data['MAD'][i], validation_data['sigmaG'][i], validation_data['skewness'][i], validation_data['von_neumann_ratio'][i], validation_data['J_Stetson'][i], validation_data['max_power'][i], validation_data['freq_at_max_power'][i], validation_data['ratio_of_power_at_high_v_low_freq'][i], validation_data['max_autocorrelation'][i], validation_data['time_of_max_autocorrelation'][i], validation_data['SumLSP_10_7_Day_Power'][i], validation_data['SumLSP_7_4_Day_Power'][i], validation_data['SumLSP_4_1_Day_Power'][i], validation_data['SumLSP_1_p5_Day_Power'][i], validation_data['Entropy'][i]\n",
      "/var/folders/gy/0vj93nbd4x5bt_bpj2r46w7h0000gn/T/ipykernel_24137/1640273581.py:59: DeprecationWarning: setting an array element with a sequence. This was supported in some cases where the elements are arrays with a single element. For example `np.array([1, np.array([2])], dtype=int)`. In the future this will raise the same ValueError as `np.array([1, [2]], dtype=int)`.\n",
      "  X_test[i]= test_data['rms'][i], test_data['std'][i], test_data['MAD'][i], test_data['sigmaG'][i], test_data['skewness'][i], test_data['von_neumann_ratio'][i], test_data['J_Stetson'][i], test_data['max_power'][i], test_data['freq_at_max_power'][i], test_data['ratio_of_power_at_high_v_low_freq'][i], test_data['max_autocorrelation'][i], test_data['time_of_max_autocorrelation'][i], test_data['SumLSP_10_7_Day_Power'][i], test_data['SumLSP_7_4_Day_Power'][i], test_data['SumLSP_4_1_Day_Power'][i], test_data['SumLSP_1_p5_Day_Power'][i], test_data['Entropy'][i]\n"
     ]
    },
    {
     "name": "stdout",
     "output_type": "stream",
     "text": [
      "\u001b[1m126/126\u001b[0m \u001b[32m━━━━━━━━━━━━━━━━━━━━\u001b[0m\u001b[37m\u001b[0m \u001b[1m0s\u001b[0m 2ms/step\n"
     ]
    },
    {
     "name": "stderr",
     "output_type": "stream",
     "text": [
      "/var/folders/gy/0vj93nbd4x5bt_bpj2r46w7h0000gn/T/ipykernel_24137/1640273581.py:49: DeprecationWarning: setting an array element with a sequence. This was supported in some cases where the elements are arrays with a single element. For example `np.array([1, np.array([2])], dtype=int)`. In the future this will raise the same ValueError as `np.array([1, [2]], dtype=int)`.\n",
      "  X_train[i]= training_data['rms'][i], training_data['std'][i], training_data['MAD'][i], training_data['sigmaG'][i], training_data['skewness'][i], training_data['von_neumann_ratio'][i], training_data['J_Stetson'][i], training_data['max_power'][i], training_data['freq_at_max_power'][i], training_data['ratio_of_power_at_high_v_low_freq'][i], training_data['max_autocorrelation'][i], training_data['time_of_max_autocorrelation'][i], training_data['SumLSP_10_7_Day_Power'][i], training_data['SumLSP_7_4_Day_Power'][i], training_data['SumLSP_4_1_Day_Power'][i], training_data['SumLSP_1_p5_Day_Power'][i], training_data['Entropy'][i]\n",
      "/var/folders/gy/0vj93nbd4x5bt_bpj2r46w7h0000gn/T/ipykernel_24137/1640273581.py:54: DeprecationWarning: setting an array element with a sequence. This was supported in some cases where the elements are arrays with a single element. For example `np.array([1, np.array([2])], dtype=int)`. In the future this will raise the same ValueError as `np.array([1, [2]], dtype=int)`.\n",
      "  X_valid[i]= validation_data['rms'][i], validation_data['std'][i], validation_data['MAD'][i], validation_data['sigmaG'][i], validation_data['skewness'][i], validation_data['von_neumann_ratio'][i], validation_data['J_Stetson'][i], validation_data['max_power'][i], validation_data['freq_at_max_power'][i], validation_data['ratio_of_power_at_high_v_low_freq'][i], validation_data['max_autocorrelation'][i], validation_data['time_of_max_autocorrelation'][i], validation_data['SumLSP_10_7_Day_Power'][i], validation_data['SumLSP_7_4_Day_Power'][i], validation_data['SumLSP_4_1_Day_Power'][i], validation_data['SumLSP_1_p5_Day_Power'][i], validation_data['Entropy'][i]\n",
      "/var/folders/gy/0vj93nbd4x5bt_bpj2r46w7h0000gn/T/ipykernel_24137/1640273581.py:59: DeprecationWarning: setting an array element with a sequence. This was supported in some cases where the elements are arrays with a single element. For example `np.array([1, np.array([2])], dtype=int)`. In the future this will raise the same ValueError as `np.array([1, [2]], dtype=int)`.\n",
      "  X_test[i]= test_data['rms'][i], test_data['std'][i], test_data['MAD'][i], test_data['sigmaG'][i], test_data['skewness'][i], test_data['von_neumann_ratio'][i], test_data['J_Stetson'][i], test_data['max_power'][i], test_data['freq_at_max_power'][i], test_data['ratio_of_power_at_high_v_low_freq'][i], test_data['max_autocorrelation'][i], test_data['time_of_max_autocorrelation'][i], test_data['SumLSP_10_7_Day_Power'][i], test_data['SumLSP_7_4_Day_Power'][i], test_data['SumLSP_4_1_Day_Power'][i], test_data['SumLSP_1_p5_Day_Power'][i], test_data['Entropy'][i]\n"
     ]
    },
    {
     "name": "stdout",
     "output_type": "stream",
     "text": [
      "\u001b[1m142/142\u001b[0m \u001b[32m━━━━━━━━━━━━━━━━━━━━\u001b[0m\u001b[37m\u001b[0m \u001b[1m0s\u001b[0m 2ms/step\n"
     ]
    },
    {
     "name": "stderr",
     "output_type": "stream",
     "text": [
      "/var/folders/gy/0vj93nbd4x5bt_bpj2r46w7h0000gn/T/ipykernel_24137/1640273581.py:49: DeprecationWarning: setting an array element with a sequence. This was supported in some cases where the elements are arrays with a single element. For example `np.array([1, np.array([2])], dtype=int)`. In the future this will raise the same ValueError as `np.array([1, [2]], dtype=int)`.\n",
      "  X_train[i]= training_data['rms'][i], training_data['std'][i], training_data['MAD'][i], training_data['sigmaG'][i], training_data['skewness'][i], training_data['von_neumann_ratio'][i], training_data['J_Stetson'][i], training_data['max_power'][i], training_data['freq_at_max_power'][i], training_data['ratio_of_power_at_high_v_low_freq'][i], training_data['max_autocorrelation'][i], training_data['time_of_max_autocorrelation'][i], training_data['SumLSP_10_7_Day_Power'][i], training_data['SumLSP_7_4_Day_Power'][i], training_data['SumLSP_4_1_Day_Power'][i], training_data['SumLSP_1_p5_Day_Power'][i], training_data['Entropy'][i]\n",
      "/var/folders/gy/0vj93nbd4x5bt_bpj2r46w7h0000gn/T/ipykernel_24137/1640273581.py:54: DeprecationWarning: setting an array element with a sequence. This was supported in some cases where the elements are arrays with a single element. For example `np.array([1, np.array([2])], dtype=int)`. In the future this will raise the same ValueError as `np.array([1, [2]], dtype=int)`.\n",
      "  X_valid[i]= validation_data['rms'][i], validation_data['std'][i], validation_data['MAD'][i], validation_data['sigmaG'][i], validation_data['skewness'][i], validation_data['von_neumann_ratio'][i], validation_data['J_Stetson'][i], validation_data['max_power'][i], validation_data['freq_at_max_power'][i], validation_data['ratio_of_power_at_high_v_low_freq'][i], validation_data['max_autocorrelation'][i], validation_data['time_of_max_autocorrelation'][i], validation_data['SumLSP_10_7_Day_Power'][i], validation_data['SumLSP_7_4_Day_Power'][i], validation_data['SumLSP_4_1_Day_Power'][i], validation_data['SumLSP_1_p5_Day_Power'][i], validation_data['Entropy'][i]\n",
      "/var/folders/gy/0vj93nbd4x5bt_bpj2r46w7h0000gn/T/ipykernel_24137/1640273581.py:59: DeprecationWarning: setting an array element with a sequence. This was supported in some cases where the elements are arrays with a single element. For example `np.array([1, np.array([2])], dtype=int)`. In the future this will raise the same ValueError as `np.array([1, [2]], dtype=int)`.\n",
      "  X_test[i]= test_data['rms'][i], test_data['std'][i], test_data['MAD'][i], test_data['sigmaG'][i], test_data['skewness'][i], test_data['von_neumann_ratio'][i], test_data['J_Stetson'][i], test_data['max_power'][i], test_data['freq_at_max_power'][i], test_data['ratio_of_power_at_high_v_low_freq'][i], test_data['max_autocorrelation'][i], test_data['time_of_max_autocorrelation'][i], test_data['SumLSP_10_7_Day_Power'][i], test_data['SumLSP_7_4_Day_Power'][i], test_data['SumLSP_4_1_Day_Power'][i], test_data['SumLSP_1_p5_Day_Power'][i], test_data['Entropy'][i]\n"
     ]
    },
    {
     "name": "stdout",
     "output_type": "stream",
     "text": [
      "\u001b[1m132/132\u001b[0m \u001b[32m━━━━━━━━━━━━━━━━━━━━\u001b[0m\u001b[37m\u001b[0m \u001b[1m0s\u001b[0m 2ms/step\n"
     ]
    },
    {
     "name": "stderr",
     "output_type": "stream",
     "text": [
      "/var/folders/gy/0vj93nbd4x5bt_bpj2r46w7h0000gn/T/ipykernel_24137/1640273581.py:49: DeprecationWarning: setting an array element with a sequence. This was supported in some cases where the elements are arrays with a single element. For example `np.array([1, np.array([2])], dtype=int)`. In the future this will raise the same ValueError as `np.array([1, [2]], dtype=int)`.\n",
      "  X_train[i]= training_data['rms'][i], training_data['std'][i], training_data['MAD'][i], training_data['sigmaG'][i], training_data['skewness'][i], training_data['von_neumann_ratio'][i], training_data['J_Stetson'][i], training_data['max_power'][i], training_data['freq_at_max_power'][i], training_data['ratio_of_power_at_high_v_low_freq'][i], training_data['max_autocorrelation'][i], training_data['time_of_max_autocorrelation'][i], training_data['SumLSP_10_7_Day_Power'][i], training_data['SumLSP_7_4_Day_Power'][i], training_data['SumLSP_4_1_Day_Power'][i], training_data['SumLSP_1_p5_Day_Power'][i], training_data['Entropy'][i]\n",
      "/var/folders/gy/0vj93nbd4x5bt_bpj2r46w7h0000gn/T/ipykernel_24137/1640273581.py:54: DeprecationWarning: setting an array element with a sequence. This was supported in some cases where the elements are arrays with a single element. For example `np.array([1, np.array([2])], dtype=int)`. In the future this will raise the same ValueError as `np.array([1, [2]], dtype=int)`.\n",
      "  X_valid[i]= validation_data['rms'][i], validation_data['std'][i], validation_data['MAD'][i], validation_data['sigmaG'][i], validation_data['skewness'][i], validation_data['von_neumann_ratio'][i], validation_data['J_Stetson'][i], validation_data['max_power'][i], validation_data['freq_at_max_power'][i], validation_data['ratio_of_power_at_high_v_low_freq'][i], validation_data['max_autocorrelation'][i], validation_data['time_of_max_autocorrelation'][i], validation_data['SumLSP_10_7_Day_Power'][i], validation_data['SumLSP_7_4_Day_Power'][i], validation_data['SumLSP_4_1_Day_Power'][i], validation_data['SumLSP_1_p5_Day_Power'][i], validation_data['Entropy'][i]\n",
      "/var/folders/gy/0vj93nbd4x5bt_bpj2r46w7h0000gn/T/ipykernel_24137/1640273581.py:59: DeprecationWarning: setting an array element with a sequence. This was supported in some cases where the elements are arrays with a single element. For example `np.array([1, np.array([2])], dtype=int)`. In the future this will raise the same ValueError as `np.array([1, [2]], dtype=int)`.\n",
      "  X_test[i]= test_data['rms'][i], test_data['std'][i], test_data['MAD'][i], test_data['sigmaG'][i], test_data['skewness'][i], test_data['von_neumann_ratio'][i], test_data['J_Stetson'][i], test_data['max_power'][i], test_data['freq_at_max_power'][i], test_data['ratio_of_power_at_high_v_low_freq'][i], test_data['max_autocorrelation'][i], test_data['time_of_max_autocorrelation'][i], test_data['SumLSP_10_7_Day_Power'][i], test_data['SumLSP_7_4_Day_Power'][i], test_data['SumLSP_4_1_Day_Power'][i], test_data['SumLSP_1_p5_Day_Power'][i], test_data['Entropy'][i]\n"
     ]
    },
    {
     "name": "stdout",
     "output_type": "stream",
     "text": [
      "\u001b[1m170/170\u001b[0m \u001b[32m━━━━━━━━━━━━━━━━━━━━\u001b[0m\u001b[37m\u001b[0m \u001b[1m0s\u001b[0m 2ms/step\n"
     ]
    },
    {
     "name": "stderr",
     "output_type": "stream",
     "text": [
      "/var/folders/gy/0vj93nbd4x5bt_bpj2r46w7h0000gn/T/ipykernel_24137/1640273581.py:49: DeprecationWarning: setting an array element with a sequence. This was supported in some cases where the elements are arrays with a single element. For example `np.array([1, np.array([2])], dtype=int)`. In the future this will raise the same ValueError as `np.array([1, [2]], dtype=int)`.\n",
      "  X_train[i]= training_data['rms'][i], training_data['std'][i], training_data['MAD'][i], training_data['sigmaG'][i], training_data['skewness'][i], training_data['von_neumann_ratio'][i], training_data['J_Stetson'][i], training_data['max_power'][i], training_data['freq_at_max_power'][i], training_data['ratio_of_power_at_high_v_low_freq'][i], training_data['max_autocorrelation'][i], training_data['time_of_max_autocorrelation'][i], training_data['SumLSP_10_7_Day_Power'][i], training_data['SumLSP_7_4_Day_Power'][i], training_data['SumLSP_4_1_Day_Power'][i], training_data['SumLSP_1_p5_Day_Power'][i], training_data['Entropy'][i]\n",
      "/var/folders/gy/0vj93nbd4x5bt_bpj2r46w7h0000gn/T/ipykernel_24137/1640273581.py:54: DeprecationWarning: setting an array element with a sequence. This was supported in some cases where the elements are arrays with a single element. For example `np.array([1, np.array([2])], dtype=int)`. In the future this will raise the same ValueError as `np.array([1, [2]], dtype=int)`.\n",
      "  X_valid[i]= validation_data['rms'][i], validation_data['std'][i], validation_data['MAD'][i], validation_data['sigmaG'][i], validation_data['skewness'][i], validation_data['von_neumann_ratio'][i], validation_data['J_Stetson'][i], validation_data['max_power'][i], validation_data['freq_at_max_power'][i], validation_data['ratio_of_power_at_high_v_low_freq'][i], validation_data['max_autocorrelation'][i], validation_data['time_of_max_autocorrelation'][i], validation_data['SumLSP_10_7_Day_Power'][i], validation_data['SumLSP_7_4_Day_Power'][i], validation_data['SumLSP_4_1_Day_Power'][i], validation_data['SumLSP_1_p5_Day_Power'][i], validation_data['Entropy'][i]\n",
      "/var/folders/gy/0vj93nbd4x5bt_bpj2r46w7h0000gn/T/ipykernel_24137/1640273581.py:59: DeprecationWarning: setting an array element with a sequence. This was supported in some cases where the elements are arrays with a single element. For example `np.array([1, np.array([2])], dtype=int)`. In the future this will raise the same ValueError as `np.array([1, [2]], dtype=int)`.\n",
      "  X_test[i]= test_data['rms'][i], test_data['std'][i], test_data['MAD'][i], test_data['sigmaG'][i], test_data['skewness'][i], test_data['von_neumann_ratio'][i], test_data['J_Stetson'][i], test_data['max_power'][i], test_data['freq_at_max_power'][i], test_data['ratio_of_power_at_high_v_low_freq'][i], test_data['max_autocorrelation'][i], test_data['time_of_max_autocorrelation'][i], test_data['SumLSP_10_7_Day_Power'][i], test_data['SumLSP_7_4_Day_Power'][i], test_data['SumLSP_4_1_Day_Power'][i], test_data['SumLSP_1_p5_Day_Power'][i], test_data['Entropy'][i]\n"
     ]
    },
    {
     "name": "stdout",
     "output_type": "stream",
     "text": [
      "\u001b[1m155/155\u001b[0m \u001b[32m━━━━━━━━━━━━━━━━━━━━\u001b[0m\u001b[37m\u001b[0m \u001b[1m0s\u001b[0m 2ms/step\n"
     ]
    },
    {
     "name": "stderr",
     "output_type": "stream",
     "text": [
      "/var/folders/gy/0vj93nbd4x5bt_bpj2r46w7h0000gn/T/ipykernel_24137/1640273581.py:49: DeprecationWarning: setting an array element with a sequence. This was supported in some cases where the elements are arrays with a single element. For example `np.array([1, np.array([2])], dtype=int)`. In the future this will raise the same ValueError as `np.array([1, [2]], dtype=int)`.\n",
      "  X_train[i]= training_data['rms'][i], training_data['std'][i], training_data['MAD'][i], training_data['sigmaG'][i], training_data['skewness'][i], training_data['von_neumann_ratio'][i], training_data['J_Stetson'][i], training_data['max_power'][i], training_data['freq_at_max_power'][i], training_data['ratio_of_power_at_high_v_low_freq'][i], training_data['max_autocorrelation'][i], training_data['time_of_max_autocorrelation'][i], training_data['SumLSP_10_7_Day_Power'][i], training_data['SumLSP_7_4_Day_Power'][i], training_data['SumLSP_4_1_Day_Power'][i], training_data['SumLSP_1_p5_Day_Power'][i], training_data['Entropy'][i]\n",
      "/var/folders/gy/0vj93nbd4x5bt_bpj2r46w7h0000gn/T/ipykernel_24137/1640273581.py:54: DeprecationWarning: setting an array element with a sequence. This was supported in some cases where the elements are arrays with a single element. For example `np.array([1, np.array([2])], dtype=int)`. In the future this will raise the same ValueError as `np.array([1, [2]], dtype=int)`.\n",
      "  X_valid[i]= validation_data['rms'][i], validation_data['std'][i], validation_data['MAD'][i], validation_data['sigmaG'][i], validation_data['skewness'][i], validation_data['von_neumann_ratio'][i], validation_data['J_Stetson'][i], validation_data['max_power'][i], validation_data['freq_at_max_power'][i], validation_data['ratio_of_power_at_high_v_low_freq'][i], validation_data['max_autocorrelation'][i], validation_data['time_of_max_autocorrelation'][i], validation_data['SumLSP_10_7_Day_Power'][i], validation_data['SumLSP_7_4_Day_Power'][i], validation_data['SumLSP_4_1_Day_Power'][i], validation_data['SumLSP_1_p5_Day_Power'][i], validation_data['Entropy'][i]\n",
      "/var/folders/gy/0vj93nbd4x5bt_bpj2r46w7h0000gn/T/ipykernel_24137/1640273581.py:59: DeprecationWarning: setting an array element with a sequence. This was supported in some cases where the elements are arrays with a single element. For example `np.array([1, np.array([2])], dtype=int)`. In the future this will raise the same ValueError as `np.array([1, [2]], dtype=int)`.\n",
      "  X_test[i]= test_data['rms'][i], test_data['std'][i], test_data['MAD'][i], test_data['sigmaG'][i], test_data['skewness'][i], test_data['von_neumann_ratio'][i], test_data['J_Stetson'][i], test_data['max_power'][i], test_data['freq_at_max_power'][i], test_data['ratio_of_power_at_high_v_low_freq'][i], test_data['max_autocorrelation'][i], test_data['time_of_max_autocorrelation'][i], test_data['SumLSP_10_7_Day_Power'][i], test_data['SumLSP_7_4_Day_Power'][i], test_data['SumLSP_4_1_Day_Power'][i], test_data['SumLSP_1_p5_Day_Power'][i], test_data['Entropy'][i]\n"
     ]
    },
    {
     "name": "stdout",
     "output_type": "stream",
     "text": [
      "\u001b[1m135/135\u001b[0m \u001b[32m━━━━━━━━━━━━━━━━━━━━\u001b[0m\u001b[37m\u001b[0m \u001b[1m0s\u001b[0m 2ms/step\n"
     ]
    },
    {
     "name": "stderr",
     "output_type": "stream",
     "text": [
      "/var/folders/gy/0vj93nbd4x5bt_bpj2r46w7h0000gn/T/ipykernel_24137/1640273581.py:49: DeprecationWarning: setting an array element with a sequence. This was supported in some cases where the elements are arrays with a single element. For example `np.array([1, np.array([2])], dtype=int)`. In the future this will raise the same ValueError as `np.array([1, [2]], dtype=int)`.\n",
      "  X_train[i]= training_data['rms'][i], training_data['std'][i], training_data['MAD'][i], training_data['sigmaG'][i], training_data['skewness'][i], training_data['von_neumann_ratio'][i], training_data['J_Stetson'][i], training_data['max_power'][i], training_data['freq_at_max_power'][i], training_data['ratio_of_power_at_high_v_low_freq'][i], training_data['max_autocorrelation'][i], training_data['time_of_max_autocorrelation'][i], training_data['SumLSP_10_7_Day_Power'][i], training_data['SumLSP_7_4_Day_Power'][i], training_data['SumLSP_4_1_Day_Power'][i], training_data['SumLSP_1_p5_Day_Power'][i], training_data['Entropy'][i]\n",
      "/var/folders/gy/0vj93nbd4x5bt_bpj2r46w7h0000gn/T/ipykernel_24137/1640273581.py:54: DeprecationWarning: setting an array element with a sequence. This was supported in some cases where the elements are arrays with a single element. For example `np.array([1, np.array([2])], dtype=int)`. In the future this will raise the same ValueError as `np.array([1, [2]], dtype=int)`.\n",
      "  X_valid[i]= validation_data['rms'][i], validation_data['std'][i], validation_data['MAD'][i], validation_data['sigmaG'][i], validation_data['skewness'][i], validation_data['von_neumann_ratio'][i], validation_data['J_Stetson'][i], validation_data['max_power'][i], validation_data['freq_at_max_power'][i], validation_data['ratio_of_power_at_high_v_low_freq'][i], validation_data['max_autocorrelation'][i], validation_data['time_of_max_autocorrelation'][i], validation_data['SumLSP_10_7_Day_Power'][i], validation_data['SumLSP_7_4_Day_Power'][i], validation_data['SumLSP_4_1_Day_Power'][i], validation_data['SumLSP_1_p5_Day_Power'][i], validation_data['Entropy'][i]\n",
      "/var/folders/gy/0vj93nbd4x5bt_bpj2r46w7h0000gn/T/ipykernel_24137/1640273581.py:59: DeprecationWarning: setting an array element with a sequence. This was supported in some cases where the elements are arrays with a single element. For example `np.array([1, np.array([2])], dtype=int)`. In the future this will raise the same ValueError as `np.array([1, [2]], dtype=int)`.\n",
      "  X_test[i]= test_data['rms'][i], test_data['std'][i], test_data['MAD'][i], test_data['sigmaG'][i], test_data['skewness'][i], test_data['von_neumann_ratio'][i], test_data['J_Stetson'][i], test_data['max_power'][i], test_data['freq_at_max_power'][i], test_data['ratio_of_power_at_high_v_low_freq'][i], test_data['max_autocorrelation'][i], test_data['time_of_max_autocorrelation'][i], test_data['SumLSP_10_7_Day_Power'][i], test_data['SumLSP_7_4_Day_Power'][i], test_data['SumLSP_4_1_Day_Power'][i], test_data['SumLSP_1_p5_Day_Power'][i], test_data['Entropy'][i]\n"
     ]
    },
    {
     "name": "stdout",
     "output_type": "stream",
     "text": [
      "\u001b[1m128/128\u001b[0m \u001b[32m━━━━━━━━━━━━━━━━━━━━\u001b[0m\u001b[37m\u001b[0m \u001b[1m1s\u001b[0m 3ms/step\n"
     ]
    },
    {
     "name": "stderr",
     "output_type": "stream",
     "text": [
      "/var/folders/gy/0vj93nbd4x5bt_bpj2r46w7h0000gn/T/ipykernel_24137/1640273581.py:49: DeprecationWarning: setting an array element with a sequence. This was supported in some cases where the elements are arrays with a single element. For example `np.array([1, np.array([2])], dtype=int)`. In the future this will raise the same ValueError as `np.array([1, [2]], dtype=int)`.\n",
      "  X_train[i]= training_data['rms'][i], training_data['std'][i], training_data['MAD'][i], training_data['sigmaG'][i], training_data['skewness'][i], training_data['von_neumann_ratio'][i], training_data['J_Stetson'][i], training_data['max_power'][i], training_data['freq_at_max_power'][i], training_data['ratio_of_power_at_high_v_low_freq'][i], training_data['max_autocorrelation'][i], training_data['time_of_max_autocorrelation'][i], training_data['SumLSP_10_7_Day_Power'][i], training_data['SumLSP_7_4_Day_Power'][i], training_data['SumLSP_4_1_Day_Power'][i], training_data['SumLSP_1_p5_Day_Power'][i], training_data['Entropy'][i]\n",
      "/var/folders/gy/0vj93nbd4x5bt_bpj2r46w7h0000gn/T/ipykernel_24137/1640273581.py:54: DeprecationWarning: setting an array element with a sequence. This was supported in some cases where the elements are arrays with a single element. For example `np.array([1, np.array([2])], dtype=int)`. In the future this will raise the same ValueError as `np.array([1, [2]], dtype=int)`.\n",
      "  X_valid[i]= validation_data['rms'][i], validation_data['std'][i], validation_data['MAD'][i], validation_data['sigmaG'][i], validation_data['skewness'][i], validation_data['von_neumann_ratio'][i], validation_data['J_Stetson'][i], validation_data['max_power'][i], validation_data['freq_at_max_power'][i], validation_data['ratio_of_power_at_high_v_low_freq'][i], validation_data['max_autocorrelation'][i], validation_data['time_of_max_autocorrelation'][i], validation_data['SumLSP_10_7_Day_Power'][i], validation_data['SumLSP_7_4_Day_Power'][i], validation_data['SumLSP_4_1_Day_Power'][i], validation_data['SumLSP_1_p5_Day_Power'][i], validation_data['Entropy'][i]\n",
      "/var/folders/gy/0vj93nbd4x5bt_bpj2r46w7h0000gn/T/ipykernel_24137/1640273581.py:59: DeprecationWarning: setting an array element with a sequence. This was supported in some cases where the elements are arrays with a single element. For example `np.array([1, np.array([2])], dtype=int)`. In the future this will raise the same ValueError as `np.array([1, [2]], dtype=int)`.\n",
      "  X_test[i]= test_data['rms'][i], test_data['std'][i], test_data['MAD'][i], test_data['sigmaG'][i], test_data['skewness'][i], test_data['von_neumann_ratio'][i], test_data['J_Stetson'][i], test_data['max_power'][i], test_data['freq_at_max_power'][i], test_data['ratio_of_power_at_high_v_low_freq'][i], test_data['max_autocorrelation'][i], test_data['time_of_max_autocorrelation'][i], test_data['SumLSP_10_7_Day_Power'][i], test_data['SumLSP_7_4_Day_Power'][i], test_data['SumLSP_4_1_Day_Power'][i], test_data['SumLSP_1_p5_Day_Power'][i], test_data['Entropy'][i]\n"
     ]
    },
    {
     "name": "stdout",
     "output_type": "stream",
     "text": [
      "\u001b[1m174/174\u001b[0m \u001b[32m━━━━━━━━━━━━━━━━━━━━\u001b[0m\u001b[37m\u001b[0m \u001b[1m0s\u001b[0m 2ms/step\n"
     ]
    },
    {
     "name": "stderr",
     "output_type": "stream",
     "text": [
      "/var/folders/gy/0vj93nbd4x5bt_bpj2r46w7h0000gn/T/ipykernel_24137/1640273581.py:49: DeprecationWarning: setting an array element with a sequence. This was supported in some cases where the elements are arrays with a single element. For example `np.array([1, np.array([2])], dtype=int)`. In the future this will raise the same ValueError as `np.array([1, [2]], dtype=int)`.\n",
      "  X_train[i]= training_data['rms'][i], training_data['std'][i], training_data['MAD'][i], training_data['sigmaG'][i], training_data['skewness'][i], training_data['von_neumann_ratio'][i], training_data['J_Stetson'][i], training_data['max_power'][i], training_data['freq_at_max_power'][i], training_data['ratio_of_power_at_high_v_low_freq'][i], training_data['max_autocorrelation'][i], training_data['time_of_max_autocorrelation'][i], training_data['SumLSP_10_7_Day_Power'][i], training_data['SumLSP_7_4_Day_Power'][i], training_data['SumLSP_4_1_Day_Power'][i], training_data['SumLSP_1_p5_Day_Power'][i], training_data['Entropy'][i]\n",
      "/var/folders/gy/0vj93nbd4x5bt_bpj2r46w7h0000gn/T/ipykernel_24137/1640273581.py:54: DeprecationWarning: setting an array element with a sequence. This was supported in some cases where the elements are arrays with a single element. For example `np.array([1, np.array([2])], dtype=int)`. In the future this will raise the same ValueError as `np.array([1, [2]], dtype=int)`.\n",
      "  X_valid[i]= validation_data['rms'][i], validation_data['std'][i], validation_data['MAD'][i], validation_data['sigmaG'][i], validation_data['skewness'][i], validation_data['von_neumann_ratio'][i], validation_data['J_Stetson'][i], validation_data['max_power'][i], validation_data['freq_at_max_power'][i], validation_data['ratio_of_power_at_high_v_low_freq'][i], validation_data['max_autocorrelation'][i], validation_data['time_of_max_autocorrelation'][i], validation_data['SumLSP_10_7_Day_Power'][i], validation_data['SumLSP_7_4_Day_Power'][i], validation_data['SumLSP_4_1_Day_Power'][i], validation_data['SumLSP_1_p5_Day_Power'][i], validation_data['Entropy'][i]\n",
      "/var/folders/gy/0vj93nbd4x5bt_bpj2r46w7h0000gn/T/ipykernel_24137/1640273581.py:59: DeprecationWarning: setting an array element with a sequence. This was supported in some cases where the elements are arrays with a single element. For example `np.array([1, np.array([2])], dtype=int)`. In the future this will raise the same ValueError as `np.array([1, [2]], dtype=int)`.\n",
      "  X_test[i]= test_data['rms'][i], test_data['std'][i], test_data['MAD'][i], test_data['sigmaG'][i], test_data['skewness'][i], test_data['von_neumann_ratio'][i], test_data['J_Stetson'][i], test_data['max_power'][i], test_data['freq_at_max_power'][i], test_data['ratio_of_power_at_high_v_low_freq'][i], test_data['max_autocorrelation'][i], test_data['time_of_max_autocorrelation'][i], test_data['SumLSP_10_7_Day_Power'][i], test_data['SumLSP_7_4_Day_Power'][i], test_data['SumLSP_4_1_Day_Power'][i], test_data['SumLSP_1_p5_Day_Power'][i], test_data['Entropy'][i]\n"
     ]
    },
    {
     "name": "stdout",
     "output_type": "stream",
     "text": [
      "\u001b[1m157/157\u001b[0m \u001b[32m━━━━━━━━━━━━━━━━━━━━\u001b[0m\u001b[37m\u001b[0m \u001b[1m0s\u001b[0m 2ms/step\n"
     ]
    },
    {
     "name": "stderr",
     "output_type": "stream",
     "text": [
      "/var/folders/gy/0vj93nbd4x5bt_bpj2r46w7h0000gn/T/ipykernel_24137/1640273581.py:49: DeprecationWarning: setting an array element with a sequence. This was supported in some cases where the elements are arrays with a single element. For example `np.array([1, np.array([2])], dtype=int)`. In the future this will raise the same ValueError as `np.array([1, [2]], dtype=int)`.\n",
      "  X_train[i]= training_data['rms'][i], training_data['std'][i], training_data['MAD'][i], training_data['sigmaG'][i], training_data['skewness'][i], training_data['von_neumann_ratio'][i], training_data['J_Stetson'][i], training_data['max_power'][i], training_data['freq_at_max_power'][i], training_data['ratio_of_power_at_high_v_low_freq'][i], training_data['max_autocorrelation'][i], training_data['time_of_max_autocorrelation'][i], training_data['SumLSP_10_7_Day_Power'][i], training_data['SumLSP_7_4_Day_Power'][i], training_data['SumLSP_4_1_Day_Power'][i], training_data['SumLSP_1_p5_Day_Power'][i], training_data['Entropy'][i]\n",
      "/var/folders/gy/0vj93nbd4x5bt_bpj2r46w7h0000gn/T/ipykernel_24137/1640273581.py:54: DeprecationWarning: setting an array element with a sequence. This was supported in some cases where the elements are arrays with a single element. For example `np.array([1, np.array([2])], dtype=int)`. In the future this will raise the same ValueError as `np.array([1, [2]], dtype=int)`.\n",
      "  X_valid[i]= validation_data['rms'][i], validation_data['std'][i], validation_data['MAD'][i], validation_data['sigmaG'][i], validation_data['skewness'][i], validation_data['von_neumann_ratio'][i], validation_data['J_Stetson'][i], validation_data['max_power'][i], validation_data['freq_at_max_power'][i], validation_data['ratio_of_power_at_high_v_low_freq'][i], validation_data['max_autocorrelation'][i], validation_data['time_of_max_autocorrelation'][i], validation_data['SumLSP_10_7_Day_Power'][i], validation_data['SumLSP_7_4_Day_Power'][i], validation_data['SumLSP_4_1_Day_Power'][i], validation_data['SumLSP_1_p5_Day_Power'][i], validation_data['Entropy'][i]\n",
      "/var/folders/gy/0vj93nbd4x5bt_bpj2r46w7h0000gn/T/ipykernel_24137/1640273581.py:59: DeprecationWarning: setting an array element with a sequence. This was supported in some cases where the elements are arrays with a single element. For example `np.array([1, np.array([2])], dtype=int)`. In the future this will raise the same ValueError as `np.array([1, [2]], dtype=int)`.\n",
      "  X_test[i]= test_data['rms'][i], test_data['std'][i], test_data['MAD'][i], test_data['sigmaG'][i], test_data['skewness'][i], test_data['von_neumann_ratio'][i], test_data['J_Stetson'][i], test_data['max_power'][i], test_data['freq_at_max_power'][i], test_data['ratio_of_power_at_high_v_low_freq'][i], test_data['max_autocorrelation'][i], test_data['time_of_max_autocorrelation'][i], test_data['SumLSP_10_7_Day_Power'][i], test_data['SumLSP_7_4_Day_Power'][i], test_data['SumLSP_4_1_Day_Power'][i], test_data['SumLSP_1_p5_Day_Power'][i], test_data['Entropy'][i]\n"
     ]
    },
    {
     "name": "stdout",
     "output_type": "stream",
     "text": [
      "\u001b[1m131/131\u001b[0m \u001b[32m━━━━━━━━━━━━━━━━━━━━\u001b[0m\u001b[37m\u001b[0m \u001b[1m0s\u001b[0m 3ms/step\n"
     ]
    },
    {
     "name": "stderr",
     "output_type": "stream",
     "text": [
      "/var/folders/gy/0vj93nbd4x5bt_bpj2r46w7h0000gn/T/ipykernel_24137/1640273581.py:49: DeprecationWarning: setting an array element with a sequence. This was supported in some cases where the elements are arrays with a single element. For example `np.array([1, np.array([2])], dtype=int)`. In the future this will raise the same ValueError as `np.array([1, [2]], dtype=int)`.\n",
      "  X_train[i]= training_data['rms'][i], training_data['std'][i], training_data['MAD'][i], training_data['sigmaG'][i], training_data['skewness'][i], training_data['von_neumann_ratio'][i], training_data['J_Stetson'][i], training_data['max_power'][i], training_data['freq_at_max_power'][i], training_data['ratio_of_power_at_high_v_low_freq'][i], training_data['max_autocorrelation'][i], training_data['time_of_max_autocorrelation'][i], training_data['SumLSP_10_7_Day_Power'][i], training_data['SumLSP_7_4_Day_Power'][i], training_data['SumLSP_4_1_Day_Power'][i], training_data['SumLSP_1_p5_Day_Power'][i], training_data['Entropy'][i]\n",
      "/var/folders/gy/0vj93nbd4x5bt_bpj2r46w7h0000gn/T/ipykernel_24137/1640273581.py:54: DeprecationWarning: setting an array element with a sequence. This was supported in some cases where the elements are arrays with a single element. For example `np.array([1, np.array([2])], dtype=int)`. In the future this will raise the same ValueError as `np.array([1, [2]], dtype=int)`.\n",
      "  X_valid[i]= validation_data['rms'][i], validation_data['std'][i], validation_data['MAD'][i], validation_data['sigmaG'][i], validation_data['skewness'][i], validation_data['von_neumann_ratio'][i], validation_data['J_Stetson'][i], validation_data['max_power'][i], validation_data['freq_at_max_power'][i], validation_data['ratio_of_power_at_high_v_low_freq'][i], validation_data['max_autocorrelation'][i], validation_data['time_of_max_autocorrelation'][i], validation_data['SumLSP_10_7_Day_Power'][i], validation_data['SumLSP_7_4_Day_Power'][i], validation_data['SumLSP_4_1_Day_Power'][i], validation_data['SumLSP_1_p5_Day_Power'][i], validation_data['Entropy'][i]\n",
      "/var/folders/gy/0vj93nbd4x5bt_bpj2r46w7h0000gn/T/ipykernel_24137/1640273581.py:59: DeprecationWarning: setting an array element with a sequence. This was supported in some cases where the elements are arrays with a single element. For example `np.array([1, np.array([2])], dtype=int)`. In the future this will raise the same ValueError as `np.array([1, [2]], dtype=int)`.\n",
      "  X_test[i]= test_data['rms'][i], test_data['std'][i], test_data['MAD'][i], test_data['sigmaG'][i], test_data['skewness'][i], test_data['von_neumann_ratio'][i], test_data['J_Stetson'][i], test_data['max_power'][i], test_data['freq_at_max_power'][i], test_data['ratio_of_power_at_high_v_low_freq'][i], test_data['max_autocorrelation'][i], test_data['time_of_max_autocorrelation'][i], test_data['SumLSP_10_7_Day_Power'][i], test_data['SumLSP_7_4_Day_Power'][i], test_data['SumLSP_4_1_Day_Power'][i], test_data['SumLSP_1_p5_Day_Power'][i], test_data['Entropy'][i]\n"
     ]
    },
    {
     "name": "stdout",
     "output_type": "stream",
     "text": [
      "\u001b[1m141/141\u001b[0m \u001b[32m━━━━━━━━━━━━━━━━━━━━\u001b[0m\u001b[37m\u001b[0m \u001b[1m0s\u001b[0m 2ms/step\n"
     ]
    },
    {
     "name": "stderr",
     "output_type": "stream",
     "text": [
      "/var/folders/gy/0vj93nbd4x5bt_bpj2r46w7h0000gn/T/ipykernel_24137/1640273581.py:49: DeprecationWarning: setting an array element with a sequence. This was supported in some cases where the elements are arrays with a single element. For example `np.array([1, np.array([2])], dtype=int)`. In the future this will raise the same ValueError as `np.array([1, [2]], dtype=int)`.\n",
      "  X_train[i]= training_data['rms'][i], training_data['std'][i], training_data['MAD'][i], training_data['sigmaG'][i], training_data['skewness'][i], training_data['von_neumann_ratio'][i], training_data['J_Stetson'][i], training_data['max_power'][i], training_data['freq_at_max_power'][i], training_data['ratio_of_power_at_high_v_low_freq'][i], training_data['max_autocorrelation'][i], training_data['time_of_max_autocorrelation'][i], training_data['SumLSP_10_7_Day_Power'][i], training_data['SumLSP_7_4_Day_Power'][i], training_data['SumLSP_4_1_Day_Power'][i], training_data['SumLSP_1_p5_Day_Power'][i], training_data['Entropy'][i]\n",
      "/var/folders/gy/0vj93nbd4x5bt_bpj2r46w7h0000gn/T/ipykernel_24137/1640273581.py:54: DeprecationWarning: setting an array element with a sequence. This was supported in some cases where the elements are arrays with a single element. For example `np.array([1, np.array([2])], dtype=int)`. In the future this will raise the same ValueError as `np.array([1, [2]], dtype=int)`.\n",
      "  X_valid[i]= validation_data['rms'][i], validation_data['std'][i], validation_data['MAD'][i], validation_data['sigmaG'][i], validation_data['skewness'][i], validation_data['von_neumann_ratio'][i], validation_data['J_Stetson'][i], validation_data['max_power'][i], validation_data['freq_at_max_power'][i], validation_data['ratio_of_power_at_high_v_low_freq'][i], validation_data['max_autocorrelation'][i], validation_data['time_of_max_autocorrelation'][i], validation_data['SumLSP_10_7_Day_Power'][i], validation_data['SumLSP_7_4_Day_Power'][i], validation_data['SumLSP_4_1_Day_Power'][i], validation_data['SumLSP_1_p5_Day_Power'][i], validation_data['Entropy'][i]\n",
      "/var/folders/gy/0vj93nbd4x5bt_bpj2r46w7h0000gn/T/ipykernel_24137/1640273581.py:59: DeprecationWarning: setting an array element with a sequence. This was supported in some cases where the elements are arrays with a single element. For example `np.array([1, np.array([2])], dtype=int)`. In the future this will raise the same ValueError as `np.array([1, [2]], dtype=int)`.\n",
      "  X_test[i]= test_data['rms'][i], test_data['std'][i], test_data['MAD'][i], test_data['sigmaG'][i], test_data['skewness'][i], test_data['von_neumann_ratio'][i], test_data['J_Stetson'][i], test_data['max_power'][i], test_data['freq_at_max_power'][i], test_data['ratio_of_power_at_high_v_low_freq'][i], test_data['max_autocorrelation'][i], test_data['time_of_max_autocorrelation'][i], test_data['SumLSP_10_7_Day_Power'][i], test_data['SumLSP_7_4_Day_Power'][i], test_data['SumLSP_4_1_Day_Power'][i], test_data['SumLSP_1_p5_Day_Power'][i], test_data['Entropy'][i]\n"
     ]
    },
    {
     "name": "stdout",
     "output_type": "stream",
     "text": [
      "\u001b[1m168/168\u001b[0m \u001b[32m━━━━━━━━━━━━━━━━━━━━\u001b[0m\u001b[37m\u001b[0m \u001b[1m0s\u001b[0m 2ms/step\n"
     ]
    },
    {
     "name": "stderr",
     "output_type": "stream",
     "text": [
      "/var/folders/gy/0vj93nbd4x5bt_bpj2r46w7h0000gn/T/ipykernel_24137/1640273581.py:49: DeprecationWarning: setting an array element with a sequence. This was supported in some cases where the elements are arrays with a single element. For example `np.array([1, np.array([2])], dtype=int)`. In the future this will raise the same ValueError as `np.array([1, [2]], dtype=int)`.\n",
      "  X_train[i]= training_data['rms'][i], training_data['std'][i], training_data['MAD'][i], training_data['sigmaG'][i], training_data['skewness'][i], training_data['von_neumann_ratio'][i], training_data['J_Stetson'][i], training_data['max_power'][i], training_data['freq_at_max_power'][i], training_data['ratio_of_power_at_high_v_low_freq'][i], training_data['max_autocorrelation'][i], training_data['time_of_max_autocorrelation'][i], training_data['SumLSP_10_7_Day_Power'][i], training_data['SumLSP_7_4_Day_Power'][i], training_data['SumLSP_4_1_Day_Power'][i], training_data['SumLSP_1_p5_Day_Power'][i], training_data['Entropy'][i]\n",
      "/var/folders/gy/0vj93nbd4x5bt_bpj2r46w7h0000gn/T/ipykernel_24137/1640273581.py:54: DeprecationWarning: setting an array element with a sequence. This was supported in some cases where the elements are arrays with a single element. For example `np.array([1, np.array([2])], dtype=int)`. In the future this will raise the same ValueError as `np.array([1, [2]], dtype=int)`.\n",
      "  X_valid[i]= validation_data['rms'][i], validation_data['std'][i], validation_data['MAD'][i], validation_data['sigmaG'][i], validation_data['skewness'][i], validation_data['von_neumann_ratio'][i], validation_data['J_Stetson'][i], validation_data['max_power'][i], validation_data['freq_at_max_power'][i], validation_data['ratio_of_power_at_high_v_low_freq'][i], validation_data['max_autocorrelation'][i], validation_data['time_of_max_autocorrelation'][i], validation_data['SumLSP_10_7_Day_Power'][i], validation_data['SumLSP_7_4_Day_Power'][i], validation_data['SumLSP_4_1_Day_Power'][i], validation_data['SumLSP_1_p5_Day_Power'][i], validation_data['Entropy'][i]\n",
      "/var/folders/gy/0vj93nbd4x5bt_bpj2r46w7h0000gn/T/ipykernel_24137/1640273581.py:59: DeprecationWarning: setting an array element with a sequence. This was supported in some cases where the elements are arrays with a single element. For example `np.array([1, np.array([2])], dtype=int)`. In the future this will raise the same ValueError as `np.array([1, [2]], dtype=int)`.\n",
      "  X_test[i]= test_data['rms'][i], test_data['std'][i], test_data['MAD'][i], test_data['sigmaG'][i], test_data['skewness'][i], test_data['von_neumann_ratio'][i], test_data['J_Stetson'][i], test_data['max_power'][i], test_data['freq_at_max_power'][i], test_data['ratio_of_power_at_high_v_low_freq'][i], test_data['max_autocorrelation'][i], test_data['time_of_max_autocorrelation'][i], test_data['SumLSP_10_7_Day_Power'][i], test_data['SumLSP_7_4_Day_Power'][i], test_data['SumLSP_4_1_Day_Power'][i], test_data['SumLSP_1_p5_Day_Power'][i], test_data['Entropy'][i]\n"
     ]
    },
    {
     "name": "stdout",
     "output_type": "stream",
     "text": [
      "\u001b[1m146/146\u001b[0m \u001b[32m━━━━━━━━━━━━━━━━━━━━\u001b[0m\u001b[37m\u001b[0m \u001b[1m0s\u001b[0m 2ms/step\n"
     ]
    },
    {
     "name": "stderr",
     "output_type": "stream",
     "text": [
      "/var/folders/gy/0vj93nbd4x5bt_bpj2r46w7h0000gn/T/ipykernel_24137/1640273581.py:49: DeprecationWarning: setting an array element with a sequence. This was supported in some cases where the elements are arrays with a single element. For example `np.array([1, np.array([2])], dtype=int)`. In the future this will raise the same ValueError as `np.array([1, [2]], dtype=int)`.\n",
      "  X_train[i]= training_data['rms'][i], training_data['std'][i], training_data['MAD'][i], training_data['sigmaG'][i], training_data['skewness'][i], training_data['von_neumann_ratio'][i], training_data['J_Stetson'][i], training_data['max_power'][i], training_data['freq_at_max_power'][i], training_data['ratio_of_power_at_high_v_low_freq'][i], training_data['max_autocorrelation'][i], training_data['time_of_max_autocorrelation'][i], training_data['SumLSP_10_7_Day_Power'][i], training_data['SumLSP_7_4_Day_Power'][i], training_data['SumLSP_4_1_Day_Power'][i], training_data['SumLSP_1_p5_Day_Power'][i], training_data['Entropy'][i]\n",
      "/var/folders/gy/0vj93nbd4x5bt_bpj2r46w7h0000gn/T/ipykernel_24137/1640273581.py:54: DeprecationWarning: setting an array element with a sequence. This was supported in some cases where the elements are arrays with a single element. For example `np.array([1, np.array([2])], dtype=int)`. In the future this will raise the same ValueError as `np.array([1, [2]], dtype=int)`.\n",
      "  X_valid[i]= validation_data['rms'][i], validation_data['std'][i], validation_data['MAD'][i], validation_data['sigmaG'][i], validation_data['skewness'][i], validation_data['von_neumann_ratio'][i], validation_data['J_Stetson'][i], validation_data['max_power'][i], validation_data['freq_at_max_power'][i], validation_data['ratio_of_power_at_high_v_low_freq'][i], validation_data['max_autocorrelation'][i], validation_data['time_of_max_autocorrelation'][i], validation_data['SumLSP_10_7_Day_Power'][i], validation_data['SumLSP_7_4_Day_Power'][i], validation_data['SumLSP_4_1_Day_Power'][i], validation_data['SumLSP_1_p5_Day_Power'][i], validation_data['Entropy'][i]\n",
      "/var/folders/gy/0vj93nbd4x5bt_bpj2r46w7h0000gn/T/ipykernel_24137/1640273581.py:59: DeprecationWarning: setting an array element with a sequence. This was supported in some cases where the elements are arrays with a single element. For example `np.array([1, np.array([2])], dtype=int)`. In the future this will raise the same ValueError as `np.array([1, [2]], dtype=int)`.\n",
      "  X_test[i]= test_data['rms'][i], test_data['std'][i], test_data['MAD'][i], test_data['sigmaG'][i], test_data['skewness'][i], test_data['von_neumann_ratio'][i], test_data['J_Stetson'][i], test_data['max_power'][i], test_data['freq_at_max_power'][i], test_data['ratio_of_power_at_high_v_low_freq'][i], test_data['max_autocorrelation'][i], test_data['time_of_max_autocorrelation'][i], test_data['SumLSP_10_7_Day_Power'][i], test_data['SumLSP_7_4_Day_Power'][i], test_data['SumLSP_4_1_Day_Power'][i], test_data['SumLSP_1_p5_Day_Power'][i], test_data['Entropy'][i]\n"
     ]
    },
    {
     "name": "stdout",
     "output_type": "stream",
     "text": [
      "\u001b[1m139/139\u001b[0m \u001b[32m━━━━━━━━━━━━━━━━━━━━\u001b[0m\u001b[37m\u001b[0m \u001b[1m0s\u001b[0m 3ms/step\n"
     ]
    },
    {
     "name": "stderr",
     "output_type": "stream",
     "text": [
      "/var/folders/gy/0vj93nbd4x5bt_bpj2r46w7h0000gn/T/ipykernel_24137/1640273581.py:49: DeprecationWarning: setting an array element with a sequence. This was supported in some cases where the elements are arrays with a single element. For example `np.array([1, np.array([2])], dtype=int)`. In the future this will raise the same ValueError as `np.array([1, [2]], dtype=int)`.\n",
      "  X_train[i]= training_data['rms'][i], training_data['std'][i], training_data['MAD'][i], training_data['sigmaG'][i], training_data['skewness'][i], training_data['von_neumann_ratio'][i], training_data['J_Stetson'][i], training_data['max_power'][i], training_data['freq_at_max_power'][i], training_data['ratio_of_power_at_high_v_low_freq'][i], training_data['max_autocorrelation'][i], training_data['time_of_max_autocorrelation'][i], training_data['SumLSP_10_7_Day_Power'][i], training_data['SumLSP_7_4_Day_Power'][i], training_data['SumLSP_4_1_Day_Power'][i], training_data['SumLSP_1_p5_Day_Power'][i], training_data['Entropy'][i]\n",
      "/var/folders/gy/0vj93nbd4x5bt_bpj2r46w7h0000gn/T/ipykernel_24137/1640273581.py:54: DeprecationWarning: setting an array element with a sequence. This was supported in some cases where the elements are arrays with a single element. For example `np.array([1, np.array([2])], dtype=int)`. In the future this will raise the same ValueError as `np.array([1, [2]], dtype=int)`.\n",
      "  X_valid[i]= validation_data['rms'][i], validation_data['std'][i], validation_data['MAD'][i], validation_data['sigmaG'][i], validation_data['skewness'][i], validation_data['von_neumann_ratio'][i], validation_data['J_Stetson'][i], validation_data['max_power'][i], validation_data['freq_at_max_power'][i], validation_data['ratio_of_power_at_high_v_low_freq'][i], validation_data['max_autocorrelation'][i], validation_data['time_of_max_autocorrelation'][i], validation_data['SumLSP_10_7_Day_Power'][i], validation_data['SumLSP_7_4_Day_Power'][i], validation_data['SumLSP_4_1_Day_Power'][i], validation_data['SumLSP_1_p5_Day_Power'][i], validation_data['Entropy'][i]\n",
      "/var/folders/gy/0vj93nbd4x5bt_bpj2r46w7h0000gn/T/ipykernel_24137/1640273581.py:59: DeprecationWarning: setting an array element with a sequence. This was supported in some cases where the elements are arrays with a single element. For example `np.array([1, np.array([2])], dtype=int)`. In the future this will raise the same ValueError as `np.array([1, [2]], dtype=int)`.\n",
      "  X_test[i]= test_data['rms'][i], test_data['std'][i], test_data['MAD'][i], test_data['sigmaG'][i], test_data['skewness'][i], test_data['von_neumann_ratio'][i], test_data['J_Stetson'][i], test_data['max_power'][i], test_data['freq_at_max_power'][i], test_data['ratio_of_power_at_high_v_low_freq'][i], test_data['max_autocorrelation'][i], test_data['time_of_max_autocorrelation'][i], test_data['SumLSP_10_7_Day_Power'][i], test_data['SumLSP_7_4_Day_Power'][i], test_data['SumLSP_4_1_Day_Power'][i], test_data['SumLSP_1_p5_Day_Power'][i], test_data['Entropy'][i]\n"
     ]
    },
    {
     "name": "stdout",
     "output_type": "stream",
     "text": [
      "\u001b[1m152/152\u001b[0m \u001b[32m━━━━━━━━━━━━━━━━━━━━\u001b[0m\u001b[37m\u001b[0m \u001b[1m0s\u001b[0m 2ms/step\n"
     ]
    },
    {
     "name": "stderr",
     "output_type": "stream",
     "text": [
      "/var/folders/gy/0vj93nbd4x5bt_bpj2r46w7h0000gn/T/ipykernel_24137/1640273581.py:49: DeprecationWarning: setting an array element with a sequence. This was supported in some cases where the elements are arrays with a single element. For example `np.array([1, np.array([2])], dtype=int)`. In the future this will raise the same ValueError as `np.array([1, [2]], dtype=int)`.\n",
      "  X_train[i]= training_data['rms'][i], training_data['std'][i], training_data['MAD'][i], training_data['sigmaG'][i], training_data['skewness'][i], training_data['von_neumann_ratio'][i], training_data['J_Stetson'][i], training_data['max_power'][i], training_data['freq_at_max_power'][i], training_data['ratio_of_power_at_high_v_low_freq'][i], training_data['max_autocorrelation'][i], training_data['time_of_max_autocorrelation'][i], training_data['SumLSP_10_7_Day_Power'][i], training_data['SumLSP_7_4_Day_Power'][i], training_data['SumLSP_4_1_Day_Power'][i], training_data['SumLSP_1_p5_Day_Power'][i], training_data['Entropy'][i]\n",
      "/var/folders/gy/0vj93nbd4x5bt_bpj2r46w7h0000gn/T/ipykernel_24137/1640273581.py:54: DeprecationWarning: setting an array element with a sequence. This was supported in some cases where the elements are arrays with a single element. For example `np.array([1, np.array([2])], dtype=int)`. In the future this will raise the same ValueError as `np.array([1, [2]], dtype=int)`.\n",
      "  X_valid[i]= validation_data['rms'][i], validation_data['std'][i], validation_data['MAD'][i], validation_data['sigmaG'][i], validation_data['skewness'][i], validation_data['von_neumann_ratio'][i], validation_data['J_Stetson'][i], validation_data['max_power'][i], validation_data['freq_at_max_power'][i], validation_data['ratio_of_power_at_high_v_low_freq'][i], validation_data['max_autocorrelation'][i], validation_data['time_of_max_autocorrelation'][i], validation_data['SumLSP_10_7_Day_Power'][i], validation_data['SumLSP_7_4_Day_Power'][i], validation_data['SumLSP_4_1_Day_Power'][i], validation_data['SumLSP_1_p5_Day_Power'][i], validation_data['Entropy'][i]\n",
      "/var/folders/gy/0vj93nbd4x5bt_bpj2r46w7h0000gn/T/ipykernel_24137/1640273581.py:59: DeprecationWarning: setting an array element with a sequence. This was supported in some cases where the elements are arrays with a single element. For example `np.array([1, np.array([2])], dtype=int)`. In the future this will raise the same ValueError as `np.array([1, [2]], dtype=int)`.\n",
      "  X_test[i]= test_data['rms'][i], test_data['std'][i], test_data['MAD'][i], test_data['sigmaG'][i], test_data['skewness'][i], test_data['von_neumann_ratio'][i], test_data['J_Stetson'][i], test_data['max_power'][i], test_data['freq_at_max_power'][i], test_data['ratio_of_power_at_high_v_low_freq'][i], test_data['max_autocorrelation'][i], test_data['time_of_max_autocorrelation'][i], test_data['SumLSP_10_7_Day_Power'][i], test_data['SumLSP_7_4_Day_Power'][i], test_data['SumLSP_4_1_Day_Power'][i], test_data['SumLSP_1_p5_Day_Power'][i], test_data['Entropy'][i]\n"
     ]
    },
    {
     "name": "stdout",
     "output_type": "stream",
     "text": [
      "\u001b[1m116/116\u001b[0m \u001b[32m━━━━━━━━━━━━━━━━━━━━\u001b[0m\u001b[37m\u001b[0m \u001b[1m0s\u001b[0m 2ms/step\n"
     ]
    },
    {
     "name": "stderr",
     "output_type": "stream",
     "text": [
      "/var/folders/gy/0vj93nbd4x5bt_bpj2r46w7h0000gn/T/ipykernel_24137/1640273581.py:49: DeprecationWarning: setting an array element with a sequence. This was supported in some cases where the elements are arrays with a single element. For example `np.array([1, np.array([2])], dtype=int)`. In the future this will raise the same ValueError as `np.array([1, [2]], dtype=int)`.\n",
      "  X_train[i]= training_data['rms'][i], training_data['std'][i], training_data['MAD'][i], training_data['sigmaG'][i], training_data['skewness'][i], training_data['von_neumann_ratio'][i], training_data['J_Stetson'][i], training_data['max_power'][i], training_data['freq_at_max_power'][i], training_data['ratio_of_power_at_high_v_low_freq'][i], training_data['max_autocorrelation'][i], training_data['time_of_max_autocorrelation'][i], training_data['SumLSP_10_7_Day_Power'][i], training_data['SumLSP_7_4_Day_Power'][i], training_data['SumLSP_4_1_Day_Power'][i], training_data['SumLSP_1_p5_Day_Power'][i], training_data['Entropy'][i]\n",
      "/var/folders/gy/0vj93nbd4x5bt_bpj2r46w7h0000gn/T/ipykernel_24137/1640273581.py:54: DeprecationWarning: setting an array element with a sequence. This was supported in some cases where the elements are arrays with a single element. For example `np.array([1, np.array([2])], dtype=int)`. In the future this will raise the same ValueError as `np.array([1, [2]], dtype=int)`.\n",
      "  X_valid[i]= validation_data['rms'][i], validation_data['std'][i], validation_data['MAD'][i], validation_data['sigmaG'][i], validation_data['skewness'][i], validation_data['von_neumann_ratio'][i], validation_data['J_Stetson'][i], validation_data['max_power'][i], validation_data['freq_at_max_power'][i], validation_data['ratio_of_power_at_high_v_low_freq'][i], validation_data['max_autocorrelation'][i], validation_data['time_of_max_autocorrelation'][i], validation_data['SumLSP_10_7_Day_Power'][i], validation_data['SumLSP_7_4_Day_Power'][i], validation_data['SumLSP_4_1_Day_Power'][i], validation_data['SumLSP_1_p5_Day_Power'][i], validation_data['Entropy'][i]\n",
      "/var/folders/gy/0vj93nbd4x5bt_bpj2r46w7h0000gn/T/ipykernel_24137/1640273581.py:59: DeprecationWarning: setting an array element with a sequence. This was supported in some cases where the elements are arrays with a single element. For example `np.array([1, np.array([2])], dtype=int)`. In the future this will raise the same ValueError as `np.array([1, [2]], dtype=int)`.\n",
      "  X_test[i]= test_data['rms'][i], test_data['std'][i], test_data['MAD'][i], test_data['sigmaG'][i], test_data['skewness'][i], test_data['von_neumann_ratio'][i], test_data['J_Stetson'][i], test_data['max_power'][i], test_data['freq_at_max_power'][i], test_data['ratio_of_power_at_high_v_low_freq'][i], test_data['max_autocorrelation'][i], test_data['time_of_max_autocorrelation'][i], test_data['SumLSP_10_7_Day_Power'][i], test_data['SumLSP_7_4_Day_Power'][i], test_data['SumLSP_4_1_Day_Power'][i], test_data['SumLSP_1_p5_Day_Power'][i], test_data['Entropy'][i]\n"
     ]
    },
    {
     "name": "stdout",
     "output_type": "stream",
     "text": [
      "\u001b[1m96/96\u001b[0m \u001b[32m━━━━━━━━━━━━━━━━━━━━\u001b[0m\u001b[37m\u001b[0m \u001b[1m0s\u001b[0m 2ms/step\n"
     ]
    },
    {
     "name": "stderr",
     "output_type": "stream",
     "text": [
      "/var/folders/gy/0vj93nbd4x5bt_bpj2r46w7h0000gn/T/ipykernel_24137/1640273581.py:49: DeprecationWarning: setting an array element with a sequence. This was supported in some cases where the elements are arrays with a single element. For example `np.array([1, np.array([2])], dtype=int)`. In the future this will raise the same ValueError as `np.array([1, [2]], dtype=int)`.\n",
      "  X_train[i]= training_data['rms'][i], training_data['std'][i], training_data['MAD'][i], training_data['sigmaG'][i], training_data['skewness'][i], training_data['von_neumann_ratio'][i], training_data['J_Stetson'][i], training_data['max_power'][i], training_data['freq_at_max_power'][i], training_data['ratio_of_power_at_high_v_low_freq'][i], training_data['max_autocorrelation'][i], training_data['time_of_max_autocorrelation'][i], training_data['SumLSP_10_7_Day_Power'][i], training_data['SumLSP_7_4_Day_Power'][i], training_data['SumLSP_4_1_Day_Power'][i], training_data['SumLSP_1_p5_Day_Power'][i], training_data['Entropy'][i]\n",
      "/var/folders/gy/0vj93nbd4x5bt_bpj2r46w7h0000gn/T/ipykernel_24137/1640273581.py:54: DeprecationWarning: setting an array element with a sequence. This was supported in some cases where the elements are arrays with a single element. For example `np.array([1, np.array([2])], dtype=int)`. In the future this will raise the same ValueError as `np.array([1, [2]], dtype=int)`.\n",
      "  X_valid[i]= validation_data['rms'][i], validation_data['std'][i], validation_data['MAD'][i], validation_data['sigmaG'][i], validation_data['skewness'][i], validation_data['von_neumann_ratio'][i], validation_data['J_Stetson'][i], validation_data['max_power'][i], validation_data['freq_at_max_power'][i], validation_data['ratio_of_power_at_high_v_low_freq'][i], validation_data['max_autocorrelation'][i], validation_data['time_of_max_autocorrelation'][i], validation_data['SumLSP_10_7_Day_Power'][i], validation_data['SumLSP_7_4_Day_Power'][i], validation_data['SumLSP_4_1_Day_Power'][i], validation_data['SumLSP_1_p5_Day_Power'][i], validation_data['Entropy'][i]\n",
      "/var/folders/gy/0vj93nbd4x5bt_bpj2r46w7h0000gn/T/ipykernel_24137/1640273581.py:59: DeprecationWarning: setting an array element with a sequence. This was supported in some cases where the elements are arrays with a single element. For example `np.array([1, np.array([2])], dtype=int)`. In the future this will raise the same ValueError as `np.array([1, [2]], dtype=int)`.\n",
      "  X_test[i]= test_data['rms'][i], test_data['std'][i], test_data['MAD'][i], test_data['sigmaG'][i], test_data['skewness'][i], test_data['von_neumann_ratio'][i], test_data['J_Stetson'][i], test_data['max_power'][i], test_data['freq_at_max_power'][i], test_data['ratio_of_power_at_high_v_low_freq'][i], test_data['max_autocorrelation'][i], test_data['time_of_max_autocorrelation'][i], test_data['SumLSP_10_7_Day_Power'][i], test_data['SumLSP_7_4_Day_Power'][i], test_data['SumLSP_4_1_Day_Power'][i], test_data['SumLSP_1_p5_Day_Power'][i], test_data['Entropy'][i]\n"
     ]
    },
    {
     "name": "stdout",
     "output_type": "stream",
     "text": [
      "\u001b[1m130/130\u001b[0m \u001b[32m━━━━━━━━━━━━━━━━━━━━\u001b[0m\u001b[37m\u001b[0m \u001b[1m0s\u001b[0m 2ms/step\n"
     ]
    },
    {
     "name": "stderr",
     "output_type": "stream",
     "text": [
      "/var/folders/gy/0vj93nbd4x5bt_bpj2r46w7h0000gn/T/ipykernel_24137/1640273581.py:49: DeprecationWarning: setting an array element with a sequence. This was supported in some cases where the elements are arrays with a single element. For example `np.array([1, np.array([2])], dtype=int)`. In the future this will raise the same ValueError as `np.array([1, [2]], dtype=int)`.\n",
      "  X_train[i]= training_data['rms'][i], training_data['std'][i], training_data['MAD'][i], training_data['sigmaG'][i], training_data['skewness'][i], training_data['von_neumann_ratio'][i], training_data['J_Stetson'][i], training_data['max_power'][i], training_data['freq_at_max_power'][i], training_data['ratio_of_power_at_high_v_low_freq'][i], training_data['max_autocorrelation'][i], training_data['time_of_max_autocorrelation'][i], training_data['SumLSP_10_7_Day_Power'][i], training_data['SumLSP_7_4_Day_Power'][i], training_data['SumLSP_4_1_Day_Power'][i], training_data['SumLSP_1_p5_Day_Power'][i], training_data['Entropy'][i]\n",
      "/var/folders/gy/0vj93nbd4x5bt_bpj2r46w7h0000gn/T/ipykernel_24137/1640273581.py:54: DeprecationWarning: setting an array element with a sequence. This was supported in some cases where the elements are arrays with a single element. For example `np.array([1, np.array([2])], dtype=int)`. In the future this will raise the same ValueError as `np.array([1, [2]], dtype=int)`.\n",
      "  X_valid[i]= validation_data['rms'][i], validation_data['std'][i], validation_data['MAD'][i], validation_data['sigmaG'][i], validation_data['skewness'][i], validation_data['von_neumann_ratio'][i], validation_data['J_Stetson'][i], validation_data['max_power'][i], validation_data['freq_at_max_power'][i], validation_data['ratio_of_power_at_high_v_low_freq'][i], validation_data['max_autocorrelation'][i], validation_data['time_of_max_autocorrelation'][i], validation_data['SumLSP_10_7_Day_Power'][i], validation_data['SumLSP_7_4_Day_Power'][i], validation_data['SumLSP_4_1_Day_Power'][i], validation_data['SumLSP_1_p5_Day_Power'][i], validation_data['Entropy'][i]\n",
      "/var/folders/gy/0vj93nbd4x5bt_bpj2r46w7h0000gn/T/ipykernel_24137/1640273581.py:59: DeprecationWarning: setting an array element with a sequence. This was supported in some cases where the elements are arrays with a single element. For example `np.array([1, np.array([2])], dtype=int)`. In the future this will raise the same ValueError as `np.array([1, [2]], dtype=int)`.\n",
      "  X_test[i]= test_data['rms'][i], test_data['std'][i], test_data['MAD'][i], test_data['sigmaG'][i], test_data['skewness'][i], test_data['von_neumann_ratio'][i], test_data['J_Stetson'][i], test_data['max_power'][i], test_data['freq_at_max_power'][i], test_data['ratio_of_power_at_high_v_low_freq'][i], test_data['max_autocorrelation'][i], test_data['time_of_max_autocorrelation'][i], test_data['SumLSP_10_7_Day_Power'][i], test_data['SumLSP_7_4_Day_Power'][i], test_data['SumLSP_4_1_Day_Power'][i], test_data['SumLSP_1_p5_Day_Power'][i], test_data['Entropy'][i]\n"
     ]
    },
    {
     "name": "stdout",
     "output_type": "stream",
     "text": [
      "\u001b[1m150/150\u001b[0m \u001b[32m━━━━━━━━━━━━━━━━━━━━\u001b[0m\u001b[37m\u001b[0m \u001b[1m0s\u001b[0m 2ms/step\n"
     ]
    },
    {
     "name": "stderr",
     "output_type": "stream",
     "text": [
      "/var/folders/gy/0vj93nbd4x5bt_bpj2r46w7h0000gn/T/ipykernel_24137/1640273581.py:49: DeprecationWarning: setting an array element with a sequence. This was supported in some cases where the elements are arrays with a single element. For example `np.array([1, np.array([2])], dtype=int)`. In the future this will raise the same ValueError as `np.array([1, [2]], dtype=int)`.\n",
      "  X_train[i]= training_data['rms'][i], training_data['std'][i], training_data['MAD'][i], training_data['sigmaG'][i], training_data['skewness'][i], training_data['von_neumann_ratio'][i], training_data['J_Stetson'][i], training_data['max_power'][i], training_data['freq_at_max_power'][i], training_data['ratio_of_power_at_high_v_low_freq'][i], training_data['max_autocorrelation'][i], training_data['time_of_max_autocorrelation'][i], training_data['SumLSP_10_7_Day_Power'][i], training_data['SumLSP_7_4_Day_Power'][i], training_data['SumLSP_4_1_Day_Power'][i], training_data['SumLSP_1_p5_Day_Power'][i], training_data['Entropy'][i]\n",
      "/var/folders/gy/0vj93nbd4x5bt_bpj2r46w7h0000gn/T/ipykernel_24137/1640273581.py:54: DeprecationWarning: setting an array element with a sequence. This was supported in some cases where the elements are arrays with a single element. For example `np.array([1, np.array([2])], dtype=int)`. In the future this will raise the same ValueError as `np.array([1, [2]], dtype=int)`.\n",
      "  X_valid[i]= validation_data['rms'][i], validation_data['std'][i], validation_data['MAD'][i], validation_data['sigmaG'][i], validation_data['skewness'][i], validation_data['von_neumann_ratio'][i], validation_data['J_Stetson'][i], validation_data['max_power'][i], validation_data['freq_at_max_power'][i], validation_data['ratio_of_power_at_high_v_low_freq'][i], validation_data['max_autocorrelation'][i], validation_data['time_of_max_autocorrelation'][i], validation_data['SumLSP_10_7_Day_Power'][i], validation_data['SumLSP_7_4_Day_Power'][i], validation_data['SumLSP_4_1_Day_Power'][i], validation_data['SumLSP_1_p5_Day_Power'][i], validation_data['Entropy'][i]\n",
      "/var/folders/gy/0vj93nbd4x5bt_bpj2r46w7h0000gn/T/ipykernel_24137/1640273581.py:59: DeprecationWarning: setting an array element with a sequence. This was supported in some cases where the elements are arrays with a single element. For example `np.array([1, np.array([2])], dtype=int)`. In the future this will raise the same ValueError as `np.array([1, [2]], dtype=int)`.\n",
      "  X_test[i]= test_data['rms'][i], test_data['std'][i], test_data['MAD'][i], test_data['sigmaG'][i], test_data['skewness'][i], test_data['von_neumann_ratio'][i], test_data['J_Stetson'][i], test_data['max_power'][i], test_data['freq_at_max_power'][i], test_data['ratio_of_power_at_high_v_low_freq'][i], test_data['max_autocorrelation'][i], test_data['time_of_max_autocorrelation'][i], test_data['SumLSP_10_7_Day_Power'][i], test_data['SumLSP_7_4_Day_Power'][i], test_data['SumLSP_4_1_Day_Power'][i], test_data['SumLSP_1_p5_Day_Power'][i], test_data['Entropy'][i]\n"
     ]
    },
    {
     "name": "stdout",
     "output_type": "stream",
     "text": [
      "\u001b[1m169/169\u001b[0m \u001b[32m━━━━━━━━━━━━━━━━━━━━\u001b[0m\u001b[37m\u001b[0m \u001b[1m0s\u001b[0m 2ms/step\n"
     ]
    },
    {
     "name": "stderr",
     "output_type": "stream",
     "text": [
      "/var/folders/gy/0vj93nbd4x5bt_bpj2r46w7h0000gn/T/ipykernel_24137/1640273581.py:49: DeprecationWarning: setting an array element with a sequence. This was supported in some cases where the elements are arrays with a single element. For example `np.array([1, np.array([2])], dtype=int)`. In the future this will raise the same ValueError as `np.array([1, [2]], dtype=int)`.\n",
      "  X_train[i]= training_data['rms'][i], training_data['std'][i], training_data['MAD'][i], training_data['sigmaG'][i], training_data['skewness'][i], training_data['von_neumann_ratio'][i], training_data['J_Stetson'][i], training_data['max_power'][i], training_data['freq_at_max_power'][i], training_data['ratio_of_power_at_high_v_low_freq'][i], training_data['max_autocorrelation'][i], training_data['time_of_max_autocorrelation'][i], training_data['SumLSP_10_7_Day_Power'][i], training_data['SumLSP_7_4_Day_Power'][i], training_data['SumLSP_4_1_Day_Power'][i], training_data['SumLSP_1_p5_Day_Power'][i], training_data['Entropy'][i]\n",
      "/var/folders/gy/0vj93nbd4x5bt_bpj2r46w7h0000gn/T/ipykernel_24137/1640273581.py:54: DeprecationWarning: setting an array element with a sequence. This was supported in some cases where the elements are arrays with a single element. For example `np.array([1, np.array([2])], dtype=int)`. In the future this will raise the same ValueError as `np.array([1, [2]], dtype=int)`.\n",
      "  X_valid[i]= validation_data['rms'][i], validation_data['std'][i], validation_data['MAD'][i], validation_data['sigmaG'][i], validation_data['skewness'][i], validation_data['von_neumann_ratio'][i], validation_data['J_Stetson'][i], validation_data['max_power'][i], validation_data['freq_at_max_power'][i], validation_data['ratio_of_power_at_high_v_low_freq'][i], validation_data['max_autocorrelation'][i], validation_data['time_of_max_autocorrelation'][i], validation_data['SumLSP_10_7_Day_Power'][i], validation_data['SumLSP_7_4_Day_Power'][i], validation_data['SumLSP_4_1_Day_Power'][i], validation_data['SumLSP_1_p5_Day_Power'][i], validation_data['Entropy'][i]\n",
      "/var/folders/gy/0vj93nbd4x5bt_bpj2r46w7h0000gn/T/ipykernel_24137/1640273581.py:59: DeprecationWarning: setting an array element with a sequence. This was supported in some cases where the elements are arrays with a single element. For example `np.array([1, np.array([2])], dtype=int)`. In the future this will raise the same ValueError as `np.array([1, [2]], dtype=int)`.\n",
      "  X_test[i]= test_data['rms'][i], test_data['std'][i], test_data['MAD'][i], test_data['sigmaG'][i], test_data['skewness'][i], test_data['von_neumann_ratio'][i], test_data['J_Stetson'][i], test_data['max_power'][i], test_data['freq_at_max_power'][i], test_data['ratio_of_power_at_high_v_low_freq'][i], test_data['max_autocorrelation'][i], test_data['time_of_max_autocorrelation'][i], test_data['SumLSP_10_7_Day_Power'][i], test_data['SumLSP_7_4_Day_Power'][i], test_data['SumLSP_4_1_Day_Power'][i], test_data['SumLSP_1_p5_Day_Power'][i], test_data['Entropy'][i]\n"
     ]
    },
    {
     "name": "stdout",
     "output_type": "stream",
     "text": [
      "\u001b[1m173/173\u001b[0m \u001b[32m━━━━━━━━━━━━━━━━━━━━\u001b[0m\u001b[37m\u001b[0m \u001b[1m0s\u001b[0m 2ms/step\n"
     ]
    },
    {
     "name": "stderr",
     "output_type": "stream",
     "text": [
      "/var/folders/gy/0vj93nbd4x5bt_bpj2r46w7h0000gn/T/ipykernel_24137/1640273581.py:49: DeprecationWarning: setting an array element with a sequence. This was supported in some cases where the elements are arrays with a single element. For example `np.array([1, np.array([2])], dtype=int)`. In the future this will raise the same ValueError as `np.array([1, [2]], dtype=int)`.\n",
      "  X_train[i]= training_data['rms'][i], training_data['std'][i], training_data['MAD'][i], training_data['sigmaG'][i], training_data['skewness'][i], training_data['von_neumann_ratio'][i], training_data['J_Stetson'][i], training_data['max_power'][i], training_data['freq_at_max_power'][i], training_data['ratio_of_power_at_high_v_low_freq'][i], training_data['max_autocorrelation'][i], training_data['time_of_max_autocorrelation'][i], training_data['SumLSP_10_7_Day_Power'][i], training_data['SumLSP_7_4_Day_Power'][i], training_data['SumLSP_4_1_Day_Power'][i], training_data['SumLSP_1_p5_Day_Power'][i], training_data['Entropy'][i]\n",
      "/var/folders/gy/0vj93nbd4x5bt_bpj2r46w7h0000gn/T/ipykernel_24137/1640273581.py:54: DeprecationWarning: setting an array element with a sequence. This was supported in some cases where the elements are arrays with a single element. For example `np.array([1, np.array([2])], dtype=int)`. In the future this will raise the same ValueError as `np.array([1, [2]], dtype=int)`.\n",
      "  X_valid[i]= validation_data['rms'][i], validation_data['std'][i], validation_data['MAD'][i], validation_data['sigmaG'][i], validation_data['skewness'][i], validation_data['von_neumann_ratio'][i], validation_data['J_Stetson'][i], validation_data['max_power'][i], validation_data['freq_at_max_power'][i], validation_data['ratio_of_power_at_high_v_low_freq'][i], validation_data['max_autocorrelation'][i], validation_data['time_of_max_autocorrelation'][i], validation_data['SumLSP_10_7_Day_Power'][i], validation_data['SumLSP_7_4_Day_Power'][i], validation_data['SumLSP_4_1_Day_Power'][i], validation_data['SumLSP_1_p5_Day_Power'][i], validation_data['Entropy'][i]\n",
      "/var/folders/gy/0vj93nbd4x5bt_bpj2r46w7h0000gn/T/ipykernel_24137/1640273581.py:59: DeprecationWarning: setting an array element with a sequence. This was supported in some cases where the elements are arrays with a single element. For example `np.array([1, np.array([2])], dtype=int)`. In the future this will raise the same ValueError as `np.array([1, [2]], dtype=int)`.\n",
      "  X_test[i]= test_data['rms'][i], test_data['std'][i], test_data['MAD'][i], test_data['sigmaG'][i], test_data['skewness'][i], test_data['von_neumann_ratio'][i], test_data['J_Stetson'][i], test_data['max_power'][i], test_data['freq_at_max_power'][i], test_data['ratio_of_power_at_high_v_low_freq'][i], test_data['max_autocorrelation'][i], test_data['time_of_max_autocorrelation'][i], test_data['SumLSP_10_7_Day_Power'][i], test_data['SumLSP_7_4_Day_Power'][i], test_data['SumLSP_4_1_Day_Power'][i], test_data['SumLSP_1_p5_Day_Power'][i], test_data['Entropy'][i]\n"
     ]
    },
    {
     "name": "stdout",
     "output_type": "stream",
     "text": [
      "\u001b[1m199/199\u001b[0m \u001b[32m━━━━━━━━━━━━━━━━━━━━\u001b[0m\u001b[37m\u001b[0m \u001b[1m1s\u001b[0m 3ms/step\n"
     ]
    },
    {
     "name": "stderr",
     "output_type": "stream",
     "text": [
      "/var/folders/gy/0vj93nbd4x5bt_bpj2r46w7h0000gn/T/ipykernel_24137/1640273581.py:49: DeprecationWarning: setting an array element with a sequence. This was supported in some cases where the elements are arrays with a single element. For example `np.array([1, np.array([2])], dtype=int)`. In the future this will raise the same ValueError as `np.array([1, [2]], dtype=int)`.\n",
      "  X_train[i]= training_data['rms'][i], training_data['std'][i], training_data['MAD'][i], training_data['sigmaG'][i], training_data['skewness'][i], training_data['von_neumann_ratio'][i], training_data['J_Stetson'][i], training_data['max_power'][i], training_data['freq_at_max_power'][i], training_data['ratio_of_power_at_high_v_low_freq'][i], training_data['max_autocorrelation'][i], training_data['time_of_max_autocorrelation'][i], training_data['SumLSP_10_7_Day_Power'][i], training_data['SumLSP_7_4_Day_Power'][i], training_data['SumLSP_4_1_Day_Power'][i], training_data['SumLSP_1_p5_Day_Power'][i], training_data['Entropy'][i]\n",
      "/var/folders/gy/0vj93nbd4x5bt_bpj2r46w7h0000gn/T/ipykernel_24137/1640273581.py:54: DeprecationWarning: setting an array element with a sequence. This was supported in some cases where the elements are arrays with a single element. For example `np.array([1, np.array([2])], dtype=int)`. In the future this will raise the same ValueError as `np.array([1, [2]], dtype=int)`.\n",
      "  X_valid[i]= validation_data['rms'][i], validation_data['std'][i], validation_data['MAD'][i], validation_data['sigmaG'][i], validation_data['skewness'][i], validation_data['von_neumann_ratio'][i], validation_data['J_Stetson'][i], validation_data['max_power'][i], validation_data['freq_at_max_power'][i], validation_data['ratio_of_power_at_high_v_low_freq'][i], validation_data['max_autocorrelation'][i], validation_data['time_of_max_autocorrelation'][i], validation_data['SumLSP_10_7_Day_Power'][i], validation_data['SumLSP_7_4_Day_Power'][i], validation_data['SumLSP_4_1_Day_Power'][i], validation_data['SumLSP_1_p5_Day_Power'][i], validation_data['Entropy'][i]\n",
      "/var/folders/gy/0vj93nbd4x5bt_bpj2r46w7h0000gn/T/ipykernel_24137/1640273581.py:59: DeprecationWarning: setting an array element with a sequence. This was supported in some cases where the elements are arrays with a single element. For example `np.array([1, np.array([2])], dtype=int)`. In the future this will raise the same ValueError as `np.array([1, [2]], dtype=int)`.\n",
      "  X_test[i]= test_data['rms'][i], test_data['std'][i], test_data['MAD'][i], test_data['sigmaG'][i], test_data['skewness'][i], test_data['von_neumann_ratio'][i], test_data['J_Stetson'][i], test_data['max_power'][i], test_data['freq_at_max_power'][i], test_data['ratio_of_power_at_high_v_low_freq'][i], test_data['max_autocorrelation'][i], test_data['time_of_max_autocorrelation'][i], test_data['SumLSP_10_7_Day_Power'][i], test_data['SumLSP_7_4_Day_Power'][i], test_data['SumLSP_4_1_Day_Power'][i], test_data['SumLSP_1_p5_Day_Power'][i], test_data['Entropy'][i]\n"
     ]
    },
    {
     "name": "stdout",
     "output_type": "stream",
     "text": [
      "\u001b[1m142/142\u001b[0m \u001b[32m━━━━━━━━━━━━━━━━━━━━\u001b[0m\u001b[37m\u001b[0m \u001b[1m0s\u001b[0m 3ms/step\n"
     ]
    },
    {
     "name": "stderr",
     "output_type": "stream",
     "text": [
      "/var/folders/gy/0vj93nbd4x5bt_bpj2r46w7h0000gn/T/ipykernel_24137/1640273581.py:49: DeprecationWarning: setting an array element with a sequence. This was supported in some cases where the elements are arrays with a single element. For example `np.array([1, np.array([2])], dtype=int)`. In the future this will raise the same ValueError as `np.array([1, [2]], dtype=int)`.\n",
      "  X_train[i]= training_data['rms'][i], training_data['std'][i], training_data['MAD'][i], training_data['sigmaG'][i], training_data['skewness'][i], training_data['von_neumann_ratio'][i], training_data['J_Stetson'][i], training_data['max_power'][i], training_data['freq_at_max_power'][i], training_data['ratio_of_power_at_high_v_low_freq'][i], training_data['max_autocorrelation'][i], training_data['time_of_max_autocorrelation'][i], training_data['SumLSP_10_7_Day_Power'][i], training_data['SumLSP_7_4_Day_Power'][i], training_data['SumLSP_4_1_Day_Power'][i], training_data['SumLSP_1_p5_Day_Power'][i], training_data['Entropy'][i]\n",
      "/var/folders/gy/0vj93nbd4x5bt_bpj2r46w7h0000gn/T/ipykernel_24137/1640273581.py:54: DeprecationWarning: setting an array element with a sequence. This was supported in some cases where the elements are arrays with a single element. For example `np.array([1, np.array([2])], dtype=int)`. In the future this will raise the same ValueError as `np.array([1, [2]], dtype=int)`.\n",
      "  X_valid[i]= validation_data['rms'][i], validation_data['std'][i], validation_data['MAD'][i], validation_data['sigmaG'][i], validation_data['skewness'][i], validation_data['von_neumann_ratio'][i], validation_data['J_Stetson'][i], validation_data['max_power'][i], validation_data['freq_at_max_power'][i], validation_data['ratio_of_power_at_high_v_low_freq'][i], validation_data['max_autocorrelation'][i], validation_data['time_of_max_autocorrelation'][i], validation_data['SumLSP_10_7_Day_Power'][i], validation_data['SumLSP_7_4_Day_Power'][i], validation_data['SumLSP_4_1_Day_Power'][i], validation_data['SumLSP_1_p5_Day_Power'][i], validation_data['Entropy'][i]\n",
      "/var/folders/gy/0vj93nbd4x5bt_bpj2r46w7h0000gn/T/ipykernel_24137/1640273581.py:59: DeprecationWarning: setting an array element with a sequence. This was supported in some cases where the elements are arrays with a single element. For example `np.array([1, np.array([2])], dtype=int)`. In the future this will raise the same ValueError as `np.array([1, [2]], dtype=int)`.\n",
      "  X_test[i]= test_data['rms'][i], test_data['std'][i], test_data['MAD'][i], test_data['sigmaG'][i], test_data['skewness'][i], test_data['von_neumann_ratio'][i], test_data['J_Stetson'][i], test_data['max_power'][i], test_data['freq_at_max_power'][i], test_data['ratio_of_power_at_high_v_low_freq'][i], test_data['max_autocorrelation'][i], test_data['time_of_max_autocorrelation'][i], test_data['SumLSP_10_7_Day_Power'][i], test_data['SumLSP_7_4_Day_Power'][i], test_data['SumLSP_4_1_Day_Power'][i], test_data['SumLSP_1_p5_Day_Power'][i], test_data['Entropy'][i]\n"
     ]
    },
    {
     "name": "stdout",
     "output_type": "stream",
     "text": [
      "\u001b[1m129/129\u001b[0m \u001b[32m━━━━━━━━━━━━━━━━━━━━\u001b[0m\u001b[37m\u001b[0m \u001b[1m0s\u001b[0m 3ms/step\n"
     ]
    },
    {
     "name": "stderr",
     "output_type": "stream",
     "text": [
      "/var/folders/gy/0vj93nbd4x5bt_bpj2r46w7h0000gn/T/ipykernel_24137/1640273581.py:49: DeprecationWarning: setting an array element with a sequence. This was supported in some cases where the elements are arrays with a single element. For example `np.array([1, np.array([2])], dtype=int)`. In the future this will raise the same ValueError as `np.array([1, [2]], dtype=int)`.\n",
      "  X_train[i]= training_data['rms'][i], training_data['std'][i], training_data['MAD'][i], training_data['sigmaG'][i], training_data['skewness'][i], training_data['von_neumann_ratio'][i], training_data['J_Stetson'][i], training_data['max_power'][i], training_data['freq_at_max_power'][i], training_data['ratio_of_power_at_high_v_low_freq'][i], training_data['max_autocorrelation'][i], training_data['time_of_max_autocorrelation'][i], training_data['SumLSP_10_7_Day_Power'][i], training_data['SumLSP_7_4_Day_Power'][i], training_data['SumLSP_4_1_Day_Power'][i], training_data['SumLSP_1_p5_Day_Power'][i], training_data['Entropy'][i]\n",
      "/var/folders/gy/0vj93nbd4x5bt_bpj2r46w7h0000gn/T/ipykernel_24137/1640273581.py:54: DeprecationWarning: setting an array element with a sequence. This was supported in some cases where the elements are arrays with a single element. For example `np.array([1, np.array([2])], dtype=int)`. In the future this will raise the same ValueError as `np.array([1, [2]], dtype=int)`.\n",
      "  X_valid[i]= validation_data['rms'][i], validation_data['std'][i], validation_data['MAD'][i], validation_data['sigmaG'][i], validation_data['skewness'][i], validation_data['von_neumann_ratio'][i], validation_data['J_Stetson'][i], validation_data['max_power'][i], validation_data['freq_at_max_power'][i], validation_data['ratio_of_power_at_high_v_low_freq'][i], validation_data['max_autocorrelation'][i], validation_data['time_of_max_autocorrelation'][i], validation_data['SumLSP_10_7_Day_Power'][i], validation_data['SumLSP_7_4_Day_Power'][i], validation_data['SumLSP_4_1_Day_Power'][i], validation_data['SumLSP_1_p5_Day_Power'][i], validation_data['Entropy'][i]\n",
      "/var/folders/gy/0vj93nbd4x5bt_bpj2r46w7h0000gn/T/ipykernel_24137/1640273581.py:59: DeprecationWarning: setting an array element with a sequence. This was supported in some cases where the elements are arrays with a single element. For example `np.array([1, np.array([2])], dtype=int)`. In the future this will raise the same ValueError as `np.array([1, [2]], dtype=int)`.\n",
      "  X_test[i]= test_data['rms'][i], test_data['std'][i], test_data['MAD'][i], test_data['sigmaG'][i], test_data['skewness'][i], test_data['von_neumann_ratio'][i], test_data['J_Stetson'][i], test_data['max_power'][i], test_data['freq_at_max_power'][i], test_data['ratio_of_power_at_high_v_low_freq'][i], test_data['max_autocorrelation'][i], test_data['time_of_max_autocorrelation'][i], test_data['SumLSP_10_7_Day_Power'][i], test_data['SumLSP_7_4_Day_Power'][i], test_data['SumLSP_4_1_Day_Power'][i], test_data['SumLSP_1_p5_Day_Power'][i], test_data['Entropy'][i]\n"
     ]
    },
    {
     "name": "stdout",
     "output_type": "stream",
     "text": [
      "\u001b[1m162/162\u001b[0m \u001b[32m━━━━━━━━━━━━━━━━━━━━\u001b[0m\u001b[37m\u001b[0m \u001b[1m0s\u001b[0m 2ms/step\n"
     ]
    },
    {
     "name": "stderr",
     "output_type": "stream",
     "text": [
      "/var/folders/gy/0vj93nbd4x5bt_bpj2r46w7h0000gn/T/ipykernel_24137/1640273581.py:49: DeprecationWarning: setting an array element with a sequence. This was supported in some cases where the elements are arrays with a single element. For example `np.array([1, np.array([2])], dtype=int)`. In the future this will raise the same ValueError as `np.array([1, [2]], dtype=int)`.\n",
      "  X_train[i]= training_data['rms'][i], training_data['std'][i], training_data['MAD'][i], training_data['sigmaG'][i], training_data['skewness'][i], training_data['von_neumann_ratio'][i], training_data['J_Stetson'][i], training_data['max_power'][i], training_data['freq_at_max_power'][i], training_data['ratio_of_power_at_high_v_low_freq'][i], training_data['max_autocorrelation'][i], training_data['time_of_max_autocorrelation'][i], training_data['SumLSP_10_7_Day_Power'][i], training_data['SumLSP_7_4_Day_Power'][i], training_data['SumLSP_4_1_Day_Power'][i], training_data['SumLSP_1_p5_Day_Power'][i], training_data['Entropy'][i]\n",
      "/var/folders/gy/0vj93nbd4x5bt_bpj2r46w7h0000gn/T/ipykernel_24137/1640273581.py:54: DeprecationWarning: setting an array element with a sequence. This was supported in some cases where the elements are arrays with a single element. For example `np.array([1, np.array([2])], dtype=int)`. In the future this will raise the same ValueError as `np.array([1, [2]], dtype=int)`.\n",
      "  X_valid[i]= validation_data['rms'][i], validation_data['std'][i], validation_data['MAD'][i], validation_data['sigmaG'][i], validation_data['skewness'][i], validation_data['von_neumann_ratio'][i], validation_data['J_Stetson'][i], validation_data['max_power'][i], validation_data['freq_at_max_power'][i], validation_data['ratio_of_power_at_high_v_low_freq'][i], validation_data['max_autocorrelation'][i], validation_data['time_of_max_autocorrelation'][i], validation_data['SumLSP_10_7_Day_Power'][i], validation_data['SumLSP_7_4_Day_Power'][i], validation_data['SumLSP_4_1_Day_Power'][i], validation_data['SumLSP_1_p5_Day_Power'][i], validation_data['Entropy'][i]\n",
      "/var/folders/gy/0vj93nbd4x5bt_bpj2r46w7h0000gn/T/ipykernel_24137/1640273581.py:59: DeprecationWarning: setting an array element with a sequence. This was supported in some cases where the elements are arrays with a single element. For example `np.array([1, np.array([2])], dtype=int)`. In the future this will raise the same ValueError as `np.array([1, [2]], dtype=int)`.\n",
      "  X_test[i]= test_data['rms'][i], test_data['std'][i], test_data['MAD'][i], test_data['sigmaG'][i], test_data['skewness'][i], test_data['von_neumann_ratio'][i], test_data['J_Stetson'][i], test_data['max_power'][i], test_data['freq_at_max_power'][i], test_data['ratio_of_power_at_high_v_low_freq'][i], test_data['max_autocorrelation'][i], test_data['time_of_max_autocorrelation'][i], test_data['SumLSP_10_7_Day_Power'][i], test_data['SumLSP_7_4_Day_Power'][i], test_data['SumLSP_4_1_Day_Power'][i], test_data['SumLSP_1_p5_Day_Power'][i], test_data['Entropy'][i]\n"
     ]
    },
    {
     "name": "stdout",
     "output_type": "stream",
     "text": [
      "\u001b[1m139/139\u001b[0m \u001b[32m━━━━━━━━━━━━━━━━━━━━\u001b[0m\u001b[37m\u001b[0m \u001b[1m1s\u001b[0m 3ms/step\n"
     ]
    },
    {
     "name": "stderr",
     "output_type": "stream",
     "text": [
      "/var/folders/gy/0vj93nbd4x5bt_bpj2r46w7h0000gn/T/ipykernel_24137/1640273581.py:49: DeprecationWarning: setting an array element with a sequence. This was supported in some cases where the elements are arrays with a single element. For example `np.array([1, np.array([2])], dtype=int)`. In the future this will raise the same ValueError as `np.array([1, [2]], dtype=int)`.\n",
      "  X_train[i]= training_data['rms'][i], training_data['std'][i], training_data['MAD'][i], training_data['sigmaG'][i], training_data['skewness'][i], training_data['von_neumann_ratio'][i], training_data['J_Stetson'][i], training_data['max_power'][i], training_data['freq_at_max_power'][i], training_data['ratio_of_power_at_high_v_low_freq'][i], training_data['max_autocorrelation'][i], training_data['time_of_max_autocorrelation'][i], training_data['SumLSP_10_7_Day_Power'][i], training_data['SumLSP_7_4_Day_Power'][i], training_data['SumLSP_4_1_Day_Power'][i], training_data['SumLSP_1_p5_Day_Power'][i], training_data['Entropy'][i]\n",
      "/var/folders/gy/0vj93nbd4x5bt_bpj2r46w7h0000gn/T/ipykernel_24137/1640273581.py:54: DeprecationWarning: setting an array element with a sequence. This was supported in some cases where the elements are arrays with a single element. For example `np.array([1, np.array([2])], dtype=int)`. In the future this will raise the same ValueError as `np.array([1, [2]], dtype=int)`.\n",
      "  X_valid[i]= validation_data['rms'][i], validation_data['std'][i], validation_data['MAD'][i], validation_data['sigmaG'][i], validation_data['skewness'][i], validation_data['von_neumann_ratio'][i], validation_data['J_Stetson'][i], validation_data['max_power'][i], validation_data['freq_at_max_power'][i], validation_data['ratio_of_power_at_high_v_low_freq'][i], validation_data['max_autocorrelation'][i], validation_data['time_of_max_autocorrelation'][i], validation_data['SumLSP_10_7_Day_Power'][i], validation_data['SumLSP_7_4_Day_Power'][i], validation_data['SumLSP_4_1_Day_Power'][i], validation_data['SumLSP_1_p5_Day_Power'][i], validation_data['Entropy'][i]\n",
      "/var/folders/gy/0vj93nbd4x5bt_bpj2r46w7h0000gn/T/ipykernel_24137/1640273581.py:59: DeprecationWarning: setting an array element with a sequence. This was supported in some cases where the elements are arrays with a single element. For example `np.array([1, np.array([2])], dtype=int)`. In the future this will raise the same ValueError as `np.array([1, [2]], dtype=int)`.\n",
      "  X_test[i]= test_data['rms'][i], test_data['std'][i], test_data['MAD'][i], test_data['sigmaG'][i], test_data['skewness'][i], test_data['von_neumann_ratio'][i], test_data['J_Stetson'][i], test_data['max_power'][i], test_data['freq_at_max_power'][i], test_data['ratio_of_power_at_high_v_low_freq'][i], test_data['max_autocorrelation'][i], test_data['time_of_max_autocorrelation'][i], test_data['SumLSP_10_7_Day_Power'][i], test_data['SumLSP_7_4_Day_Power'][i], test_data['SumLSP_4_1_Day_Power'][i], test_data['SumLSP_1_p5_Day_Power'][i], test_data['Entropy'][i]\n"
     ]
    },
    {
     "name": "stdout",
     "output_type": "stream",
     "text": [
      "\u001b[1m122/122\u001b[0m \u001b[32m━━━━━━━━━━━━━━━━━━━━\u001b[0m\u001b[37m\u001b[0m \u001b[1m0s\u001b[0m 3ms/step\n"
     ]
    },
    {
     "name": "stderr",
     "output_type": "stream",
     "text": [
      "/var/folders/gy/0vj93nbd4x5bt_bpj2r46w7h0000gn/T/ipykernel_24137/1640273581.py:49: DeprecationWarning: setting an array element with a sequence. This was supported in some cases where the elements are arrays with a single element. For example `np.array([1, np.array([2])], dtype=int)`. In the future this will raise the same ValueError as `np.array([1, [2]], dtype=int)`.\n",
      "  X_train[i]= training_data['rms'][i], training_data['std'][i], training_data['MAD'][i], training_data['sigmaG'][i], training_data['skewness'][i], training_data['von_neumann_ratio'][i], training_data['J_Stetson'][i], training_data['max_power'][i], training_data['freq_at_max_power'][i], training_data['ratio_of_power_at_high_v_low_freq'][i], training_data['max_autocorrelation'][i], training_data['time_of_max_autocorrelation'][i], training_data['SumLSP_10_7_Day_Power'][i], training_data['SumLSP_7_4_Day_Power'][i], training_data['SumLSP_4_1_Day_Power'][i], training_data['SumLSP_1_p5_Day_Power'][i], training_data['Entropy'][i]\n",
      "/var/folders/gy/0vj93nbd4x5bt_bpj2r46w7h0000gn/T/ipykernel_24137/1640273581.py:54: DeprecationWarning: setting an array element with a sequence. This was supported in some cases where the elements are arrays with a single element. For example `np.array([1, np.array([2])], dtype=int)`. In the future this will raise the same ValueError as `np.array([1, [2]], dtype=int)`.\n",
      "  X_valid[i]= validation_data['rms'][i], validation_data['std'][i], validation_data['MAD'][i], validation_data['sigmaG'][i], validation_data['skewness'][i], validation_data['von_neumann_ratio'][i], validation_data['J_Stetson'][i], validation_data['max_power'][i], validation_data['freq_at_max_power'][i], validation_data['ratio_of_power_at_high_v_low_freq'][i], validation_data['max_autocorrelation'][i], validation_data['time_of_max_autocorrelation'][i], validation_data['SumLSP_10_7_Day_Power'][i], validation_data['SumLSP_7_4_Day_Power'][i], validation_data['SumLSP_4_1_Day_Power'][i], validation_data['SumLSP_1_p5_Day_Power'][i], validation_data['Entropy'][i]\n",
      "/var/folders/gy/0vj93nbd4x5bt_bpj2r46w7h0000gn/T/ipykernel_24137/1640273581.py:59: DeprecationWarning: setting an array element with a sequence. This was supported in some cases where the elements are arrays with a single element. For example `np.array([1, np.array([2])], dtype=int)`. In the future this will raise the same ValueError as `np.array([1, [2]], dtype=int)`.\n",
      "  X_test[i]= test_data['rms'][i], test_data['std'][i], test_data['MAD'][i], test_data['sigmaG'][i], test_data['skewness'][i], test_data['von_neumann_ratio'][i], test_data['J_Stetson'][i], test_data['max_power'][i], test_data['freq_at_max_power'][i], test_data['ratio_of_power_at_high_v_low_freq'][i], test_data['max_autocorrelation'][i], test_data['time_of_max_autocorrelation'][i], test_data['SumLSP_10_7_Day_Power'][i], test_data['SumLSP_7_4_Day_Power'][i], test_data['SumLSP_4_1_Day_Power'][i], test_data['SumLSP_1_p5_Day_Power'][i], test_data['Entropy'][i]\n"
     ]
    },
    {
     "name": "stdout",
     "output_type": "stream",
     "text": [
      "\u001b[1m165/165\u001b[0m \u001b[32m━━━━━━━━━━━━━━━━━━━━\u001b[0m\u001b[37m\u001b[0m \u001b[1m0s\u001b[0m 2ms/step\n"
     ]
    },
    {
     "name": "stderr",
     "output_type": "stream",
     "text": [
      "/var/folders/gy/0vj93nbd4x5bt_bpj2r46w7h0000gn/T/ipykernel_24137/1640273581.py:49: DeprecationWarning: setting an array element with a sequence. This was supported in some cases where the elements are arrays with a single element. For example `np.array([1, np.array([2])], dtype=int)`. In the future this will raise the same ValueError as `np.array([1, [2]], dtype=int)`.\n",
      "  X_train[i]= training_data['rms'][i], training_data['std'][i], training_data['MAD'][i], training_data['sigmaG'][i], training_data['skewness'][i], training_data['von_neumann_ratio'][i], training_data['J_Stetson'][i], training_data['max_power'][i], training_data['freq_at_max_power'][i], training_data['ratio_of_power_at_high_v_low_freq'][i], training_data['max_autocorrelation'][i], training_data['time_of_max_autocorrelation'][i], training_data['SumLSP_10_7_Day_Power'][i], training_data['SumLSP_7_4_Day_Power'][i], training_data['SumLSP_4_1_Day_Power'][i], training_data['SumLSP_1_p5_Day_Power'][i], training_data['Entropy'][i]\n",
      "/var/folders/gy/0vj93nbd4x5bt_bpj2r46w7h0000gn/T/ipykernel_24137/1640273581.py:54: DeprecationWarning: setting an array element with a sequence. This was supported in some cases where the elements are arrays with a single element. For example `np.array([1, np.array([2])], dtype=int)`. In the future this will raise the same ValueError as `np.array([1, [2]], dtype=int)`.\n",
      "  X_valid[i]= validation_data['rms'][i], validation_data['std'][i], validation_data['MAD'][i], validation_data['sigmaG'][i], validation_data['skewness'][i], validation_data['von_neumann_ratio'][i], validation_data['J_Stetson'][i], validation_data['max_power'][i], validation_data['freq_at_max_power'][i], validation_data['ratio_of_power_at_high_v_low_freq'][i], validation_data['max_autocorrelation'][i], validation_data['time_of_max_autocorrelation'][i], validation_data['SumLSP_10_7_Day_Power'][i], validation_data['SumLSP_7_4_Day_Power'][i], validation_data['SumLSP_4_1_Day_Power'][i], validation_data['SumLSP_1_p5_Day_Power'][i], validation_data['Entropy'][i]\n",
      "/var/folders/gy/0vj93nbd4x5bt_bpj2r46w7h0000gn/T/ipykernel_24137/1640273581.py:59: DeprecationWarning: setting an array element with a sequence. This was supported in some cases where the elements are arrays with a single element. For example `np.array([1, np.array([2])], dtype=int)`. In the future this will raise the same ValueError as `np.array([1, [2]], dtype=int)`.\n",
      "  X_test[i]= test_data['rms'][i], test_data['std'][i], test_data['MAD'][i], test_data['sigmaG'][i], test_data['skewness'][i], test_data['von_neumann_ratio'][i], test_data['J_Stetson'][i], test_data['max_power'][i], test_data['freq_at_max_power'][i], test_data['ratio_of_power_at_high_v_low_freq'][i], test_data['max_autocorrelation'][i], test_data['time_of_max_autocorrelation'][i], test_data['SumLSP_10_7_Day_Power'][i], test_data['SumLSP_7_4_Day_Power'][i], test_data['SumLSP_4_1_Day_Power'][i], test_data['SumLSP_1_p5_Day_Power'][i], test_data['Entropy'][i]\n"
     ]
    },
    {
     "name": "stdout",
     "output_type": "stream",
     "text": [
      "\u001b[1m115/115\u001b[0m \u001b[32m━━━━━━━━━━━━━━━━━━━━\u001b[0m\u001b[37m\u001b[0m \u001b[1m0s\u001b[0m 3ms/step\n"
     ]
    },
    {
     "name": "stderr",
     "output_type": "stream",
     "text": [
      "/var/folders/gy/0vj93nbd4x5bt_bpj2r46w7h0000gn/T/ipykernel_24137/1640273581.py:49: DeprecationWarning: setting an array element with a sequence. This was supported in some cases where the elements are arrays with a single element. For example `np.array([1, np.array([2])], dtype=int)`. In the future this will raise the same ValueError as `np.array([1, [2]], dtype=int)`.\n",
      "  X_train[i]= training_data['rms'][i], training_data['std'][i], training_data['MAD'][i], training_data['sigmaG'][i], training_data['skewness'][i], training_data['von_neumann_ratio'][i], training_data['J_Stetson'][i], training_data['max_power'][i], training_data['freq_at_max_power'][i], training_data['ratio_of_power_at_high_v_low_freq'][i], training_data['max_autocorrelation'][i], training_data['time_of_max_autocorrelation'][i], training_data['SumLSP_10_7_Day_Power'][i], training_data['SumLSP_7_4_Day_Power'][i], training_data['SumLSP_4_1_Day_Power'][i], training_data['SumLSP_1_p5_Day_Power'][i], training_data['Entropy'][i]\n",
      "/var/folders/gy/0vj93nbd4x5bt_bpj2r46w7h0000gn/T/ipykernel_24137/1640273581.py:54: DeprecationWarning: setting an array element with a sequence. This was supported in some cases where the elements are arrays with a single element. For example `np.array([1, np.array([2])], dtype=int)`. In the future this will raise the same ValueError as `np.array([1, [2]], dtype=int)`.\n",
      "  X_valid[i]= validation_data['rms'][i], validation_data['std'][i], validation_data['MAD'][i], validation_data['sigmaG'][i], validation_data['skewness'][i], validation_data['von_neumann_ratio'][i], validation_data['J_Stetson'][i], validation_data['max_power'][i], validation_data['freq_at_max_power'][i], validation_data['ratio_of_power_at_high_v_low_freq'][i], validation_data['max_autocorrelation'][i], validation_data['time_of_max_autocorrelation'][i], validation_data['SumLSP_10_7_Day_Power'][i], validation_data['SumLSP_7_4_Day_Power'][i], validation_data['SumLSP_4_1_Day_Power'][i], validation_data['SumLSP_1_p5_Day_Power'][i], validation_data['Entropy'][i]\n",
      "/var/folders/gy/0vj93nbd4x5bt_bpj2r46w7h0000gn/T/ipykernel_24137/1640273581.py:59: DeprecationWarning: setting an array element with a sequence. This was supported in some cases where the elements are arrays with a single element. For example `np.array([1, np.array([2])], dtype=int)`. In the future this will raise the same ValueError as `np.array([1, [2]], dtype=int)`.\n",
      "  X_test[i]= test_data['rms'][i], test_data['std'][i], test_data['MAD'][i], test_data['sigmaG'][i], test_data['skewness'][i], test_data['von_neumann_ratio'][i], test_data['J_Stetson'][i], test_data['max_power'][i], test_data['freq_at_max_power'][i], test_data['ratio_of_power_at_high_v_low_freq'][i], test_data['max_autocorrelation'][i], test_data['time_of_max_autocorrelation'][i], test_data['SumLSP_10_7_Day_Power'][i], test_data['SumLSP_7_4_Day_Power'][i], test_data['SumLSP_4_1_Day_Power'][i], test_data['SumLSP_1_p5_Day_Power'][i], test_data['Entropy'][i]\n"
     ]
    },
    {
     "name": "stdout",
     "output_type": "stream",
     "text": [
      "\u001b[1m130/130\u001b[0m \u001b[32m━━━━━━━━━━━━━━━━━━━━\u001b[0m\u001b[37m\u001b[0m \u001b[1m1s\u001b[0m 3ms/step\n"
     ]
    },
    {
     "name": "stderr",
     "output_type": "stream",
     "text": [
      "/var/folders/gy/0vj93nbd4x5bt_bpj2r46w7h0000gn/T/ipykernel_24137/1640273581.py:49: DeprecationWarning: setting an array element with a sequence. This was supported in some cases where the elements are arrays with a single element. For example `np.array([1, np.array([2])], dtype=int)`. In the future this will raise the same ValueError as `np.array([1, [2]], dtype=int)`.\n",
      "  X_train[i]= training_data['rms'][i], training_data['std'][i], training_data['MAD'][i], training_data['sigmaG'][i], training_data['skewness'][i], training_data['von_neumann_ratio'][i], training_data['J_Stetson'][i], training_data['max_power'][i], training_data['freq_at_max_power'][i], training_data['ratio_of_power_at_high_v_low_freq'][i], training_data['max_autocorrelation'][i], training_data['time_of_max_autocorrelation'][i], training_data['SumLSP_10_7_Day_Power'][i], training_data['SumLSP_7_4_Day_Power'][i], training_data['SumLSP_4_1_Day_Power'][i], training_data['SumLSP_1_p5_Day_Power'][i], training_data['Entropy'][i]\n",
      "/var/folders/gy/0vj93nbd4x5bt_bpj2r46w7h0000gn/T/ipykernel_24137/1640273581.py:54: DeprecationWarning: setting an array element with a sequence. This was supported in some cases where the elements are arrays with a single element. For example `np.array([1, np.array([2])], dtype=int)`. In the future this will raise the same ValueError as `np.array([1, [2]], dtype=int)`.\n",
      "  X_valid[i]= validation_data['rms'][i], validation_data['std'][i], validation_data['MAD'][i], validation_data['sigmaG'][i], validation_data['skewness'][i], validation_data['von_neumann_ratio'][i], validation_data['J_Stetson'][i], validation_data['max_power'][i], validation_data['freq_at_max_power'][i], validation_data['ratio_of_power_at_high_v_low_freq'][i], validation_data['max_autocorrelation'][i], validation_data['time_of_max_autocorrelation'][i], validation_data['SumLSP_10_7_Day_Power'][i], validation_data['SumLSP_7_4_Day_Power'][i], validation_data['SumLSP_4_1_Day_Power'][i], validation_data['SumLSP_1_p5_Day_Power'][i], validation_data['Entropy'][i]\n",
      "/var/folders/gy/0vj93nbd4x5bt_bpj2r46w7h0000gn/T/ipykernel_24137/1640273581.py:59: DeprecationWarning: setting an array element with a sequence. This was supported in some cases where the elements are arrays with a single element. For example `np.array([1, np.array([2])], dtype=int)`. In the future this will raise the same ValueError as `np.array([1, [2]], dtype=int)`.\n",
      "  X_test[i]= test_data['rms'][i], test_data['std'][i], test_data['MAD'][i], test_data['sigmaG'][i], test_data['skewness'][i], test_data['von_neumann_ratio'][i], test_data['J_Stetson'][i], test_data['max_power'][i], test_data['freq_at_max_power'][i], test_data['ratio_of_power_at_high_v_low_freq'][i], test_data['max_autocorrelation'][i], test_data['time_of_max_autocorrelation'][i], test_data['SumLSP_10_7_Day_Power'][i], test_data['SumLSP_7_4_Day_Power'][i], test_data['SumLSP_4_1_Day_Power'][i], test_data['SumLSP_1_p5_Day_Power'][i], test_data['Entropy'][i]\n"
     ]
    },
    {
     "name": "stdout",
     "output_type": "stream",
     "text": [
      "\u001b[1m135/135\u001b[0m \u001b[32m━━━━━━━━━━━━━━━━━━━━\u001b[0m\u001b[37m\u001b[0m \u001b[1m1s\u001b[0m 4ms/step\n"
     ]
    },
    {
     "name": "stderr",
     "output_type": "stream",
     "text": [
      "/var/folders/gy/0vj93nbd4x5bt_bpj2r46w7h0000gn/T/ipykernel_24137/1640273581.py:49: DeprecationWarning: setting an array element with a sequence. This was supported in some cases where the elements are arrays with a single element. For example `np.array([1, np.array([2])], dtype=int)`. In the future this will raise the same ValueError as `np.array([1, [2]], dtype=int)`.\n",
      "  X_train[i]= training_data['rms'][i], training_data['std'][i], training_data['MAD'][i], training_data['sigmaG'][i], training_data['skewness'][i], training_data['von_neumann_ratio'][i], training_data['J_Stetson'][i], training_data['max_power'][i], training_data['freq_at_max_power'][i], training_data['ratio_of_power_at_high_v_low_freq'][i], training_data['max_autocorrelation'][i], training_data['time_of_max_autocorrelation'][i], training_data['SumLSP_10_7_Day_Power'][i], training_data['SumLSP_7_4_Day_Power'][i], training_data['SumLSP_4_1_Day_Power'][i], training_data['SumLSP_1_p5_Day_Power'][i], training_data['Entropy'][i]\n",
      "/var/folders/gy/0vj93nbd4x5bt_bpj2r46w7h0000gn/T/ipykernel_24137/1640273581.py:54: DeprecationWarning: setting an array element with a sequence. This was supported in some cases where the elements are arrays with a single element. For example `np.array([1, np.array([2])], dtype=int)`. In the future this will raise the same ValueError as `np.array([1, [2]], dtype=int)`.\n",
      "  X_valid[i]= validation_data['rms'][i], validation_data['std'][i], validation_data['MAD'][i], validation_data['sigmaG'][i], validation_data['skewness'][i], validation_data['von_neumann_ratio'][i], validation_data['J_Stetson'][i], validation_data['max_power'][i], validation_data['freq_at_max_power'][i], validation_data['ratio_of_power_at_high_v_low_freq'][i], validation_data['max_autocorrelation'][i], validation_data['time_of_max_autocorrelation'][i], validation_data['SumLSP_10_7_Day_Power'][i], validation_data['SumLSP_7_4_Day_Power'][i], validation_data['SumLSP_4_1_Day_Power'][i], validation_data['SumLSP_1_p5_Day_Power'][i], validation_data['Entropy'][i]\n",
      "/var/folders/gy/0vj93nbd4x5bt_bpj2r46w7h0000gn/T/ipykernel_24137/1640273581.py:59: DeprecationWarning: setting an array element with a sequence. This was supported in some cases where the elements are arrays with a single element. For example `np.array([1, np.array([2])], dtype=int)`. In the future this will raise the same ValueError as `np.array([1, [2]], dtype=int)`.\n",
      "  X_test[i]= test_data['rms'][i], test_data['std'][i], test_data['MAD'][i], test_data['sigmaG'][i], test_data['skewness'][i], test_data['von_neumann_ratio'][i], test_data['J_Stetson'][i], test_data['max_power'][i], test_data['freq_at_max_power'][i], test_data['ratio_of_power_at_high_v_low_freq'][i], test_data['max_autocorrelation'][i], test_data['time_of_max_autocorrelation'][i], test_data['SumLSP_10_7_Day_Power'][i], test_data['SumLSP_7_4_Day_Power'][i], test_data['SumLSP_4_1_Day_Power'][i], test_data['SumLSP_1_p5_Day_Power'][i], test_data['Entropy'][i]\n"
     ]
    },
    {
     "name": "stdout",
     "output_type": "stream",
     "text": [
      "\u001b[1m147/147\u001b[0m \u001b[32m━━━━━━━━━━━━━━━━━━━━\u001b[0m\u001b[37m\u001b[0m \u001b[1m0s\u001b[0m 2ms/step\n"
     ]
    },
    {
     "name": "stderr",
     "output_type": "stream",
     "text": [
      "/var/folders/gy/0vj93nbd4x5bt_bpj2r46w7h0000gn/T/ipykernel_24137/1640273581.py:49: DeprecationWarning: setting an array element with a sequence. This was supported in some cases where the elements are arrays with a single element. For example `np.array([1, np.array([2])], dtype=int)`. In the future this will raise the same ValueError as `np.array([1, [2]], dtype=int)`.\n",
      "  X_train[i]= training_data['rms'][i], training_data['std'][i], training_data['MAD'][i], training_data['sigmaG'][i], training_data['skewness'][i], training_data['von_neumann_ratio'][i], training_data['J_Stetson'][i], training_data['max_power'][i], training_data['freq_at_max_power'][i], training_data['ratio_of_power_at_high_v_low_freq'][i], training_data['max_autocorrelation'][i], training_data['time_of_max_autocorrelation'][i], training_data['SumLSP_10_7_Day_Power'][i], training_data['SumLSP_7_4_Day_Power'][i], training_data['SumLSP_4_1_Day_Power'][i], training_data['SumLSP_1_p5_Day_Power'][i], training_data['Entropy'][i]\n",
      "/var/folders/gy/0vj93nbd4x5bt_bpj2r46w7h0000gn/T/ipykernel_24137/1640273581.py:54: DeprecationWarning: setting an array element with a sequence. This was supported in some cases where the elements are arrays with a single element. For example `np.array([1, np.array([2])], dtype=int)`. In the future this will raise the same ValueError as `np.array([1, [2]], dtype=int)`.\n",
      "  X_valid[i]= validation_data['rms'][i], validation_data['std'][i], validation_data['MAD'][i], validation_data['sigmaG'][i], validation_data['skewness'][i], validation_data['von_neumann_ratio'][i], validation_data['J_Stetson'][i], validation_data['max_power'][i], validation_data['freq_at_max_power'][i], validation_data['ratio_of_power_at_high_v_low_freq'][i], validation_data['max_autocorrelation'][i], validation_data['time_of_max_autocorrelation'][i], validation_data['SumLSP_10_7_Day_Power'][i], validation_data['SumLSP_7_4_Day_Power'][i], validation_data['SumLSP_4_1_Day_Power'][i], validation_data['SumLSP_1_p5_Day_Power'][i], validation_data['Entropy'][i]\n",
      "/var/folders/gy/0vj93nbd4x5bt_bpj2r46w7h0000gn/T/ipykernel_24137/1640273581.py:59: DeprecationWarning: setting an array element with a sequence. This was supported in some cases where the elements are arrays with a single element. For example `np.array([1, np.array([2])], dtype=int)`. In the future this will raise the same ValueError as `np.array([1, [2]], dtype=int)`.\n",
      "  X_test[i]= test_data['rms'][i], test_data['std'][i], test_data['MAD'][i], test_data['sigmaG'][i], test_data['skewness'][i], test_data['von_neumann_ratio'][i], test_data['J_Stetson'][i], test_data['max_power'][i], test_data['freq_at_max_power'][i], test_data['ratio_of_power_at_high_v_low_freq'][i], test_data['max_autocorrelation'][i], test_data['time_of_max_autocorrelation'][i], test_data['SumLSP_10_7_Day_Power'][i], test_data['SumLSP_7_4_Day_Power'][i], test_data['SumLSP_4_1_Day_Power'][i], test_data['SumLSP_1_p5_Day_Power'][i], test_data['Entropy'][i]\n"
     ]
    },
    {
     "name": "stdout",
     "output_type": "stream",
     "text": [
      "\u001b[1m128/128\u001b[0m \u001b[32m━━━━━━━━━━━━━━━━━━━━\u001b[0m\u001b[37m\u001b[0m \u001b[1m0s\u001b[0m 2ms/step\n"
     ]
    },
    {
     "name": "stderr",
     "output_type": "stream",
     "text": [
      "/var/folders/gy/0vj93nbd4x5bt_bpj2r46w7h0000gn/T/ipykernel_24137/1640273581.py:49: DeprecationWarning: setting an array element with a sequence. This was supported in some cases where the elements are arrays with a single element. For example `np.array([1, np.array([2])], dtype=int)`. In the future this will raise the same ValueError as `np.array([1, [2]], dtype=int)`.\n",
      "  X_train[i]= training_data['rms'][i], training_data['std'][i], training_data['MAD'][i], training_data['sigmaG'][i], training_data['skewness'][i], training_data['von_neumann_ratio'][i], training_data['J_Stetson'][i], training_data['max_power'][i], training_data['freq_at_max_power'][i], training_data['ratio_of_power_at_high_v_low_freq'][i], training_data['max_autocorrelation'][i], training_data['time_of_max_autocorrelation'][i], training_data['SumLSP_10_7_Day_Power'][i], training_data['SumLSP_7_4_Day_Power'][i], training_data['SumLSP_4_1_Day_Power'][i], training_data['SumLSP_1_p5_Day_Power'][i], training_data['Entropy'][i]\n",
      "/var/folders/gy/0vj93nbd4x5bt_bpj2r46w7h0000gn/T/ipykernel_24137/1640273581.py:54: DeprecationWarning: setting an array element with a sequence. This was supported in some cases where the elements are arrays with a single element. For example `np.array([1, np.array([2])], dtype=int)`. In the future this will raise the same ValueError as `np.array([1, [2]], dtype=int)`.\n",
      "  X_valid[i]= validation_data['rms'][i], validation_data['std'][i], validation_data['MAD'][i], validation_data['sigmaG'][i], validation_data['skewness'][i], validation_data['von_neumann_ratio'][i], validation_data['J_Stetson'][i], validation_data['max_power'][i], validation_data['freq_at_max_power'][i], validation_data['ratio_of_power_at_high_v_low_freq'][i], validation_data['max_autocorrelation'][i], validation_data['time_of_max_autocorrelation'][i], validation_data['SumLSP_10_7_Day_Power'][i], validation_data['SumLSP_7_4_Day_Power'][i], validation_data['SumLSP_4_1_Day_Power'][i], validation_data['SumLSP_1_p5_Day_Power'][i], validation_data['Entropy'][i]\n",
      "/var/folders/gy/0vj93nbd4x5bt_bpj2r46w7h0000gn/T/ipykernel_24137/1640273581.py:59: DeprecationWarning: setting an array element with a sequence. This was supported in some cases where the elements are arrays with a single element. For example `np.array([1, np.array([2])], dtype=int)`. In the future this will raise the same ValueError as `np.array([1, [2]], dtype=int)`.\n",
      "  X_test[i]= test_data['rms'][i], test_data['std'][i], test_data['MAD'][i], test_data['sigmaG'][i], test_data['skewness'][i], test_data['von_neumann_ratio'][i], test_data['J_Stetson'][i], test_data['max_power'][i], test_data['freq_at_max_power'][i], test_data['ratio_of_power_at_high_v_low_freq'][i], test_data['max_autocorrelation'][i], test_data['time_of_max_autocorrelation'][i], test_data['SumLSP_10_7_Day_Power'][i], test_data['SumLSP_7_4_Day_Power'][i], test_data['SumLSP_4_1_Day_Power'][i], test_data['SumLSP_1_p5_Day_Power'][i], test_data['Entropy'][i]\n"
     ]
    },
    {
     "name": "stdout",
     "output_type": "stream",
     "text": [
      "\u001b[1m173/173\u001b[0m \u001b[32m━━━━━━━━━━━━━━━━━━━━\u001b[0m\u001b[37m\u001b[0m \u001b[1m0s\u001b[0m 2ms/step\n"
     ]
    },
    {
     "name": "stderr",
     "output_type": "stream",
     "text": [
      "/var/folders/gy/0vj93nbd4x5bt_bpj2r46w7h0000gn/T/ipykernel_24137/1640273581.py:49: DeprecationWarning: setting an array element with a sequence. This was supported in some cases where the elements are arrays with a single element. For example `np.array([1, np.array([2])], dtype=int)`. In the future this will raise the same ValueError as `np.array([1, [2]], dtype=int)`.\n",
      "  X_train[i]= training_data['rms'][i], training_data['std'][i], training_data['MAD'][i], training_data['sigmaG'][i], training_data['skewness'][i], training_data['von_neumann_ratio'][i], training_data['J_Stetson'][i], training_data['max_power'][i], training_data['freq_at_max_power'][i], training_data['ratio_of_power_at_high_v_low_freq'][i], training_data['max_autocorrelation'][i], training_data['time_of_max_autocorrelation'][i], training_data['SumLSP_10_7_Day_Power'][i], training_data['SumLSP_7_4_Day_Power'][i], training_data['SumLSP_4_1_Day_Power'][i], training_data['SumLSP_1_p5_Day_Power'][i], training_data['Entropy'][i]\n",
      "/var/folders/gy/0vj93nbd4x5bt_bpj2r46w7h0000gn/T/ipykernel_24137/1640273581.py:54: DeprecationWarning: setting an array element with a sequence. This was supported in some cases where the elements are arrays with a single element. For example `np.array([1, np.array([2])], dtype=int)`. In the future this will raise the same ValueError as `np.array([1, [2]], dtype=int)`.\n",
      "  X_valid[i]= validation_data['rms'][i], validation_data['std'][i], validation_data['MAD'][i], validation_data['sigmaG'][i], validation_data['skewness'][i], validation_data['von_neumann_ratio'][i], validation_data['J_Stetson'][i], validation_data['max_power'][i], validation_data['freq_at_max_power'][i], validation_data['ratio_of_power_at_high_v_low_freq'][i], validation_data['max_autocorrelation'][i], validation_data['time_of_max_autocorrelation'][i], validation_data['SumLSP_10_7_Day_Power'][i], validation_data['SumLSP_7_4_Day_Power'][i], validation_data['SumLSP_4_1_Day_Power'][i], validation_data['SumLSP_1_p5_Day_Power'][i], validation_data['Entropy'][i]\n",
      "/var/folders/gy/0vj93nbd4x5bt_bpj2r46w7h0000gn/T/ipykernel_24137/1640273581.py:59: DeprecationWarning: setting an array element with a sequence. This was supported in some cases where the elements are arrays with a single element. For example `np.array([1, np.array([2])], dtype=int)`. In the future this will raise the same ValueError as `np.array([1, [2]], dtype=int)`.\n",
      "  X_test[i]= test_data['rms'][i], test_data['std'][i], test_data['MAD'][i], test_data['sigmaG'][i], test_data['skewness'][i], test_data['von_neumann_ratio'][i], test_data['J_Stetson'][i], test_data['max_power'][i], test_data['freq_at_max_power'][i], test_data['ratio_of_power_at_high_v_low_freq'][i], test_data['max_autocorrelation'][i], test_data['time_of_max_autocorrelation'][i], test_data['SumLSP_10_7_Day_Power'][i], test_data['SumLSP_7_4_Day_Power'][i], test_data['SumLSP_4_1_Day_Power'][i], test_data['SumLSP_1_p5_Day_Power'][i], test_data['Entropy'][i]\n"
     ]
    },
    {
     "name": "stdout",
     "output_type": "stream",
     "text": [
      "\u001b[1m182/182\u001b[0m \u001b[32m━━━━━━━━━━━━━━━━━━━━\u001b[0m\u001b[37m\u001b[0m \u001b[1m0s\u001b[0m 2ms/step\n"
     ]
    },
    {
     "name": "stderr",
     "output_type": "stream",
     "text": [
      "/var/folders/gy/0vj93nbd4x5bt_bpj2r46w7h0000gn/T/ipykernel_24137/1640273581.py:49: DeprecationWarning: setting an array element with a sequence. This was supported in some cases where the elements are arrays with a single element. For example `np.array([1, np.array([2])], dtype=int)`. In the future this will raise the same ValueError as `np.array([1, [2]], dtype=int)`.\n",
      "  X_train[i]= training_data['rms'][i], training_data['std'][i], training_data['MAD'][i], training_data['sigmaG'][i], training_data['skewness'][i], training_data['von_neumann_ratio'][i], training_data['J_Stetson'][i], training_data['max_power'][i], training_data['freq_at_max_power'][i], training_data['ratio_of_power_at_high_v_low_freq'][i], training_data['max_autocorrelation'][i], training_data['time_of_max_autocorrelation'][i], training_data['SumLSP_10_7_Day_Power'][i], training_data['SumLSP_7_4_Day_Power'][i], training_data['SumLSP_4_1_Day_Power'][i], training_data['SumLSP_1_p5_Day_Power'][i], training_data['Entropy'][i]\n",
      "/var/folders/gy/0vj93nbd4x5bt_bpj2r46w7h0000gn/T/ipykernel_24137/1640273581.py:54: DeprecationWarning: setting an array element with a sequence. This was supported in some cases where the elements are arrays with a single element. For example `np.array([1, np.array([2])], dtype=int)`. In the future this will raise the same ValueError as `np.array([1, [2]], dtype=int)`.\n",
      "  X_valid[i]= validation_data['rms'][i], validation_data['std'][i], validation_data['MAD'][i], validation_data['sigmaG'][i], validation_data['skewness'][i], validation_data['von_neumann_ratio'][i], validation_data['J_Stetson'][i], validation_data['max_power'][i], validation_data['freq_at_max_power'][i], validation_data['ratio_of_power_at_high_v_low_freq'][i], validation_data['max_autocorrelation'][i], validation_data['time_of_max_autocorrelation'][i], validation_data['SumLSP_10_7_Day_Power'][i], validation_data['SumLSP_7_4_Day_Power'][i], validation_data['SumLSP_4_1_Day_Power'][i], validation_data['SumLSP_1_p5_Day_Power'][i], validation_data['Entropy'][i]\n",
      "/var/folders/gy/0vj93nbd4x5bt_bpj2r46w7h0000gn/T/ipykernel_24137/1640273581.py:59: DeprecationWarning: setting an array element with a sequence. This was supported in some cases where the elements are arrays with a single element. For example `np.array([1, np.array([2])], dtype=int)`. In the future this will raise the same ValueError as `np.array([1, [2]], dtype=int)`.\n",
      "  X_test[i]= test_data['rms'][i], test_data['std'][i], test_data['MAD'][i], test_data['sigmaG'][i], test_data['skewness'][i], test_data['von_neumann_ratio'][i], test_data['J_Stetson'][i], test_data['max_power'][i], test_data['freq_at_max_power'][i], test_data['ratio_of_power_at_high_v_low_freq'][i], test_data['max_autocorrelation'][i], test_data['time_of_max_autocorrelation'][i], test_data['SumLSP_10_7_Day_Power'][i], test_data['SumLSP_7_4_Day_Power'][i], test_data['SumLSP_4_1_Day_Power'][i], test_data['SumLSP_1_p5_Day_Power'][i], test_data['Entropy'][i]\n"
     ]
    },
    {
     "name": "stdout",
     "output_type": "stream",
     "text": [
      "\u001b[1m138/138\u001b[0m \u001b[32m━━━━━━━━━━━━━━━━━━━━\u001b[0m\u001b[37m\u001b[0m \u001b[1m0s\u001b[0m 2ms/step\n"
     ]
    },
    {
     "name": "stderr",
     "output_type": "stream",
     "text": [
      "/var/folders/gy/0vj93nbd4x5bt_bpj2r46w7h0000gn/T/ipykernel_24137/1640273581.py:49: DeprecationWarning: setting an array element with a sequence. This was supported in some cases where the elements are arrays with a single element. For example `np.array([1, np.array([2])], dtype=int)`. In the future this will raise the same ValueError as `np.array([1, [2]], dtype=int)`.\n",
      "  X_train[i]= training_data['rms'][i], training_data['std'][i], training_data['MAD'][i], training_data['sigmaG'][i], training_data['skewness'][i], training_data['von_neumann_ratio'][i], training_data['J_Stetson'][i], training_data['max_power'][i], training_data['freq_at_max_power'][i], training_data['ratio_of_power_at_high_v_low_freq'][i], training_data['max_autocorrelation'][i], training_data['time_of_max_autocorrelation'][i], training_data['SumLSP_10_7_Day_Power'][i], training_data['SumLSP_7_4_Day_Power'][i], training_data['SumLSP_4_1_Day_Power'][i], training_data['SumLSP_1_p5_Day_Power'][i], training_data['Entropy'][i]\n",
      "/var/folders/gy/0vj93nbd4x5bt_bpj2r46w7h0000gn/T/ipykernel_24137/1640273581.py:54: DeprecationWarning: setting an array element with a sequence. This was supported in some cases where the elements are arrays with a single element. For example `np.array([1, np.array([2])], dtype=int)`. In the future this will raise the same ValueError as `np.array([1, [2]], dtype=int)`.\n",
      "  X_valid[i]= validation_data['rms'][i], validation_data['std'][i], validation_data['MAD'][i], validation_data['sigmaG'][i], validation_data['skewness'][i], validation_data['von_neumann_ratio'][i], validation_data['J_Stetson'][i], validation_data['max_power'][i], validation_data['freq_at_max_power'][i], validation_data['ratio_of_power_at_high_v_low_freq'][i], validation_data['max_autocorrelation'][i], validation_data['time_of_max_autocorrelation'][i], validation_data['SumLSP_10_7_Day_Power'][i], validation_data['SumLSP_7_4_Day_Power'][i], validation_data['SumLSP_4_1_Day_Power'][i], validation_data['SumLSP_1_p5_Day_Power'][i], validation_data['Entropy'][i]\n",
      "/var/folders/gy/0vj93nbd4x5bt_bpj2r46w7h0000gn/T/ipykernel_24137/1640273581.py:59: DeprecationWarning: setting an array element with a sequence. This was supported in some cases where the elements are arrays with a single element. For example `np.array([1, np.array([2])], dtype=int)`. In the future this will raise the same ValueError as `np.array([1, [2]], dtype=int)`.\n",
      "  X_test[i]= test_data['rms'][i], test_data['std'][i], test_data['MAD'][i], test_data['sigmaG'][i], test_data['skewness'][i], test_data['von_neumann_ratio'][i], test_data['J_Stetson'][i], test_data['max_power'][i], test_data['freq_at_max_power'][i], test_data['ratio_of_power_at_high_v_low_freq'][i], test_data['max_autocorrelation'][i], test_data['time_of_max_autocorrelation'][i], test_data['SumLSP_10_7_Day_Power'][i], test_data['SumLSP_7_4_Day_Power'][i], test_data['SumLSP_4_1_Day_Power'][i], test_data['SumLSP_1_p5_Day_Power'][i], test_data['Entropy'][i]\n"
     ]
    },
    {
     "name": "stdout",
     "output_type": "stream",
     "text": [
      "\u001b[1m180/180\u001b[0m \u001b[32m━━━━━━━━━━━━━━━━━━━━\u001b[0m\u001b[37m\u001b[0m \u001b[1m0s\u001b[0m 2ms/step\n"
     ]
    },
    {
     "name": "stderr",
     "output_type": "stream",
     "text": [
      "/var/folders/gy/0vj93nbd4x5bt_bpj2r46w7h0000gn/T/ipykernel_24137/1640273581.py:49: DeprecationWarning: setting an array element with a sequence. This was supported in some cases where the elements are arrays with a single element. For example `np.array([1, np.array([2])], dtype=int)`. In the future this will raise the same ValueError as `np.array([1, [2]], dtype=int)`.\n",
      "  X_train[i]= training_data['rms'][i], training_data['std'][i], training_data['MAD'][i], training_data['sigmaG'][i], training_data['skewness'][i], training_data['von_neumann_ratio'][i], training_data['J_Stetson'][i], training_data['max_power'][i], training_data['freq_at_max_power'][i], training_data['ratio_of_power_at_high_v_low_freq'][i], training_data['max_autocorrelation'][i], training_data['time_of_max_autocorrelation'][i], training_data['SumLSP_10_7_Day_Power'][i], training_data['SumLSP_7_4_Day_Power'][i], training_data['SumLSP_4_1_Day_Power'][i], training_data['SumLSP_1_p5_Day_Power'][i], training_data['Entropy'][i]\n",
      "/var/folders/gy/0vj93nbd4x5bt_bpj2r46w7h0000gn/T/ipykernel_24137/1640273581.py:54: DeprecationWarning: setting an array element with a sequence. This was supported in some cases where the elements are arrays with a single element. For example `np.array([1, np.array([2])], dtype=int)`. In the future this will raise the same ValueError as `np.array([1, [2]], dtype=int)`.\n",
      "  X_valid[i]= validation_data['rms'][i], validation_data['std'][i], validation_data['MAD'][i], validation_data['sigmaG'][i], validation_data['skewness'][i], validation_data['von_neumann_ratio'][i], validation_data['J_Stetson'][i], validation_data['max_power'][i], validation_data['freq_at_max_power'][i], validation_data['ratio_of_power_at_high_v_low_freq'][i], validation_data['max_autocorrelation'][i], validation_data['time_of_max_autocorrelation'][i], validation_data['SumLSP_10_7_Day_Power'][i], validation_data['SumLSP_7_4_Day_Power'][i], validation_data['SumLSP_4_1_Day_Power'][i], validation_data['SumLSP_1_p5_Day_Power'][i], validation_data['Entropy'][i]\n",
      "/var/folders/gy/0vj93nbd4x5bt_bpj2r46w7h0000gn/T/ipykernel_24137/1640273581.py:59: DeprecationWarning: setting an array element with a sequence. This was supported in some cases where the elements are arrays with a single element. For example `np.array([1, np.array([2])], dtype=int)`. In the future this will raise the same ValueError as `np.array([1, [2]], dtype=int)`.\n",
      "  X_test[i]= test_data['rms'][i], test_data['std'][i], test_data['MAD'][i], test_data['sigmaG'][i], test_data['skewness'][i], test_data['von_neumann_ratio'][i], test_data['J_Stetson'][i], test_data['max_power'][i], test_data['freq_at_max_power'][i], test_data['ratio_of_power_at_high_v_low_freq'][i], test_data['max_autocorrelation'][i], test_data['time_of_max_autocorrelation'][i], test_data['SumLSP_10_7_Day_Power'][i], test_data['SumLSP_7_4_Day_Power'][i], test_data['SumLSP_4_1_Day_Power'][i], test_data['SumLSP_1_p5_Day_Power'][i], test_data['Entropy'][i]\n"
     ]
    },
    {
     "name": "stdout",
     "output_type": "stream",
     "text": [
      "\u001b[1m123/123\u001b[0m \u001b[32m━━━━━━━━━━━━━━━━━━━━\u001b[0m\u001b[37m\u001b[0m \u001b[1m0s\u001b[0m 3ms/step\n"
     ]
    },
    {
     "name": "stderr",
     "output_type": "stream",
     "text": [
      "/var/folders/gy/0vj93nbd4x5bt_bpj2r46w7h0000gn/T/ipykernel_24137/1640273581.py:49: DeprecationWarning: setting an array element with a sequence. This was supported in some cases where the elements are arrays with a single element. For example `np.array([1, np.array([2])], dtype=int)`. In the future this will raise the same ValueError as `np.array([1, [2]], dtype=int)`.\n",
      "  X_train[i]= training_data['rms'][i], training_data['std'][i], training_data['MAD'][i], training_data['sigmaG'][i], training_data['skewness'][i], training_data['von_neumann_ratio'][i], training_data['J_Stetson'][i], training_data['max_power'][i], training_data['freq_at_max_power'][i], training_data['ratio_of_power_at_high_v_low_freq'][i], training_data['max_autocorrelation'][i], training_data['time_of_max_autocorrelation'][i], training_data['SumLSP_10_7_Day_Power'][i], training_data['SumLSP_7_4_Day_Power'][i], training_data['SumLSP_4_1_Day_Power'][i], training_data['SumLSP_1_p5_Day_Power'][i], training_data['Entropy'][i]\n",
      "/var/folders/gy/0vj93nbd4x5bt_bpj2r46w7h0000gn/T/ipykernel_24137/1640273581.py:54: DeprecationWarning: setting an array element with a sequence. This was supported in some cases where the elements are arrays with a single element. For example `np.array([1, np.array([2])], dtype=int)`. In the future this will raise the same ValueError as `np.array([1, [2]], dtype=int)`.\n",
      "  X_valid[i]= validation_data['rms'][i], validation_data['std'][i], validation_data['MAD'][i], validation_data['sigmaG'][i], validation_data['skewness'][i], validation_data['von_neumann_ratio'][i], validation_data['J_Stetson'][i], validation_data['max_power'][i], validation_data['freq_at_max_power'][i], validation_data['ratio_of_power_at_high_v_low_freq'][i], validation_data['max_autocorrelation'][i], validation_data['time_of_max_autocorrelation'][i], validation_data['SumLSP_10_7_Day_Power'][i], validation_data['SumLSP_7_4_Day_Power'][i], validation_data['SumLSP_4_1_Day_Power'][i], validation_data['SumLSP_1_p5_Day_Power'][i], validation_data['Entropy'][i]\n",
      "/var/folders/gy/0vj93nbd4x5bt_bpj2r46w7h0000gn/T/ipykernel_24137/1640273581.py:59: DeprecationWarning: setting an array element with a sequence. This was supported in some cases where the elements are arrays with a single element. For example `np.array([1, np.array([2])], dtype=int)`. In the future this will raise the same ValueError as `np.array([1, [2]], dtype=int)`.\n",
      "  X_test[i]= test_data['rms'][i], test_data['std'][i], test_data['MAD'][i], test_data['sigmaG'][i], test_data['skewness'][i], test_data['von_neumann_ratio'][i], test_data['J_Stetson'][i], test_data['max_power'][i], test_data['freq_at_max_power'][i], test_data['ratio_of_power_at_high_v_low_freq'][i], test_data['max_autocorrelation'][i], test_data['time_of_max_autocorrelation'][i], test_data['SumLSP_10_7_Day_Power'][i], test_data['SumLSP_7_4_Day_Power'][i], test_data['SumLSP_4_1_Day_Power'][i], test_data['SumLSP_1_p5_Day_Power'][i], test_data['Entropy'][i]\n"
     ]
    },
    {
     "name": "stdout",
     "output_type": "stream",
     "text": [
      "\u001b[1m165/165\u001b[0m \u001b[32m━━━━━━━━━━━━━━━━━━━━\u001b[0m\u001b[37m\u001b[0m \u001b[1m1s\u001b[0m 3ms/step\n"
     ]
    },
    {
     "name": "stderr",
     "output_type": "stream",
     "text": [
      "/var/folders/gy/0vj93nbd4x5bt_bpj2r46w7h0000gn/T/ipykernel_24137/1640273581.py:49: DeprecationWarning: setting an array element with a sequence. This was supported in some cases where the elements are arrays with a single element. For example `np.array([1, np.array([2])], dtype=int)`. In the future this will raise the same ValueError as `np.array([1, [2]], dtype=int)`.\n",
      "  X_train[i]= training_data['rms'][i], training_data['std'][i], training_data['MAD'][i], training_data['sigmaG'][i], training_data['skewness'][i], training_data['von_neumann_ratio'][i], training_data['J_Stetson'][i], training_data['max_power'][i], training_data['freq_at_max_power'][i], training_data['ratio_of_power_at_high_v_low_freq'][i], training_data['max_autocorrelation'][i], training_data['time_of_max_autocorrelation'][i], training_data['SumLSP_10_7_Day_Power'][i], training_data['SumLSP_7_4_Day_Power'][i], training_data['SumLSP_4_1_Day_Power'][i], training_data['SumLSP_1_p5_Day_Power'][i], training_data['Entropy'][i]\n",
      "/var/folders/gy/0vj93nbd4x5bt_bpj2r46w7h0000gn/T/ipykernel_24137/1640273581.py:54: DeprecationWarning: setting an array element with a sequence. This was supported in some cases where the elements are arrays with a single element. For example `np.array([1, np.array([2])], dtype=int)`. In the future this will raise the same ValueError as `np.array([1, [2]], dtype=int)`.\n",
      "  X_valid[i]= validation_data['rms'][i], validation_data['std'][i], validation_data['MAD'][i], validation_data['sigmaG'][i], validation_data['skewness'][i], validation_data['von_neumann_ratio'][i], validation_data['J_Stetson'][i], validation_data['max_power'][i], validation_data['freq_at_max_power'][i], validation_data['ratio_of_power_at_high_v_low_freq'][i], validation_data['max_autocorrelation'][i], validation_data['time_of_max_autocorrelation'][i], validation_data['SumLSP_10_7_Day_Power'][i], validation_data['SumLSP_7_4_Day_Power'][i], validation_data['SumLSP_4_1_Day_Power'][i], validation_data['SumLSP_1_p5_Day_Power'][i], validation_data['Entropy'][i]\n",
      "/var/folders/gy/0vj93nbd4x5bt_bpj2r46w7h0000gn/T/ipykernel_24137/1640273581.py:59: DeprecationWarning: setting an array element with a sequence. This was supported in some cases where the elements are arrays with a single element. For example `np.array([1, np.array([2])], dtype=int)`. In the future this will raise the same ValueError as `np.array([1, [2]], dtype=int)`.\n",
      "  X_test[i]= test_data['rms'][i], test_data['std'][i], test_data['MAD'][i], test_data['sigmaG'][i], test_data['skewness'][i], test_data['von_neumann_ratio'][i], test_data['J_Stetson'][i], test_data['max_power'][i], test_data['freq_at_max_power'][i], test_data['ratio_of_power_at_high_v_low_freq'][i], test_data['max_autocorrelation'][i], test_data['time_of_max_autocorrelation'][i], test_data['SumLSP_10_7_Day_Power'][i], test_data['SumLSP_7_4_Day_Power'][i], test_data['SumLSP_4_1_Day_Power'][i], test_data['SumLSP_1_p5_Day_Power'][i], test_data['Entropy'][i]\n"
     ]
    },
    {
     "name": "stdout",
     "output_type": "stream",
     "text": [
      "\u001b[1m149/149\u001b[0m \u001b[32m━━━━━━━━━━━━━━━━━━━━\u001b[0m\u001b[37m\u001b[0m \u001b[1m1s\u001b[0m 3ms/step\n"
     ]
    },
    {
     "name": "stderr",
     "output_type": "stream",
     "text": [
      "/var/folders/gy/0vj93nbd4x5bt_bpj2r46w7h0000gn/T/ipykernel_24137/1640273581.py:49: DeprecationWarning: setting an array element with a sequence. This was supported in some cases where the elements are arrays with a single element. For example `np.array([1, np.array([2])], dtype=int)`. In the future this will raise the same ValueError as `np.array([1, [2]], dtype=int)`.\n",
      "  X_train[i]= training_data['rms'][i], training_data['std'][i], training_data['MAD'][i], training_data['sigmaG'][i], training_data['skewness'][i], training_data['von_neumann_ratio'][i], training_data['J_Stetson'][i], training_data['max_power'][i], training_data['freq_at_max_power'][i], training_data['ratio_of_power_at_high_v_low_freq'][i], training_data['max_autocorrelation'][i], training_data['time_of_max_autocorrelation'][i], training_data['SumLSP_10_7_Day_Power'][i], training_data['SumLSP_7_4_Day_Power'][i], training_data['SumLSP_4_1_Day_Power'][i], training_data['SumLSP_1_p5_Day_Power'][i], training_data['Entropy'][i]\n",
      "/var/folders/gy/0vj93nbd4x5bt_bpj2r46w7h0000gn/T/ipykernel_24137/1640273581.py:54: DeprecationWarning: setting an array element with a sequence. This was supported in some cases where the elements are arrays with a single element. For example `np.array([1, np.array([2])], dtype=int)`. In the future this will raise the same ValueError as `np.array([1, [2]], dtype=int)`.\n",
      "  X_valid[i]= validation_data['rms'][i], validation_data['std'][i], validation_data['MAD'][i], validation_data['sigmaG'][i], validation_data['skewness'][i], validation_data['von_neumann_ratio'][i], validation_data['J_Stetson'][i], validation_data['max_power'][i], validation_data['freq_at_max_power'][i], validation_data['ratio_of_power_at_high_v_low_freq'][i], validation_data['max_autocorrelation'][i], validation_data['time_of_max_autocorrelation'][i], validation_data['SumLSP_10_7_Day_Power'][i], validation_data['SumLSP_7_4_Day_Power'][i], validation_data['SumLSP_4_1_Day_Power'][i], validation_data['SumLSP_1_p5_Day_Power'][i], validation_data['Entropy'][i]\n",
      "/var/folders/gy/0vj93nbd4x5bt_bpj2r46w7h0000gn/T/ipykernel_24137/1640273581.py:59: DeprecationWarning: setting an array element with a sequence. This was supported in some cases where the elements are arrays with a single element. For example `np.array([1, np.array([2])], dtype=int)`. In the future this will raise the same ValueError as `np.array([1, [2]], dtype=int)`.\n",
      "  X_test[i]= test_data['rms'][i], test_data['std'][i], test_data['MAD'][i], test_data['sigmaG'][i], test_data['skewness'][i], test_data['von_neumann_ratio'][i], test_data['J_Stetson'][i], test_data['max_power'][i], test_data['freq_at_max_power'][i], test_data['ratio_of_power_at_high_v_low_freq'][i], test_data['max_autocorrelation'][i], test_data['time_of_max_autocorrelation'][i], test_data['SumLSP_10_7_Day_Power'][i], test_data['SumLSP_7_4_Day_Power'][i], test_data['SumLSP_4_1_Day_Power'][i], test_data['SumLSP_1_p5_Day_Power'][i], test_data['Entropy'][i]\n"
     ]
    },
    {
     "name": "stdout",
     "output_type": "stream",
     "text": [
      "\u001b[1m136/136\u001b[0m \u001b[32m━━━━━━━━━━━━━━━━━━━━\u001b[0m\u001b[37m\u001b[0m \u001b[1m0s\u001b[0m 3ms/step\n"
     ]
    },
    {
     "name": "stderr",
     "output_type": "stream",
     "text": [
      "/var/folders/gy/0vj93nbd4x5bt_bpj2r46w7h0000gn/T/ipykernel_24137/1640273581.py:49: DeprecationWarning: setting an array element with a sequence. This was supported in some cases where the elements are arrays with a single element. For example `np.array([1, np.array([2])], dtype=int)`. In the future this will raise the same ValueError as `np.array([1, [2]], dtype=int)`.\n",
      "  X_train[i]= training_data['rms'][i], training_data['std'][i], training_data['MAD'][i], training_data['sigmaG'][i], training_data['skewness'][i], training_data['von_neumann_ratio'][i], training_data['J_Stetson'][i], training_data['max_power'][i], training_data['freq_at_max_power'][i], training_data['ratio_of_power_at_high_v_low_freq'][i], training_data['max_autocorrelation'][i], training_data['time_of_max_autocorrelation'][i], training_data['SumLSP_10_7_Day_Power'][i], training_data['SumLSP_7_4_Day_Power'][i], training_data['SumLSP_4_1_Day_Power'][i], training_data['SumLSP_1_p5_Day_Power'][i], training_data['Entropy'][i]\n",
      "/var/folders/gy/0vj93nbd4x5bt_bpj2r46w7h0000gn/T/ipykernel_24137/1640273581.py:54: DeprecationWarning: setting an array element with a sequence. This was supported in some cases where the elements are arrays with a single element. For example `np.array([1, np.array([2])], dtype=int)`. In the future this will raise the same ValueError as `np.array([1, [2]], dtype=int)`.\n",
      "  X_valid[i]= validation_data['rms'][i], validation_data['std'][i], validation_data['MAD'][i], validation_data['sigmaG'][i], validation_data['skewness'][i], validation_data['von_neumann_ratio'][i], validation_data['J_Stetson'][i], validation_data['max_power'][i], validation_data['freq_at_max_power'][i], validation_data['ratio_of_power_at_high_v_low_freq'][i], validation_data['max_autocorrelation'][i], validation_data['time_of_max_autocorrelation'][i], validation_data['SumLSP_10_7_Day_Power'][i], validation_data['SumLSP_7_4_Day_Power'][i], validation_data['SumLSP_4_1_Day_Power'][i], validation_data['SumLSP_1_p5_Day_Power'][i], validation_data['Entropy'][i]\n",
      "/var/folders/gy/0vj93nbd4x5bt_bpj2r46w7h0000gn/T/ipykernel_24137/1640273581.py:59: DeprecationWarning: setting an array element with a sequence. This was supported in some cases where the elements are arrays with a single element. For example `np.array([1, np.array([2])], dtype=int)`. In the future this will raise the same ValueError as `np.array([1, [2]], dtype=int)`.\n",
      "  X_test[i]= test_data['rms'][i], test_data['std'][i], test_data['MAD'][i], test_data['sigmaG'][i], test_data['skewness'][i], test_data['von_neumann_ratio'][i], test_data['J_Stetson'][i], test_data['max_power'][i], test_data['freq_at_max_power'][i], test_data['ratio_of_power_at_high_v_low_freq'][i], test_data['max_autocorrelation'][i], test_data['time_of_max_autocorrelation'][i], test_data['SumLSP_10_7_Day_Power'][i], test_data['SumLSP_7_4_Day_Power'][i], test_data['SumLSP_4_1_Day_Power'][i], test_data['SumLSP_1_p5_Day_Power'][i], test_data['Entropy'][i]\n"
     ]
    },
    {
     "name": "stdout",
     "output_type": "stream",
     "text": [
      "\u001b[1m153/153\u001b[0m \u001b[32m━━━━━━━━━━━━━━━━━━━━\u001b[0m\u001b[37m\u001b[0m \u001b[1m1s\u001b[0m 4ms/step\n"
     ]
    },
    {
     "name": "stderr",
     "output_type": "stream",
     "text": [
      "/var/folders/gy/0vj93nbd4x5bt_bpj2r46w7h0000gn/T/ipykernel_24137/1640273581.py:49: DeprecationWarning: setting an array element with a sequence. This was supported in some cases where the elements are arrays with a single element. For example `np.array([1, np.array([2])], dtype=int)`. In the future this will raise the same ValueError as `np.array([1, [2]], dtype=int)`.\n",
      "  X_train[i]= training_data['rms'][i], training_data['std'][i], training_data['MAD'][i], training_data['sigmaG'][i], training_data['skewness'][i], training_data['von_neumann_ratio'][i], training_data['J_Stetson'][i], training_data['max_power'][i], training_data['freq_at_max_power'][i], training_data['ratio_of_power_at_high_v_low_freq'][i], training_data['max_autocorrelation'][i], training_data['time_of_max_autocorrelation'][i], training_data['SumLSP_10_7_Day_Power'][i], training_data['SumLSP_7_4_Day_Power'][i], training_data['SumLSP_4_1_Day_Power'][i], training_data['SumLSP_1_p5_Day_Power'][i], training_data['Entropy'][i]\n",
      "/var/folders/gy/0vj93nbd4x5bt_bpj2r46w7h0000gn/T/ipykernel_24137/1640273581.py:54: DeprecationWarning: setting an array element with a sequence. This was supported in some cases where the elements are arrays with a single element. For example `np.array([1, np.array([2])], dtype=int)`. In the future this will raise the same ValueError as `np.array([1, [2]], dtype=int)`.\n",
      "  X_valid[i]= validation_data['rms'][i], validation_data['std'][i], validation_data['MAD'][i], validation_data['sigmaG'][i], validation_data['skewness'][i], validation_data['von_neumann_ratio'][i], validation_data['J_Stetson'][i], validation_data['max_power'][i], validation_data['freq_at_max_power'][i], validation_data['ratio_of_power_at_high_v_low_freq'][i], validation_data['max_autocorrelation'][i], validation_data['time_of_max_autocorrelation'][i], validation_data['SumLSP_10_7_Day_Power'][i], validation_data['SumLSP_7_4_Day_Power'][i], validation_data['SumLSP_4_1_Day_Power'][i], validation_data['SumLSP_1_p5_Day_Power'][i], validation_data['Entropy'][i]\n",
      "/var/folders/gy/0vj93nbd4x5bt_bpj2r46w7h0000gn/T/ipykernel_24137/1640273581.py:59: DeprecationWarning: setting an array element with a sequence. This was supported in some cases where the elements are arrays with a single element. For example `np.array([1, np.array([2])], dtype=int)`. In the future this will raise the same ValueError as `np.array([1, [2]], dtype=int)`.\n",
      "  X_test[i]= test_data['rms'][i], test_data['std'][i], test_data['MAD'][i], test_data['sigmaG'][i], test_data['skewness'][i], test_data['von_neumann_ratio'][i], test_data['J_Stetson'][i], test_data['max_power'][i], test_data['freq_at_max_power'][i], test_data['ratio_of_power_at_high_v_low_freq'][i], test_data['max_autocorrelation'][i], test_data['time_of_max_autocorrelation'][i], test_data['SumLSP_10_7_Day_Power'][i], test_data['SumLSP_7_4_Day_Power'][i], test_data['SumLSP_4_1_Day_Power'][i], test_data['SumLSP_1_p5_Day_Power'][i], test_data['Entropy'][i]\n"
     ]
    },
    {
     "name": "stdout",
     "output_type": "stream",
     "text": [
      "\u001b[1m155/155\u001b[0m \u001b[32m━━━━━━━━━━━━━━━━━━━━\u001b[0m\u001b[37m\u001b[0m \u001b[1m1s\u001b[0m 3ms/step\n"
     ]
    },
    {
     "name": "stderr",
     "output_type": "stream",
     "text": [
      "/var/folders/gy/0vj93nbd4x5bt_bpj2r46w7h0000gn/T/ipykernel_24137/1640273581.py:49: DeprecationWarning: setting an array element with a sequence. This was supported in some cases where the elements are arrays with a single element. For example `np.array([1, np.array([2])], dtype=int)`. In the future this will raise the same ValueError as `np.array([1, [2]], dtype=int)`.\n",
      "  X_train[i]= training_data['rms'][i], training_data['std'][i], training_data['MAD'][i], training_data['sigmaG'][i], training_data['skewness'][i], training_data['von_neumann_ratio'][i], training_data['J_Stetson'][i], training_data['max_power'][i], training_data['freq_at_max_power'][i], training_data['ratio_of_power_at_high_v_low_freq'][i], training_data['max_autocorrelation'][i], training_data['time_of_max_autocorrelation'][i], training_data['SumLSP_10_7_Day_Power'][i], training_data['SumLSP_7_4_Day_Power'][i], training_data['SumLSP_4_1_Day_Power'][i], training_data['SumLSP_1_p5_Day_Power'][i], training_data['Entropy'][i]\n",
      "/var/folders/gy/0vj93nbd4x5bt_bpj2r46w7h0000gn/T/ipykernel_24137/1640273581.py:54: DeprecationWarning: setting an array element with a sequence. This was supported in some cases where the elements are arrays with a single element. For example `np.array([1, np.array([2])], dtype=int)`. In the future this will raise the same ValueError as `np.array([1, [2]], dtype=int)`.\n",
      "  X_valid[i]= validation_data['rms'][i], validation_data['std'][i], validation_data['MAD'][i], validation_data['sigmaG'][i], validation_data['skewness'][i], validation_data['von_neumann_ratio'][i], validation_data['J_Stetson'][i], validation_data['max_power'][i], validation_data['freq_at_max_power'][i], validation_data['ratio_of_power_at_high_v_low_freq'][i], validation_data['max_autocorrelation'][i], validation_data['time_of_max_autocorrelation'][i], validation_data['SumLSP_10_7_Day_Power'][i], validation_data['SumLSP_7_4_Day_Power'][i], validation_data['SumLSP_4_1_Day_Power'][i], validation_data['SumLSP_1_p5_Day_Power'][i], validation_data['Entropy'][i]\n",
      "/var/folders/gy/0vj93nbd4x5bt_bpj2r46w7h0000gn/T/ipykernel_24137/1640273581.py:59: DeprecationWarning: setting an array element with a sequence. This was supported in some cases where the elements are arrays with a single element. For example `np.array([1, np.array([2])], dtype=int)`. In the future this will raise the same ValueError as `np.array([1, [2]], dtype=int)`.\n",
      "  X_test[i]= test_data['rms'][i], test_data['std'][i], test_data['MAD'][i], test_data['sigmaG'][i], test_data['skewness'][i], test_data['von_neumann_ratio'][i], test_data['J_Stetson'][i], test_data['max_power'][i], test_data['freq_at_max_power'][i], test_data['ratio_of_power_at_high_v_low_freq'][i], test_data['max_autocorrelation'][i], test_data['time_of_max_autocorrelation'][i], test_data['SumLSP_10_7_Day_Power'][i], test_data['SumLSP_7_4_Day_Power'][i], test_data['SumLSP_4_1_Day_Power'][i], test_data['SumLSP_1_p5_Day_Power'][i], test_data['Entropy'][i]\n"
     ]
    },
    {
     "name": "stdout",
     "output_type": "stream",
     "text": [
      "\u001b[1m174/174\u001b[0m \u001b[32m━━━━━━━━━━━━━━━━━━━━\u001b[0m\u001b[37m\u001b[0m \u001b[1m1s\u001b[0m 5ms/step\n"
     ]
    },
    {
     "name": "stderr",
     "output_type": "stream",
     "text": [
      "/var/folders/gy/0vj93nbd4x5bt_bpj2r46w7h0000gn/T/ipykernel_24137/1640273581.py:49: DeprecationWarning: setting an array element with a sequence. This was supported in some cases where the elements are arrays with a single element. For example `np.array([1, np.array([2])], dtype=int)`. In the future this will raise the same ValueError as `np.array([1, [2]], dtype=int)`.\n",
      "  X_train[i]= training_data['rms'][i], training_data['std'][i], training_data['MAD'][i], training_data['sigmaG'][i], training_data['skewness'][i], training_data['von_neumann_ratio'][i], training_data['J_Stetson'][i], training_data['max_power'][i], training_data['freq_at_max_power'][i], training_data['ratio_of_power_at_high_v_low_freq'][i], training_data['max_autocorrelation'][i], training_data['time_of_max_autocorrelation'][i], training_data['SumLSP_10_7_Day_Power'][i], training_data['SumLSP_7_4_Day_Power'][i], training_data['SumLSP_4_1_Day_Power'][i], training_data['SumLSP_1_p5_Day_Power'][i], training_data['Entropy'][i]\n",
      "/var/folders/gy/0vj93nbd4x5bt_bpj2r46w7h0000gn/T/ipykernel_24137/1640273581.py:54: DeprecationWarning: setting an array element with a sequence. This was supported in some cases where the elements are arrays with a single element. For example `np.array([1, np.array([2])], dtype=int)`. In the future this will raise the same ValueError as `np.array([1, [2]], dtype=int)`.\n",
      "  X_valid[i]= validation_data['rms'][i], validation_data['std'][i], validation_data['MAD'][i], validation_data['sigmaG'][i], validation_data['skewness'][i], validation_data['von_neumann_ratio'][i], validation_data['J_Stetson'][i], validation_data['max_power'][i], validation_data['freq_at_max_power'][i], validation_data['ratio_of_power_at_high_v_low_freq'][i], validation_data['max_autocorrelation'][i], validation_data['time_of_max_autocorrelation'][i], validation_data['SumLSP_10_7_Day_Power'][i], validation_data['SumLSP_7_4_Day_Power'][i], validation_data['SumLSP_4_1_Day_Power'][i], validation_data['SumLSP_1_p5_Day_Power'][i], validation_data['Entropy'][i]\n",
      "/var/folders/gy/0vj93nbd4x5bt_bpj2r46w7h0000gn/T/ipykernel_24137/1640273581.py:59: DeprecationWarning: setting an array element with a sequence. This was supported in some cases where the elements are arrays with a single element. For example `np.array([1, np.array([2])], dtype=int)`. In the future this will raise the same ValueError as `np.array([1, [2]], dtype=int)`.\n",
      "  X_test[i]= test_data['rms'][i], test_data['std'][i], test_data['MAD'][i], test_data['sigmaG'][i], test_data['skewness'][i], test_data['von_neumann_ratio'][i], test_data['J_Stetson'][i], test_data['max_power'][i], test_data['freq_at_max_power'][i], test_data['ratio_of_power_at_high_v_low_freq'][i], test_data['max_autocorrelation'][i], test_data['time_of_max_autocorrelation'][i], test_data['SumLSP_10_7_Day_Power'][i], test_data['SumLSP_7_4_Day_Power'][i], test_data['SumLSP_4_1_Day_Power'][i], test_data['SumLSP_1_p5_Day_Power'][i], test_data['Entropy'][i]\n"
     ]
    },
    {
     "name": "stdout",
     "output_type": "stream",
     "text": [
      "\u001b[1m146/146\u001b[0m \u001b[32m━━━━━━━━━━━━━━━━━━━━\u001b[0m\u001b[37m\u001b[0m \u001b[1m1s\u001b[0m 8ms/step\n"
     ]
    },
    {
     "name": "stderr",
     "output_type": "stream",
     "text": [
      "/var/folders/gy/0vj93nbd4x5bt_bpj2r46w7h0000gn/T/ipykernel_24137/1640273581.py:49: DeprecationWarning: setting an array element with a sequence. This was supported in some cases where the elements are arrays with a single element. For example `np.array([1, np.array([2])], dtype=int)`. In the future this will raise the same ValueError as `np.array([1, [2]], dtype=int)`.\n",
      "  X_train[i]= training_data['rms'][i], training_data['std'][i], training_data['MAD'][i], training_data['sigmaG'][i], training_data['skewness'][i], training_data['von_neumann_ratio'][i], training_data['J_Stetson'][i], training_data['max_power'][i], training_data['freq_at_max_power'][i], training_data['ratio_of_power_at_high_v_low_freq'][i], training_data['max_autocorrelation'][i], training_data['time_of_max_autocorrelation'][i], training_data['SumLSP_10_7_Day_Power'][i], training_data['SumLSP_7_4_Day_Power'][i], training_data['SumLSP_4_1_Day_Power'][i], training_data['SumLSP_1_p5_Day_Power'][i], training_data['Entropy'][i]\n",
      "/var/folders/gy/0vj93nbd4x5bt_bpj2r46w7h0000gn/T/ipykernel_24137/1640273581.py:54: DeprecationWarning: setting an array element with a sequence. This was supported in some cases where the elements are arrays with a single element. For example `np.array([1, np.array([2])], dtype=int)`. In the future this will raise the same ValueError as `np.array([1, [2]], dtype=int)`.\n",
      "  X_valid[i]= validation_data['rms'][i], validation_data['std'][i], validation_data['MAD'][i], validation_data['sigmaG'][i], validation_data['skewness'][i], validation_data['von_neumann_ratio'][i], validation_data['J_Stetson'][i], validation_data['max_power'][i], validation_data['freq_at_max_power'][i], validation_data['ratio_of_power_at_high_v_low_freq'][i], validation_data['max_autocorrelation'][i], validation_data['time_of_max_autocorrelation'][i], validation_data['SumLSP_10_7_Day_Power'][i], validation_data['SumLSP_7_4_Day_Power'][i], validation_data['SumLSP_4_1_Day_Power'][i], validation_data['SumLSP_1_p5_Day_Power'][i], validation_data['Entropy'][i]\n",
      "/var/folders/gy/0vj93nbd4x5bt_bpj2r46w7h0000gn/T/ipykernel_24137/1640273581.py:59: DeprecationWarning: setting an array element with a sequence. This was supported in some cases where the elements are arrays with a single element. For example `np.array([1, np.array([2])], dtype=int)`. In the future this will raise the same ValueError as `np.array([1, [2]], dtype=int)`.\n",
      "  X_test[i]= test_data['rms'][i], test_data['std'][i], test_data['MAD'][i], test_data['sigmaG'][i], test_data['skewness'][i], test_data['von_neumann_ratio'][i], test_data['J_Stetson'][i], test_data['max_power'][i], test_data['freq_at_max_power'][i], test_data['ratio_of_power_at_high_v_low_freq'][i], test_data['max_autocorrelation'][i], test_data['time_of_max_autocorrelation'][i], test_data['SumLSP_10_7_Day_Power'][i], test_data['SumLSP_7_4_Day_Power'][i], test_data['SumLSP_4_1_Day_Power'][i], test_data['SumLSP_1_p5_Day_Power'][i], test_data['Entropy'][i]\n"
     ]
    },
    {
     "name": "stdout",
     "output_type": "stream",
     "text": [
      "\u001b[1m153/153\u001b[0m \u001b[32m━━━━━━━━━━━━━━━━━━━━\u001b[0m\u001b[37m\u001b[0m \u001b[1m0s\u001b[0m 2ms/step\n"
     ]
    },
    {
     "name": "stderr",
     "output_type": "stream",
     "text": [
      "/var/folders/gy/0vj93nbd4x5bt_bpj2r46w7h0000gn/T/ipykernel_24137/1640273581.py:49: DeprecationWarning: setting an array element with a sequence. This was supported in some cases where the elements are arrays with a single element. For example `np.array([1, np.array([2])], dtype=int)`. In the future this will raise the same ValueError as `np.array([1, [2]], dtype=int)`.\n",
      "  X_train[i]= training_data['rms'][i], training_data['std'][i], training_data['MAD'][i], training_data['sigmaG'][i], training_data['skewness'][i], training_data['von_neumann_ratio'][i], training_data['J_Stetson'][i], training_data['max_power'][i], training_data['freq_at_max_power'][i], training_data['ratio_of_power_at_high_v_low_freq'][i], training_data['max_autocorrelation'][i], training_data['time_of_max_autocorrelation'][i], training_data['SumLSP_10_7_Day_Power'][i], training_data['SumLSP_7_4_Day_Power'][i], training_data['SumLSP_4_1_Day_Power'][i], training_data['SumLSP_1_p5_Day_Power'][i], training_data['Entropy'][i]\n",
      "/var/folders/gy/0vj93nbd4x5bt_bpj2r46w7h0000gn/T/ipykernel_24137/1640273581.py:54: DeprecationWarning: setting an array element with a sequence. This was supported in some cases where the elements are arrays with a single element. For example `np.array([1, np.array([2])], dtype=int)`. In the future this will raise the same ValueError as `np.array([1, [2]], dtype=int)`.\n",
      "  X_valid[i]= validation_data['rms'][i], validation_data['std'][i], validation_data['MAD'][i], validation_data['sigmaG'][i], validation_data['skewness'][i], validation_data['von_neumann_ratio'][i], validation_data['J_Stetson'][i], validation_data['max_power'][i], validation_data['freq_at_max_power'][i], validation_data['ratio_of_power_at_high_v_low_freq'][i], validation_data['max_autocorrelation'][i], validation_data['time_of_max_autocorrelation'][i], validation_data['SumLSP_10_7_Day_Power'][i], validation_data['SumLSP_7_4_Day_Power'][i], validation_data['SumLSP_4_1_Day_Power'][i], validation_data['SumLSP_1_p5_Day_Power'][i], validation_data['Entropy'][i]\n",
      "/var/folders/gy/0vj93nbd4x5bt_bpj2r46w7h0000gn/T/ipykernel_24137/1640273581.py:59: DeprecationWarning: setting an array element with a sequence. This was supported in some cases where the elements are arrays with a single element. For example `np.array([1, np.array([2])], dtype=int)`. In the future this will raise the same ValueError as `np.array([1, [2]], dtype=int)`.\n",
      "  X_test[i]= test_data['rms'][i], test_data['std'][i], test_data['MAD'][i], test_data['sigmaG'][i], test_data['skewness'][i], test_data['von_neumann_ratio'][i], test_data['J_Stetson'][i], test_data['max_power'][i], test_data['freq_at_max_power'][i], test_data['ratio_of_power_at_high_v_low_freq'][i], test_data['max_autocorrelation'][i], test_data['time_of_max_autocorrelation'][i], test_data['SumLSP_10_7_Day_Power'][i], test_data['SumLSP_7_4_Day_Power'][i], test_data['SumLSP_4_1_Day_Power'][i], test_data['SumLSP_1_p5_Day_Power'][i], test_data['Entropy'][i]\n"
     ]
    },
    {
     "name": "stdout",
     "output_type": "stream",
     "text": [
      "\u001b[1m155/155\u001b[0m \u001b[32m━━━━━━━━━━━━━━━━━━━━\u001b[0m\u001b[37m\u001b[0m \u001b[1m1s\u001b[0m 3ms/step\n"
     ]
    },
    {
     "name": "stderr",
     "output_type": "stream",
     "text": [
      "/var/folders/gy/0vj93nbd4x5bt_bpj2r46w7h0000gn/T/ipykernel_24137/1640273581.py:49: DeprecationWarning: setting an array element with a sequence. This was supported in some cases where the elements are arrays with a single element. For example `np.array([1, np.array([2])], dtype=int)`. In the future this will raise the same ValueError as `np.array([1, [2]], dtype=int)`.\n",
      "  X_train[i]= training_data['rms'][i], training_data['std'][i], training_data['MAD'][i], training_data['sigmaG'][i], training_data['skewness'][i], training_data['von_neumann_ratio'][i], training_data['J_Stetson'][i], training_data['max_power'][i], training_data['freq_at_max_power'][i], training_data['ratio_of_power_at_high_v_low_freq'][i], training_data['max_autocorrelation'][i], training_data['time_of_max_autocorrelation'][i], training_data['SumLSP_10_7_Day_Power'][i], training_data['SumLSP_7_4_Day_Power'][i], training_data['SumLSP_4_1_Day_Power'][i], training_data['SumLSP_1_p5_Day_Power'][i], training_data['Entropy'][i]\n",
      "/var/folders/gy/0vj93nbd4x5bt_bpj2r46w7h0000gn/T/ipykernel_24137/1640273581.py:54: DeprecationWarning: setting an array element with a sequence. This was supported in some cases where the elements are arrays with a single element. For example `np.array([1, np.array([2])], dtype=int)`. In the future this will raise the same ValueError as `np.array([1, [2]], dtype=int)`.\n",
      "  X_valid[i]= validation_data['rms'][i], validation_data['std'][i], validation_data['MAD'][i], validation_data['sigmaG'][i], validation_data['skewness'][i], validation_data['von_neumann_ratio'][i], validation_data['J_Stetson'][i], validation_data['max_power'][i], validation_data['freq_at_max_power'][i], validation_data['ratio_of_power_at_high_v_low_freq'][i], validation_data['max_autocorrelation'][i], validation_data['time_of_max_autocorrelation'][i], validation_data['SumLSP_10_7_Day_Power'][i], validation_data['SumLSP_7_4_Day_Power'][i], validation_data['SumLSP_4_1_Day_Power'][i], validation_data['SumLSP_1_p5_Day_Power'][i], validation_data['Entropy'][i]\n",
      "/var/folders/gy/0vj93nbd4x5bt_bpj2r46w7h0000gn/T/ipykernel_24137/1640273581.py:59: DeprecationWarning: setting an array element with a sequence. This was supported in some cases where the elements are arrays with a single element. For example `np.array([1, np.array([2])], dtype=int)`. In the future this will raise the same ValueError as `np.array([1, [2]], dtype=int)`.\n",
      "  X_test[i]= test_data['rms'][i], test_data['std'][i], test_data['MAD'][i], test_data['sigmaG'][i], test_data['skewness'][i], test_data['von_neumann_ratio'][i], test_data['J_Stetson'][i], test_data['max_power'][i], test_data['freq_at_max_power'][i], test_data['ratio_of_power_at_high_v_low_freq'][i], test_data['max_autocorrelation'][i], test_data['time_of_max_autocorrelation'][i], test_data['SumLSP_10_7_Day_Power'][i], test_data['SumLSP_7_4_Day_Power'][i], test_data['SumLSP_4_1_Day_Power'][i], test_data['SumLSP_1_p5_Day_Power'][i], test_data['Entropy'][i]\n"
     ]
    },
    {
     "name": "stdout",
     "output_type": "stream",
     "text": [
      "\u001b[1m121/121\u001b[0m \u001b[32m━━━━━━━━━━━━━━━━━━━━\u001b[0m\u001b[37m\u001b[0m \u001b[1m1s\u001b[0m 5ms/step\n"
     ]
    },
    {
     "name": "stderr",
     "output_type": "stream",
     "text": [
      "/var/folders/gy/0vj93nbd4x5bt_bpj2r46w7h0000gn/T/ipykernel_24137/1640273581.py:49: DeprecationWarning: setting an array element with a sequence. This was supported in some cases where the elements are arrays with a single element. For example `np.array([1, np.array([2])], dtype=int)`. In the future this will raise the same ValueError as `np.array([1, [2]], dtype=int)`.\n",
      "  X_train[i]= training_data['rms'][i], training_data['std'][i], training_data['MAD'][i], training_data['sigmaG'][i], training_data['skewness'][i], training_data['von_neumann_ratio'][i], training_data['J_Stetson'][i], training_data['max_power'][i], training_data['freq_at_max_power'][i], training_data['ratio_of_power_at_high_v_low_freq'][i], training_data['max_autocorrelation'][i], training_data['time_of_max_autocorrelation'][i], training_data['SumLSP_10_7_Day_Power'][i], training_data['SumLSP_7_4_Day_Power'][i], training_data['SumLSP_4_1_Day_Power'][i], training_data['SumLSP_1_p5_Day_Power'][i], training_data['Entropy'][i]\n",
      "/var/folders/gy/0vj93nbd4x5bt_bpj2r46w7h0000gn/T/ipykernel_24137/1640273581.py:54: DeprecationWarning: setting an array element with a sequence. This was supported in some cases where the elements are arrays with a single element. For example `np.array([1, np.array([2])], dtype=int)`. In the future this will raise the same ValueError as `np.array([1, [2]], dtype=int)`.\n",
      "  X_valid[i]= validation_data['rms'][i], validation_data['std'][i], validation_data['MAD'][i], validation_data['sigmaG'][i], validation_data['skewness'][i], validation_data['von_neumann_ratio'][i], validation_data['J_Stetson'][i], validation_data['max_power'][i], validation_data['freq_at_max_power'][i], validation_data['ratio_of_power_at_high_v_low_freq'][i], validation_data['max_autocorrelation'][i], validation_data['time_of_max_autocorrelation'][i], validation_data['SumLSP_10_7_Day_Power'][i], validation_data['SumLSP_7_4_Day_Power'][i], validation_data['SumLSP_4_1_Day_Power'][i], validation_data['SumLSP_1_p5_Day_Power'][i], validation_data['Entropy'][i]\n",
      "/var/folders/gy/0vj93nbd4x5bt_bpj2r46w7h0000gn/T/ipykernel_24137/1640273581.py:59: DeprecationWarning: setting an array element with a sequence. This was supported in some cases where the elements are arrays with a single element. For example `np.array([1, np.array([2])], dtype=int)`. In the future this will raise the same ValueError as `np.array([1, [2]], dtype=int)`.\n",
      "  X_test[i]= test_data['rms'][i], test_data['std'][i], test_data['MAD'][i], test_data['sigmaG'][i], test_data['skewness'][i], test_data['von_neumann_ratio'][i], test_data['J_Stetson'][i], test_data['max_power'][i], test_data['freq_at_max_power'][i], test_data['ratio_of_power_at_high_v_low_freq'][i], test_data['max_autocorrelation'][i], test_data['time_of_max_autocorrelation'][i], test_data['SumLSP_10_7_Day_Power'][i], test_data['SumLSP_7_4_Day_Power'][i], test_data['SumLSP_4_1_Day_Power'][i], test_data['SumLSP_1_p5_Day_Power'][i], test_data['Entropy'][i]\n"
     ]
    },
    {
     "name": "stdout",
     "output_type": "stream",
     "text": [
      "\u001b[1m156/156\u001b[0m \u001b[32m━━━━━━━━━━━━━━━━━━━━\u001b[0m\u001b[37m\u001b[0m \u001b[1m1s\u001b[0m 3ms/step\n"
     ]
    },
    {
     "name": "stderr",
     "output_type": "stream",
     "text": [
      "/var/folders/gy/0vj93nbd4x5bt_bpj2r46w7h0000gn/T/ipykernel_24137/1640273581.py:49: DeprecationWarning: setting an array element with a sequence. This was supported in some cases where the elements are arrays with a single element. For example `np.array([1, np.array([2])], dtype=int)`. In the future this will raise the same ValueError as `np.array([1, [2]], dtype=int)`.\n",
      "  X_train[i]= training_data['rms'][i], training_data['std'][i], training_data['MAD'][i], training_data['sigmaG'][i], training_data['skewness'][i], training_data['von_neumann_ratio'][i], training_data['J_Stetson'][i], training_data['max_power'][i], training_data['freq_at_max_power'][i], training_data['ratio_of_power_at_high_v_low_freq'][i], training_data['max_autocorrelation'][i], training_data['time_of_max_autocorrelation'][i], training_data['SumLSP_10_7_Day_Power'][i], training_data['SumLSP_7_4_Day_Power'][i], training_data['SumLSP_4_1_Day_Power'][i], training_data['SumLSP_1_p5_Day_Power'][i], training_data['Entropy'][i]\n",
      "/var/folders/gy/0vj93nbd4x5bt_bpj2r46w7h0000gn/T/ipykernel_24137/1640273581.py:54: DeprecationWarning: setting an array element with a sequence. This was supported in some cases where the elements are arrays with a single element. For example `np.array([1, np.array([2])], dtype=int)`. In the future this will raise the same ValueError as `np.array([1, [2]], dtype=int)`.\n",
      "  X_valid[i]= validation_data['rms'][i], validation_data['std'][i], validation_data['MAD'][i], validation_data['sigmaG'][i], validation_data['skewness'][i], validation_data['von_neumann_ratio'][i], validation_data['J_Stetson'][i], validation_data['max_power'][i], validation_data['freq_at_max_power'][i], validation_data['ratio_of_power_at_high_v_low_freq'][i], validation_data['max_autocorrelation'][i], validation_data['time_of_max_autocorrelation'][i], validation_data['SumLSP_10_7_Day_Power'][i], validation_data['SumLSP_7_4_Day_Power'][i], validation_data['SumLSP_4_1_Day_Power'][i], validation_data['SumLSP_1_p5_Day_Power'][i], validation_data['Entropy'][i]\n",
      "/var/folders/gy/0vj93nbd4x5bt_bpj2r46w7h0000gn/T/ipykernel_24137/1640273581.py:59: DeprecationWarning: setting an array element with a sequence. This was supported in some cases where the elements are arrays with a single element. For example `np.array([1, np.array([2])], dtype=int)`. In the future this will raise the same ValueError as `np.array([1, [2]], dtype=int)`.\n",
      "  X_test[i]= test_data['rms'][i], test_data['std'][i], test_data['MAD'][i], test_data['sigmaG'][i], test_data['skewness'][i], test_data['von_neumann_ratio'][i], test_data['J_Stetson'][i], test_data['max_power'][i], test_data['freq_at_max_power'][i], test_data['ratio_of_power_at_high_v_low_freq'][i], test_data['max_autocorrelation'][i], test_data['time_of_max_autocorrelation'][i], test_data['SumLSP_10_7_Day_Power'][i], test_data['SumLSP_7_4_Day_Power'][i], test_data['SumLSP_4_1_Day_Power'][i], test_data['SumLSP_1_p5_Day_Power'][i], test_data['Entropy'][i]\n"
     ]
    },
    {
     "name": "stdout",
     "output_type": "stream",
     "text": [
      "\u001b[1m218/218\u001b[0m \u001b[32m━━━━━━━━━━━━━━━━━━━━\u001b[0m\u001b[37m\u001b[0m \u001b[1m1s\u001b[0m 2ms/step\n"
     ]
    },
    {
     "name": "stderr",
     "output_type": "stream",
     "text": [
      "/var/folders/gy/0vj93nbd4x5bt_bpj2r46w7h0000gn/T/ipykernel_24137/1640273581.py:49: DeprecationWarning: setting an array element with a sequence. This was supported in some cases where the elements are arrays with a single element. For example `np.array([1, np.array([2])], dtype=int)`. In the future this will raise the same ValueError as `np.array([1, [2]], dtype=int)`.\n",
      "  X_train[i]= training_data['rms'][i], training_data['std'][i], training_data['MAD'][i], training_data['sigmaG'][i], training_data['skewness'][i], training_data['von_neumann_ratio'][i], training_data['J_Stetson'][i], training_data['max_power'][i], training_data['freq_at_max_power'][i], training_data['ratio_of_power_at_high_v_low_freq'][i], training_data['max_autocorrelation'][i], training_data['time_of_max_autocorrelation'][i], training_data['SumLSP_10_7_Day_Power'][i], training_data['SumLSP_7_4_Day_Power'][i], training_data['SumLSP_4_1_Day_Power'][i], training_data['SumLSP_1_p5_Day_Power'][i], training_data['Entropy'][i]\n",
      "/var/folders/gy/0vj93nbd4x5bt_bpj2r46w7h0000gn/T/ipykernel_24137/1640273581.py:54: DeprecationWarning: setting an array element with a sequence. This was supported in some cases where the elements are arrays with a single element. For example `np.array([1, np.array([2])], dtype=int)`. In the future this will raise the same ValueError as `np.array([1, [2]], dtype=int)`.\n",
      "  X_valid[i]= validation_data['rms'][i], validation_data['std'][i], validation_data['MAD'][i], validation_data['sigmaG'][i], validation_data['skewness'][i], validation_data['von_neumann_ratio'][i], validation_data['J_Stetson'][i], validation_data['max_power'][i], validation_data['freq_at_max_power'][i], validation_data['ratio_of_power_at_high_v_low_freq'][i], validation_data['max_autocorrelation'][i], validation_data['time_of_max_autocorrelation'][i], validation_data['SumLSP_10_7_Day_Power'][i], validation_data['SumLSP_7_4_Day_Power'][i], validation_data['SumLSP_4_1_Day_Power'][i], validation_data['SumLSP_1_p5_Day_Power'][i], validation_data['Entropy'][i]\n",
      "/var/folders/gy/0vj93nbd4x5bt_bpj2r46w7h0000gn/T/ipykernel_24137/1640273581.py:59: DeprecationWarning: setting an array element with a sequence. This was supported in some cases where the elements are arrays with a single element. For example `np.array([1, np.array([2])], dtype=int)`. In the future this will raise the same ValueError as `np.array([1, [2]], dtype=int)`.\n",
      "  X_test[i]= test_data['rms'][i], test_data['std'][i], test_data['MAD'][i], test_data['sigmaG'][i], test_data['skewness'][i], test_data['von_neumann_ratio'][i], test_data['J_Stetson'][i], test_data['max_power'][i], test_data['freq_at_max_power'][i], test_data['ratio_of_power_at_high_v_low_freq'][i], test_data['max_autocorrelation'][i], test_data['time_of_max_autocorrelation'][i], test_data['SumLSP_10_7_Day_Power'][i], test_data['SumLSP_7_4_Day_Power'][i], test_data['SumLSP_4_1_Day_Power'][i], test_data['SumLSP_1_p5_Day_Power'][i], test_data['Entropy'][i]\n"
     ]
    },
    {
     "name": "stdout",
     "output_type": "stream",
     "text": [
      "\u001b[1m182/182\u001b[0m \u001b[32m━━━━━━━━━━━━━━━━━━━━\u001b[0m\u001b[37m\u001b[0m \u001b[1m0s\u001b[0m 2ms/step\n"
     ]
    },
    {
     "name": "stderr",
     "output_type": "stream",
     "text": [
      "/var/folders/gy/0vj93nbd4x5bt_bpj2r46w7h0000gn/T/ipykernel_24137/1640273581.py:49: DeprecationWarning: setting an array element with a sequence. This was supported in some cases where the elements are arrays with a single element. For example `np.array([1, np.array([2])], dtype=int)`. In the future this will raise the same ValueError as `np.array([1, [2]], dtype=int)`.\n",
      "  X_train[i]= training_data['rms'][i], training_data['std'][i], training_data['MAD'][i], training_data['sigmaG'][i], training_data['skewness'][i], training_data['von_neumann_ratio'][i], training_data['J_Stetson'][i], training_data['max_power'][i], training_data['freq_at_max_power'][i], training_data['ratio_of_power_at_high_v_low_freq'][i], training_data['max_autocorrelation'][i], training_data['time_of_max_autocorrelation'][i], training_data['SumLSP_10_7_Day_Power'][i], training_data['SumLSP_7_4_Day_Power'][i], training_data['SumLSP_4_1_Day_Power'][i], training_data['SumLSP_1_p5_Day_Power'][i], training_data['Entropy'][i]\n",
      "/var/folders/gy/0vj93nbd4x5bt_bpj2r46w7h0000gn/T/ipykernel_24137/1640273581.py:54: DeprecationWarning: setting an array element with a sequence. This was supported in some cases where the elements are arrays with a single element. For example `np.array([1, np.array([2])], dtype=int)`. In the future this will raise the same ValueError as `np.array([1, [2]], dtype=int)`.\n",
      "  X_valid[i]= validation_data['rms'][i], validation_data['std'][i], validation_data['MAD'][i], validation_data['sigmaG'][i], validation_data['skewness'][i], validation_data['von_neumann_ratio'][i], validation_data['J_Stetson'][i], validation_data['max_power'][i], validation_data['freq_at_max_power'][i], validation_data['ratio_of_power_at_high_v_low_freq'][i], validation_data['max_autocorrelation'][i], validation_data['time_of_max_autocorrelation'][i], validation_data['SumLSP_10_7_Day_Power'][i], validation_data['SumLSP_7_4_Day_Power'][i], validation_data['SumLSP_4_1_Day_Power'][i], validation_data['SumLSP_1_p5_Day_Power'][i], validation_data['Entropy'][i]\n",
      "/var/folders/gy/0vj93nbd4x5bt_bpj2r46w7h0000gn/T/ipykernel_24137/1640273581.py:59: DeprecationWarning: setting an array element with a sequence. This was supported in some cases where the elements are arrays with a single element. For example `np.array([1, np.array([2])], dtype=int)`. In the future this will raise the same ValueError as `np.array([1, [2]], dtype=int)`.\n",
      "  X_test[i]= test_data['rms'][i], test_data['std'][i], test_data['MAD'][i], test_data['sigmaG'][i], test_data['skewness'][i], test_data['von_neumann_ratio'][i], test_data['J_Stetson'][i], test_data['max_power'][i], test_data['freq_at_max_power'][i], test_data['ratio_of_power_at_high_v_low_freq'][i], test_data['max_autocorrelation'][i], test_data['time_of_max_autocorrelation'][i], test_data['SumLSP_10_7_Day_Power'][i], test_data['SumLSP_7_4_Day_Power'][i], test_data['SumLSP_4_1_Day_Power'][i], test_data['SumLSP_1_p5_Day_Power'][i], test_data['Entropy'][i]\n"
     ]
    },
    {
     "name": "stdout",
     "output_type": "stream",
     "text": [
      "\u001b[1m158/158\u001b[0m \u001b[32m━━━━━━━━━━━━━━━━━━━━\u001b[0m\u001b[37m\u001b[0m \u001b[1m1s\u001b[0m 3ms/step\n"
     ]
    },
    {
     "name": "stderr",
     "output_type": "stream",
     "text": [
      "/var/folders/gy/0vj93nbd4x5bt_bpj2r46w7h0000gn/T/ipykernel_24137/1640273581.py:49: DeprecationWarning: setting an array element with a sequence. This was supported in some cases where the elements are arrays with a single element. For example `np.array([1, np.array([2])], dtype=int)`. In the future this will raise the same ValueError as `np.array([1, [2]], dtype=int)`.\n",
      "  X_train[i]= training_data['rms'][i], training_data['std'][i], training_data['MAD'][i], training_data['sigmaG'][i], training_data['skewness'][i], training_data['von_neumann_ratio'][i], training_data['J_Stetson'][i], training_data['max_power'][i], training_data['freq_at_max_power'][i], training_data['ratio_of_power_at_high_v_low_freq'][i], training_data['max_autocorrelation'][i], training_data['time_of_max_autocorrelation'][i], training_data['SumLSP_10_7_Day_Power'][i], training_data['SumLSP_7_4_Day_Power'][i], training_data['SumLSP_4_1_Day_Power'][i], training_data['SumLSP_1_p5_Day_Power'][i], training_data['Entropy'][i]\n",
      "/var/folders/gy/0vj93nbd4x5bt_bpj2r46w7h0000gn/T/ipykernel_24137/1640273581.py:54: DeprecationWarning: setting an array element with a sequence. This was supported in some cases where the elements are arrays with a single element. For example `np.array([1, np.array([2])], dtype=int)`. In the future this will raise the same ValueError as `np.array([1, [2]], dtype=int)`.\n",
      "  X_valid[i]= validation_data['rms'][i], validation_data['std'][i], validation_data['MAD'][i], validation_data['sigmaG'][i], validation_data['skewness'][i], validation_data['von_neumann_ratio'][i], validation_data['J_Stetson'][i], validation_data['max_power'][i], validation_data['freq_at_max_power'][i], validation_data['ratio_of_power_at_high_v_low_freq'][i], validation_data['max_autocorrelation'][i], validation_data['time_of_max_autocorrelation'][i], validation_data['SumLSP_10_7_Day_Power'][i], validation_data['SumLSP_7_4_Day_Power'][i], validation_data['SumLSP_4_1_Day_Power'][i], validation_data['SumLSP_1_p5_Day_Power'][i], validation_data['Entropy'][i]\n",
      "/var/folders/gy/0vj93nbd4x5bt_bpj2r46w7h0000gn/T/ipykernel_24137/1640273581.py:59: DeprecationWarning: setting an array element with a sequence. This was supported in some cases where the elements are arrays with a single element. For example `np.array([1, np.array([2])], dtype=int)`. In the future this will raise the same ValueError as `np.array([1, [2]], dtype=int)`.\n",
      "  X_test[i]= test_data['rms'][i], test_data['std'][i], test_data['MAD'][i], test_data['sigmaG'][i], test_data['skewness'][i], test_data['von_neumann_ratio'][i], test_data['J_Stetson'][i], test_data['max_power'][i], test_data['freq_at_max_power'][i], test_data['ratio_of_power_at_high_v_low_freq'][i], test_data['max_autocorrelation'][i], test_data['time_of_max_autocorrelation'][i], test_data['SumLSP_10_7_Day_Power'][i], test_data['SumLSP_7_4_Day_Power'][i], test_data['SumLSP_4_1_Day_Power'][i], test_data['SumLSP_1_p5_Day_Power'][i], test_data['Entropy'][i]\n"
     ]
    },
    {
     "name": "stdout",
     "output_type": "stream",
     "text": [
      "\u001b[1m136/136\u001b[0m \u001b[32m━━━━━━━━━━━━━━━━━━━━\u001b[0m\u001b[37m\u001b[0m \u001b[1m0s\u001b[0m 2ms/step\n"
     ]
    },
    {
     "name": "stderr",
     "output_type": "stream",
     "text": [
      "/var/folders/gy/0vj93nbd4x5bt_bpj2r46w7h0000gn/T/ipykernel_24137/1640273581.py:49: DeprecationWarning: setting an array element with a sequence. This was supported in some cases where the elements are arrays with a single element. For example `np.array([1, np.array([2])], dtype=int)`. In the future this will raise the same ValueError as `np.array([1, [2]], dtype=int)`.\n",
      "  X_train[i]= training_data['rms'][i], training_data['std'][i], training_data['MAD'][i], training_data['sigmaG'][i], training_data['skewness'][i], training_data['von_neumann_ratio'][i], training_data['J_Stetson'][i], training_data['max_power'][i], training_data['freq_at_max_power'][i], training_data['ratio_of_power_at_high_v_low_freq'][i], training_data['max_autocorrelation'][i], training_data['time_of_max_autocorrelation'][i], training_data['SumLSP_10_7_Day_Power'][i], training_data['SumLSP_7_4_Day_Power'][i], training_data['SumLSP_4_1_Day_Power'][i], training_data['SumLSP_1_p5_Day_Power'][i], training_data['Entropy'][i]\n",
      "/var/folders/gy/0vj93nbd4x5bt_bpj2r46w7h0000gn/T/ipykernel_24137/1640273581.py:54: DeprecationWarning: setting an array element with a sequence. This was supported in some cases where the elements are arrays with a single element. For example `np.array([1, np.array([2])], dtype=int)`. In the future this will raise the same ValueError as `np.array([1, [2]], dtype=int)`.\n",
      "  X_valid[i]= validation_data['rms'][i], validation_data['std'][i], validation_data['MAD'][i], validation_data['sigmaG'][i], validation_data['skewness'][i], validation_data['von_neumann_ratio'][i], validation_data['J_Stetson'][i], validation_data['max_power'][i], validation_data['freq_at_max_power'][i], validation_data['ratio_of_power_at_high_v_low_freq'][i], validation_data['max_autocorrelation'][i], validation_data['time_of_max_autocorrelation'][i], validation_data['SumLSP_10_7_Day_Power'][i], validation_data['SumLSP_7_4_Day_Power'][i], validation_data['SumLSP_4_1_Day_Power'][i], validation_data['SumLSP_1_p5_Day_Power'][i], validation_data['Entropy'][i]\n",
      "/var/folders/gy/0vj93nbd4x5bt_bpj2r46w7h0000gn/T/ipykernel_24137/1640273581.py:59: DeprecationWarning: setting an array element with a sequence. This was supported in some cases where the elements are arrays with a single element. For example `np.array([1, np.array([2])], dtype=int)`. In the future this will raise the same ValueError as `np.array([1, [2]], dtype=int)`.\n",
      "  X_test[i]= test_data['rms'][i], test_data['std'][i], test_data['MAD'][i], test_data['sigmaG'][i], test_data['skewness'][i], test_data['von_neumann_ratio'][i], test_data['J_Stetson'][i], test_data['max_power'][i], test_data['freq_at_max_power'][i], test_data['ratio_of_power_at_high_v_low_freq'][i], test_data['max_autocorrelation'][i], test_data['time_of_max_autocorrelation'][i], test_data['SumLSP_10_7_Day_Power'][i], test_data['SumLSP_7_4_Day_Power'][i], test_data['SumLSP_4_1_Day_Power'][i], test_data['SumLSP_1_p5_Day_Power'][i], test_data['Entropy'][i]\n"
     ]
    },
    {
     "name": "stdout",
     "output_type": "stream",
     "text": [
      "\u001b[1m154/154\u001b[0m \u001b[32m━━━━━━━━━━━━━━━━━━━━\u001b[0m\u001b[37m\u001b[0m \u001b[1m1s\u001b[0m 3ms/step\n"
     ]
    },
    {
     "name": "stderr",
     "output_type": "stream",
     "text": [
      "/var/folders/gy/0vj93nbd4x5bt_bpj2r46w7h0000gn/T/ipykernel_24137/1640273581.py:49: DeprecationWarning: setting an array element with a sequence. This was supported in some cases where the elements are arrays with a single element. For example `np.array([1, np.array([2])], dtype=int)`. In the future this will raise the same ValueError as `np.array([1, [2]], dtype=int)`.\n",
      "  X_train[i]= training_data['rms'][i], training_data['std'][i], training_data['MAD'][i], training_data['sigmaG'][i], training_data['skewness'][i], training_data['von_neumann_ratio'][i], training_data['J_Stetson'][i], training_data['max_power'][i], training_data['freq_at_max_power'][i], training_data['ratio_of_power_at_high_v_low_freq'][i], training_data['max_autocorrelation'][i], training_data['time_of_max_autocorrelation'][i], training_data['SumLSP_10_7_Day_Power'][i], training_data['SumLSP_7_4_Day_Power'][i], training_data['SumLSP_4_1_Day_Power'][i], training_data['SumLSP_1_p5_Day_Power'][i], training_data['Entropy'][i]\n",
      "/var/folders/gy/0vj93nbd4x5bt_bpj2r46w7h0000gn/T/ipykernel_24137/1640273581.py:54: DeprecationWarning: setting an array element with a sequence. This was supported in some cases where the elements are arrays with a single element. For example `np.array([1, np.array([2])], dtype=int)`. In the future this will raise the same ValueError as `np.array([1, [2]], dtype=int)`.\n",
      "  X_valid[i]= validation_data['rms'][i], validation_data['std'][i], validation_data['MAD'][i], validation_data['sigmaG'][i], validation_data['skewness'][i], validation_data['von_neumann_ratio'][i], validation_data['J_Stetson'][i], validation_data['max_power'][i], validation_data['freq_at_max_power'][i], validation_data['ratio_of_power_at_high_v_low_freq'][i], validation_data['max_autocorrelation'][i], validation_data['time_of_max_autocorrelation'][i], validation_data['SumLSP_10_7_Day_Power'][i], validation_data['SumLSP_7_4_Day_Power'][i], validation_data['SumLSP_4_1_Day_Power'][i], validation_data['SumLSP_1_p5_Day_Power'][i], validation_data['Entropy'][i]\n",
      "/var/folders/gy/0vj93nbd4x5bt_bpj2r46w7h0000gn/T/ipykernel_24137/1640273581.py:59: DeprecationWarning: setting an array element with a sequence. This was supported in some cases where the elements are arrays with a single element. For example `np.array([1, np.array([2])], dtype=int)`. In the future this will raise the same ValueError as `np.array([1, [2]], dtype=int)`.\n",
      "  X_test[i]= test_data['rms'][i], test_data['std'][i], test_data['MAD'][i], test_data['sigmaG'][i], test_data['skewness'][i], test_data['von_neumann_ratio'][i], test_data['J_Stetson'][i], test_data['max_power'][i], test_data['freq_at_max_power'][i], test_data['ratio_of_power_at_high_v_low_freq'][i], test_data['max_autocorrelation'][i], test_data['time_of_max_autocorrelation'][i], test_data['SumLSP_10_7_Day_Power'][i], test_data['SumLSP_7_4_Day_Power'][i], test_data['SumLSP_4_1_Day_Power'][i], test_data['SumLSP_1_p5_Day_Power'][i], test_data['Entropy'][i]\n"
     ]
    },
    {
     "name": "stdout",
     "output_type": "stream",
     "text": [
      "\u001b[1m124/124\u001b[0m \u001b[32m━━━━━━━━━━━━━━━━━━━━\u001b[0m\u001b[37m\u001b[0m \u001b[1m0s\u001b[0m 3ms/step\n"
     ]
    },
    {
     "name": "stderr",
     "output_type": "stream",
     "text": [
      "/var/folders/gy/0vj93nbd4x5bt_bpj2r46w7h0000gn/T/ipykernel_24137/1640273581.py:49: DeprecationWarning: setting an array element with a sequence. This was supported in some cases where the elements are arrays with a single element. For example `np.array([1, np.array([2])], dtype=int)`. In the future this will raise the same ValueError as `np.array([1, [2]], dtype=int)`.\n",
      "  X_train[i]= training_data['rms'][i], training_data['std'][i], training_data['MAD'][i], training_data['sigmaG'][i], training_data['skewness'][i], training_data['von_neumann_ratio'][i], training_data['J_Stetson'][i], training_data['max_power'][i], training_data['freq_at_max_power'][i], training_data['ratio_of_power_at_high_v_low_freq'][i], training_data['max_autocorrelation'][i], training_data['time_of_max_autocorrelation'][i], training_data['SumLSP_10_7_Day_Power'][i], training_data['SumLSP_7_4_Day_Power'][i], training_data['SumLSP_4_1_Day_Power'][i], training_data['SumLSP_1_p5_Day_Power'][i], training_data['Entropy'][i]\n",
      "/var/folders/gy/0vj93nbd4x5bt_bpj2r46w7h0000gn/T/ipykernel_24137/1640273581.py:54: DeprecationWarning: setting an array element with a sequence. This was supported in some cases where the elements are arrays with a single element. For example `np.array([1, np.array([2])], dtype=int)`. In the future this will raise the same ValueError as `np.array([1, [2]], dtype=int)`.\n",
      "  X_valid[i]= validation_data['rms'][i], validation_data['std'][i], validation_data['MAD'][i], validation_data['sigmaG'][i], validation_data['skewness'][i], validation_data['von_neumann_ratio'][i], validation_data['J_Stetson'][i], validation_data['max_power'][i], validation_data['freq_at_max_power'][i], validation_data['ratio_of_power_at_high_v_low_freq'][i], validation_data['max_autocorrelation'][i], validation_data['time_of_max_autocorrelation'][i], validation_data['SumLSP_10_7_Day_Power'][i], validation_data['SumLSP_7_4_Day_Power'][i], validation_data['SumLSP_4_1_Day_Power'][i], validation_data['SumLSP_1_p5_Day_Power'][i], validation_data['Entropy'][i]\n",
      "/var/folders/gy/0vj93nbd4x5bt_bpj2r46w7h0000gn/T/ipykernel_24137/1640273581.py:59: DeprecationWarning: setting an array element with a sequence. This was supported in some cases where the elements are arrays with a single element. For example `np.array([1, np.array([2])], dtype=int)`. In the future this will raise the same ValueError as `np.array([1, [2]], dtype=int)`.\n",
      "  X_test[i]= test_data['rms'][i], test_data['std'][i], test_data['MAD'][i], test_data['sigmaG'][i], test_data['skewness'][i], test_data['von_neumann_ratio'][i], test_data['J_Stetson'][i], test_data['max_power'][i], test_data['freq_at_max_power'][i], test_data['ratio_of_power_at_high_v_low_freq'][i], test_data['max_autocorrelation'][i], test_data['time_of_max_autocorrelation'][i], test_data['SumLSP_10_7_Day_Power'][i], test_data['SumLSP_7_4_Day_Power'][i], test_data['SumLSP_4_1_Day_Power'][i], test_data['SumLSP_1_p5_Day_Power'][i], test_data['Entropy'][i]\n"
     ]
    },
    {
     "name": "stdout",
     "output_type": "stream",
     "text": [
      "\u001b[1m167/167\u001b[0m \u001b[32m━━━━━━━━━━━━━━━━━━━━\u001b[0m\u001b[37m\u001b[0m \u001b[1m0s\u001b[0m 2ms/step\n"
     ]
    },
    {
     "name": "stderr",
     "output_type": "stream",
     "text": [
      "/var/folders/gy/0vj93nbd4x5bt_bpj2r46w7h0000gn/T/ipykernel_24137/1640273581.py:49: DeprecationWarning: setting an array element with a sequence. This was supported in some cases where the elements are arrays with a single element. For example `np.array([1, np.array([2])], dtype=int)`. In the future this will raise the same ValueError as `np.array([1, [2]], dtype=int)`.\n",
      "  X_train[i]= training_data['rms'][i], training_data['std'][i], training_data['MAD'][i], training_data['sigmaG'][i], training_data['skewness'][i], training_data['von_neumann_ratio'][i], training_data['J_Stetson'][i], training_data['max_power'][i], training_data['freq_at_max_power'][i], training_data['ratio_of_power_at_high_v_low_freq'][i], training_data['max_autocorrelation'][i], training_data['time_of_max_autocorrelation'][i], training_data['SumLSP_10_7_Day_Power'][i], training_data['SumLSP_7_4_Day_Power'][i], training_data['SumLSP_4_1_Day_Power'][i], training_data['SumLSP_1_p5_Day_Power'][i], training_data['Entropy'][i]\n",
      "/var/folders/gy/0vj93nbd4x5bt_bpj2r46w7h0000gn/T/ipykernel_24137/1640273581.py:54: DeprecationWarning: setting an array element with a sequence. This was supported in some cases where the elements are arrays with a single element. For example `np.array([1, np.array([2])], dtype=int)`. In the future this will raise the same ValueError as `np.array([1, [2]], dtype=int)`.\n",
      "  X_valid[i]= validation_data['rms'][i], validation_data['std'][i], validation_data['MAD'][i], validation_data['sigmaG'][i], validation_data['skewness'][i], validation_data['von_neumann_ratio'][i], validation_data['J_Stetson'][i], validation_data['max_power'][i], validation_data['freq_at_max_power'][i], validation_data['ratio_of_power_at_high_v_low_freq'][i], validation_data['max_autocorrelation'][i], validation_data['time_of_max_autocorrelation'][i], validation_data['SumLSP_10_7_Day_Power'][i], validation_data['SumLSP_7_4_Day_Power'][i], validation_data['SumLSP_4_1_Day_Power'][i], validation_data['SumLSP_1_p5_Day_Power'][i], validation_data['Entropy'][i]\n",
      "/var/folders/gy/0vj93nbd4x5bt_bpj2r46w7h0000gn/T/ipykernel_24137/1640273581.py:59: DeprecationWarning: setting an array element with a sequence. This was supported in some cases where the elements are arrays with a single element. For example `np.array([1, np.array([2])], dtype=int)`. In the future this will raise the same ValueError as `np.array([1, [2]], dtype=int)`.\n",
      "  X_test[i]= test_data['rms'][i], test_data['std'][i], test_data['MAD'][i], test_data['sigmaG'][i], test_data['skewness'][i], test_data['von_neumann_ratio'][i], test_data['J_Stetson'][i], test_data['max_power'][i], test_data['freq_at_max_power'][i], test_data['ratio_of_power_at_high_v_low_freq'][i], test_data['max_autocorrelation'][i], test_data['time_of_max_autocorrelation'][i], test_data['SumLSP_10_7_Day_Power'][i], test_data['SumLSP_7_4_Day_Power'][i], test_data['SumLSP_4_1_Day_Power'][i], test_data['SumLSP_1_p5_Day_Power'][i], test_data['Entropy'][i]\n"
     ]
    },
    {
     "name": "stdout",
     "output_type": "stream",
     "text": [
      "\u001b[1m157/157\u001b[0m \u001b[32m━━━━━━━━━━━━━━━━━━━━\u001b[0m\u001b[37m\u001b[0m \u001b[1m0s\u001b[0m 2ms/step\n"
     ]
    },
    {
     "name": "stderr",
     "output_type": "stream",
     "text": [
      "/var/folders/gy/0vj93nbd4x5bt_bpj2r46w7h0000gn/T/ipykernel_24137/1640273581.py:49: DeprecationWarning: setting an array element with a sequence. This was supported in some cases where the elements are arrays with a single element. For example `np.array([1, np.array([2])], dtype=int)`. In the future this will raise the same ValueError as `np.array([1, [2]], dtype=int)`.\n",
      "  X_train[i]= training_data['rms'][i], training_data['std'][i], training_data['MAD'][i], training_data['sigmaG'][i], training_data['skewness'][i], training_data['von_neumann_ratio'][i], training_data['J_Stetson'][i], training_data['max_power'][i], training_data['freq_at_max_power'][i], training_data['ratio_of_power_at_high_v_low_freq'][i], training_data['max_autocorrelation'][i], training_data['time_of_max_autocorrelation'][i], training_data['SumLSP_10_7_Day_Power'][i], training_data['SumLSP_7_4_Day_Power'][i], training_data['SumLSP_4_1_Day_Power'][i], training_data['SumLSP_1_p5_Day_Power'][i], training_data['Entropy'][i]\n",
      "/var/folders/gy/0vj93nbd4x5bt_bpj2r46w7h0000gn/T/ipykernel_24137/1640273581.py:54: DeprecationWarning: setting an array element with a sequence. This was supported in some cases where the elements are arrays with a single element. For example `np.array([1, np.array([2])], dtype=int)`. In the future this will raise the same ValueError as `np.array([1, [2]], dtype=int)`.\n",
      "  X_valid[i]= validation_data['rms'][i], validation_data['std'][i], validation_data['MAD'][i], validation_data['sigmaG'][i], validation_data['skewness'][i], validation_data['von_neumann_ratio'][i], validation_data['J_Stetson'][i], validation_data['max_power'][i], validation_data['freq_at_max_power'][i], validation_data['ratio_of_power_at_high_v_low_freq'][i], validation_data['max_autocorrelation'][i], validation_data['time_of_max_autocorrelation'][i], validation_data['SumLSP_10_7_Day_Power'][i], validation_data['SumLSP_7_4_Day_Power'][i], validation_data['SumLSP_4_1_Day_Power'][i], validation_data['SumLSP_1_p5_Day_Power'][i], validation_data['Entropy'][i]\n",
      "/var/folders/gy/0vj93nbd4x5bt_bpj2r46w7h0000gn/T/ipykernel_24137/1640273581.py:59: DeprecationWarning: setting an array element with a sequence. This was supported in some cases where the elements are arrays with a single element. For example `np.array([1, np.array([2])], dtype=int)`. In the future this will raise the same ValueError as `np.array([1, [2]], dtype=int)`.\n",
      "  X_test[i]= test_data['rms'][i], test_data['std'][i], test_data['MAD'][i], test_data['sigmaG'][i], test_data['skewness'][i], test_data['von_neumann_ratio'][i], test_data['J_Stetson'][i], test_data['max_power'][i], test_data['freq_at_max_power'][i], test_data['ratio_of_power_at_high_v_low_freq'][i], test_data['max_autocorrelation'][i], test_data['time_of_max_autocorrelation'][i], test_data['SumLSP_10_7_Day_Power'][i], test_data['SumLSP_7_4_Day_Power'][i], test_data['SumLSP_4_1_Day_Power'][i], test_data['SumLSP_1_p5_Day_Power'][i], test_data['Entropy'][i]\n"
     ]
    },
    {
     "name": "stdout",
     "output_type": "stream",
     "text": [
      "\u001b[1m170/170\u001b[0m \u001b[32m━━━━━━━━━━━━━━━━━━━━\u001b[0m\u001b[37m\u001b[0m \u001b[1m0s\u001b[0m 2ms/step\n"
     ]
    },
    {
     "name": "stderr",
     "output_type": "stream",
     "text": [
      "/var/folders/gy/0vj93nbd4x5bt_bpj2r46w7h0000gn/T/ipykernel_24137/1640273581.py:49: DeprecationWarning: setting an array element with a sequence. This was supported in some cases where the elements are arrays with a single element. For example `np.array([1, np.array([2])], dtype=int)`. In the future this will raise the same ValueError as `np.array([1, [2]], dtype=int)`.\n",
      "  X_train[i]= training_data['rms'][i], training_data['std'][i], training_data['MAD'][i], training_data['sigmaG'][i], training_data['skewness'][i], training_data['von_neumann_ratio'][i], training_data['J_Stetson'][i], training_data['max_power'][i], training_data['freq_at_max_power'][i], training_data['ratio_of_power_at_high_v_low_freq'][i], training_data['max_autocorrelation'][i], training_data['time_of_max_autocorrelation'][i], training_data['SumLSP_10_7_Day_Power'][i], training_data['SumLSP_7_4_Day_Power'][i], training_data['SumLSP_4_1_Day_Power'][i], training_data['SumLSP_1_p5_Day_Power'][i], training_data['Entropy'][i]\n",
      "/var/folders/gy/0vj93nbd4x5bt_bpj2r46w7h0000gn/T/ipykernel_24137/1640273581.py:54: DeprecationWarning: setting an array element with a sequence. This was supported in some cases where the elements are arrays with a single element. For example `np.array([1, np.array([2])], dtype=int)`. In the future this will raise the same ValueError as `np.array([1, [2]], dtype=int)`.\n",
      "  X_valid[i]= validation_data['rms'][i], validation_data['std'][i], validation_data['MAD'][i], validation_data['sigmaG'][i], validation_data['skewness'][i], validation_data['von_neumann_ratio'][i], validation_data['J_Stetson'][i], validation_data['max_power'][i], validation_data['freq_at_max_power'][i], validation_data['ratio_of_power_at_high_v_low_freq'][i], validation_data['max_autocorrelation'][i], validation_data['time_of_max_autocorrelation'][i], validation_data['SumLSP_10_7_Day_Power'][i], validation_data['SumLSP_7_4_Day_Power'][i], validation_data['SumLSP_4_1_Day_Power'][i], validation_data['SumLSP_1_p5_Day_Power'][i], validation_data['Entropy'][i]\n",
      "/var/folders/gy/0vj93nbd4x5bt_bpj2r46w7h0000gn/T/ipykernel_24137/1640273581.py:59: DeprecationWarning: setting an array element with a sequence. This was supported in some cases where the elements are arrays with a single element. For example `np.array([1, np.array([2])], dtype=int)`. In the future this will raise the same ValueError as `np.array([1, [2]], dtype=int)`.\n",
      "  X_test[i]= test_data['rms'][i], test_data['std'][i], test_data['MAD'][i], test_data['sigmaG'][i], test_data['skewness'][i], test_data['von_neumann_ratio'][i], test_data['J_Stetson'][i], test_data['max_power'][i], test_data['freq_at_max_power'][i], test_data['ratio_of_power_at_high_v_low_freq'][i], test_data['max_autocorrelation'][i], test_data['time_of_max_autocorrelation'][i], test_data['SumLSP_10_7_Day_Power'][i], test_data['SumLSP_7_4_Day_Power'][i], test_data['SumLSP_4_1_Day_Power'][i], test_data['SumLSP_1_p5_Day_Power'][i], test_data['Entropy'][i]\n"
     ]
    },
    {
     "name": "stdout",
     "output_type": "stream",
     "text": [
      "\u001b[1m151/151\u001b[0m \u001b[32m━━━━━━━━━━━━━━━━━━━━\u001b[0m\u001b[37m\u001b[0m \u001b[1m1s\u001b[0m 3ms/step\n"
     ]
    },
    {
     "name": "stderr",
     "output_type": "stream",
     "text": [
      "/var/folders/gy/0vj93nbd4x5bt_bpj2r46w7h0000gn/T/ipykernel_24137/1640273581.py:49: DeprecationWarning: setting an array element with a sequence. This was supported in some cases where the elements are arrays with a single element. For example `np.array([1, np.array([2])], dtype=int)`. In the future this will raise the same ValueError as `np.array([1, [2]], dtype=int)`.\n",
      "  X_train[i]= training_data['rms'][i], training_data['std'][i], training_data['MAD'][i], training_data['sigmaG'][i], training_data['skewness'][i], training_data['von_neumann_ratio'][i], training_data['J_Stetson'][i], training_data['max_power'][i], training_data['freq_at_max_power'][i], training_data['ratio_of_power_at_high_v_low_freq'][i], training_data['max_autocorrelation'][i], training_data['time_of_max_autocorrelation'][i], training_data['SumLSP_10_7_Day_Power'][i], training_data['SumLSP_7_4_Day_Power'][i], training_data['SumLSP_4_1_Day_Power'][i], training_data['SumLSP_1_p5_Day_Power'][i], training_data['Entropy'][i]\n",
      "/var/folders/gy/0vj93nbd4x5bt_bpj2r46w7h0000gn/T/ipykernel_24137/1640273581.py:54: DeprecationWarning: setting an array element with a sequence. This was supported in some cases where the elements are arrays with a single element. For example `np.array([1, np.array([2])], dtype=int)`. In the future this will raise the same ValueError as `np.array([1, [2]], dtype=int)`.\n",
      "  X_valid[i]= validation_data['rms'][i], validation_data['std'][i], validation_data['MAD'][i], validation_data['sigmaG'][i], validation_data['skewness'][i], validation_data['von_neumann_ratio'][i], validation_data['J_Stetson'][i], validation_data['max_power'][i], validation_data['freq_at_max_power'][i], validation_data['ratio_of_power_at_high_v_low_freq'][i], validation_data['max_autocorrelation'][i], validation_data['time_of_max_autocorrelation'][i], validation_data['SumLSP_10_7_Day_Power'][i], validation_data['SumLSP_7_4_Day_Power'][i], validation_data['SumLSP_4_1_Day_Power'][i], validation_data['SumLSP_1_p5_Day_Power'][i], validation_data['Entropy'][i]\n",
      "/var/folders/gy/0vj93nbd4x5bt_bpj2r46w7h0000gn/T/ipykernel_24137/1640273581.py:59: DeprecationWarning: setting an array element with a sequence. This was supported in some cases where the elements are arrays with a single element. For example `np.array([1, np.array([2])], dtype=int)`. In the future this will raise the same ValueError as `np.array([1, [2]], dtype=int)`.\n",
      "  X_test[i]= test_data['rms'][i], test_data['std'][i], test_data['MAD'][i], test_data['sigmaG'][i], test_data['skewness'][i], test_data['von_neumann_ratio'][i], test_data['J_Stetson'][i], test_data['max_power'][i], test_data['freq_at_max_power'][i], test_data['ratio_of_power_at_high_v_low_freq'][i], test_data['max_autocorrelation'][i], test_data['time_of_max_autocorrelation'][i], test_data['SumLSP_10_7_Day_Power'][i], test_data['SumLSP_7_4_Day_Power'][i], test_data['SumLSP_4_1_Day_Power'][i], test_data['SumLSP_1_p5_Day_Power'][i], test_data['Entropy'][i]\n"
     ]
    },
    {
     "name": "stdout",
     "output_type": "stream",
     "text": [
      "\u001b[1m148/148\u001b[0m \u001b[32m━━━━━━━━━━━━━━━━━━━━\u001b[0m\u001b[37m\u001b[0m \u001b[1m1s\u001b[0m 3ms/step\n"
     ]
    },
    {
     "name": "stderr",
     "output_type": "stream",
     "text": [
      "/var/folders/gy/0vj93nbd4x5bt_bpj2r46w7h0000gn/T/ipykernel_24137/1640273581.py:49: DeprecationWarning: setting an array element with a sequence. This was supported in some cases where the elements are arrays with a single element. For example `np.array([1, np.array([2])], dtype=int)`. In the future this will raise the same ValueError as `np.array([1, [2]], dtype=int)`.\n",
      "  X_train[i]= training_data['rms'][i], training_data['std'][i], training_data['MAD'][i], training_data['sigmaG'][i], training_data['skewness'][i], training_data['von_neumann_ratio'][i], training_data['J_Stetson'][i], training_data['max_power'][i], training_data['freq_at_max_power'][i], training_data['ratio_of_power_at_high_v_low_freq'][i], training_data['max_autocorrelation'][i], training_data['time_of_max_autocorrelation'][i], training_data['SumLSP_10_7_Day_Power'][i], training_data['SumLSP_7_4_Day_Power'][i], training_data['SumLSP_4_1_Day_Power'][i], training_data['SumLSP_1_p5_Day_Power'][i], training_data['Entropy'][i]\n",
      "/var/folders/gy/0vj93nbd4x5bt_bpj2r46w7h0000gn/T/ipykernel_24137/1640273581.py:54: DeprecationWarning: setting an array element with a sequence. This was supported in some cases where the elements are arrays with a single element. For example `np.array([1, np.array([2])], dtype=int)`. In the future this will raise the same ValueError as `np.array([1, [2]], dtype=int)`.\n",
      "  X_valid[i]= validation_data['rms'][i], validation_data['std'][i], validation_data['MAD'][i], validation_data['sigmaG'][i], validation_data['skewness'][i], validation_data['von_neumann_ratio'][i], validation_data['J_Stetson'][i], validation_data['max_power'][i], validation_data['freq_at_max_power'][i], validation_data['ratio_of_power_at_high_v_low_freq'][i], validation_data['max_autocorrelation'][i], validation_data['time_of_max_autocorrelation'][i], validation_data['SumLSP_10_7_Day_Power'][i], validation_data['SumLSP_7_4_Day_Power'][i], validation_data['SumLSP_4_1_Day_Power'][i], validation_data['SumLSP_1_p5_Day_Power'][i], validation_data['Entropy'][i]\n",
      "/var/folders/gy/0vj93nbd4x5bt_bpj2r46w7h0000gn/T/ipykernel_24137/1640273581.py:59: DeprecationWarning: setting an array element with a sequence. This was supported in some cases where the elements are arrays with a single element. For example `np.array([1, np.array([2])], dtype=int)`. In the future this will raise the same ValueError as `np.array([1, [2]], dtype=int)`.\n",
      "  X_test[i]= test_data['rms'][i], test_data['std'][i], test_data['MAD'][i], test_data['sigmaG'][i], test_data['skewness'][i], test_data['von_neumann_ratio'][i], test_data['J_Stetson'][i], test_data['max_power'][i], test_data['freq_at_max_power'][i], test_data['ratio_of_power_at_high_v_low_freq'][i], test_data['max_autocorrelation'][i], test_data['time_of_max_autocorrelation'][i], test_data['SumLSP_10_7_Day_Power'][i], test_data['SumLSP_7_4_Day_Power'][i], test_data['SumLSP_4_1_Day_Power'][i], test_data['SumLSP_1_p5_Day_Power'][i], test_data['Entropy'][i]\n"
     ]
    },
    {
     "name": "stdout",
     "output_type": "stream",
     "text": [
      "\u001b[1m134/134\u001b[0m \u001b[32m━━━━━━━━━━━━━━━━━━━━\u001b[0m\u001b[37m\u001b[0m \u001b[1m1s\u001b[0m 3ms/step\n"
     ]
    },
    {
     "name": "stderr",
     "output_type": "stream",
     "text": [
      "/var/folders/gy/0vj93nbd4x5bt_bpj2r46w7h0000gn/T/ipykernel_24137/1640273581.py:49: DeprecationWarning: setting an array element with a sequence. This was supported in some cases where the elements are arrays with a single element. For example `np.array([1, np.array([2])], dtype=int)`. In the future this will raise the same ValueError as `np.array([1, [2]], dtype=int)`.\n",
      "  X_train[i]= training_data['rms'][i], training_data['std'][i], training_data['MAD'][i], training_data['sigmaG'][i], training_data['skewness'][i], training_data['von_neumann_ratio'][i], training_data['J_Stetson'][i], training_data['max_power'][i], training_data['freq_at_max_power'][i], training_data['ratio_of_power_at_high_v_low_freq'][i], training_data['max_autocorrelation'][i], training_data['time_of_max_autocorrelation'][i], training_data['SumLSP_10_7_Day_Power'][i], training_data['SumLSP_7_4_Day_Power'][i], training_data['SumLSP_4_1_Day_Power'][i], training_data['SumLSP_1_p5_Day_Power'][i], training_data['Entropy'][i]\n",
      "/var/folders/gy/0vj93nbd4x5bt_bpj2r46w7h0000gn/T/ipykernel_24137/1640273581.py:54: DeprecationWarning: setting an array element with a sequence. This was supported in some cases where the elements are arrays with a single element. For example `np.array([1, np.array([2])], dtype=int)`. In the future this will raise the same ValueError as `np.array([1, [2]], dtype=int)`.\n",
      "  X_valid[i]= validation_data['rms'][i], validation_data['std'][i], validation_data['MAD'][i], validation_data['sigmaG'][i], validation_data['skewness'][i], validation_data['von_neumann_ratio'][i], validation_data['J_Stetson'][i], validation_data['max_power'][i], validation_data['freq_at_max_power'][i], validation_data['ratio_of_power_at_high_v_low_freq'][i], validation_data['max_autocorrelation'][i], validation_data['time_of_max_autocorrelation'][i], validation_data['SumLSP_10_7_Day_Power'][i], validation_data['SumLSP_7_4_Day_Power'][i], validation_data['SumLSP_4_1_Day_Power'][i], validation_data['SumLSP_1_p5_Day_Power'][i], validation_data['Entropy'][i]\n",
      "/var/folders/gy/0vj93nbd4x5bt_bpj2r46w7h0000gn/T/ipykernel_24137/1640273581.py:59: DeprecationWarning: setting an array element with a sequence. This was supported in some cases where the elements are arrays with a single element. For example `np.array([1, np.array([2])], dtype=int)`. In the future this will raise the same ValueError as `np.array([1, [2]], dtype=int)`.\n",
      "  X_test[i]= test_data['rms'][i], test_data['std'][i], test_data['MAD'][i], test_data['sigmaG'][i], test_data['skewness'][i], test_data['von_neumann_ratio'][i], test_data['J_Stetson'][i], test_data['max_power'][i], test_data['freq_at_max_power'][i], test_data['ratio_of_power_at_high_v_low_freq'][i], test_data['max_autocorrelation'][i], test_data['time_of_max_autocorrelation'][i], test_data['SumLSP_10_7_Day_Power'][i], test_data['SumLSP_7_4_Day_Power'][i], test_data['SumLSP_4_1_Day_Power'][i], test_data['SumLSP_1_p5_Day_Power'][i], test_data['Entropy'][i]\n"
     ]
    },
    {
     "name": "stdout",
     "output_type": "stream",
     "text": [
      "\u001b[1m175/175\u001b[0m \u001b[32m━━━━━━━━━━━━━━━━━━━━\u001b[0m\u001b[37m\u001b[0m \u001b[1m1s\u001b[0m 2ms/step\n"
     ]
    },
    {
     "name": "stderr",
     "output_type": "stream",
     "text": [
      "/var/folders/gy/0vj93nbd4x5bt_bpj2r46w7h0000gn/T/ipykernel_24137/1640273581.py:49: DeprecationWarning: setting an array element with a sequence. This was supported in some cases where the elements are arrays with a single element. For example `np.array([1, np.array([2])], dtype=int)`. In the future this will raise the same ValueError as `np.array([1, [2]], dtype=int)`.\n",
      "  X_train[i]= training_data['rms'][i], training_data['std'][i], training_data['MAD'][i], training_data['sigmaG'][i], training_data['skewness'][i], training_data['von_neumann_ratio'][i], training_data['J_Stetson'][i], training_data['max_power'][i], training_data['freq_at_max_power'][i], training_data['ratio_of_power_at_high_v_low_freq'][i], training_data['max_autocorrelation'][i], training_data['time_of_max_autocorrelation'][i], training_data['SumLSP_10_7_Day_Power'][i], training_data['SumLSP_7_4_Day_Power'][i], training_data['SumLSP_4_1_Day_Power'][i], training_data['SumLSP_1_p5_Day_Power'][i], training_data['Entropy'][i]\n",
      "/var/folders/gy/0vj93nbd4x5bt_bpj2r46w7h0000gn/T/ipykernel_24137/1640273581.py:54: DeprecationWarning: setting an array element with a sequence. This was supported in some cases where the elements are arrays with a single element. For example `np.array([1, np.array([2])], dtype=int)`. In the future this will raise the same ValueError as `np.array([1, [2]], dtype=int)`.\n",
      "  X_valid[i]= validation_data['rms'][i], validation_data['std'][i], validation_data['MAD'][i], validation_data['sigmaG'][i], validation_data['skewness'][i], validation_data['von_neumann_ratio'][i], validation_data['J_Stetson'][i], validation_data['max_power'][i], validation_data['freq_at_max_power'][i], validation_data['ratio_of_power_at_high_v_low_freq'][i], validation_data['max_autocorrelation'][i], validation_data['time_of_max_autocorrelation'][i], validation_data['SumLSP_10_7_Day_Power'][i], validation_data['SumLSP_7_4_Day_Power'][i], validation_data['SumLSP_4_1_Day_Power'][i], validation_data['SumLSP_1_p5_Day_Power'][i], validation_data['Entropy'][i]\n",
      "/var/folders/gy/0vj93nbd4x5bt_bpj2r46w7h0000gn/T/ipykernel_24137/1640273581.py:59: DeprecationWarning: setting an array element with a sequence. This was supported in some cases where the elements are arrays with a single element. For example `np.array([1, np.array([2])], dtype=int)`. In the future this will raise the same ValueError as `np.array([1, [2]], dtype=int)`.\n",
      "  X_test[i]= test_data['rms'][i], test_data['std'][i], test_data['MAD'][i], test_data['sigmaG'][i], test_data['skewness'][i], test_data['von_neumann_ratio'][i], test_data['J_Stetson'][i], test_data['max_power'][i], test_data['freq_at_max_power'][i], test_data['ratio_of_power_at_high_v_low_freq'][i], test_data['max_autocorrelation'][i], test_data['time_of_max_autocorrelation'][i], test_data['SumLSP_10_7_Day_Power'][i], test_data['SumLSP_7_4_Day_Power'][i], test_data['SumLSP_4_1_Day_Power'][i], test_data['SumLSP_1_p5_Day_Power'][i], test_data['Entropy'][i]\n"
     ]
    },
    {
     "name": "stdout",
     "output_type": "stream",
     "text": [
      "\u001b[1m151/151\u001b[0m \u001b[32m━━━━━━━━━━━━━━━━━━━━\u001b[0m\u001b[37m\u001b[0m \u001b[1m1s\u001b[0m 3ms/step\n"
     ]
    },
    {
     "name": "stderr",
     "output_type": "stream",
     "text": [
      "/var/folders/gy/0vj93nbd4x5bt_bpj2r46w7h0000gn/T/ipykernel_24137/1640273581.py:49: DeprecationWarning: setting an array element with a sequence. This was supported in some cases where the elements are arrays with a single element. For example `np.array([1, np.array([2])], dtype=int)`. In the future this will raise the same ValueError as `np.array([1, [2]], dtype=int)`.\n",
      "  X_train[i]= training_data['rms'][i], training_data['std'][i], training_data['MAD'][i], training_data['sigmaG'][i], training_data['skewness'][i], training_data['von_neumann_ratio'][i], training_data['J_Stetson'][i], training_data['max_power'][i], training_data['freq_at_max_power'][i], training_data['ratio_of_power_at_high_v_low_freq'][i], training_data['max_autocorrelation'][i], training_data['time_of_max_autocorrelation'][i], training_data['SumLSP_10_7_Day_Power'][i], training_data['SumLSP_7_4_Day_Power'][i], training_data['SumLSP_4_1_Day_Power'][i], training_data['SumLSP_1_p5_Day_Power'][i], training_data['Entropy'][i]\n",
      "/var/folders/gy/0vj93nbd4x5bt_bpj2r46w7h0000gn/T/ipykernel_24137/1640273581.py:54: DeprecationWarning: setting an array element with a sequence. This was supported in some cases where the elements are arrays with a single element. For example `np.array([1, np.array([2])], dtype=int)`. In the future this will raise the same ValueError as `np.array([1, [2]], dtype=int)`.\n",
      "  X_valid[i]= validation_data['rms'][i], validation_data['std'][i], validation_data['MAD'][i], validation_data['sigmaG'][i], validation_data['skewness'][i], validation_data['von_neumann_ratio'][i], validation_data['J_Stetson'][i], validation_data['max_power'][i], validation_data['freq_at_max_power'][i], validation_data['ratio_of_power_at_high_v_low_freq'][i], validation_data['max_autocorrelation'][i], validation_data['time_of_max_autocorrelation'][i], validation_data['SumLSP_10_7_Day_Power'][i], validation_data['SumLSP_7_4_Day_Power'][i], validation_data['SumLSP_4_1_Day_Power'][i], validation_data['SumLSP_1_p5_Day_Power'][i], validation_data['Entropy'][i]\n",
      "/var/folders/gy/0vj93nbd4x5bt_bpj2r46w7h0000gn/T/ipykernel_24137/1640273581.py:59: DeprecationWarning: setting an array element with a sequence. This was supported in some cases where the elements are arrays with a single element. For example `np.array([1, np.array([2])], dtype=int)`. In the future this will raise the same ValueError as `np.array([1, [2]], dtype=int)`.\n",
      "  X_test[i]= test_data['rms'][i], test_data['std'][i], test_data['MAD'][i], test_data['sigmaG'][i], test_data['skewness'][i], test_data['von_neumann_ratio'][i], test_data['J_Stetson'][i], test_data['max_power'][i], test_data['freq_at_max_power'][i], test_data['ratio_of_power_at_high_v_low_freq'][i], test_data['max_autocorrelation'][i], test_data['time_of_max_autocorrelation'][i], test_data['SumLSP_10_7_Day_Power'][i], test_data['SumLSP_7_4_Day_Power'][i], test_data['SumLSP_4_1_Day_Power'][i], test_data['SumLSP_1_p5_Day_Power'][i], test_data['Entropy'][i]\n"
     ]
    },
    {
     "name": "stdout",
     "output_type": "stream",
     "text": [
      "\u001b[1m128/128\u001b[0m \u001b[32m━━━━━━━━━━━━━━━━━━━━\u001b[0m\u001b[37m\u001b[0m \u001b[1m0s\u001b[0m 2ms/step\n"
     ]
    }
   ],
   "source": [
    "n_trials=100\n",
    "\n",
    "recall_results=np.zeros(n_trials)\n",
    "precission_results=np.zeros(n_trials)\n",
    "\n",
    "\n",
    "for i in range(n_trials):\n",
    "    recall_results[i], precission_results[i] = Run_all(data)"
   ]
  },
  {
   "cell_type": "code",
   "execution_count": null,
   "id": "0011eefa",
   "metadata": {},
   "outputs": [],
   "source": []
  },
  {
   "cell_type": "code",
   "execution_count": 34,
   "id": "bc7cc765",
   "metadata": {},
   "outputs": [
    {
     "data": {
      "image/png": "[encoded data removed]",
      "text/plain": [
       "<Figure size 960x720 with 1 Axes>"
      ]
     },
     "metadata": {},
     "output_type": "display_data"
    }
   ],
   "source": [
    "plt.hist(recall_results, bins=10, histtype='step', color='b', label='Recall')\n",
    "plt.hist(precission_results, bins=10, histtype='step', color='r', label='Precision')\n",
    "plt.vlines(x=np.median(recall_results), ymin=0, ymax=24, linestyle='--', color='b')\n",
    "plt.vlines(x=np.median(precission_results), ymin=0, ymax=24, linestyle='--', color='r')\n",
    "plt.ylabel('N Trials', fontsize=20)\n",
    "plt.xlabel('Percent', fontsize=20)\n",
    "plt.legend(fontsize=14)\n",
    "plt.savefig('Dist_for_CNN.pdf', bbox_inches='tight', format='pdf')"
   ]
  },
  {
   "cell_type": "code",
   "execution_count": 23,
   "id": "54e895f1",
   "metadata": {},
   "outputs": [
    {
     "data": {
      "text/plain": [
       "array([0.63825319, 0.74097434, 0.85982399])"
      ]
     },
     "execution_count": 23,
     "metadata": {},
     "output_type": "execute_result"
    }
   ],
   "source": [
    "np.percentile(recall_results, [16,50,84])"
   ]
  },
  {
   "cell_type": "code",
   "execution_count": 27,
   "id": "0caec94a",
   "metadata": {},
   "outputs": [
    {
     "data": {
      "text/plain": [
       "array([0.65286267, 0.75049192, 0.83343685])"
      ]
     },
     "execution_count": 27,
     "metadata": {},
     "output_type": "execute_result"
    }
   ],
   "source": [
    "np.percentile(precission_results, [16,50,84])"
   ]
  },
  {
   "cell_type": "code",
   "execution_count": null,
   "id": "d1e78a33",
   "metadata": {},
   "outputs": [],
   "source": []
  },
  {
   "cell_type": "code",
   "execution_count": 35,
   "id": "3f19cde9",
   "metadata": {},
   "outputs": [
    {
     "data": {
      "text/plain": [
       "array([0.74097434])"
      ]
     },
     "execution_count": 35,
     "metadata": {},
     "output_type": "execute_result"
    }
   ],
   "source": [
    "np.percentile(recall_results, [50])"
   ]
  },
  {
   "cell_type": "code",
   "execution_count": 36,
   "id": "0b62d17b",
   "metadata": {},
   "outputs": [
    {
     "data": {
      "text/plain": [
       "array([0.10272115])"
      ]
     },
     "execution_count": 36,
     "metadata": {},
     "output_type": "execute_result"
    }
   ],
   "source": [
    "np.percentile(recall_results, [50]) - np.percentile(recall_results, [16])"
   ]
  },
  {
   "cell_type": "code",
   "execution_count": 37,
   "id": "1cfe2e77",
   "metadata": {},
   "outputs": [
    {
     "data": {
      "text/plain": [
       "array([0.11884965])"
      ]
     },
     "execution_count": 37,
     "metadata": {},
     "output_type": "execute_result"
    }
   ],
   "source": [
    "np.percentile(recall_results, [84]) - np.percentile(recall_results, [50])"
   ]
  },
  {
   "cell_type": "code",
   "execution_count": null,
   "id": "c7b9cbb0",
   "metadata": {},
   "outputs": [],
   "source": []
  },
  {
   "cell_type": "code",
   "execution_count": 30,
   "id": "da9603f3",
   "metadata": {},
   "outputs": [
    {
     "data": {
      "text/plain": [
       "array([0.75049192])"
      ]
     },
     "execution_count": 30,
     "metadata": {},
     "output_type": "execute_result"
    }
   ],
   "source": [
    "np.percentile(precission_results, [50])"
   ]
  },
  {
   "cell_type": "code",
   "execution_count": 29,
   "id": "1cb75b7c",
   "metadata": {},
   "outputs": [
    {
     "data": {
      "text/plain": [
       "array([0.09762925])"
      ]
     },
     "execution_count": 29,
     "metadata": {},
     "output_type": "execute_result"
    }
   ],
   "source": [
    "np.percentile(precission_results, [50]) - np.percentile(precission_results, [16])"
   ]
  },
  {
   "cell_type": "code",
   "execution_count": 28,
   "id": "9a8f4ade",
   "metadata": {},
   "outputs": [
    {
     "data": {
      "text/plain": [
       "array([0.08294493])"
      ]
     },
     "execution_count": 28,
     "metadata": {},
     "output_type": "execute_result"
    }
   ],
   "source": [
    "np.percentile(precission_results, [84]) - np.percentile(precission_results, [50])"
   ]
  }
 ],
 "metadata": {
  "kernelspec": {
   "display_name": "Python 3 (ipykernel)",
   "language": "python",
   "name": "python3"
  },
  "language_info": {
   "codemirror_mode": {
    "name": "ipython",
    "version": 3
   },
   "file_extension": ".py",
   "mimetype": "text/x-python",
   "name": "python",
   "nbconvert_exporter": "python",
   "pygments_lexer": "ipython3",
   "version": "3.10.9"
  }
 },
 "nbformat": 4,
 "nbformat_minor": 5
}
