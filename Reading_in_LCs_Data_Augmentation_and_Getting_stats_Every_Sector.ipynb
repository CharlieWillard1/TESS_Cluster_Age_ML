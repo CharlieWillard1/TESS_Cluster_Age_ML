{
 "cells": [
  {
   "cell_type": "code",
   "execution_count": 1,
   "id": "8071621e",
   "metadata": {},
   "outputs": [
    {
     "name": "stderr",
     "output_type": "stream",
     "text": [
      "/Users/Tobin/opt/anaconda3/envs/elk/lib/python3.10/site-packages/lightkurve/config/__init__.py:119: UserWarning: The default Lightkurve cache directory, used by download(), etc., has been moved to /Users/Tobin/.lightkurve/cache. Please move all the files in the legacy directory /Users/Tobin/.lightkurve-cache to the new location and remove the legacy directory. Refer to https://docs.lightkurve.org/reference/config.html#default-cache-directory-migration for more information.\n",
      "  warnings.warn(\n"
     ]
    }
   ],
   "source": [
    "import astropy.units as u\n",
    "from elk.ensemble import EnsembleLC\n",
    "import numpy as np\n",
    "from astroquery.simbad import Simbad\n",
    "import astropy.coordinates as coord\n",
    "import elk\n",
    "\n",
    "from astropy.io import ascii\n",
    "from astropy.io import fits\n",
    "import os.path\n",
    "\n",
    "from elk.ensemble import EnsembleLC\n",
    "from elk.lightcurve import BasicLightcurve\n",
    "\n",
    "from astropy.table import Table, join, MaskedColumn, vstack, Column\n",
    "from matplotlib import pyplot as plt"
   ]
  },
  {
   "cell_type": "code",
   "execution_count": 2,
   "id": "11b4becb",
   "metadata": {},
   "outputs": [],
   "source": [
    "path='/Users/Tobin/Dropbox/TESS_project/HLSPs/'\n",
    "\n",
    "gal_list=['MW', 'SMC', 'LMC']\n",
    "\n",
    "l_of_cs=[]\n",
    "\n",
    "for gal in gal_list:\n",
    "    filenames=[os.path.join(dp, f) for dp, dn, fn in os.walk(os.path.expanduser(path+gal+\"_Final_V2/\")) for f in fn]\n",
    "\n",
    "    for file in filenames:\n",
    "        l_of_cs.append(elk.ensemble.from_fits(file))"
   ]
  },
  {
   "cell_type": "code",
   "execution_count": 3,
   "id": "a2aceb40",
   "metadata": {},
   "outputs": [],
   "source": [
    "l_of__all_lcs=[]\n",
    "for i in range(len(l_of_cs)):\n",
    "    for j in range(len(l_of_cs[i].lcs)):\n",
    "        l_of__all_lcs.append(l_of_cs[i].lcs[j].corrected_lc)"
   ]
  },
  {
   "cell_type": "code",
   "execution_count": 6,
   "id": "cc9d1a6f",
   "metadata": {},
   "outputs": [
    {
     "data": {
      "text/plain": [
       "2204"
      ]
     },
     "execution_count": 6,
     "metadata": {},
     "output_type": "execute_result"
    }
   ],
   "source": [
    "len(l_of__all_lcs)"
   ]
  },
  {
   "cell_type": "code",
   "execution_count": 4,
   "id": "3d19d2d2",
   "metadata": {},
   "outputs": [],
   "source": [
    "data_augmented_lcs=[]\n",
    "\n",
    "for i in range(len(l_of__all_lcs)):\n",
    "    data_augmented_lcs.append(l_of__all_lcs[i])\n",
    "    \n",
    "    #Take 12 day windows in the lc:\n",
    "    data_augmented_lcs.append(l_of__all_lcs[i][:int(len(l_of__all_lcs[i])/2)])\n",
    "    \n",
    "    data_augmented_lcs.append(l_of__all_lcs[i][int(len(l_of__all_lcs[i])/2):])"
   ]
  },
  {
   "cell_type": "code",
   "execution_count": 5,
   "id": "bd640030",
   "metadata": {},
   "outputs": [
    {
     "data": {
      "text/plain": [
       "6612"
      ]
     },
     "execution_count": 5,
     "metadata": {},
     "output_type": "execute_result"
    }
   ],
   "source": [
    "len(data_augmented_lcs)"
   ]
  },
  {
   "cell_type": "code",
   "execution_count": 13,
   "id": "74c8b046",
   "metadata": {},
   "outputs": [
    {
     "data": {
      "text/plain": [
       "6612"
      ]
     },
     "execution_count": 13,
     "metadata": {},
     "output_type": "execute_result"
    }
   ],
   "source": [
    "names=[]\n",
    "\n",
    "for i in range(len(l_of_cs)):\n",
    "    j=0\n",
    "    while j < (len(l_of_cs[i].lcs)):\n",
    "        names.append(l_of_cs[i].callable)\n",
    "        names.append(l_of_cs[i].callable)\n",
    "        names.append(l_of_cs[i].callable)\n",
    "        \n",
    "        j+=1\n",
    "        \n",
    "len(names)"
   ]
  },
  {
   "cell_type": "code",
   "execution_count": 18,
   "id": "fbfa75ca",
   "metadata": {},
   "outputs": [],
   "source": [
    "import numpy as np\n",
    "\n",
    "from astroML.datasets import fetch_sdss_galaxy_images, fetch_LINEAR_sample, fetch_LINEAR_geneva\n",
    "from astroML.utils import split_samples\n",
    "\n",
    "import matplotlib.pyplot as plt\n",
    "\n",
    "from sklearn.metrics import ConfusionMatrixDisplay, PrecisionRecallDisplay\n",
    "from sklearn.gaussian_process import GaussianProcessRegressor\n",
    "\n",
    "from tqdm import tqdm\n",
    "from scipy.special import entr"
   ]
  },
  {
   "cell_type": "code",
   "execution_count": 25,
   "id": "788e467e",
   "metadata": {},
   "outputs": [
    {
     "name": "stdout",
     "output_type": "stream",
     "text": [
      "CPU times: user 1h 33min 17s, sys: 1min 46s, total: 1h 35min 3s\n",
      "Wall time: 57min 54s\n"
     ]
    }
   ],
   "source": [
    "%%time\n",
    "l_of_stat_tables=[]\n",
    "\n",
    "for i in range(len(data_augmented_lcs)):\n",
    "    \n",
    "    lc=BasicLightcurve(data_augmented_lcs[i]['time'], data_augmented_lcs[i]['flux'], \n",
    "                    data_augmented_lcs[i]['flux_err'], sector=99)\n",
    "    \n",
    "    lc.get_stats_using_defaults()\n",
    "\n",
    "    table=lc.get_stats_table(names[i])['name',\n",
    "     'rms',\n",
    "     'std',\n",
    "     'MAD',\n",
    "     'sigmaG',\n",
    "     'skewness',\n",
    "     'von_neumann_ratio',\n",
    "     'J_Stetson',\n",
    "     'max_power',\n",
    "     'freq_at_max_power',\n",
    "     'n_peaks',\n",
    "     'ratio_of_power_at_high_v_low_freq',\n",
    "     'FAP',\n",
    "     'max_autocorrelation',\n",
    "     'time_of_max_autocorrelation']\n",
    "    \n",
    "    \n",
    "    sum_LSP_power_10_7_days = np.sum(lc.periodogram[np.where((1/np.arange(0.04, 11, 0.01) < 10) &\n",
    "                                                                                         (1/np.arange(0.04, 11, 0.01) > 7))])\n",
    "    sum_LSP_power_7_4_days = np.sum(lc.periodogram[np.where((1/np.arange(0.04, 11, 0.01) < 7) &\n",
    "                                                                                         (1/np.arange(0.04, 11, 0.01) > 4))])\n",
    "    sum_LSP_power_4_1_days = np.sum(lc.periodogram[np.where((1/np.arange(0.04, 11, 0.01) < 4) &\n",
    "                                                                                         (1/np.arange(0.04, 11, 0.01) > 1))])            \n",
    "    sum_LSP_power_1_p5_days = np.sum(lc.periodogram[np.where((1/np.arange(0.04, 11, 0.01) < 1) &\n",
    "                                                                                         (1/np.arange(0.04, 11, 0.01) > .5))])        \n",
    "\n",
    "    entropy = entr(data_augmented_lcs[i]['flux'].value).sum()\n",
    "    \n",
    "    table.add_column(Column(sum_LSP_power_10_7_days), name='SumLSP_10_7_Day_Power')\n",
    "    table.add_column(Column(sum_LSP_power_7_4_days), name='SumLSP_7_4_Day_Power')\n",
    "    table.add_column(Column(sum_LSP_power_4_1_days), name='SumLSP_4_1_Day_Power')\n",
    "    table.add_column(Column(sum_LSP_power_1_p5_days), name='SumLSP_1_p5_Day_Power')\n",
    "    table.add_column(Column(entropy), name='Entropy')\n",
    "    \n",
    "    l_of_stat_tables.append(table)"
   ]
  },
  {
   "cell_type": "code",
   "execution_count": null,
   "id": "b609c7a8",
   "metadata": {},
   "outputs": [],
   "source": []
  },
  {
   "cell_type": "code",
   "execution_count": 26,
   "id": "08974131",
   "metadata": {},
   "outputs": [],
   "source": [
    "stat_table=vstack(l_of_stat_tables)\n"
   ]
  },
  {
   "cell_type": "code",
   "execution_count": 27,
   "id": "79d94e5d",
   "metadata": {},
   "outputs": [
    {
     "data": {
      "text/html": [
       "<div><i>Table length=6612</i>\n",
       "<table id=\"table140473194087280\" class=\"table-striped table-bordered table-condensed\">\n",
       "<thead><tr><th>name</th><th>rms</th><th>std</th><th>MAD</th><th>sigmaG</th><th>skewness</th><th>von_neumann_ratio</th><th>J_Stetson</th><th>max_power</th><th>freq_at_max_power</th><th>n_peaks</th><th>ratio_of_power_at_high_v_low_freq</th><th>FAP</th><th>max_autocorrelation</th><th>time_of_max_autocorrelation</th><th>SumLSP_10_7_Day_Power</th><th>SumLSP_7_4_Day_Power</th><th>SumLSP_4_1_Day_Power</th><th>SumLSP_1_p5_Day_Power</th><th>Entropy</th></tr></thead>\n",
       "<thead><tr><th>str17</th><th>float64</th><th>float64</th><th>float64</th><th>float64</th><th>float64</th><th>float64</th><th>float64</th><th>float64</th><th>float64</th><th>int64</th><th>float64</th><th>float64</th><th>float64</th><th>float64[1]</th><th>float64</th><th>float64</th><th>float64</th><th>float64</th><th>float64</th></tr></thead>\n",
       "<tr><td>NGC 5381</td><td>0.20227397545191975</td><td>0.00028663242586913503</td><td>0.00018204904335616945</td><td>0.00027032716740019386</td><td>-39762320.79645123</td><td>0.00386747638646434</td><td>11.012043362399508</td><td>0.2958842721191971</td><td>2.1800000000000006</td><td>7</td><td>35.195131675248945</td><td>4.56088215887548e-83</td><td>0.6090280071896668</td><td>0.5000039539129375</td><td>0.0882684744682719</td><td>0.5510549769665339</td><td>1.1232906308776351</td><td>0.29263235273956645</td><td>-32898062834.77195</td></tr>\n",
       "<tr><td>NGC 5381</td><td>0.12860581353174044</td><td>0.0002975862445908725</td><td>0.0001867799003253956</td><td>0.0002724429021245712</td><td>-115639726.90338115</td><td>0.00721742874399377</td><td>11.199325867985667</td><td>0.2857253786955443</td><td>2.1800000000000006</td><td>2</td><td>22.51114849414844</td><td>3.3952876552198184e-38</td><td>0.3519220202673758</td><td>0.5000117633198897</td><td>0.08080550521778217</td><td>0.8876330176361887</td><td>2.1106455564409226</td><td>0.6409543335174402</td><td>-16434502050.249306</td></tr>\n",
       "<tr><td>NGC 5381</td><td>0.20227397545191975</td><td>0.00027494974730113116</td><td>0.0001760566489865667</td><td>0.0002598061826987392</td><td>38791830.51857596</td><td>0.008432348981660027</td><td>10.832836728496938</td><td>0.3320229649647809</td><td>2.1800000000000006</td><td>2</td><td>63.34512451929029</td><td>1.7777047673531952e-46</td><td>0.6090280071896668</td><td>0.5000039539129375</td><td>0.24216565052982983</td><td>1.6618852997621623</td><td>2.121879951526237</td><td>0.44974226253595767</td><td>-16463560784.522644</td></tr>\n",
       "<tr><td>NGC 5381</td><td>0.18321843653972633</td><td>0.000245738941990651</td><td>0.0001701871556448742</td><td>0.0002522658939011847</td><td>-32756987.980770417</td><td>0.001012114373717723</td><td>5.25277035396073</td><td>0.23854597444846268</td><td>2.1800000000000006</td><td>4</td><td>30.87554425544451</td><td>9.90665683751058e-214</td><td>0.6303671900013474</td><td>0.44444842470238655</td><td>0.28825173684391014</td><td>0.37021043620396876</td><td>1.2172146492043667</td><td>0.17228709457487934</td><td>-91041894912.14279</td></tr>\n",
       "<tr><td>NGC 5381</td><td>0.16376175676775878</td><td>0.0002534884014241052</td><td>0.00016887632604312142</td><td>0.00025096998042304134</td><td>-44597560.85915224</td><td>0.0017580139075232541</td><td>5.337402035735437</td><td>0.26075298650204753</td><td>0.29000000000000004</td><td>3</td><td>19.084977912321865</td><td>9.810479911478713e-117</td><td>0.45047427687310126</td><td>0.4375102828348645</td><td>0.19316854007885273</td><td>0.7745783356310973</td><td>2.446638191161056</td><td>0.4848427133513104</td><td>-45508777674.068115</td></tr>\n",
       "<tr><td>NGC 5381</td><td>0.19277891231682573</td><td>0.0002376975364376943</td><td>0.00017171613277799924</td><td>0.00025477558196146865</td><td>-21301445.912184875</td><td>0.002447399676829137</td><td>5.168786562282312</td><td>0.28095743538439083</td><td>0.29000000000000004</td><td>3</td><td>68.07649906473408</td><td>7.569536297791576e-128</td><td>0.6506501243652288</td><td>0.4444482093304032</td><td>0.6862187263521995</td><td>1.3331866974384834</td><td>2.096172191257515</td><td>0.2084774736192974</td><td>-45533117238.07469</td></tr>\n",
       "<tr><td>RUPRECHT 172</td><td>0.1834981906746259</td><td>0.00013813268191284538</td><td>9.658515423227598e-05</td><td>0.0001423529350397411</td><td>-5722877.676450607</td><td>0.0017592178915821653</td><td>5.549086025349347</td><td>0.2590355085332957</td><td>2.5600000000000005</td><td>6</td><td>2.394551716018853</td><td>6.9405772961880284e-43</td><td>0.5072667443450789</td><td>0.39581298828125</td><td>0.004000690838380462</td><td>0.06179623348576854</td><td>0.7664139505131168</td><td>0.46464581399629384</td><td>-21751159551.705124</td></tr>\n",
       "<tr><td>RUPRECHT 172</td><td>0.1267374136537379</td><td>0.00012791040198304837</td><td>8.954095944324614e-05</td><td>0.00013245362948005368</td><td>-574592.8288860588</td><td>0.0034659624925341363</td><td>5.1303206957816965</td><td>0.1793904799681173</td><td>5.170000000000001</td><td>5</td><td>1.8211484925674009</td><td>3.682136800344927e-12</td><td>0.37247749967226984</td><td>0.39581298828125</td><td>0.017719078474996625</td><td>0.32034569647461336</td><td>2.1286328166050366</td><td>1.0786499015421005</td><td>-10860420791.485622</td></tr>\n",
       "<tr><td>RUPRECHT 172</td><td>0.1834981906746259</td><td>0.00014761891850639786</td><td>0.00010665695263045727</td><td>0.00015739651748061293</td><td>-10740246.757590875</td><td>0.003570801004023888</td><td>5.983457207801635</td><td>0.3853190685488005</td><td>2.5600000000000005</td><td>5</td><td>2.9486820506883045</td><td>2.3181594169957363e-34</td><td>0.5072667443450789</td><td>0.39581298828125</td><td>0.0007953316968404104</td><td>0.010343341987495461</td><td>1.1170595036421498</td><td>0.8554420581349976</td><td>-10890738760.219505</td></tr>\n",
       "<tr><td>...</td><td>...</td><td>...</td><td>...</td><td>...</td><td>...</td><td>...</td><td>...</td><td>...</td><td>...</td><td>...</td><td>...</td><td>...</td><td>...</td><td>...</td><td>...</td><td>...</td><td>...</td><td>...</td><td>...</td></tr>\n",
       "<tr><td>NGC1887</td><td>0.030372484425736705</td><td>0.0006674378845497083</td><td>0.00044752372945211505</td><td>0.0006595517997041614</td><td>1.181279716546001</td><td>0.00031479240399857417</td><td>0.8029112209956835</td><td>0.006817364595224128</td><td>0.15000000000000002</td><td>2</td><td>1.3194274355493343</td><td>0.9999999999984617</td><td>0.0954428192362396</td><td>0.13889076623945584</td><td>0.021590915603298885</td><td>0.04092252579792754</td><td>0.14330599168451866</td><td>0.12656822310518812</td><td>-84305097.83327085</td></tr>\n",
       "<tr><td>NGC1887</td><td>0.04410653478380967</td><td>0.0007469025760183837</td><td>0.0004828647954772114</td><td>0.0007267032329194822</td><td>1.374577921275531</td><td>0.00015512869957160045</td><td>0.8519542338934434</td><td>0.034623796078288346</td><td>0.20000000000000004</td><td>2</td><td>2.287288100285002</td><td>4.5076873696300415e-24</td><td>0.16007792983625696</td><td>0.09027904327558645</td><td>0.01676806995044513</td><td>0.1322699823395875</td><td>0.1743777965962341</td><td>0.04081008642894559</td><td>-154584284.0806926</td></tr>\n",
       "<tr><td>NGC1887</td><td>0.03880427103219068</td><td>0.0007348343749680609</td><td>0.0004808801067913149</td><td>0.0007221984949932493</td><td>-0.07260057031403414</td><td>0.00030173324175584743</td><td>0.8392789539796445</td><td>0.03259991314510983</td><td>0.22000000000000006</td><td>1</td><td>2.120968522733863</td><td>1.2926725732172304e-09</td><td>0.1495575413250909</td><td>0.10416782070251429</td><td>0.014836714264172768</td><td>0.24124877152652394</td><td>0.31410720482506843</td><td>0.08262569813186971</td><td>-77270845.5500643</td></tr>\n",
       "<tr><td>NGC1887</td><td>0.04536306554833066</td><td>0.0007587534450992904</td><td>0.0004906044341834725</td><td>0.0007316351734999428</td><td>2.766653421312784</td><td>0.0003188995379950412</td><td>0.8650270914915389</td><td>0.04409406779674249</td><td>0.21000000000000005</td><td>2</td><td>2.3537022479137697</td><td>2.617233774194102e-14</td><td>0.16501635350547011</td><td>0.24305895914039866</td><td>0.04475635852220276</td><td>0.3417599735482138</td><td>0.32122752654924575</td><td>0.07935438287127035</td><td>-77313438.53062832</td></tr>\n",
       "<tr><td>NGC1887</td><td>0.042531115176655095</td><td>0.0007842047840638563</td><td>0.0005211924454202599</td><td>0.0007704392742337109</td><td>10.593674515897957</td><td>0.0001666990854480537</td><td>0.8845644986369899</td><td>0.04912734692980329</td><td>0.4000000000000001</td><td>2</td><td>3.653276265955039</td><td>5.684683011922681e-38</td><td>0.19313044271898477</td><td>0.027778169614975923</td><td>0.006409498717221558</td><td>0.12159302949941625</td><td>0.33087051228096165</td><td>0.05887573679772165</td><td>-161565313.5293888</td></tr>\n",
       "<tr><td>NGC1887</td><td>0.07749004191504372</td><td>0.0007964039548529071</td><td>0.000556536182348466</td><td>0.0008240544935446028</td><td>1.9610947243880665</td><td>0.00035960488205595147</td><td>0.9178217309034273</td><td>0.08658508955096471</td><td>0.41000000000000003</td><td>3</td><td>5.0501135734087805</td><td>5.2447424854638895e-34</td><td>0.3138271475488027</td><td>0.041667141416837694</td><td>0.04038042166495172</td><td>0.3267315893707033</td><td>0.8742538511909622</td><td>0.10254235758706656</td><td>-80762633.19218278</td></tr>\n",
       "<tr><td>NGC1887</td><td>0.041370399584787304</td><td>0.000771694899416548</td><td>0.0004909110948490003</td><td>0.0007348921489752883</td><td>19.087425331798872</td><td>0.0003093297804922656</td><td>0.8510144707228672</td><td>0.030491110078045783</td><td>0.20000000000000004</td><td>2</td><td>2.6621434912165136</td><td>2.8996364892335646e-09</td><td>0.1851721982711058</td><td>0.027778178406606457</td><td>0.005896035828846235</td><td>0.20418451632231296</td><td>0.4077850986783334</td><td>0.1264188261217609</td><td>-80802680.33720599</td></tr>\n",
       "<tr><td>NGC1887</td><td>0.012250128751344359</td><td>0.0011188113734252015</td><td>0.0007203867871279357</td><td>0.0010681779689848592</td><td>22.099000631562387</td><td>4.8849912057436654e-05</td><td>0.7812501138122148</td><td>0.0029861962080508266</td><td>0.20000000000000004</td><td>5</td><td>1.774277959075141</td><td>0.012989285305308141</td><td>0.05404234249805557</td><td>0.05786988911222579</td><td>0.006379698662908261</td><td>0.012441812357308582</td><td>0.030183382450149166</td><td>0.036067258863944004</td><td>-507642713.12191015</td></tr>\n",
       "<tr><td>NGC1887</td><td>0.017371870808923173</td><td>0.0011154527671356318</td><td>0.0007222760184935617</td><td>0.0010703570829450884</td><td>26.667222172573304</td><td>9.850706024635878e-05</td><td>0.7807702007144491</td><td>0.00443564745325214</td><td>0.19000000000000003</td><td>4</td><td>1.866927554995953</td><td>0.26905959528584084</td><td>0.06948369171836626</td><td>0.020833158307141275</td><td>0.008760501877309465</td><td>0.03756392710906336</td><td>0.07664710945471574</td><td>0.07346483645242036</td><td>-253800594.25488678</td></tr>\n",
       "<tr><td>NGC1887</td><td>0.01704110882092571</td><td>0.0011220574930205997</td><td>0.0007215455114544245</td><td>0.0010694704011732217</td><td>17.612323761594027</td><td>9.695712916081358e-05</td><td>0.781675048082213</td><td>0.0025770181885101454</td><td>0.17000000000000004</td><td>4</td><td>1.5875804616213736</td><td>0.9999999999999992</td><td>0.05250002912026012</td><td>0.05787003567547799</td><td>0.006793853013110989</td><td>0.019600080984095644</td><td>0.04292189454888482</td><td>0.06815397009135755</td><td>-253842118.8670234</td></tr>\n",
       "</table></div>"
      ],
      "text/plain": [
       "<Table length=6612>\n",
       "    name             rms          ... SumLSP_1_p5_Day_Power       Entropy      \n",
       "   str17           float64        ...        float64              float64      \n",
       "------------ -------------------- ... --------------------- -------------------\n",
       "    NGC 5381  0.20227397545191975 ...   0.29263235273956645  -32898062834.77195\n",
       "    NGC 5381  0.12860581353174044 ...    0.6409543335174402 -16434502050.249306\n",
       "    NGC 5381  0.20227397545191975 ...   0.44974226253595767 -16463560784.522644\n",
       "    NGC 5381  0.18321843653972633 ...   0.17228709457487934  -91041894912.14279\n",
       "    NGC 5381  0.16376175676775878 ...    0.4848427133513104 -45508777674.068115\n",
       "    NGC 5381  0.19277891231682573 ...    0.2084774736192974  -45533117238.07469\n",
       "RUPRECHT 172   0.1834981906746259 ...   0.46464581399629384 -21751159551.705124\n",
       "RUPRECHT 172   0.1267374136537379 ...    1.0786499015421005 -10860420791.485622\n",
       "RUPRECHT 172   0.1834981906746259 ...    0.8554420581349976 -10890738760.219505\n",
       "         ...                  ... ...                   ...                 ...\n",
       "     NGC1887 0.030372484425736705 ...   0.12656822310518812  -84305097.83327085\n",
       "     NGC1887  0.04410653478380967 ...   0.04081008642894559  -154584284.0806926\n",
       "     NGC1887  0.03880427103219068 ...   0.08262569813186971   -77270845.5500643\n",
       "     NGC1887  0.04536306554833066 ...   0.07935438287127035  -77313438.53062832\n",
       "     NGC1887 0.042531115176655095 ...   0.05887573679772165  -161565313.5293888\n",
       "     NGC1887  0.07749004191504372 ...   0.10254235758706656  -80762633.19218278\n",
       "     NGC1887 0.041370399584787304 ...    0.1264188261217609  -80802680.33720599\n",
       "     NGC1887 0.012250128751344359 ...  0.036067258863944004 -507642713.12191015\n",
       "     NGC1887 0.017371870808923173 ...   0.07346483645242036 -253800594.25488678\n",
       "     NGC1887  0.01704110882092571 ...   0.06815397009135755  -253842118.8670234"
      ]
     },
     "execution_count": 27,
     "metadata": {},
     "output_type": "execute_result"
    }
   ],
   "source": [
    "stat_table"
   ]
  },
  {
   "cell_type": "code",
   "execution_count": 28,
   "id": "a2cfe975",
   "metadata": {
    "scrolled": true
   },
   "outputs": [
    {
     "name": "stderr",
     "output_type": "stream",
     "text": [
      "WARNING: UnitsWarning: 'DEGREE' did not parse as fits unit: At col 0, Unit 'DEGREE' not supported by the FITS standard.  If this is meant to be a custom unit, define it with 'u.def_unit'. To have it recognized inside a file reader or other code, enable it with 'u.add_enabled_units'. For details, see https://docs.astropy.org/en/latest/units/combining_and_defining.html [astropy.units.core]\n",
      "WARNING: UnitsWarning: 'MAS/YR' did not parse as fits unit: At col 0, Unit 'MAS' not supported by the FITS standard. Did you mean MA, Ma, mA or ma? If this is meant to be a custom unit, define it with 'u.def_unit'. To have it recognized inside a file reader or other code, enable it with 'u.add_enabled_units'. For details, see https://docs.astropy.org/en/latest/units/combining_and_defining.html [astropy.units.core]\n",
      "WARNING: UnitsWarning: 'KM/S' did not parse as fits unit: At col 0, Unit 'KM' not supported by the FITS standard. Did you mean klm or km? If this is meant to be a custom unit, define it with 'u.def_unit'. To have it recognized inside a file reader or other code, enable it with 'u.add_enabled_units'. For details, see https://docs.astropy.org/en/latest/units/combining_and_defining.html [astropy.units.core]\n",
      "WARNING: UnitsWarning: 'MAG' did not parse as fits unit: At col 0, Unit 'MAG' not supported by the FITS standard. Did you mean Ymag, Zmag, mag, ymag or zmag? If this is meant to be a custom unit, define it with 'u.def_unit'. To have it recognized inside a file reader or other code, enable it with 'u.add_enabled_units'. For details, see https://docs.astropy.org/en/latest/units/combining_and_defining.html [astropy.units.core]\n",
      "WARNING: UnitsWarning: 'LOG(YR)' did not parse as fits unit: At col 0, Unit 'LOG' not supported by the FITS standard.  If this is meant to be a custom unit, define it with 'u.def_unit'. To have it recognized inside a file reader or other code, enable it with 'u.add_enabled_units'. For details, see https://docs.astropy.org/en/latest/units/combining_and_defining.html [astropy.units.core]\n",
      "WARNING: UnitsWarning: '[yr]' did not parse as fits unit: Invalid character at col 0 If this is meant to be a custom unit, define it with 'u.def_unit'. To have it recognized inside a file reader or other code, enable it with 'u.add_enabled_units'. For details, see https://docs.astropy.org/en/latest/units/combining_and_defining.html [astropy.units.core]\n",
      "WARNING: UnitsWarning: '[-]' did not parse as fits unit: Invalid character at col 0 If this is meant to be a custom unit, define it with 'u.def_unit'. To have it recognized inside a file reader or other code, enable it with 'u.add_enabled_units'. For details, see https://docs.astropy.org/en/latest/units/combining_and_defining.html [astropy.units.core]\n"
     ]
    },
    {
     "data": {
      "text/html": [
       "<div><i>Table length=118</i>\n",
       "<table id=\"table140472728781776\" class=\"table-striped table-bordered table-condensed\">\n",
       "<thead><tr><th>Name</th><th>DEC</th><th>RA</th><th>n_Name</th><th>E_B-V_</th><th>RADIUS</th><th>l_Age</th><th>Age</th><th>q_Age</th><th>Age2</th><th>Vmag</th><th>e_Vmag</th><th>SimbadName</th><th>Cross-ID</th><th>recno</th></tr></thead>\n",
       "<thead><tr><th></th><th></th><th></th><th></th><th>mag</th><th>arcmin</th><th></th><th>[yr]</th><th></th><th>[yr]</th><th>mag</th><th>mag</th><th></th><th></th><th></th></tr></thead>\n",
       "<thead><tr><th>bytes7</th><th>float64</th><th>float64</th><th>bytes1</th><th>float64</th><th>float64</th><th>bytes1</th><th>float64</th><th>int16</th><th>float64</th><th>float64</th><th>float64</th><th>bytes17</th><th>bytes46</th><th>int32</th></tr></thead>\n",
       "<tr><td>LMC0022</td><td>-68.6725</td><td>69.59166666666665</td><td></td><td>0.08</td><td>45.0</td><td></td><td>8.5</td><td>1</td><td>0.0</td><td>13.11</td><td>0.14</td><td>NGC1652</td><td>NGC1652,SL10,LW14, ESO55SC32,KMHK23</td><td>3</td></tr>\n",
       "<tr><td>LMC0076</td><td>-72.39472222222223</td><td>71.69166666666666</td><td></td><td>0.05</td><td>60.0</td><td></td><td>8.7</td><td>1</td><td>0.0</td><td>13.51</td><td>0.12</td><td>[SL63] 37</td><td>SL37,LW61,KMHK98</td><td>26</td></tr>\n",
       "<tr><td>LMC0086</td><td>-69.37388888888889</td><td>71.93333333333332</td><td></td><td>0.15</td><td>40.2</td><td></td><td>8.0</td><td>1</td><td>0.0</td><td>12.26</td><td>0.12</td><td>NGC1695</td><td>NGC1695,SL40,ESO56SC03, KMHK101</td><td>32</td></tr>\n",
       "<tr><td>LMC0098</td><td>-69.11472222222221</td><td>72.26666666666665</td><td></td><td>0.1</td><td>43.199999999999996</td><td></td><td>8.0</td><td>1</td><td>0.0</td><td>11.41</td><td>0.12</td><td>NGC1698</td><td>NGC1698,SL45,ESO56SC06,KMHK115</td><td>37</td></tr>\n",
       "<tr><td>LMC0111</td><td>-69.75527777777778</td><td>72.47916666666666</td><td></td><td>0.05</td><td>49.199999999999996</td><td></td><td>7.5</td><td>1</td><td>0.0</td><td>11.41</td><td>0.09</td><td>NGC1704</td><td>NGC1704,SL50,ESO56SC09, KMHK130</td><td>44</td></tr>\n",
       "<tr><td>LMC0120</td><td>-69.985</td><td>72.65416666666665</td><td></td><td>0.18</td><td>102.0</td><td></td><td>7.2</td><td>1</td><td>0.0</td><td>9.469</td><td>0.11</td><td>NGC1711</td><td>NGC1711,SL55,ESO56SC10,KMHK145</td><td>51</td></tr>\n",
       "<tr><td>LMC0157</td><td>-68.91888888888889</td><td>73.225</td><td></td><td>0.15</td><td>40.2</td><td></td><td>8.1</td><td>2</td><td>0.0</td><td>12.58</td><td>0.12</td><td>[SL63] 75</td><td>SL75,KMHK199</td><td>70</td></tr>\n",
       "<tr><td>LMC0163</td><td>-68.21138888888889</td><td>73.2875</td><td></td><td>0.25</td><td>37.2</td><td></td><td>8.1</td><td>2</td><td>0.0</td><td>11.79</td><td>0.1</td><td>[SL63] 76</td><td>SL76,KMHK206</td><td>75</td></tr>\n",
       "<tr><td>LMC0183</td><td>-67.10027777777778</td><td>73.58333333333333</td><td></td><td>0.009</td><td>49.199999999999996</td><td></td><td>7.7</td><td>1</td><td>0.0</td><td>10.71</td><td>0.1</td><td>NGC1735</td><td>NGC1735,SL86,ESO85SC15,KMHK234</td><td>87</td></tr>\n",
       "<tr><td>...</td><td>...</td><td>...</td><td>...</td><td>...</td><td>...</td><td>...</td><td>...</td><td>...</td><td>...</td><td>...</td><td>...</td><td>...</td><td>...</td><td>...</td></tr>\n",
       "<tr><td>LMC2891</td><td>-67.3286111111111</td><td>86.20416666666667</td><td>*</td><td>0.05</td><td>40.2</td><td></td><td>7.9</td><td>1</td><td>0.0</td><td>11.83</td><td>0.1</td><td>BMG32</td><td>BM32</td><td>923</td></tr>\n",
       "<tr><td>LMC2899</td><td>-66.96583333333334</td><td>86.27083333333333</td><td>*</td><td>0.05</td><td>45.0</td><td></td><td>8.4</td><td>2</td><td>0.0</td><td>13.45</td><td>0.11</td><td>BSDL2934</td><td>BSDL2934</td><td>928</td></tr>\n",
       "<tr><td>LMC2919</td><td>-71.61777777777777</td><td>86.6</td><td></td><td>0.1</td><td>40.2</td><td></td><td>8.6</td><td>2</td><td>0.0</td><td>14.61</td><td>0.11</td><td>H88 336</td><td>H88-336</td><td>935</td></tr>\n",
       "<tr><td>LMC3271</td><td>-70.57444444444444</td><td>77.07499999999999</td><td></td><td>0.1</td><td>48.0</td><td></td><td>8.3</td><td>2</td><td>0.0</td><td>13.54</td><td>0.13</td><td>KMHK581</td><td>KMHK581</td><td>1036</td></tr>\n",
       "<tr><td>LMC3397</td><td>-71.87444444444444</td><td>79.89166666666665</td><td></td><td>0.1</td><td>43.199999999999996</td><td></td><td>8.0</td><td>2</td><td>0.0</td><td>13.67</td><td>0.1</td><td>[SL63] 394</td><td>SL394,KMHK789</td><td>1052</td></tr>\n",
       "<tr><td>LMC3519</td><td>-66.41638888888889</td><td>82.70416666666667</td><td></td><td>0.05</td><td>48.0</td><td></td><td>7.7</td><td>1</td><td>0.0</td><td>12.34</td><td>0.11</td><td>[SL63] 527</td><td>SL527,KMHK995</td><td>1083</td></tr>\n",
       "<tr><td>LMC3659</td><td>-68.92083333333333</td><td>85.45416666666667</td><td>*</td><td>0.1</td><td>42.0</td><td></td><td>7.7</td><td>2</td><td>0.0</td><td>11.96</td><td>0.13</td><td>NGC2093</td><td>NGC2093,SL657,ESO56SC23,KMHK1245</td><td>1119</td></tr>\n",
       "<tr><td>LMC3727</td><td>-67.0625</td><td>86.97499999999998</td><td></td><td>0.15</td><td>49.199999999999996</td><td></td><td>7.4</td><td>1</td><td>0.0</td><td>11.76</td><td>0.1</td><td>KMHK1378</td><td>KMHK1378</td><td>1134</td></tr>\n",
       "<tr><td>LMC3986</td><td>-67.49888888888889</td><td>81.56249999999999</td><td>*</td><td>0.05</td><td>45.0</td><td></td><td>7.0</td><td>2</td><td>0.0</td><td>12.18</td><td>0.12</td><td>BSDL1674</td><td>BSDL1674</td><td>1185</td></tr>\n",
       "</table></div>"
      ],
      "text/plain": [
       "<Table length=118>\n",
       "  Name         DEC         ...               Cross-ID              recno\n",
       "                           ...                                          \n",
       " bytes7      float64       ...               bytes46               int32\n",
       "------- ------------------ ... ----------------------------------- -----\n",
       "LMC0022           -68.6725 ... NGC1652,SL10,LW14, ESO55SC32,KMHK23     3\n",
       "LMC0076 -72.39472222222223 ...                    SL37,LW61,KMHK98    26\n",
       "LMC0086 -69.37388888888889 ...     NGC1695,SL40,ESO56SC03, KMHK101    32\n",
       "LMC0098 -69.11472222222221 ...      NGC1698,SL45,ESO56SC06,KMHK115    37\n",
       "LMC0111 -69.75527777777778 ...     NGC1704,SL50,ESO56SC09, KMHK130    44\n",
       "LMC0120            -69.985 ...      NGC1711,SL55,ESO56SC10,KMHK145    51\n",
       "LMC0157 -68.91888888888889 ...                        SL75,KMHK199    70\n",
       "LMC0163 -68.21138888888889 ...                        SL76,KMHK206    75\n",
       "LMC0183 -67.10027777777778 ...      NGC1735,SL86,ESO85SC15,KMHK234    87\n",
       "    ...                ... ...                                 ...   ...\n",
       "LMC2891  -67.3286111111111 ...                                BM32   923\n",
       "LMC2899 -66.96583333333334 ...                            BSDL2934   928\n",
       "LMC2919 -71.61777777777777 ...                             H88-336   935\n",
       "LMC3271 -70.57444444444444 ...                             KMHK581  1036\n",
       "LMC3397 -71.87444444444444 ...                       SL394,KMHK789  1052\n",
       "LMC3519 -66.41638888888889 ...                       SL527,KMHK995  1083\n",
       "LMC3659 -68.92083333333333 ...    NGC2093,SL657,ESO56SC23,KMHK1245  1119\n",
       "LMC3727           -67.0625 ...                            KMHK1378  1134\n",
       "LMC3986 -67.49888888888889 ...                            BSDL1674  1185"
      ]
     },
     "execution_count": 28,
     "metadata": {},
     "output_type": "execute_result"
    }
   ],
   "source": [
    "#get_ages\n",
    "\n",
    "mw=Table.read('../Variability_Statistics/Use_MW.fits')\n",
    "mw\n",
    "\n",
    "smc=Table.read('../Variability_Statistics/Bica_Cut_down.fits')\n",
    "smc\n",
    "\n",
    "lmc=Table.read('../Variability_Statistics/Glatt_Cut_down.fits')\n",
    "lmc"
   ]
  },
  {
   "cell_type": "code",
   "execution_count": 29,
   "id": "fa348ac6",
   "metadata": {},
   "outputs": [
    {
     "data": {
      "text/plain": [
       "6612"
      ]
     },
     "execution_count": 29,
     "metadata": {},
     "output_type": "execute_result"
    }
   ],
   "source": [
    "ages=[]\n",
    "for name in list(stat_table['name']):\n",
    "    for i in range(len(mw)):\n",
    "        if mw[i]['NAME']== name:\n",
    "            ages.append(mw[i]['LOG_AGE'])\n",
    "    \n",
    "    for j in range(len(smc)):\n",
    "        if smc[j]['SimbadName']==name:\n",
    "            ages.append(smc[j]['logAge'])\n",
    "            \n",
    "    for k in range(len(lmc)):\n",
    "        if lmc[k]['SimbadName']==name:\n",
    "            ages.append(lmc[k]['Age'])\n",
    "            \n",
    "len(ages)"
   ]
  },
  {
   "cell_type": "code",
   "execution_count": 30,
   "id": "7d93f8f3",
   "metadata": {},
   "outputs": [
    {
     "data": {
      "text/html": [
       "<div><i>Table length=6612</i>\n",
       "<table id=\"table140473194087280\" class=\"table-striped table-bordered table-condensed\">\n",
       "<thead><tr><th>name</th><th>Lit_Clst_Age</th><th>rms</th><th>std</th><th>MAD</th><th>sigmaG</th><th>skewness</th><th>von_neumann_ratio</th><th>J_Stetson</th><th>max_power</th><th>freq_at_max_power</th><th>n_peaks</th><th>ratio_of_power_at_high_v_low_freq</th><th>FAP</th><th>max_autocorrelation</th><th>time_of_max_autocorrelation</th><th>SumLSP_10_7_Day_Power</th><th>SumLSP_7_4_Day_Power</th><th>SumLSP_4_1_Day_Power</th><th>SumLSP_1_p5_Day_Power</th><th>Entropy</th></tr></thead>\n",
       "<thead><tr><th>str17</th><th>float64</th><th>float64</th><th>float64</th><th>float64</th><th>float64</th><th>float64</th><th>float64</th><th>float64</th><th>float64</th><th>float64</th><th>int64</th><th>float64</th><th>float64</th><th>float64</th><th>float64[1]</th><th>float64</th><th>float64</th><th>float64</th><th>float64</th><th>float64</th></tr></thead>\n",
       "<tr><td>NGC 5381</td><td>8.65</td><td>0.20227397545191975</td><td>0.00028663242586913503</td><td>0.00018204904335616945</td><td>0.00027032716740019386</td><td>-39762320.79645123</td><td>0.00386747638646434</td><td>11.012043362399508</td><td>0.2958842721191971</td><td>2.1800000000000006</td><td>7</td><td>35.195131675248945</td><td>4.56088215887548e-83</td><td>0.6090280071896668</td><td>0.5000039539129375</td><td>0.0882684744682719</td><td>0.5510549769665339</td><td>1.1232906308776351</td><td>0.29263235273956645</td><td>-32898062834.77195</td></tr>\n",
       "<tr><td>NGC 5381</td><td>8.65</td><td>0.12860581353174044</td><td>0.0002975862445908725</td><td>0.0001867799003253956</td><td>0.0002724429021245712</td><td>-115639726.90338115</td><td>0.00721742874399377</td><td>11.199325867985667</td><td>0.2857253786955443</td><td>2.1800000000000006</td><td>2</td><td>22.51114849414844</td><td>3.3952876552198184e-38</td><td>0.3519220202673758</td><td>0.5000117633198897</td><td>0.08080550521778217</td><td>0.8876330176361887</td><td>2.1106455564409226</td><td>0.6409543335174402</td><td>-16434502050.249306</td></tr>\n",
       "<tr><td>NGC 5381</td><td>8.65</td><td>0.20227397545191975</td><td>0.00027494974730113116</td><td>0.0001760566489865667</td><td>0.0002598061826987392</td><td>38791830.51857596</td><td>0.008432348981660027</td><td>10.832836728496938</td><td>0.3320229649647809</td><td>2.1800000000000006</td><td>2</td><td>63.34512451929029</td><td>1.7777047673531952e-46</td><td>0.6090280071896668</td><td>0.5000039539129375</td><td>0.24216565052982983</td><td>1.6618852997621623</td><td>2.121879951526237</td><td>0.44974226253595767</td><td>-16463560784.522644</td></tr>\n",
       "<tr><td>NGC 5381</td><td>8.65</td><td>0.18321843653972633</td><td>0.000245738941990651</td><td>0.0001701871556448742</td><td>0.0002522658939011847</td><td>-32756987.980770417</td><td>0.001012114373717723</td><td>5.25277035396073</td><td>0.23854597444846268</td><td>2.1800000000000006</td><td>4</td><td>30.87554425544451</td><td>9.90665683751058e-214</td><td>0.6303671900013474</td><td>0.44444842470238655</td><td>0.28825173684391014</td><td>0.37021043620396876</td><td>1.2172146492043667</td><td>0.17228709457487934</td><td>-91041894912.14279</td></tr>\n",
       "<tr><td>NGC 5381</td><td>8.65</td><td>0.16376175676775878</td><td>0.0002534884014241052</td><td>0.00016887632604312142</td><td>0.00025096998042304134</td><td>-44597560.85915224</td><td>0.0017580139075232541</td><td>5.337402035735437</td><td>0.26075298650204753</td><td>0.29000000000000004</td><td>3</td><td>19.084977912321865</td><td>9.810479911478713e-117</td><td>0.45047427687310126</td><td>0.4375102828348645</td><td>0.19316854007885273</td><td>0.7745783356310973</td><td>2.446638191161056</td><td>0.4848427133513104</td><td>-45508777674.068115</td></tr>\n",
       "<tr><td>NGC 5381</td><td>8.65</td><td>0.19277891231682573</td><td>0.0002376975364376943</td><td>0.00017171613277799924</td><td>0.00025477558196146865</td><td>-21301445.912184875</td><td>0.002447399676829137</td><td>5.168786562282312</td><td>0.28095743538439083</td><td>0.29000000000000004</td><td>3</td><td>68.07649906473408</td><td>7.569536297791576e-128</td><td>0.6506501243652288</td><td>0.4444482093304032</td><td>0.6862187263521995</td><td>1.3331866974384834</td><td>2.096172191257515</td><td>0.2084774736192974</td><td>-45533117238.07469</td></tr>\n",
       "<tr><td>RUPRECHT 172</td><td>9.065</td><td>0.1834981906746259</td><td>0.00013813268191284538</td><td>9.658515423227598e-05</td><td>0.0001423529350397411</td><td>-5722877.676450607</td><td>0.0017592178915821653</td><td>5.549086025349347</td><td>0.2590355085332957</td><td>2.5600000000000005</td><td>6</td><td>2.394551716018853</td><td>6.9405772961880284e-43</td><td>0.5072667443450789</td><td>0.39581298828125</td><td>0.004000690838380462</td><td>0.06179623348576854</td><td>0.7664139505131168</td><td>0.46464581399629384</td><td>-21751159551.705124</td></tr>\n",
       "<tr><td>RUPRECHT 172</td><td>9.065</td><td>0.1267374136537379</td><td>0.00012791040198304837</td><td>8.954095944324614e-05</td><td>0.00013245362948005368</td><td>-574592.8288860588</td><td>0.0034659624925341363</td><td>5.1303206957816965</td><td>0.1793904799681173</td><td>5.170000000000001</td><td>5</td><td>1.8211484925674009</td><td>3.682136800344927e-12</td><td>0.37247749967226984</td><td>0.39581298828125</td><td>0.017719078474996625</td><td>0.32034569647461336</td><td>2.1286328166050366</td><td>1.0786499015421005</td><td>-10860420791.485622</td></tr>\n",
       "<tr><td>RUPRECHT 172</td><td>9.065</td><td>0.1834981906746259</td><td>0.00014761891850639786</td><td>0.00010665695263045727</td><td>0.00015739651748061293</td><td>-10740246.757590875</td><td>0.003570801004023888</td><td>5.983457207801635</td><td>0.3853190685488005</td><td>2.5600000000000005</td><td>5</td><td>2.9486820506883045</td><td>2.3181594169957363e-34</td><td>0.5072667443450789</td><td>0.39581298828125</td><td>0.0007953316968404104</td><td>0.010343341987495461</td><td>1.1170595036421498</td><td>0.8554420581349976</td><td>-10890738760.219505</td></tr>\n",
       "<tr><td>...</td><td>...</td><td>...</td><td>...</td><td>...</td><td>...</td><td>...</td><td>...</td><td>...</td><td>...</td><td>...</td><td>...</td><td>...</td><td>...</td><td>...</td><td>...</td><td>...</td><td>...</td><td>...</td><td>...</td><td>...</td></tr>\n",
       "<tr><td>NGC1887</td><td>8.1</td><td>0.030372484425736705</td><td>0.0006674378845497083</td><td>0.00044752372945211505</td><td>0.0006595517997041614</td><td>1.181279716546001</td><td>0.00031479240399857417</td><td>0.8029112209956835</td><td>0.006817364595224128</td><td>0.15000000000000002</td><td>2</td><td>1.3194274355493343</td><td>0.9999999999984617</td><td>0.0954428192362396</td><td>0.13889076623945584</td><td>0.021590915603298885</td><td>0.04092252579792754</td><td>0.14330599168451866</td><td>0.12656822310518812</td><td>-84305097.83327085</td></tr>\n",
       "<tr><td>NGC1887</td><td>8.1</td><td>0.04410653478380967</td><td>0.0007469025760183837</td><td>0.0004828647954772114</td><td>0.0007267032329194822</td><td>1.374577921275531</td><td>0.00015512869957160045</td><td>0.8519542338934434</td><td>0.034623796078288346</td><td>0.20000000000000004</td><td>2</td><td>2.287288100285002</td><td>4.5076873696300415e-24</td><td>0.16007792983625696</td><td>0.09027904327558645</td><td>0.01676806995044513</td><td>0.1322699823395875</td><td>0.1743777965962341</td><td>0.04081008642894559</td><td>-154584284.0806926</td></tr>\n",
       "<tr><td>NGC1887</td><td>8.1</td><td>0.03880427103219068</td><td>0.0007348343749680609</td><td>0.0004808801067913149</td><td>0.0007221984949932493</td><td>-0.07260057031403414</td><td>0.00030173324175584743</td><td>0.8392789539796445</td><td>0.03259991314510983</td><td>0.22000000000000006</td><td>1</td><td>2.120968522733863</td><td>1.2926725732172304e-09</td><td>0.1495575413250909</td><td>0.10416782070251429</td><td>0.014836714264172768</td><td>0.24124877152652394</td><td>0.31410720482506843</td><td>0.08262569813186971</td><td>-77270845.5500643</td></tr>\n",
       "<tr><td>NGC1887</td><td>8.1</td><td>0.04536306554833066</td><td>0.0007587534450992904</td><td>0.0004906044341834725</td><td>0.0007316351734999428</td><td>2.766653421312784</td><td>0.0003188995379950412</td><td>0.8650270914915389</td><td>0.04409406779674249</td><td>0.21000000000000005</td><td>2</td><td>2.3537022479137697</td><td>2.617233774194102e-14</td><td>0.16501635350547011</td><td>0.24305895914039866</td><td>0.04475635852220276</td><td>0.3417599735482138</td><td>0.32122752654924575</td><td>0.07935438287127035</td><td>-77313438.53062832</td></tr>\n",
       "<tr><td>NGC1887</td><td>8.1</td><td>0.042531115176655095</td><td>0.0007842047840638563</td><td>0.0005211924454202599</td><td>0.0007704392742337109</td><td>10.593674515897957</td><td>0.0001666990854480537</td><td>0.8845644986369899</td><td>0.04912734692980329</td><td>0.4000000000000001</td><td>2</td><td>3.653276265955039</td><td>5.684683011922681e-38</td><td>0.19313044271898477</td><td>0.027778169614975923</td><td>0.006409498717221558</td><td>0.12159302949941625</td><td>0.33087051228096165</td><td>0.05887573679772165</td><td>-161565313.5293888</td></tr>\n",
       "<tr><td>NGC1887</td><td>8.1</td><td>0.07749004191504372</td><td>0.0007964039548529071</td><td>0.000556536182348466</td><td>0.0008240544935446028</td><td>1.9610947243880665</td><td>0.00035960488205595147</td><td>0.9178217309034273</td><td>0.08658508955096471</td><td>0.41000000000000003</td><td>3</td><td>5.0501135734087805</td><td>5.2447424854638895e-34</td><td>0.3138271475488027</td><td>0.041667141416837694</td><td>0.04038042166495172</td><td>0.3267315893707033</td><td>0.8742538511909622</td><td>0.10254235758706656</td><td>-80762633.19218278</td></tr>\n",
       "<tr><td>NGC1887</td><td>8.1</td><td>0.041370399584787304</td><td>0.000771694899416548</td><td>0.0004909110948490003</td><td>0.0007348921489752883</td><td>19.087425331798872</td><td>0.0003093297804922656</td><td>0.8510144707228672</td><td>0.030491110078045783</td><td>0.20000000000000004</td><td>2</td><td>2.6621434912165136</td><td>2.8996364892335646e-09</td><td>0.1851721982711058</td><td>0.027778178406606457</td><td>0.005896035828846235</td><td>0.20418451632231296</td><td>0.4077850986783334</td><td>0.1264188261217609</td><td>-80802680.33720599</td></tr>\n",
       "<tr><td>NGC1887</td><td>8.1</td><td>0.012250128751344359</td><td>0.0011188113734252015</td><td>0.0007203867871279357</td><td>0.0010681779689848592</td><td>22.099000631562387</td><td>4.8849912057436654e-05</td><td>0.7812501138122148</td><td>0.0029861962080508266</td><td>0.20000000000000004</td><td>5</td><td>1.774277959075141</td><td>0.012989285305308141</td><td>0.05404234249805557</td><td>0.05786988911222579</td><td>0.006379698662908261</td><td>0.012441812357308582</td><td>0.030183382450149166</td><td>0.036067258863944004</td><td>-507642713.12191015</td></tr>\n",
       "<tr><td>NGC1887</td><td>8.1</td><td>0.017371870808923173</td><td>0.0011154527671356318</td><td>0.0007222760184935617</td><td>0.0010703570829450884</td><td>26.667222172573304</td><td>9.850706024635878e-05</td><td>0.7807702007144491</td><td>0.00443564745325214</td><td>0.19000000000000003</td><td>4</td><td>1.866927554995953</td><td>0.26905959528584084</td><td>0.06948369171836626</td><td>0.020833158307141275</td><td>0.008760501877309465</td><td>0.03756392710906336</td><td>0.07664710945471574</td><td>0.07346483645242036</td><td>-253800594.25488678</td></tr>\n",
       "<tr><td>NGC1887</td><td>8.1</td><td>0.01704110882092571</td><td>0.0011220574930205997</td><td>0.0007215455114544245</td><td>0.0010694704011732217</td><td>17.612323761594027</td><td>9.695712916081358e-05</td><td>0.781675048082213</td><td>0.0025770181885101454</td><td>0.17000000000000004</td><td>4</td><td>1.5875804616213736</td><td>0.9999999999999992</td><td>0.05250002912026012</td><td>0.05787003567547799</td><td>0.006793853013110989</td><td>0.019600080984095644</td><td>0.04292189454888482</td><td>0.06815397009135755</td><td>-253842118.8670234</td></tr>\n",
       "</table></div>"
      ],
      "text/plain": [
       "<Table length=6612>\n",
       "    name     Lit_Clst_Age ... SumLSP_1_p5_Day_Power       Entropy      \n",
       "   str17       float64    ...        float64              float64      \n",
       "------------ ------------ ... --------------------- -------------------\n",
       "    NGC 5381         8.65 ...   0.29263235273956645  -32898062834.77195\n",
       "    NGC 5381         8.65 ...    0.6409543335174402 -16434502050.249306\n",
       "    NGC 5381         8.65 ...   0.44974226253595767 -16463560784.522644\n",
       "    NGC 5381         8.65 ...   0.17228709457487934  -91041894912.14279\n",
       "    NGC 5381         8.65 ...    0.4848427133513104 -45508777674.068115\n",
       "    NGC 5381         8.65 ...    0.2084774736192974  -45533117238.07469\n",
       "RUPRECHT 172        9.065 ...   0.46464581399629384 -21751159551.705124\n",
       "RUPRECHT 172        9.065 ...    1.0786499015421005 -10860420791.485622\n",
       "RUPRECHT 172        9.065 ...    0.8554420581349976 -10890738760.219505\n",
       "         ...          ... ...                   ...                 ...\n",
       "     NGC1887          8.1 ...   0.12656822310518812  -84305097.83327085\n",
       "     NGC1887          8.1 ...   0.04081008642894559  -154584284.0806926\n",
       "     NGC1887          8.1 ...   0.08262569813186971   -77270845.5500643\n",
       "     NGC1887          8.1 ...   0.07935438287127035  -77313438.53062832\n",
       "     NGC1887          8.1 ...   0.05887573679772165  -161565313.5293888\n",
       "     NGC1887          8.1 ...   0.10254235758706656  -80762633.19218278\n",
       "     NGC1887          8.1 ...    0.1264188261217609  -80802680.33720599\n",
       "     NGC1887          8.1 ...  0.036067258863944004 -507642713.12191015\n",
       "     NGC1887          8.1 ...   0.07346483645242036 -253800594.25488678\n",
       "     NGC1887          8.1 ...   0.06815397009135755  -253842118.8670234"
      ]
     },
     "execution_count": 30,
     "metadata": {},
     "output_type": "execute_result"
    }
   ],
   "source": [
    "stat_table.add_column(Column(ages), name='Lit_Clst_Age', index=1)\n",
    "\n",
    "stat_table"
   ]
  },
  {
   "cell_type": "code",
   "execution_count": 31,
   "id": "2b21c9c1",
   "metadata": {},
   "outputs": [],
   "source": [
    "stat_table.write('Stats_Table_For_Data_augmented_lcs.fits', overwrite=True)"
   ]
  },
  {
   "cell_type": "code",
   "execution_count": null,
   "id": "3fbba477",
   "metadata": {},
   "outputs": [],
   "source": []
  }
 ],
 "metadata": {
  "kernelspec": {
   "display_name": "Python 3 (ipykernel)",
   "language": "python",
   "name": "python3"
  },
  "language_info": {
   "codemirror_mode": {
    "name": "ipython",
    "version": 3
   },
   "file_extension": ".py",
   "mimetype": "text/x-python",
   "name": "python",
   "nbconvert_exporter": "python",
   "pygments_lexer": "ipython3",
   "version": "3.10.9"
  }
 },
 "nbformat": 4,
 "nbformat_minor": 5
}
